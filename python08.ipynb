{
 "cells": [
  {
   "cell_type": "markdown",
   "id": "72cc15e3-746a-448b-a372-fdca76b47913",
   "metadata": {},
   "source": [
    "# 외부 라이브러리"
   ]
  },
  {
   "cell_type": "markdown",
   "id": "8f1a4c64-4174-480a-9533-969d99e36723",
   "metadata": {},
   "source": [
    "## pip *"
   ]
  },
  {
   "cell_type": "markdown",
   "id": "0ab709bd-ec4b-4f14-a022-ab61523c784f",
   "metadata": {},
   "source": [
    "- venv1 생성 후 백업: pip freeze > requirements.txt\n",
    "- venv2 생성 후 복구: pip install -r requirements.txt\n",
    "- venv3 jupyterlab 설치후 matplotlib 설치 후 백업하고\n",
    "- venv4 에 pip 리스트 그대로 복구하라.\n",
    "- venv5 에 numpy 2.2.2 버전으로 복구되도록 requirements.txt 수정 후 복구하라.\n"
   ]
  },
  {
   "cell_type": "markdown",
   "id": "4fc47db5-4cb6-4b53-af91-b5b0a29e4c7c",
   "metadata": {},
   "source": [
    "## Faker"
   ]
  },
  {
   "cell_type": "code",
   "execution_count": 1,
   "id": "cb4896dc-9e2b-4982-9e33-08339600ef7e",
   "metadata": {},
   "outputs": [
    {
     "name": "stdout",
     "output_type": "stream",
     "text": [
      "Collecting Faker\n",
      "  Downloading Faker-36.1.1-py3-none-any.whl.metadata (15 kB)\n",
      "Collecting tzdata (from Faker)\n",
      "  Downloading tzdata-2025.1-py2.py3-none-any.whl.metadata (1.4 kB)\n",
      "Downloading Faker-36.1.1-py3-none-any.whl (1.9 MB)\n",
      "   ---------------------------------------- 0.0/1.9 MB ? eta -:--:--\n",
      "   ---------------------------------------- 1.9/1.9 MB 48.4 MB/s eta 0:00:00\n",
      "Downloading tzdata-2025.1-py2.py3-none-any.whl (346 kB)\n",
      "Installing collected packages: tzdata, Faker\n",
      "Successfully installed Faker-36.1.1 tzdata-2025.1\n"
     ]
    }
   ],
   "source": [
    "# !pip install Faker"
   ]
  },
  {
   "cell_type": "code",
   "execution_count": 12,
   "id": "2b8b6344-c0e9-4caa-b868-3e1c33f04fa6",
   "metadata": {},
   "outputs": [
    {
     "data": {
      "text/plain": [
       "[{'name': '김혜진',\n",
       "  'id': 'haeun96',\n",
       "  'phone': '053-883-9980',\n",
       "  'email': 'hyejinmun@example.net'},\n",
       " {'name': '오은경',\n",
       "  'id': 'gimseohyeon',\n",
       "  'phone': '053-532-0488',\n",
       "  'email': 'lgim@example.org'},\n",
       " {'name': '최민수',\n",
       "  'id': 'zgim',\n",
       "  'phone': '055-433-6195',\n",
       "  'email': 'igim@example.org'},\n",
       " {'name': '심성현',\n",
       "  'id': 'vgim',\n",
       "  'phone': '010-9700-2366',\n",
       "  'email': 'yunmiyeong@example.com'},\n",
       " {'name': '백재호',\n",
       "  'id': 'lbag',\n",
       "  'phone': '053-750-7950',\n",
       "  'email': 'gwangsugim@example.com'},\n",
       " {'name': '민우진',\n",
       "  'id': 'ijeongja',\n",
       "  'phone': '052-166-7957',\n",
       "  'email': 'xi@example.com'},\n",
       " {'name': '강숙자',\n",
       "  'id': 'doyun00',\n",
       "  'phone': '054-297-5471',\n",
       "  'email': 'ti@example.org'},\n",
       " {'name': '황지원',\n",
       "  'id': 'hyejin02',\n",
       "  'phone': '033-044-6262',\n",
       "  'email': 'seonghungim@example.com'},\n",
       " {'name': '이지영',\n",
       "  'id': 'yunseo07',\n",
       "  'phone': '019-369-2552',\n",
       "  'email': 'haeun19@example.com'},\n",
       " {'name': '강예진',\n",
       "  'id': 'vgim',\n",
       "  'phone': '042-170-2026',\n",
       "  'email': 'iyujin@example.net'}]"
      ]
     },
     "execution_count": 12,
     "metadata": {},
     "output_type": "execute_result"
    }
   ],
   "source": [
    "from faker import Faker\n",
    "fake = Faker('ko-KR')\n",
    "[{'name':fake.name(),'id':fake.user_name(),'phone':fake.phone_number(),'email':fake.email()} for n in range(10)]"
   ]
  },
  {
   "cell_type": "markdown",
   "id": "43868f4a-6103-42a8-b80f-1bf51c4388bd",
   "metadata": {},
   "source": [
    "`<table style=\"float:left;width:400px\">`\n",
    "<table style=\"float:left;width:400px\">\n",
    "<thead>\n",
    "<tr>\n",
    "<th>항목</th>\n",
    "<th>설명</th>\n",
    "</tr>\n",
    "</thead>\n",
    "<tbody>\n",
    "<tr>\n",
    "<td>fake.name()</td>\n",
    "<td>이름</td>\n",
    "</tr>\n",
    "<tr>\n",
    "<td>fake.address()</td>\n",
    "<td>주소</td>\n",
    "</tr>\n",
    "<tr>\n",
    "<td>fake.postcode()</td>\n",
    "<td>우편 번호</td>\n",
    "</tr>\n",
    "<tr>\n",
    "<td>fake.country()</td>\n",
    "<td>국가명</td>\n",
    "</tr>\n",
    "<tr>\n",
    "<td>fake.company()</td>\n",
    "<td>회사명</td>\n",
    "</tr>\n",
    "<tr>\n",
    "<td>fake.job()</td>\n",
    "<td>직업명</td>\n",
    "</tr>\n",
    "<tr>\n",
    "<td>fake.phone_number()</td>\n",
    "<td>휴대전화 번호</td>\n",
    "</tr>\n",
    "<tr>\n",
    "<td>fake.email()</td>\n",
    "<td>이메일 주소</td>\n",
    "</tr>\n",
    "<tr>\n",
    "<td>fake.user_name()</td>\n",
    "<td>사용자명</td>\n",
    "</tr>\n",
    "<tr>\n",
    "<td>fake.pyint(min_value=0, max_value=100)</td>\n",
    "<td>0부터 100 사이의 임의의 숫자</td>\n",
    "</tr>\n",
    "<tr>\n",
    "<td>fake.ipv4_private()</td>\n",
    "<td>IP 주소</td>\n",
    "</tr>\n",
    "<tr>\n",
    "<td>fake.text()</td>\n",
    "<td>임의의 문장 (한글 임의의 문장은 <code>fake.catch_phrase()</code> 사용)</td>\n",
    "</tr>\n",
    "<tr>\n",
    "<td>fake.color_name()</td>\n",
    "<td>색상명</td>\n",
    "</tr>\n",
    "</tbody>\n",
    "</table>"
   ]
  },
  {
   "cell_type": "code",
   "execution_count": 6,
   "id": "e080d61c-4f6b-42f2-9d05-33e47ed9c5f7",
   "metadata": {},
   "outputs": [
    {
     "name": "stdout",
     "output_type": "stream",
     "text": [
      "1위: REBEL HEART / IVE (아이브)\n",
      "2위: HOME SWEET HOME (feat. 태양, 대성) / G-DRAGON\n",
      "3위: 나는 반딧불 / 황가람\n",
      "4위: Whiplash / aespa\n",
      "5위: APT. / 로제 (ROSÉ)\n",
      "6위: 오늘만 I LOVE YOU / Bruno Mars\n",
      "7위: Drowning / BOYNEXTDOOR\n",
      "8위: ATTITUDE / WOODZ\n",
      "9위: toxic till the end / IVE (아이브)\n",
      "10위: Dash / 로제 (ROSÉ)\n",
      "11위: POWER / PLAVE\n",
      "12위: HAPPY / G-DRAGON\n",
      "13위: 내게 사랑이 뭐냐고 물어본다면 / DAY6 (데이식스)\n",
      "14위: RIZZ / 로이킴\n",
      "15위: DRIP / PLAVE\n",
      "16위: Island / BABYMONSTER\n",
      "17위: Chroma Drift / PLAVE\n",
      "18위: 12:32 (A to T) / PLAVE\n",
      "19위: 소나기 / PLAVE\n",
      "20위: 너와의 모든 지금 / 이클립스 (ECLIPSE)\n",
      " "
     ]
    }
   ],
   "source": [
    "import requests as req\n",
    "from bs4 import BeautifulSoup as bs\n",
    "url = \"https://www.melon.com/chart/index.htm\"\n",
    "headers = {'User-Agent':'Mozilla/5.0 (Windows NT 10.0; Win64; x64) AppleWebKit/537.36 (KHTML, like Gecko) Chrome/133.0.0.0 Safari/537.36 Edg/133.0.0.0'}\n",
    "web = req.get(url, headers = headers)\n",
    "soup = bs(web.content, 'html.parser')\n",
    "\n",
    "title = soup.select('.rank01')[:20]\n",
    "name = soup.select('.checkEllipsis a')[:20]\n",
    "str = ''\n",
    "for i, (t, n) in enumerate(zip(title, name),1):\n",
    "    str += f'{i}위: {t.text.strip()} / {n.text}\\n' \n",
    "print(str,end=' ')"
   ]
  },
  {
   "cell_type": "code",
   "execution_count": 7,
   "id": "bdb2f59e-6a89-4ece-b049-2792f82f4367",
   "metadata": {},
   "outputs": [
    {
     "name": "stdout",
     "output_type": "stream",
     "text": [
      "1위: REBEL HEART / IVE (아이브)\n",
      "2위: HOME SWEET HOME (feat. 태양, 대성) / G-DRAGON\n",
      "3위: 나는 반딧불 / 황가람\n",
      "4위: Whiplash / aespa\n",
      "5위: APT. / 로제 (ROSÉ)\n",
      "6위: 오늘만 I LOVE YOU / Bruno Mars\n",
      "7위: Drowning / BOYNEXTDOOR\n",
      "8위: ATTITUDE / WOODZ\n",
      "9위: toxic till the end / IVE (아이브)\n",
      "10위: Dash / 로제 (ROSÉ)\n",
      "11위: POWER / PLAVE\n",
      "12위: HAPPY / G-DRAGON\n",
      "13위: 내게 사랑이 뭐냐고 물어본다면 / DAY6 (데이식스)\n",
      "14위: RIZZ / 로이킴\n",
      "15위: DRIP / PLAVE\n",
      "16위: Chroma Drift / BABYMONSTER\n",
      "17위: Island / PLAVE\n",
      "18위: 소나기 / PLAVE\n",
      "19위: 12:32 (A to T) / 이클립스 (ECLIPSE)\n",
      "20위: 너와의 모든 지금 / PLAVE\n",
      " "
     ]
    }
   ],
   "source": [
    "import melon\n",
    "melon.mel()"
   ]
  },
  {
   "cell_type": "code",
   "execution_count": 13,
   "id": "d59d4245-7fae-4cc5-9fab-0133c2945e3b",
   "metadata": {},
   "outputs": [
    {
     "name": "stdout",
     "output_type": "stream",
     "text": [
      "1위: REBEL HEART / IVE (아이브)\n",
      "2위: HOME SWEET HOME (feat. 태양, 대성) / G-DRAGON\n",
      "3위: 나는 반딧불 / 황가람\n",
      "4위: Whiplash / aespa\n",
      "5위: APT. / 로제 (ROSÉ)\n",
      "6위: Drowning / Bruno Mars\n",
      "7위: 오늘만 I LOVE YOU / WOODZ\n",
      "8위: ATTITUDE / BOYNEXTDOOR\n",
      "9위: toxic till the end / IVE (아이브)\n",
      "10위: Dash / 로제 (ROSÉ)\n",
      "11위: POWER / PLAVE\n",
      "12위: HAPPY / G-DRAGON\n",
      "13위: 내게 사랑이 뭐냐고 물어본다면 / DAY6 (데이식스)\n",
      "14위: DRIP / 로이킴\n",
      "15위: RIZZ / BABYMONSTER\n",
      "16위: Chroma Drift / PLAVE\n",
      "17위: 소나기 / PLAVE\n",
      "18위: Island / 이클립스 (ECLIPSE)\n",
      "19위: 너와의 모든 지금 / PLAVE\n",
      "20위: 모르시나요(PROD.로코베리) / 재쓰비 (JAESSBEE)\n",
      " "
     ]
    }
   ],
   "source": [
    "import requests as req\n",
    "from bs4 import BeautifulSoup as bs\n",
    "url = \"https://www.melon.com/chart/index.htm\"\n",
    "headers = {'User-Agent':'Mozilla/5.0 (Windows NT 10.0; Win64; x64) AppleWebKit/537.36 (KHTML, like Gecko) Chrome/133.0.0.0 Safari/537.36 Edg/133.0.0.0'}\n",
    "web = req.get(url, headers = headers)\n",
    "soup = bs(web.content, 'html.parser')\n",
    "\n",
    "title = soup.select('.rank01')[:20]\n",
    "name = soup.select('.checkEllipsis a')[:20]\n",
    "str = ''\n",
    "for i, (t, n) in enumerate(zip(title, name),1):\n",
    "    str += f'{i}위: {t.text.strip()} / {n.text}\\n' \n",
    "print(str,end=' ')"
   ]
  },
  {
   "cell_type": "code",
   "execution_count": 3,
   "id": "efa01882-d4cd-463c-81fd-83a793480173",
   "metadata": {},
   "outputs": [
    {
     "name": "stdout",
     "output_type": "stream",
     "text": [
      "Collecting html5lib\n",
      "  Downloading html5lib-1.1-py2.py3-none-any.whl.metadata (16 kB)\n",
      "Requirement already satisfied: six>=1.9 in c:\\users\\admin\\appdata\\local\\programs\\python\\python313\\lib\\site-packages (from html5lib) (1.17.0)\n",
      "Requirement already satisfied: webencodings in c:\\users\\admin\\appdata\\local\\programs\\python\\python313\\lib\\site-packages (from html5lib) (0.5.1)\n",
      "Downloading html5lib-1.1-py2.py3-none-any.whl (112 kB)\n",
      "Installing collected packages: html5lib\n",
      "Successfully installed html5lib-1.1\n"
     ]
    }
   ],
   "source": [
    "!pip install html5lib"
   ]
  },
  {
   "cell_type": "code",
   "execution_count": 12,
   "id": "c83a0e03-2b21-498a-b4e5-0d6006c18237",
   "metadata": {},
   "outputs": [
    {
     "name": "stdout",
     "output_type": "stream",
     "text": [
      "====================\n",
      "월 2025.02.17\n",
      "--------------------\n",
      "정식-5,500원 강황밥\n",
      "김치콩나물국\n",
      "돈육바싹불고기\n",
      "모듬잡채\n",
      "멸치새우견과볶음\n",
      "상추겉절이\n",
      "포기김치\n",
      "\n",
      "====================\n",
      "화 2025.02.18\n",
      "--------------------\n",
      "정식-5,500원 백미밥\n",
      "물만두국\n",
      "순살닭매콤조림\n",
      "쫄면야채무침\n",
      "파래무무침\n",
      "참나물겉절이\n",
      "포기김치\n",
      "\n",
      "====================\n",
      "수 2025.02.19\n",
      "--------------------\n",
      "정식-5,500원 백미밥\n",
      "모듬어묵국\n",
      "함박스테이크/치즈/소스\n",
      "스파게티/소스\n",
      "치커리유자청샐러드\n",
      "콩나물무침\n",
      "포기김치\n",
      "\n",
      "====================\n",
      "목 2025.02.20\n",
      "--------------------\n",
      "정식-5,500원 잡곡밥\n",
      "홍합미역국\n",
      "순살치킨/맛초킹소스\n",
      "꼬시레기두부무침\n",
      "잡채어묵조림\n",
      "상추겉절이\n",
      "포기김치\n",
      "\n",
      "====================\n",
      "금 2025.02.21\n",
      "--------------------\n",
      "정식-5,500원 백미밥\n",
      "국수\n",
      "깐풍기/소스\n",
      "알감자버터구이\n",
      "도토리묵김치무침\n",
      "열무겉절이\n",
      "포기김치\n",
      "\n"
     ]
    }
   ],
   "source": [
    "import requests as req\n",
    "from bs4 import BeautifulSoup as bs\n",
    "url = \"https://www.pusan.ac.kr/kor/CMS/MenuMgr/menuListOnBuilding.do?mCode=MN202\"\n",
    "headers = {'User-Agent':'Mozilla/5.0 (Windows NT 10.0; Win64; x64) AppleWebKit/537.36 (KHTML, like Gecko) Chrome/133.0.0.0 Safari/537.36 Edg/133.0.0.0'}\n",
    "web = req.get(url, headers = headers)\n",
    "soup = bs(web.content, 'html5lib')\n",
    "menucard = soup.select('.menu-tb1')\n",
    "won = soup.select('.menu-tit01')\n",
    "menu = soup.select('h3.menu-tit01+p')\n",
    "day = soup.select('.day')\n",
    "date = soup.select('.date')\n",
    "# test = soup.select('#cont > div.menu-wr > div.is-wauto-box.menu-tbl-wr > table > tbody > tr:nth-child(2) > td:nth-child(2) > ul > li > p')\n",
    "for d, dd, w, m in zip(day, date, won,menu):\n",
    "    print('='*20)\n",
    "    print(d.text, dd.text)\n",
    "    print('-'*20)\n",
    "    print(w.text, m.text)"
   ]
  },
  {
   "cell_type": "code",
   "execution_count": null,
   "id": "21a086a5-d8de-4bdc-825b-1973a85f96c0",
   "metadata": {},
   "outputs": [],
   "source": []
  }
 ],
 "metadata": {
  "kernelspec": {
   "display_name": "Python 3 (ipykernel)",
   "language": "python",
   "name": "python3"
  },
  "language_info": {
   "codemirror_mode": {
    "name": "ipython",
    "version": 3
   },
   "file_extension": ".py",
   "mimetype": "text/x-python",
   "name": "python",
   "nbconvert_exporter": "python",
   "pygments_lexer": "ipython3",
   "version": "3.13.1"
  }
 },
 "nbformat": 4,
 "nbformat_minor": 5
}
