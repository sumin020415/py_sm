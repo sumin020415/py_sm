{
 "cells": [
  {
   "cell_type": "code",
   "execution_count": 5,
   "id": "168bf73f-9cec-4dda-98ba-8af4100120a9",
   "metadata": {},
   "outputs": [],
   "source": [
    "# !dir"
   ]
  },
  {
   "cell_type": "code",
   "execution_count": 1,
   "id": "1faccf1c-8d8c-4bfd-8dd0-5553d9dab06d",
   "metadata": {},
   "outputs": [
    {
     "data": {
      "text/html": [
       "<div>\n",
       "<style scoped>\n",
       "    .dataframe tbody tr th:only-of-type {\n",
       "        vertical-align: middle;\n",
       "    }\n",
       "\n",
       "    .dataframe tbody tr th {\n",
       "        vertical-align: top;\n",
       "    }\n",
       "\n",
       "    .dataframe thead th {\n",
       "        text-align: right;\n",
       "    }\n",
       "</style>\n",
       "<table border=\"1\" class=\"dataframe\">\n",
       "  <thead>\n",
       "    <tr style=\"text-align: right;\">\n",
       "      <th></th>\n",
       "      <th>시점</th>\n",
       "      <th>스트레스 인지율</th>\n",
       "      <th>스트레스 인지율.1</th>\n",
       "      <th>스트레스 인지율.2</th>\n",
       "      <th>우울감 경험률</th>\n",
       "      <th>우울감 경험률.1</th>\n",
       "      <th>우울감 경험률.2</th>\n",
       "      <th>자살 생각률</th>\n",
       "      <th>자살 생각률.1</th>\n",
       "      <th>자살 생각률.2</th>\n",
       "    </tr>\n",
       "  </thead>\n",
       "  <tbody>\n",
       "    <tr>\n",
       "      <th>0</th>\n",
       "      <td>시점</td>\n",
       "      <td>전체</td>\n",
       "      <td>남학생</td>\n",
       "      <td>여학생</td>\n",
       "      <td>전체</td>\n",
       "      <td>남학생</td>\n",
       "      <td>여학생</td>\n",
       "      <td>전체</td>\n",
       "      <td>남학생</td>\n",
       "      <td>여학생</td>\n",
       "    </tr>\n",
       "    <tr>\n",
       "      <th>1</th>\n",
       "      <td>2024</td>\n",
       "      <td>45.3</td>\n",
       "      <td>39.6</td>\n",
       "      <td>51.3</td>\n",
       "      <td>28.2</td>\n",
       "      <td>23.9</td>\n",
       "      <td>32.6</td>\n",
       "      <td>14.2</td>\n",
       "      <td>11.1</td>\n",
       "      <td>17.4</td>\n",
       "    </tr>\n",
       "  </tbody>\n",
       "</table>\n",
       "</div>"
      ],
      "text/plain": [
       "     시점 스트레스 인지율 스트레스 인지율.1 스트레스 인지율.2 우울감 경험률 우울감 경험률.1 우울감 경험률.2 자살 생각률  \\\n",
       "0    시점       전체        남학생        여학생      전체       남학생       여학생     전체   \n",
       "1  2024     45.3       39.6       51.3    28.2      23.9      32.6   14.2   \n",
       "\n",
       "  자살 생각률.1 자살 생각률.2  \n",
       "0      남학생      여학생  \n",
       "1     11.1     17.4  "
      ]
     },
     "execution_count": 1,
     "metadata": {},
     "output_type": "execute_result"
    }
   ],
   "source": [
    "import pandas as pd\n",
    "file_path = \"./ref/청소년정신건강_20250304.csv\"\n",
    "ori = pd.read_csv(file_path)\n",
    "ori"
   ]
  },
  {
   "cell_type": "code",
   "execution_count": 2,
   "id": "32e61af7-e72e-401d-a3d8-347535a57c30",
   "metadata": {},
   "outputs": [
    {
     "data": {
      "text/html": [
       "<div>\n",
       "<style scoped>\n",
       "    .dataframe tbody tr th:only-of-type {\n",
       "        vertical-align: middle;\n",
       "    }\n",
       "\n",
       "    .dataframe tbody tr th {\n",
       "        vertical-align: top;\n",
       "    }\n",
       "\n",
       "    .dataframe thead th {\n",
       "        text-align: right;\n",
       "    }\n",
       "</style>\n",
       "<table border=\"1\" class=\"dataframe\">\n",
       "  <thead>\n",
       "    <tr style=\"text-align: right;\">\n",
       "      <th></th>\n",
       "      <th>시점</th>\n",
       "      <th>스트레스</th>\n",
       "      <th>스트레스남학생</th>\n",
       "      <th>스트레스여학생</th>\n",
       "      <th>우울감경험율</th>\n",
       "      <th>우울남학생</th>\n",
       "      <th>우울여학생</th>\n",
       "      <th>자살생각율</th>\n",
       "      <th>자살남학생</th>\n",
       "      <th>자살여학생</th>\n",
       "    </tr>\n",
       "  </thead>\n",
       "  <tbody>\n",
       "    <tr>\n",
       "      <th>0</th>\n",
       "      <td>시점</td>\n",
       "      <td>전체</td>\n",
       "      <td>남학생</td>\n",
       "      <td>여학생</td>\n",
       "      <td>전체</td>\n",
       "      <td>남학생</td>\n",
       "      <td>여학생</td>\n",
       "      <td>전체</td>\n",
       "      <td>남학생</td>\n",
       "      <td>여학생</td>\n",
       "    </tr>\n",
       "    <tr>\n",
       "      <th>1</th>\n",
       "      <td>2024</td>\n",
       "      <td>45.3</td>\n",
       "      <td>39.6</td>\n",
       "      <td>51.3</td>\n",
       "      <td>28.2</td>\n",
       "      <td>23.9</td>\n",
       "      <td>32.6</td>\n",
       "      <td>14.2</td>\n",
       "      <td>11.1</td>\n",
       "      <td>17.4</td>\n",
       "    </tr>\n",
       "  </tbody>\n",
       "</table>\n",
       "</div>"
      ],
      "text/plain": [
       "     시점  스트레스 스트레스남학생 스트레스여학생 우울감경험율 우울남학생 우울여학생 자살생각율 자살남학생 자살여학생\n",
       "0    시점    전체     남학생     여학생     전체   남학생   여학생    전체   남학생   여학생\n",
       "1  2024  45.3    39.6    51.3   28.2  23.9  32.6  14.2  11.1  17.4"
      ]
     },
     "execution_count": 2,
     "metadata": {},
     "output_type": "execute_result"
    }
   ],
   "source": [
    "# 컬럼명 지정\n",
    "new_name=['시점','스트레스','스트레스남학생','스트레스여학생','우울감경험율','우울남학생','우울여학생','자살생각율','자살남학생','자살여학생']\n",
    "ori.columns=new_name\n",
    "ori"
   ]
  },
  {
   "cell_type": "code",
   "execution_count": 3,
   "id": "f834f28e-51e8-4962-94df-6eaad5438a99",
   "metadata": {},
   "outputs": [
    {
     "data": {
      "text/html": [
       "<div>\n",
       "<style scoped>\n",
       "    .dataframe tbody tr th:only-of-type {\n",
       "        vertical-align: middle;\n",
       "    }\n",
       "\n",
       "    .dataframe tbody tr th {\n",
       "        vertical-align: top;\n",
       "    }\n",
       "\n",
       "    .dataframe thead th {\n",
       "        text-align: right;\n",
       "    }\n",
       "</style>\n",
       "<table border=\"1\" class=\"dataframe\">\n",
       "  <thead>\n",
       "    <tr style=\"text-align: right;\">\n",
       "      <th></th>\n",
       "      <th>스트레스</th>\n",
       "      <th>스트레스남학생</th>\n",
       "      <th>스트레스여학생</th>\n",
       "      <th>우울감경험율</th>\n",
       "      <th>우울남학생</th>\n",
       "      <th>우울여학생</th>\n",
       "      <th>자살생각율</th>\n",
       "      <th>자살남학생</th>\n",
       "      <th>자살여학생</th>\n",
       "    </tr>\n",
       "  </thead>\n",
       "  <tbody>\n",
       "    <tr>\n",
       "      <th>1</th>\n",
       "      <td>45.3</td>\n",
       "      <td>39.6</td>\n",
       "      <td>51.3</td>\n",
       "      <td>28.2</td>\n",
       "      <td>23.9</td>\n",
       "      <td>32.6</td>\n",
       "      <td>14.2</td>\n",
       "      <td>11.1</td>\n",
       "      <td>17.4</td>\n",
       "    </tr>\n",
       "  </tbody>\n",
       "</table>\n",
       "</div>"
      ],
      "text/plain": [
       "   스트레스 스트레스남학생 스트레스여학생 우울감경험율 우울남학생 우울여학생 자살생각율 자살남학생 자살여학생\n",
       "1  45.3    39.6    51.3   28.2  23.9  32.6  14.2  11.1  17.4"
      ]
     },
     "execution_count": 3,
     "metadata": {},
     "output_type": "execute_result"
    }
   ],
   "source": [
    "# 시점을 없애고,0번 행도 없앰\n",
    "ori=ori.loc[1:,'스트레스':]\n",
    "ori"
   ]
  },
  {
   "cell_type": "code",
   "execution_count": 4,
   "id": "78ef5e88-e178-41ad-b7ae-5c1934ff6921",
   "metadata": {},
   "outputs": [
    {
     "data": {
      "text/html": [
       "<div>\n",
       "<style scoped>\n",
       "    .dataframe tbody tr th:only-of-type {\n",
       "        vertical-align: middle;\n",
       "    }\n",
       "\n",
       "    .dataframe tbody tr th {\n",
       "        vertical-align: top;\n",
       "    }\n",
       "\n",
       "    .dataframe thead th {\n",
       "        text-align: right;\n",
       "    }\n",
       "</style>\n",
       "<table border=\"1\" class=\"dataframe\">\n",
       "  <thead>\n",
       "    <tr style=\"text-align: right;\">\n",
       "      <th></th>\n",
       "      <th>스트레스</th>\n",
       "      <th>스트레스남학생</th>\n",
       "      <th>스트레스여학생</th>\n",
       "      <th>우울감경험율</th>\n",
       "      <th>우울남학생</th>\n",
       "      <th>우울여학생</th>\n",
       "      <th>자살생각율</th>\n",
       "      <th>자살남학생</th>\n",
       "      <th>자살여학생</th>\n",
       "      <th>응답</th>\n",
       "    </tr>\n",
       "  </thead>\n",
       "  <tbody>\n",
       "    <tr>\n",
       "      <th>1</th>\n",
       "      <td>45.3</td>\n",
       "      <td>39.6</td>\n",
       "      <td>51.3</td>\n",
       "      <td>28.2</td>\n",
       "      <td>23.9</td>\n",
       "      <td>32.6</td>\n",
       "      <td>14.2</td>\n",
       "      <td>11.1</td>\n",
       "      <td>17.4</td>\n",
       "      <td>그렇다</td>\n",
       "    </tr>\n",
       "    <tr>\n",
       "      <th>2</th>\n",
       "      <td>54.7</td>\n",
       "      <td>60.4</td>\n",
       "      <td>48.7</td>\n",
       "      <td>71.8</td>\n",
       "      <td>76.1</td>\n",
       "      <td>67.4</td>\n",
       "      <td>85.8</td>\n",
       "      <td>88.9</td>\n",
       "      <td>82.6</td>\n",
       "      <td>아니다</td>\n",
       "    </tr>\n",
       "  </tbody>\n",
       "</table>\n",
       "</div>"
      ],
      "text/plain": [
       "   스트레스 스트레스남학생 스트레스여학생 우울감경험율 우울남학생 우울여학생 자살생각율 자살남학생 자살여학생   응답\n",
       "1  45.3    39.6    51.3   28.2  23.9  32.6  14.2  11.1  17.4  그렇다\n",
       "2  54.7    60.4    48.7   71.8  76.1  67.4  85.8  88.9  82.6  아니다"
      ]
     },
     "execution_count": 4,
     "metadata": {},
     "output_type": "execute_result"
    }
   ],
   "source": [
    "# 2번 인덱스 행을 생성, 100에서 값을 뺸 값\n",
    "ori.loc[2]=100-ori.loc[1,'스트레스':].astype(float)\n",
    "# 마지막에 응답컬럼을 생성, 그렇다 or 아니다\n",
    "ori['응답']=['그렇다','아니다']\n",
    "ori"
   ]
  },
  {
   "cell_type": "code",
   "execution_count": 5,
   "id": "bd792370-8579-4494-a5b3-cc8b8e2cacf7",
   "metadata": {},
   "outputs": [
    {
     "data": {
      "text/html": [
       "<div>\n",
       "<style scoped>\n",
       "    .dataframe tbody tr th:only-of-type {\n",
       "        vertical-align: middle;\n",
       "    }\n",
       "\n",
       "    .dataframe tbody tr th {\n",
       "        vertical-align: top;\n",
       "    }\n",
       "\n",
       "    .dataframe thead th {\n",
       "        text-align: right;\n",
       "    }\n",
       "</style>\n",
       "<table border=\"1\" class=\"dataframe\">\n",
       "  <thead>\n",
       "    <tr style=\"text-align: right;\">\n",
       "      <th></th>\n",
       "      <th>스트레스</th>\n",
       "      <th>스트레스남학생</th>\n",
       "      <th>스트레스여학생</th>\n",
       "      <th>우울감경험율</th>\n",
       "      <th>우울남학생</th>\n",
       "      <th>우울여학생</th>\n",
       "      <th>자살생각율</th>\n",
       "      <th>자살남학생</th>\n",
       "      <th>자살여학생</th>\n",
       "    </tr>\n",
       "    <tr>\n",
       "      <th>응답</th>\n",
       "      <th></th>\n",
       "      <th></th>\n",
       "      <th></th>\n",
       "      <th></th>\n",
       "      <th></th>\n",
       "      <th></th>\n",
       "      <th></th>\n",
       "      <th></th>\n",
       "      <th></th>\n",
       "    </tr>\n",
       "  </thead>\n",
       "  <tbody>\n",
       "    <tr>\n",
       "      <th>그렇다</th>\n",
       "      <td>45.3</td>\n",
       "      <td>39.6</td>\n",
       "      <td>51.3</td>\n",
       "      <td>28.2</td>\n",
       "      <td>23.9</td>\n",
       "      <td>32.6</td>\n",
       "      <td>14.2</td>\n",
       "      <td>11.1</td>\n",
       "      <td>17.4</td>\n",
       "    </tr>\n",
       "    <tr>\n",
       "      <th>아니다</th>\n",
       "      <td>54.7</td>\n",
       "      <td>60.4</td>\n",
       "      <td>48.7</td>\n",
       "      <td>71.8</td>\n",
       "      <td>76.1</td>\n",
       "      <td>67.4</td>\n",
       "      <td>85.8</td>\n",
       "      <td>88.9</td>\n",
       "      <td>82.6</td>\n",
       "    </tr>\n",
       "  </tbody>\n",
       "</table>\n",
       "</div>"
      ],
      "text/plain": [
       "     스트레스 스트레스남학생 스트레스여학생 우울감경험율 우울남학생 우울여학생 자살생각율 자살남학생 자살여학생\n",
       "응답                                                            \n",
       "그렇다  45.3    39.6    51.3   28.2  23.9  32.6  14.2  11.1  17.4\n",
       "아니다  54.7    60.4    48.7   71.8  76.1  67.4  85.8  88.9  82.6"
      ]
     },
     "execution_count": 5,
     "metadata": {},
     "output_type": "execute_result"
    }
   ],
   "source": [
    "ori=ori.set_index('응답')\n",
    "ori"
   ]
  },
  {
   "cell_type": "code",
   "execution_count": null,
   "id": "72de8aa1-0672-43d4-8826-650d17ea79ca",
   "metadata": {},
   "outputs": [],
   "source": [
    "# OS에 사용가능한, 설치된 폰트를 나열\n",
    "import matplotlib \n",
    "import matplotlib.pyplot as plt\n",
    "from matplotlib import rc\n",
    "import matplotlib.font_manager as fm\n",
    "fontlist=fm.findSystemFonts(fontpaths=None, fontext='ttf')\n",
    "fontlist"
   ]
  },
  {
   "cell_type": "code",
   "execution_count": 7,
   "id": "4e9af98b-81fd-48e7-ba5c-211eb6f44284",
   "metadata": {},
   "outputs": [
    {
     "data": {
      "text/plain": [
       "Text(0.3, 0.3, '한글')"
      ]
     },
     "execution_count": 7,
     "metadata": {},
     "output_type": "execute_result"
    },
    {
     "data": {
      "image/png": "[encoded data removed]",
      "text/plain": [
       "<Figure size 640x480 with 1 Axes>"
      ]
     },
     "metadata": {},
     "output_type": "display_data"
    }
   ],
   "source": [
    "# 윈도우용 폰트 경로 설정\n",
    "path=\"C:\\\\Windows\\\\Fonts\\\\NanumGothic.ttf\"\n",
    "font_name = fm.FontProperties(fname=path).get_name()\n",
    "rc('font',family=font_name)\n",
    "plt.text(0.3,0.3,'한글')"
   ]
  },
  {
   "cell_type": "code",
   "execution_count": 8,
   "id": "e3c97b3f-3406-4738-9480-9451ac4f7c03",
   "metadata": {},
   "outputs": [
    {
     "data": {
      "text/plain": [
       "<Axes: ylabel='스트레스'>"
      ]
     },
     "execution_count": 8,
     "metadata": {},
     "output_type": "execute_result"
    },
    {
     "data": {
      "image/png": "[encoded data removed]",
      "text/plain": [
       "<Figure size 640x480 with 1 Axes>"
      ]
     },
     "metadata": {},
     "output_type": "display_data"
    }
   ],
   "source": [
    "ori['스트레스'].astype(float).plot.pie(explode=[0,0.02])"
   ]
  },
  {
   "cell_type": "code",
   "execution_count": 11,
   "id": "54955277-b196-4716-bc7f-08f530ef150f",
   "metadata": {},
   "outputs": [
    {
     "data": {
      "image/png": "[encoded data removed]",
      "text/plain": [
       "<Figure size 1000x800 with 6 Axes>"
      ]
     },
     "metadata": {},
     "output_type": "display_data"
    }
   ],
   "source": [
    "fig , ax = plt.subplots(2,3,figsize=(10,8)) \n",
    "\n",
    "ori['스트레스'].astype(float).plot.pie(explode = [0, 0.05], ax = ax[1][0], autopct=\"%.1f%%\")\n",
    "ax[1][0].set_title('스트레스를 받은적 있다.')\n",
    "ax[1][0].set_ylabel('')\n",
    "\n",
    "ori['우울감경험율'].astype(float).plot.pie(explode = [0, 0.05], ax = ax[1][1], autopct=\"%.1f%%\")\n",
    "ax[1][1].set_title('우울증을 경험한적 있다.')\n",
    "ax[1][1].set_ylabel('')\n",
    "\n",
    "ori['자살생각율'].astype(float).plot.pie(explode = [0, 0.05], ax = ax[1][2], autopct=\"%.1f%%\")\n",
    "ax[1][2].set_title('자살을 고민한 적이 있다.')\n",
    "ax[1][2].set_ylabel('')\n",
    "\n",
    "plt.suptitle('2024년 정신 건강 관련 통계')\n",
    "plt.show()"
   ]
  },
  {
   "cell_type": "markdown",
   "id": "03103562-3e31-4c12-893b-f31b4596d7a8",
   "metadata": {},
   "source": [
    "- 2023년도 청소년 정신건강관련 통계"
   ]
  },
  {
   "cell_type": "code",
   "execution_count": 13,
   "id": "0b36356b-e51d-4df8-b4ec-af9c9003a17b",
   "metadata": {},
   "outputs": [
    {
     "data": {
      "text/html": [
       "<div>\n",
       "<style scoped>\n",
       "    .dataframe tbody tr th:only-of-type {\n",
       "        vertical-align: middle;\n",
       "    }\n",
       "\n",
       "    .dataframe tbody tr th {\n",
       "        vertical-align: top;\n",
       "    }\n",
       "\n",
       "    .dataframe thead th {\n",
       "        text-align: right;\n",
       "    }\n",
       "</style>\n",
       "<table border=\"1\" class=\"dataframe\">\n",
       "  <thead>\n",
       "    <tr style=\"text-align: right;\">\n",
       "      <th></th>\n",
       "      <th>시점</th>\n",
       "      <th>스트레스 인지율</th>\n",
       "      <th>스트레스 인지율.1</th>\n",
       "      <th>스트레스 인지율.2</th>\n",
       "      <th>우울감 경험률</th>\n",
       "      <th>우울감 경험률.1</th>\n",
       "      <th>우울감 경험률.2</th>\n",
       "      <th>자살 생각률</th>\n",
       "      <th>자살 생각률.1</th>\n",
       "      <th>자살 생각률.2</th>\n",
       "    </tr>\n",
       "  </thead>\n",
       "  <tbody>\n",
       "    <tr>\n",
       "      <th>0</th>\n",
       "      <td>시점</td>\n",
       "      <td>전체</td>\n",
       "      <td>남학생</td>\n",
       "      <td>여학생</td>\n",
       "      <td>전체</td>\n",
       "      <td>남학생</td>\n",
       "      <td>여학생</td>\n",
       "      <td>전체</td>\n",
       "      <td>남학생</td>\n",
       "      <td>여학생</td>\n",
       "    </tr>\n",
       "    <tr>\n",
       "      <th>1</th>\n",
       "      <td>2023</td>\n",
       "      <td>39.6</td>\n",
       "      <td>33.4</td>\n",
       "      <td>46.2</td>\n",
       "      <td>27.5</td>\n",
       "      <td>23.3</td>\n",
       "      <td>32.0</td>\n",
       "      <td>14.5</td>\n",
       "      <td>10.5</td>\n",
       "      <td>18.9</td>\n",
       "    </tr>\n",
       "  </tbody>\n",
       "</table>\n",
       "</div>"
      ],
      "text/plain": [
       "     시점 스트레스 인지율 스트레스 인지율.1 스트레스 인지율.2 우울감 경험률 우울감 경험률.1 우울감 경험률.2 자살 생각률  \\\n",
       "0    시점       전체        남학생        여학생      전체       남학생       여학생     전체   \n",
       "1  2023     39.6       33.4       46.2    27.5      23.3      32.0   14.5   \n",
       "\n",
       "  자살 생각률.1 자살 생각률.2  \n",
       "0      남학생      여학생  \n",
       "1     10.5     18.9  "
      ]
     },
     "execution_count": 13,
     "metadata": {},
     "output_type": "execute_result"
    }
   ],
   "source": [
    "import pandas as pd\n",
    "file_path = \"./ref/청소년정신건강2023.csv\"\n",
    "ori = pd.read_csv(file_path)\n",
    "ori"
   ]
  },
  {
   "cell_type": "code",
   "execution_count": 14,
   "id": "3a9bc43e-8247-4edb-82a8-ff66042c83d0",
   "metadata": {},
   "outputs": [
    {
     "data": {
      "text/html": [
       "<div>\n",
       "<style scoped>\n",
       "    .dataframe tbody tr th:only-of-type {\n",
       "        vertical-align: middle;\n",
       "    }\n",
       "\n",
       "    .dataframe tbody tr th {\n",
       "        vertical-align: top;\n",
       "    }\n",
       "\n",
       "    .dataframe thead th {\n",
       "        text-align: right;\n",
       "    }\n",
       "</style>\n",
       "<table border=\"1\" class=\"dataframe\">\n",
       "  <thead>\n",
       "    <tr style=\"text-align: right;\">\n",
       "      <th></th>\n",
       "      <th>시점</th>\n",
       "      <th>스트레스</th>\n",
       "      <th>스트레스남학생</th>\n",
       "      <th>스트레스여학생</th>\n",
       "      <th>우울감경험율</th>\n",
       "      <th>우울남학생</th>\n",
       "      <th>우울여학생</th>\n",
       "      <th>자살생각율</th>\n",
       "      <th>자살남학생</th>\n",
       "      <th>자살여학생</th>\n",
       "    </tr>\n",
       "  </thead>\n",
       "  <tbody>\n",
       "    <tr>\n",
       "      <th>0</th>\n",
       "      <td>시점</td>\n",
       "      <td>전체</td>\n",
       "      <td>남학생</td>\n",
       "      <td>여학생</td>\n",
       "      <td>전체</td>\n",
       "      <td>남학생</td>\n",
       "      <td>여학생</td>\n",
       "      <td>전체</td>\n",
       "      <td>남학생</td>\n",
       "      <td>여학생</td>\n",
       "    </tr>\n",
       "    <tr>\n",
       "      <th>1</th>\n",
       "      <td>2023</td>\n",
       "      <td>39.6</td>\n",
       "      <td>33.4</td>\n",
       "      <td>46.2</td>\n",
       "      <td>27.5</td>\n",
       "      <td>23.3</td>\n",
       "      <td>32.0</td>\n",
       "      <td>14.5</td>\n",
       "      <td>10.5</td>\n",
       "      <td>18.9</td>\n",
       "    </tr>\n",
       "  </tbody>\n",
       "</table>\n",
       "</div>"
      ],
      "text/plain": [
       "     시점  스트레스 스트레스남학생 스트레스여학생 우울감경험율 우울남학생 우울여학생 자살생각율 자살남학생 자살여학생\n",
       "0    시점    전체     남학생     여학생     전체   남학생   여학생    전체   남학생   여학생\n",
       "1  2023  39.6    33.4    46.2   27.5  23.3  32.0  14.5  10.5  18.9"
      ]
     },
     "execution_count": 14,
     "metadata": {},
     "output_type": "execute_result"
    }
   ],
   "source": [
    "# 컬럼명 지정\n",
    "new_name=['시점','스트레스','스트레스남학생','스트레스여학생','우울감경험율','우울남학생','우울여학생','자살생각율','자살남학생','자살여학생']\n",
    "ori.columns=new_name\n",
    "ori"
   ]
  },
  {
   "cell_type": "code",
   "execution_count": 15,
   "id": "bd9d4b02-fd85-4e47-8c68-a7817b94ec52",
   "metadata": {},
   "outputs": [
    {
     "data": {
      "text/html": [
       "<div>\n",
       "<style scoped>\n",
       "    .dataframe tbody tr th:only-of-type {\n",
       "        vertical-align: middle;\n",
       "    }\n",
       "\n",
       "    .dataframe tbody tr th {\n",
       "        vertical-align: top;\n",
       "    }\n",
       "\n",
       "    .dataframe thead th {\n",
       "        text-align: right;\n",
       "    }\n",
       "</style>\n",
       "<table border=\"1\" class=\"dataframe\">\n",
       "  <thead>\n",
       "    <tr style=\"text-align: right;\">\n",
       "      <th></th>\n",
       "      <th>스트레스</th>\n",
       "      <th>스트레스남학생</th>\n",
       "      <th>스트레스여학생</th>\n",
       "      <th>우울감경험율</th>\n",
       "      <th>우울남학생</th>\n",
       "      <th>우울여학생</th>\n",
       "      <th>자살생각율</th>\n",
       "      <th>자살남학생</th>\n",
       "      <th>자살여학생</th>\n",
       "    </tr>\n",
       "  </thead>\n",
       "  <tbody>\n",
       "    <tr>\n",
       "      <th>1</th>\n",
       "      <td>39.6</td>\n",
       "      <td>33.4</td>\n",
       "      <td>46.2</td>\n",
       "      <td>27.5</td>\n",
       "      <td>23.3</td>\n",
       "      <td>32.0</td>\n",
       "      <td>14.5</td>\n",
       "      <td>10.5</td>\n",
       "      <td>18.9</td>\n",
       "    </tr>\n",
       "  </tbody>\n",
       "</table>\n",
       "</div>"
      ],
      "text/plain": [
       "   스트레스 스트레스남학생 스트레스여학생 우울감경험율 우울남학생 우울여학생 자살생각율 자살남학생 자살여학생\n",
       "1  39.6    33.4    46.2   27.5  23.3  32.0  14.5  10.5  18.9"
      ]
     },
     "execution_count": 15,
     "metadata": {},
     "output_type": "execute_result"
    }
   ],
   "source": [
    "# 시점을 없애고,0번 행도 없앰\n",
    "ori=ori.loc[1:,'스트레스':]\n",
    "ori"
   ]
  },
  {
   "cell_type": "code",
   "execution_count": 16,
   "id": "0979e1b9-9489-42f5-acc1-fefc3bf2980b",
   "metadata": {},
   "outputs": [
    {
     "data": {
      "text/html": [
       "<div>\n",
       "<style scoped>\n",
       "    .dataframe tbody tr th:only-of-type {\n",
       "        vertical-align: middle;\n",
       "    }\n",
       "\n",
       "    .dataframe tbody tr th {\n",
       "        vertical-align: top;\n",
       "    }\n",
       "\n",
       "    .dataframe thead th {\n",
       "        text-align: right;\n",
       "    }\n",
       "</style>\n",
       "<table border=\"1\" class=\"dataframe\">\n",
       "  <thead>\n",
       "    <tr style=\"text-align: right;\">\n",
       "      <th></th>\n",
       "      <th>스트레스</th>\n",
       "      <th>스트레스남학생</th>\n",
       "      <th>스트레스여학생</th>\n",
       "      <th>우울감경험율</th>\n",
       "      <th>우울남학생</th>\n",
       "      <th>우울여학생</th>\n",
       "      <th>자살생각율</th>\n",
       "      <th>자살남학생</th>\n",
       "      <th>자살여학생</th>\n",
       "      <th>응답</th>\n",
       "    </tr>\n",
       "  </thead>\n",
       "  <tbody>\n",
       "    <tr>\n",
       "      <th>1</th>\n",
       "      <td>39.6</td>\n",
       "      <td>33.4</td>\n",
       "      <td>46.2</td>\n",
       "      <td>27.5</td>\n",
       "      <td>23.3</td>\n",
       "      <td>32.0</td>\n",
       "      <td>14.5</td>\n",
       "      <td>10.5</td>\n",
       "      <td>18.9</td>\n",
       "      <td>그렇다</td>\n",
       "    </tr>\n",
       "    <tr>\n",
       "      <th>2</th>\n",
       "      <td>60.4</td>\n",
       "      <td>66.6</td>\n",
       "      <td>53.8</td>\n",
       "      <td>72.5</td>\n",
       "      <td>76.7</td>\n",
       "      <td>68.0</td>\n",
       "      <td>85.5</td>\n",
       "      <td>89.5</td>\n",
       "      <td>81.1</td>\n",
       "      <td>아니다</td>\n",
       "    </tr>\n",
       "  </tbody>\n",
       "</table>\n",
       "</div>"
      ],
      "text/plain": [
       "   스트레스 스트레스남학생 스트레스여학생 우울감경험율 우울남학생 우울여학생 자살생각율 자살남학생 자살여학생   응답\n",
       "1  39.6    33.4    46.2   27.5  23.3  32.0  14.5  10.5  18.9  그렇다\n",
       "2  60.4    66.6    53.8   72.5  76.7  68.0  85.5  89.5  81.1  아니다"
      ]
     },
     "execution_count": 16,
     "metadata": {},
     "output_type": "execute_result"
    }
   ],
   "source": [
    "# 2번 인덱스 행을 생성, 100에서 값을 뺸 값\n",
    "ori.loc[2]=100-ori.loc[1,'스트레스':].astype(float)\n",
    "# 마지막에 응답컬럼을 생성, 그렇다 or 아니다\n",
    "ori['응답']=['그렇다','아니다']\n",
    "ori"
   ]
  },
  {
   "cell_type": "code",
   "execution_count": 17,
   "id": "6a9e43aa-6e47-4406-afb9-9b2cb95bb6e2",
   "metadata": {},
   "outputs": [
    {
     "data": {
      "text/html": [
       "<div>\n",
       "<style scoped>\n",
       "    .dataframe tbody tr th:only-of-type {\n",
       "        vertical-align: middle;\n",
       "    }\n",
       "\n",
       "    .dataframe tbody tr th {\n",
       "        vertical-align: top;\n",
       "    }\n",
       "\n",
       "    .dataframe thead th {\n",
       "        text-align: right;\n",
       "    }\n",
       "</style>\n",
       "<table border=\"1\" class=\"dataframe\">\n",
       "  <thead>\n",
       "    <tr style=\"text-align: right;\">\n",
       "      <th></th>\n",
       "      <th>스트레스</th>\n",
       "      <th>스트레스남학생</th>\n",
       "      <th>스트레스여학생</th>\n",
       "      <th>우울감경험율</th>\n",
       "      <th>우울남학생</th>\n",
       "      <th>우울여학생</th>\n",
       "      <th>자살생각율</th>\n",
       "      <th>자살남학생</th>\n",
       "      <th>자살여학생</th>\n",
       "    </tr>\n",
       "    <tr>\n",
       "      <th>응답</th>\n",
       "      <th></th>\n",
       "      <th></th>\n",
       "      <th></th>\n",
       "      <th></th>\n",
       "      <th></th>\n",
       "      <th></th>\n",
       "      <th></th>\n",
       "      <th></th>\n",
       "      <th></th>\n",
       "    </tr>\n",
       "  </thead>\n",
       "  <tbody>\n",
       "    <tr>\n",
       "      <th>그렇다</th>\n",
       "      <td>39.6</td>\n",
       "      <td>33.4</td>\n",
       "      <td>46.2</td>\n",
       "      <td>27.5</td>\n",
       "      <td>23.3</td>\n",
       "      <td>32.0</td>\n",
       "      <td>14.5</td>\n",
       "      <td>10.5</td>\n",
       "      <td>18.9</td>\n",
       "    </tr>\n",
       "    <tr>\n",
       "      <th>아니다</th>\n",
       "      <td>60.4</td>\n",
       "      <td>66.6</td>\n",
       "      <td>53.8</td>\n",
       "      <td>72.5</td>\n",
       "      <td>76.7</td>\n",
       "      <td>68.0</td>\n",
       "      <td>85.5</td>\n",
       "      <td>89.5</td>\n",
       "      <td>81.1</td>\n",
       "    </tr>\n",
       "  </tbody>\n",
       "</table>\n",
       "</div>"
      ],
      "text/plain": [
       "     스트레스 스트레스남학생 스트레스여학생 우울감경험율 우울남학생 우울여학생 자살생각율 자살남학생 자살여학생\n",
       "응답                                                            \n",
       "그렇다  39.6    33.4    46.2   27.5  23.3  32.0  14.5  10.5  18.9\n",
       "아니다  60.4    66.6    53.8   72.5  76.7  68.0  85.5  89.5  81.1"
      ]
     },
     "execution_count": 17,
     "metadata": {},
     "output_type": "execute_result"
    }
   ],
   "source": [
    "ori=ori.set_index('응답')\n",
    "ori"
   ]
  },
  {
   "cell_type": "code",
   "execution_count": null,
   "id": "24039556-a1f7-44c6-9647-b716de3eb7fa",
   "metadata": {},
   "outputs": [],
   "source": [
    "# OS에 사용가능한, 설치된 폰트를 나열\n",
    "import matplotlib \n",
    "import matplotlib.pyplot as plt\n",
    "from matplotlib import rc\n",
    "import matplotlib.font_manager as fm\n",
    "fontlist=fm.findSystemFonts(fontpaths=None, fontext='ttf')\n",
    "fontlist"
   ]
  },
  {
   "cell_type": "code",
   "execution_count": 19,
   "id": "843e3b26-25d7-4c9a-a55b-c452495d7c5a",
   "metadata": {},
   "outputs": [],
   "source": [
    "# 윈도우용 폰트 경로 설정\n",
    "path=\"C:\\\\Windows\\\\Fonts\\\\NanumGothic.ttf\"\n",
    "font_name = fm.FontProperties(fname=path).get_name()\n",
    "rc('font',family=font_name)"
   ]
  },
  {
   "cell_type": "code",
   "execution_count": 20,
   "id": "fffdd50d-6561-4d88-a7b6-b89683a8db70",
   "metadata": {},
   "outputs": [
    {
     "data": {
      "text/plain": [
       "<Axes: ylabel='스트레스'>"
      ]
     },
     "execution_count": 20,
     "metadata": {},
     "output_type": "execute_result"
    },
    {
     "data": {
      "image/png": "[encoded data removed]",
      "text/plain": [
       "<Figure size 640x480 with 1 Axes>"
      ]
     },
     "metadata": {},
     "output_type": "display_data"
    }
   ],
   "source": [
    "ori['스트레스'].astype(float).plot.pie(explode=[0,0.02])"
   ]
  },
  {
   "cell_type": "code",
   "execution_count": 23,
   "id": "05472b35-a9dc-4f09-9d7b-e8c63a9366e3",
   "metadata": {},
   "outputs": [
    {
     "data": {
      "image/png": "[encoded data removed]",
      "text/plain": [
       "<Figure size 1000x800 with 6 Axes>"
      ]
     },
     "metadata": {},
     "output_type": "display_data"
    }
   ],
   "source": [
    "import matplotlib.pyplot as plt\n",
    "\n",
    "columns = ['스트레스', '우울감경험율', '자살생각율']\n",
    "titles = ['스트레스를 받은적 있다.', '우울증을 경험한적 있다.', '자살을 고민한 적이 있다.']\n",
    "\n",
    "fig, ax = plt.subplots(2, 3, figsize=(10, 8))\n",
    "\n",
    "for i, col in enumerate(columns):\n",
    "    ori[col].astype(float).plot.pie(\n",
    "        explode=[0, 0.05], ax=ax[1][i], autopct=\"%.1f%%\")\n",
    "    ax[1][i].set_title(titles[i])\n",
    "    ax[1][i].set_ylabel('')\n",
    "\n",
    "plt.suptitle('2023년 정신 건강 관련 통계')\n",
    "plt.show()"
   ]
  },
  {
   "cell_type": "code",
   "execution_count": null,
   "id": "525e971b-e2f4-4bb4-bfc9-de2510e110c5",
   "metadata": {},
   "outputs": [],
   "source": []
  }
 ],
 "metadata": {
  "kernelspec": {
   "display_name": "Python 3 (ipykernel)",
   "language": "python",
   "name": "python3"
  },
  "language_info": {
   "codemirror_mode": {
    "name": "ipython",
    "version": 3
   },
   "file_extension": ".py",
   "mimetype": "text/x-python",
   "name": "python",
   "nbconvert_exporter": "python",
   "pygments_lexer": "ipython3",
   "version": "3.13.1"
  }
 },
 "nbformat": 4,
 "nbformat_minor": 5
}
