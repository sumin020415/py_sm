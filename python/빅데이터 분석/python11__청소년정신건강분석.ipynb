{
 "cells": [
  {
   "cell_type": "code",
   "execution_count": 1,
   "id": "168bf73f-9cec-4dda-98ba-8af4100120a9",
   "metadata": {},
   "outputs": [],
   "source": [
    "# !dir"
   ]
  },
  {
   "cell_type": "code",
   "execution_count": 2,
   "id": "1faccf1c-8d8c-4bfd-8dd0-5553d9dab06d",
   "metadata": {},
   "outputs": [
    {
     "data": {
      "text/html": [
       "<div>\n",
       "<style scoped>\n",
       "    .dataframe tbody tr th:only-of-type {\n",
       "        vertical-align: middle;\n",
       "    }\n",
       "\n",
       "    .dataframe tbody tr th {\n",
       "        vertical-align: top;\n",
       "    }\n",
       "\n",
       "    .dataframe thead th {\n",
       "        text-align: right;\n",
       "    }\n",
       "</style>\n",
       "<table border=\"1\" class=\"dataframe\">\n",
       "  <thead>\n",
       "    <tr style=\"text-align: right;\">\n",
       "      <th></th>\n",
       "      <th>시점</th>\n",
       "      <th>스트레스 인지율</th>\n",
       "      <th>스트레스 인지율.1</th>\n",
       "      <th>스트레스 인지율.2</th>\n",
       "      <th>우울감 경험률</th>\n",
       "      <th>우울감 경험률.1</th>\n",
       "      <th>우울감 경험률.2</th>\n",
       "      <th>자살 생각률</th>\n",
       "      <th>자살 생각률.1</th>\n",
       "      <th>자살 생각률.2</th>\n",
       "    </tr>\n",
       "  </thead>\n",
       "  <tbody>\n",
       "    <tr>\n",
       "      <th>0</th>\n",
       "      <td>시점</td>\n",
       "      <td>전체</td>\n",
       "      <td>남학생</td>\n",
       "      <td>여학생</td>\n",
       "      <td>전체</td>\n",
       "      <td>남학생</td>\n",
       "      <td>여학생</td>\n",
       "      <td>전체</td>\n",
       "      <td>남학생</td>\n",
       "      <td>여학생</td>\n",
       "    </tr>\n",
       "    <tr>\n",
       "      <th>1</th>\n",
       "      <td>2024</td>\n",
       "      <td>45.3</td>\n",
       "      <td>39.6</td>\n",
       "      <td>51.3</td>\n",
       "      <td>28.2</td>\n",
       "      <td>23.9</td>\n",
       "      <td>32.6</td>\n",
       "      <td>14.2</td>\n",
       "      <td>11.1</td>\n",
       "      <td>17.4</td>\n",
       "    </tr>\n",
       "  </tbody>\n",
       "</table>\n",
       "</div>"
      ],
      "text/plain": [
       "     시점 스트레스 인지율 스트레스 인지율.1 스트레스 인지율.2 우울감 경험률 우울감 경험률.1 우울감 경험률.2 자살 생각률  \\\n",
       "0    시점       전체        남학생        여학생      전체       남학생       여학생     전체   \n",
       "1  2024     45.3       39.6       51.3    28.2      23.9      32.6   14.2   \n",
       "\n",
       "  자살 생각률.1 자살 생각률.2  \n",
       "0      남학생      여학생  \n",
       "1     11.1     17.4  "
      ]
     },
     "execution_count": 2,
     "metadata": {},
     "output_type": "execute_result"
    }
   ],
   "source": [
    "import pandas as pd\n",
    "file_path = \"./ref/청소년정신건강_20250304.csv\"\n",
    "ori = pd.read_csv(file_path)\n",
    "ori"
   ]
  },
  {
   "cell_type": "code",
   "execution_count": 3,
   "id": "32e61af7-e72e-401d-a3d8-347535a57c30",
   "metadata": {},
   "outputs": [
    {
     "data": {
      "text/html": [
       "<div>\n",
       "<style scoped>\n",
       "    .dataframe tbody tr th:only-of-type {\n",
       "        vertical-align: middle;\n",
       "    }\n",
       "\n",
       "    .dataframe tbody tr th {\n",
       "        vertical-align: top;\n",
       "    }\n",
       "\n",
       "    .dataframe thead th {\n",
       "        text-align: right;\n",
       "    }\n",
       "</style>\n",
       "<table border=\"1\" class=\"dataframe\">\n",
       "  <thead>\n",
       "    <tr style=\"text-align: right;\">\n",
       "      <th></th>\n",
       "      <th>시점</th>\n",
       "      <th>스트레스</th>\n",
       "      <th>스트레스남학생</th>\n",
       "      <th>스트레스여학생</th>\n",
       "      <th>우울감경험율</th>\n",
       "      <th>우울남학생</th>\n",
       "      <th>우울여학생</th>\n",
       "      <th>자살생각율</th>\n",
       "      <th>자살남학생</th>\n",
       "      <th>자살여학생</th>\n",
       "    </tr>\n",
       "  </thead>\n",
       "  <tbody>\n",
       "    <tr>\n",
       "      <th>0</th>\n",
       "      <td>시점</td>\n",
       "      <td>전체</td>\n",
       "      <td>남학생</td>\n",
       "      <td>여학생</td>\n",
       "      <td>전체</td>\n",
       "      <td>남학생</td>\n",
       "      <td>여학생</td>\n",
       "      <td>전체</td>\n",
       "      <td>남학생</td>\n",
       "      <td>여학생</td>\n",
       "    </tr>\n",
       "    <tr>\n",
       "      <th>1</th>\n",
       "      <td>2024</td>\n",
       "      <td>45.3</td>\n",
       "      <td>39.6</td>\n",
       "      <td>51.3</td>\n",
       "      <td>28.2</td>\n",
       "      <td>23.9</td>\n",
       "      <td>32.6</td>\n",
       "      <td>14.2</td>\n",
       "      <td>11.1</td>\n",
       "      <td>17.4</td>\n",
       "    </tr>\n",
       "  </tbody>\n",
       "</table>\n",
       "</div>"
      ],
      "text/plain": [
       "     시점  스트레스 스트레스남학생 스트레스여학생 우울감경험율 우울남학생 우울여학생 자살생각율 자살남학생 자살여학생\n",
       "0    시점    전체     남학생     여학생     전체   남학생   여학생    전체   남학생   여학생\n",
       "1  2024  45.3    39.6    51.3   28.2  23.9  32.6  14.2  11.1  17.4"
      ]
     },
     "execution_count": 3,
     "metadata": {},
     "output_type": "execute_result"
    }
   ],
   "source": [
    "# 컬럼명 지정\n",
    "new_name=['시점','스트레스','스트레스남학생','스트레스여학생','우울감경험율','우울남학생','우울여학생','자살생각율','자살남학생','자살여학생']\n",
    "ori.columns=new_name\n",
    "ori"
   ]
  },
  {
   "cell_type": "code",
   "execution_count": 4,
   "id": "f834f28e-51e8-4962-94df-6eaad5438a99",
   "metadata": {},
   "outputs": [
    {
     "data": {
      "text/html": [
       "<div>\n",
       "<style scoped>\n",
       "    .dataframe tbody tr th:only-of-type {\n",
       "        vertical-align: middle;\n",
       "    }\n",
       "\n",
       "    .dataframe tbody tr th {\n",
       "        vertical-align: top;\n",
       "    }\n",
       "\n",
       "    .dataframe thead th {\n",
       "        text-align: right;\n",
       "    }\n",
       "</style>\n",
       "<table border=\"1\" class=\"dataframe\">\n",
       "  <thead>\n",
       "    <tr style=\"text-align: right;\">\n",
       "      <th></th>\n",
       "      <th>스트레스</th>\n",
       "      <th>스트레스남학생</th>\n",
       "      <th>스트레스여학생</th>\n",
       "      <th>우울감경험율</th>\n",
       "      <th>우울남학생</th>\n",
       "      <th>우울여학생</th>\n",
       "      <th>자살생각율</th>\n",
       "      <th>자살남학생</th>\n",
       "      <th>자살여학생</th>\n",
       "    </tr>\n",
       "  </thead>\n",
       "  <tbody>\n",
       "    <tr>\n",
       "      <th>1</th>\n",
       "      <td>45.3</td>\n",
       "      <td>39.6</td>\n",
       "      <td>51.3</td>\n",
       "      <td>28.2</td>\n",
       "      <td>23.9</td>\n",
       "      <td>32.6</td>\n",
       "      <td>14.2</td>\n",
       "      <td>11.1</td>\n",
       "      <td>17.4</td>\n",
       "    </tr>\n",
       "  </tbody>\n",
       "</table>\n",
       "</div>"
      ],
      "text/plain": [
       "   스트레스 스트레스남학생 스트레스여학생 우울감경험율 우울남학생 우울여학생 자살생각율 자살남학생 자살여학생\n",
       "1  45.3    39.6    51.3   28.2  23.9  32.6  14.2  11.1  17.4"
      ]
     },
     "execution_count": 4,
     "metadata": {},
     "output_type": "execute_result"
    }
   ],
   "source": [
    "# 시점을 없애고,0번 행도 없앰\n",
    "ori=ori.loc[1:,'스트레스':]\n",
    "ori"
   ]
  },
  {
   "cell_type": "code",
   "execution_count": 5,
   "id": "78ef5e88-e178-41ad-b7ae-5c1934ff6921",
   "metadata": {},
   "outputs": [
    {
     "data": {
      "text/html": [
       "<div>\n",
       "<style scoped>\n",
       "    .dataframe tbody tr th:only-of-type {\n",
       "        vertical-align: middle;\n",
       "    }\n",
       "\n",
       "    .dataframe tbody tr th {\n",
       "        vertical-align: top;\n",
       "    }\n",
       "\n",
       "    .dataframe thead th {\n",
       "        text-align: right;\n",
       "    }\n",
       "</style>\n",
       "<table border=\"1\" class=\"dataframe\">\n",
       "  <thead>\n",
       "    <tr style=\"text-align: right;\">\n",
       "      <th></th>\n",
       "      <th>스트레스</th>\n",
       "      <th>스트레스남학생</th>\n",
       "      <th>스트레스여학생</th>\n",
       "      <th>우울감경험율</th>\n",
       "      <th>우울남학생</th>\n",
       "      <th>우울여학생</th>\n",
       "      <th>자살생각율</th>\n",
       "      <th>자살남학생</th>\n",
       "      <th>자살여학생</th>\n",
       "      <th>응답</th>\n",
       "    </tr>\n",
       "  </thead>\n",
       "  <tbody>\n",
       "    <tr>\n",
       "      <th>1</th>\n",
       "      <td>45.3</td>\n",
       "      <td>39.6</td>\n",
       "      <td>51.3</td>\n",
       "      <td>28.2</td>\n",
       "      <td>23.9</td>\n",
       "      <td>32.6</td>\n",
       "      <td>14.2</td>\n",
       "      <td>11.1</td>\n",
       "      <td>17.4</td>\n",
       "      <td>그렇다</td>\n",
       "    </tr>\n",
       "    <tr>\n",
       "      <th>2</th>\n",
       "      <td>54.7</td>\n",
       "      <td>60.4</td>\n",
       "      <td>48.7</td>\n",
       "      <td>71.8</td>\n",
       "      <td>76.1</td>\n",
       "      <td>67.4</td>\n",
       "      <td>85.8</td>\n",
       "      <td>88.9</td>\n",
       "      <td>82.6</td>\n",
       "      <td>아니다</td>\n",
       "    </tr>\n",
       "  </tbody>\n",
       "</table>\n",
       "</div>"
      ],
      "text/plain": [
       "   스트레스 스트레스남학생 스트레스여학생 우울감경험율 우울남학생 우울여학생 자살생각율 자살남학생 자살여학생   응답\n",
       "1  45.3    39.6    51.3   28.2  23.9  32.6  14.2  11.1  17.4  그렇다\n",
       "2  54.7    60.4    48.7   71.8  76.1  67.4  85.8  88.9  82.6  아니다"
      ]
     },
     "execution_count": 5,
     "metadata": {},
     "output_type": "execute_result"
    }
   ],
   "source": [
    "# 2번 인덱스 행을 생성, 100에서 값을 뺸 값\n",
    "ori.loc[2]=100-ori.loc[1,'스트레스':].astype(float)\n",
    "# 마지막에 응답컬럼을 생성, 그렇다 or 아니다\n",
    "ori['응답']=['그렇다','아니다']\n",
    "ori"
   ]
  },
  {
   "cell_type": "code",
   "execution_count": 6,
   "id": "bd792370-8579-4494-a5b3-cc8b8e2cacf7",
   "metadata": {},
   "outputs": [
    {
     "data": {
      "text/html": [
       "<div>\n",
       "<style scoped>\n",
       "    .dataframe tbody tr th:only-of-type {\n",
       "        vertical-align: middle;\n",
       "    }\n",
       "\n",
       "    .dataframe tbody tr th {\n",
       "        vertical-align: top;\n",
       "    }\n",
       "\n",
       "    .dataframe thead th {\n",
       "        text-align: right;\n",
       "    }\n",
       "</style>\n",
       "<table border=\"1\" class=\"dataframe\">\n",
       "  <thead>\n",
       "    <tr style=\"text-align: right;\">\n",
       "      <th></th>\n",
       "      <th>스트레스</th>\n",
       "      <th>스트레스남학생</th>\n",
       "      <th>스트레스여학생</th>\n",
       "      <th>우울감경험율</th>\n",
       "      <th>우울남학생</th>\n",
       "      <th>우울여학생</th>\n",
       "      <th>자살생각율</th>\n",
       "      <th>자살남학생</th>\n",
       "      <th>자살여학생</th>\n",
       "    </tr>\n",
       "    <tr>\n",
       "      <th>응답</th>\n",
       "      <th></th>\n",
       "      <th></th>\n",
       "      <th></th>\n",
       "      <th></th>\n",
       "      <th></th>\n",
       "      <th></th>\n",
       "      <th></th>\n",
       "      <th></th>\n",
       "      <th></th>\n",
       "    </tr>\n",
       "  </thead>\n",
       "  <tbody>\n",
       "    <tr>\n",
       "      <th>그렇다</th>\n",
       "      <td>45.3</td>\n",
       "      <td>39.6</td>\n",
       "      <td>51.3</td>\n",
       "      <td>28.2</td>\n",
       "      <td>23.9</td>\n",
       "      <td>32.6</td>\n",
       "      <td>14.2</td>\n",
       "      <td>11.1</td>\n",
       "      <td>17.4</td>\n",
       "    </tr>\n",
       "    <tr>\n",
       "      <th>아니다</th>\n",
       "      <td>54.7</td>\n",
       "      <td>60.4</td>\n",
       "      <td>48.7</td>\n",
       "      <td>71.8</td>\n",
       "      <td>76.1</td>\n",
       "      <td>67.4</td>\n",
       "      <td>85.8</td>\n",
       "      <td>88.9</td>\n",
       "      <td>82.6</td>\n",
       "    </tr>\n",
       "  </tbody>\n",
       "</table>\n",
       "</div>"
      ],
      "text/plain": [
       "     스트레스 스트레스남학생 스트레스여학생 우울감경험율 우울남학생 우울여학생 자살생각율 자살남학생 자살여학생\n",
       "응답                                                            \n",
       "그렇다  45.3    39.6    51.3   28.2  23.9  32.6  14.2  11.1  17.4\n",
       "아니다  54.7    60.4    48.7   71.8  76.1  67.4  85.8  88.9  82.6"
      ]
     },
     "execution_count": 6,
     "metadata": {},
     "output_type": "execute_result"
    }
   ],
   "source": [
    "ori=ori.set_index('응답')\n",
    "ori"
   ]
  },
  {
   "cell_type": "code",
   "execution_count": null,
   "id": "72de8aa1-0672-43d4-8826-650d17ea79ca",
   "metadata": {},
   "outputs": [],
   "source": [
    "# OS에 사용가능한, 설치된 폰트를 나열\n",
    "import matplotlib \n",
    "import matplotlib.pyplot as plt\n",
    "from matplotlib import rc\n",
    "import matplotlib.font_manager as fm\n",
    "fontlist=fm.findSystemFonts(fontpaths=None, fontext='ttf')\n",
    "fontlist"
   ]
  },
  {
   "cell_type": "code",
   "execution_count": 8,
   "id": "eb9e7084-90dc-4c75-87af-044dd6344fc1",
   "metadata": {},
   "outputs": [],
   "source": [
    "# !sudo apt-get install -y fonts-nanum\n",
    "# !ls -a\n",
    "# !pwd"
   ]
  },
  {
   "cell_type": "code",
   "execution_count": 9,
   "id": "4e9af98b-81fd-48e7-ba5c-211eb6f44284",
   "metadata": {},
   "outputs": [
    {
     "data": {
      "text/plain": [
       "Text(0.2, 0.4, '한글')"
      ]
     },
     "execution_count": 9,
     "metadata": {},
     "output_type": "execute_result"
    },
    {
     "data": {
      "image/png": "[encoded data removed]",
      "text/plain": [
       "<Figure size 640x480 with 1 Axes>"
      ]
     },
     "metadata": {},
     "output_type": "display_data"
    }
   ],
   "source": [
    "# 윈도우용 폰트 경로 설정\n",
    "# path=\"C:\\\\Windows\\\\Fonts\\\\NanumGothic.ttf\"\n",
    "# font_name = fm.FontProperties(fname=path).get_name()\n",
    "# rc('font',family=font_name)\n",
    "# plt.text(0.3,0.3,'한글')\n",
    "# 리눅스용 폰트 경로 설정\n",
    "plt.rc('font', family=\"NanumBarunGothic\")\n",
    "plt.text(0.2,0.4,'한글',size=100)"
   ]
  },
  {
   "cell_type": "code",
   "execution_count": 10,
   "id": "e3c97b3f-3406-4738-9480-9451ac4f7c03",
   "metadata": {},
   "outputs": [
    {
     "data": {
      "text/plain": [
       "<Axes: ylabel='스트레스'>"
      ]
     },
     "execution_count": 10,
     "metadata": {},
     "output_type": "execute_result"
    },
    {
     "data": {
      "image/png": "[encoded data removed]",
      "text/plain": [
       "<Figure size 640x480 with 1 Axes>"
      ]
     },
     "metadata": {},
     "output_type": "display_data"
    }
   ],
   "source": [
    "ori['스트레스'].astype(float).plot.pie(explode=[0,0.02])"
   ]
  },
  {
   "cell_type": "code",
   "execution_count": 11,
   "id": "54955277-b196-4716-bc7f-08f530ef150f",
   "metadata": {},
   "outputs": [
    {
     "data": {
      "image/png": "[encoded data removed]",
      "text/plain": [
       "<Figure size 1000x800 with 6 Axes>"
      ]
     },
     "metadata": {},
     "output_type": "display_data"
    }
   ],
   "source": [
    "fig , ax = plt.subplots(2,3,figsize=(10,8)) \n",
    "\n",
    "ori['스트레스'].astype(float).plot.pie(explode = [0, 0.05], ax = ax[1][0], autopct=\"%.1f%%\")\n",
    "ax[1][0].set_title('스트레스를 받은적 있다.')\n",
    "ax[1][0].set_ylabel('')\n",
    "\n",
    "ori['우울감경험율'].astype(float).plot.pie(explode = [0, 0.05], ax = ax[1][1], autopct=\"%.1f%%\")\n",
    "ax[1][1].set_title('우울증을 경험한적 있다.')\n",
    "ax[1][1].set_ylabel('')\n",
    "\n",
    "ori['자살생각율'].astype(float).plot.pie(explode = [0, 0.05], ax = ax[1][2], autopct=\"%.1f%%\")\n",
    "ax[1][2].set_title('자살을 고민한 적이 있다.')\n",
    "ax[1][2].set_ylabel('')\n",
    "\n",
    "plt.suptitle('2024년 정신 건강 관련 통계')\n",
    "plt.show()"
   ]
  },
  {
   "cell_type": "markdown",
   "id": "03103562-3e31-4c12-893b-f31b4596d7a8",
   "metadata": {},
   "source": [
    "- 2023년도 청소년 정신건강관련 통계"
   ]
  },
  {
   "cell_type": "code",
   "execution_count": 12,
   "id": "0b36356b-e51d-4df8-b4ec-af9c9003a17b",
   "metadata": {},
   "outputs": [
    {
     "data": {
      "text/html": [
       "<div>\n",
       "<style scoped>\n",
       "    .dataframe tbody tr th:only-of-type {\n",
       "        vertical-align: middle;\n",
       "    }\n",
       "\n",
       "    .dataframe tbody tr th {\n",
       "        vertical-align: top;\n",
       "    }\n",
       "\n",
       "    .dataframe thead th {\n",
       "        text-align: right;\n",
       "    }\n",
       "</style>\n",
       "<table border=\"1\" class=\"dataframe\">\n",
       "  <thead>\n",
       "    <tr style=\"text-align: right;\">\n",
       "      <th></th>\n",
       "      <th>시점</th>\n",
       "      <th>스트레스 인지율</th>\n",
       "      <th>스트레스 인지율.1</th>\n",
       "      <th>스트레스 인지율.2</th>\n",
       "      <th>우울감 경험률</th>\n",
       "      <th>우울감 경험률.1</th>\n",
       "      <th>우울감 경험률.2</th>\n",
       "      <th>자살 생각률</th>\n",
       "      <th>자살 생각률.1</th>\n",
       "      <th>자살 생각률.2</th>\n",
       "    </tr>\n",
       "  </thead>\n",
       "  <tbody>\n",
       "    <tr>\n",
       "      <th>0</th>\n",
       "      <td>시점</td>\n",
       "      <td>전체</td>\n",
       "      <td>남학생</td>\n",
       "      <td>여학생</td>\n",
       "      <td>전체</td>\n",
       "      <td>남학생</td>\n",
       "      <td>여학생</td>\n",
       "      <td>전체</td>\n",
       "      <td>남학생</td>\n",
       "      <td>여학생</td>\n",
       "    </tr>\n",
       "    <tr>\n",
       "      <th>1</th>\n",
       "      <td>2023</td>\n",
       "      <td>39.6</td>\n",
       "      <td>33.4</td>\n",
       "      <td>46.2</td>\n",
       "      <td>27.5</td>\n",
       "      <td>23.3</td>\n",
       "      <td>32.0</td>\n",
       "      <td>14.5</td>\n",
       "      <td>10.5</td>\n",
       "      <td>18.9</td>\n",
       "    </tr>\n",
       "  </tbody>\n",
       "</table>\n",
       "</div>"
      ],
      "text/plain": [
       "     시점 스트레스 인지율 스트레스 인지율.1 스트레스 인지율.2 우울감 경험률 우울감 경험률.1 우울감 경험률.2 자살 생각률  \\\n",
       "0    시점       전체        남학생        여학생      전체       남학생       여학생     전체   \n",
       "1  2023     39.6       33.4       46.2    27.5      23.3      32.0   14.5   \n",
       "\n",
       "  자살 생각률.1 자살 생각률.2  \n",
       "0      남학생      여학생  \n",
       "1     10.5     18.9  "
      ]
     },
     "execution_count": 12,
     "metadata": {},
     "output_type": "execute_result"
    }
   ],
   "source": [
    "import pandas as pd\n",
    "file_path = \"./ref/청소년정신건강2023.csv\"\n",
    "ori = pd.read_csv(file_path)\n",
    "ori"
   ]
  },
  {
   "cell_type": "code",
   "execution_count": 13,
   "id": "3a9bc43e-8247-4edb-82a8-ff66042c83d0",
   "metadata": {},
   "outputs": [
    {
     "data": {
      "text/html": [
       "<div>\n",
       "<style scoped>\n",
       "    .dataframe tbody tr th:only-of-type {\n",
       "        vertical-align: middle;\n",
       "    }\n",
       "\n",
       "    .dataframe tbody tr th {\n",
       "        vertical-align: top;\n",
       "    }\n",
       "\n",
       "    .dataframe thead th {\n",
       "        text-align: right;\n",
       "    }\n",
       "</style>\n",
       "<table border=\"1\" class=\"dataframe\">\n",
       "  <thead>\n",
       "    <tr style=\"text-align: right;\">\n",
       "      <th></th>\n",
       "      <th>시점</th>\n",
       "      <th>스트레스</th>\n",
       "      <th>스트레스남학생</th>\n",
       "      <th>스트레스여학생</th>\n",
       "      <th>우울감경험율</th>\n",
       "      <th>우울남학생</th>\n",
       "      <th>우울여학생</th>\n",
       "      <th>자살생각율</th>\n",
       "      <th>자살남학생</th>\n",
       "      <th>자살여학생</th>\n",
       "    </tr>\n",
       "  </thead>\n",
       "  <tbody>\n",
       "    <tr>\n",
       "      <th>0</th>\n",
       "      <td>시점</td>\n",
       "      <td>전체</td>\n",
       "      <td>남학생</td>\n",
       "      <td>여학생</td>\n",
       "      <td>전체</td>\n",
       "      <td>남학생</td>\n",
       "      <td>여학생</td>\n",
       "      <td>전체</td>\n",
       "      <td>남학생</td>\n",
       "      <td>여학생</td>\n",
       "    </tr>\n",
       "    <tr>\n",
       "      <th>1</th>\n",
       "      <td>2023</td>\n",
       "      <td>39.6</td>\n",
       "      <td>33.4</td>\n",
       "      <td>46.2</td>\n",
       "      <td>27.5</td>\n",
       "      <td>23.3</td>\n",
       "      <td>32.0</td>\n",
       "      <td>14.5</td>\n",
       "      <td>10.5</td>\n",
       "      <td>18.9</td>\n",
       "    </tr>\n",
       "  </tbody>\n",
       "</table>\n",
       "</div>"
      ],
      "text/plain": [
       "     시점  스트레스 스트레스남학생 스트레스여학생 우울감경험율 우울남학생 우울여학생 자살생각율 자살남학생 자살여학생\n",
       "0    시점    전체     남학생     여학생     전체   남학생   여학생    전체   남학생   여학생\n",
       "1  2023  39.6    33.4    46.2   27.5  23.3  32.0  14.5  10.5  18.9"
      ]
     },
     "execution_count": 13,
     "metadata": {},
     "output_type": "execute_result"
    }
   ],
   "source": [
    "# 컬럼명 지정\n",
    "new_name=['시점','스트레스','스트레스남학생','스트레스여학생','우울감경험율','우울남학생','우울여학생','자살생각율','자살남학생','자살여학생']\n",
    "ori.columns=new_name\n",
    "ori"
   ]
  },
  {
   "cell_type": "code",
   "execution_count": 14,
   "id": "bd9d4b02-fd85-4e47-8c68-a7817b94ec52",
   "metadata": {},
   "outputs": [
    {
     "data": {
      "text/html": [
       "<div>\n",
       "<style scoped>\n",
       "    .dataframe tbody tr th:only-of-type {\n",
       "        vertical-align: middle;\n",
       "    }\n",
       "\n",
       "    .dataframe tbody tr th {\n",
       "        vertical-align: top;\n",
       "    }\n",
       "\n",
       "    .dataframe thead th {\n",
       "        text-align: right;\n",
       "    }\n",
       "</style>\n",
       "<table border=\"1\" class=\"dataframe\">\n",
       "  <thead>\n",
       "    <tr style=\"text-align: right;\">\n",
       "      <th></th>\n",
       "      <th>스트레스</th>\n",
       "      <th>스트레스남학생</th>\n",
       "      <th>스트레스여학생</th>\n",
       "      <th>우울감경험율</th>\n",
       "      <th>우울남학생</th>\n",
       "      <th>우울여학생</th>\n",
       "      <th>자살생각율</th>\n",
       "      <th>자살남학생</th>\n",
       "      <th>자살여학생</th>\n",
       "    </tr>\n",
       "  </thead>\n",
       "  <tbody>\n",
       "    <tr>\n",
       "      <th>1</th>\n",
       "      <td>39.6</td>\n",
       "      <td>33.4</td>\n",
       "      <td>46.2</td>\n",
       "      <td>27.5</td>\n",
       "      <td>23.3</td>\n",
       "      <td>32.0</td>\n",
       "      <td>14.5</td>\n",
       "      <td>10.5</td>\n",
       "      <td>18.9</td>\n",
       "    </tr>\n",
       "  </tbody>\n",
       "</table>\n",
       "</div>"
      ],
      "text/plain": [
       "   스트레스 스트레스남학생 스트레스여학생 우울감경험율 우울남학생 우울여학생 자살생각율 자살남학생 자살여학생\n",
       "1  39.6    33.4    46.2   27.5  23.3  32.0  14.5  10.5  18.9"
      ]
     },
     "execution_count": 14,
     "metadata": {},
     "output_type": "execute_result"
    }
   ],
   "source": [
    "# 시점을 없애고,0번 행도 없앰\n",
    "ori=ori.loc[1:,'스트레스':]\n",
    "ori"
   ]
  },
  {
   "cell_type": "code",
   "execution_count": 15,
   "id": "0979e1b9-9489-42f5-acc1-fefc3bf2980b",
   "metadata": {},
   "outputs": [
    {
     "data": {
      "text/html": [
       "<div>\n",
       "<style scoped>\n",
       "    .dataframe tbody tr th:only-of-type {\n",
       "        vertical-align: middle;\n",
       "    }\n",
       "\n",
       "    .dataframe tbody tr th {\n",
       "        vertical-align: top;\n",
       "    }\n",
       "\n",
       "    .dataframe thead th {\n",
       "        text-align: right;\n",
       "    }\n",
       "</style>\n",
       "<table border=\"1\" class=\"dataframe\">\n",
       "  <thead>\n",
       "    <tr style=\"text-align: right;\">\n",
       "      <th></th>\n",
       "      <th>스트레스</th>\n",
       "      <th>스트레스남학생</th>\n",
       "      <th>스트레스여학생</th>\n",
       "      <th>우울감경험율</th>\n",
       "      <th>우울남학생</th>\n",
       "      <th>우울여학생</th>\n",
       "      <th>자살생각율</th>\n",
       "      <th>자살남학생</th>\n",
       "      <th>자살여학생</th>\n",
       "      <th>응답</th>\n",
       "    </tr>\n",
       "  </thead>\n",
       "  <tbody>\n",
       "    <tr>\n",
       "      <th>1</th>\n",
       "      <td>39.6</td>\n",
       "      <td>33.4</td>\n",
       "      <td>46.2</td>\n",
       "      <td>27.5</td>\n",
       "      <td>23.3</td>\n",
       "      <td>32.0</td>\n",
       "      <td>14.5</td>\n",
       "      <td>10.5</td>\n",
       "      <td>18.9</td>\n",
       "      <td>그렇다</td>\n",
       "    </tr>\n",
       "    <tr>\n",
       "      <th>2</th>\n",
       "      <td>60.4</td>\n",
       "      <td>66.6</td>\n",
       "      <td>53.8</td>\n",
       "      <td>72.5</td>\n",
       "      <td>76.7</td>\n",
       "      <td>68.0</td>\n",
       "      <td>85.5</td>\n",
       "      <td>89.5</td>\n",
       "      <td>81.1</td>\n",
       "      <td>아니다</td>\n",
       "    </tr>\n",
       "  </tbody>\n",
       "</table>\n",
       "</div>"
      ],
      "text/plain": [
       "   스트레스 스트레스남학생 스트레스여학생 우울감경험율 우울남학생 우울여학생 자살생각율 자살남학생 자살여학생   응답\n",
       "1  39.6    33.4    46.2   27.5  23.3  32.0  14.5  10.5  18.9  그렇다\n",
       "2  60.4    66.6    53.8   72.5  76.7  68.0  85.5  89.5  81.1  아니다"
      ]
     },
     "execution_count": 15,
     "metadata": {},
     "output_type": "execute_result"
    }
   ],
   "source": [
    "# 2번 인덱스 행을 생성, 100에서 값을 뺸 값\n",
    "ori.loc[2]=100-ori.loc[1,'스트레스':].astype(float)\n",
    "# 마지막에 응답컬럼을 생성, 그렇다 or 아니다\n",
    "ori['응답']=['그렇다','아니다']\n",
    "ori"
   ]
  },
  {
   "cell_type": "code",
   "execution_count": 16,
   "id": "6a9e43aa-6e47-4406-afb9-9b2cb95bb6e2",
   "metadata": {},
   "outputs": [
    {
     "data": {
      "text/html": [
       "<div>\n",
       "<style scoped>\n",
       "    .dataframe tbody tr th:only-of-type {\n",
       "        vertical-align: middle;\n",
       "    }\n",
       "\n",
       "    .dataframe tbody tr th {\n",
       "        vertical-align: top;\n",
       "    }\n",
       "\n",
       "    .dataframe thead th {\n",
       "        text-align: right;\n",
       "    }\n",
       "</style>\n",
       "<table border=\"1\" class=\"dataframe\">\n",
       "  <thead>\n",
       "    <tr style=\"text-align: right;\">\n",
       "      <th></th>\n",
       "      <th>스트레스</th>\n",
       "      <th>스트레스남학생</th>\n",
       "      <th>스트레스여학생</th>\n",
       "      <th>우울감경험율</th>\n",
       "      <th>우울남학생</th>\n",
       "      <th>우울여학생</th>\n",
       "      <th>자살생각율</th>\n",
       "      <th>자살남학생</th>\n",
       "      <th>자살여학생</th>\n",
       "    </tr>\n",
       "    <tr>\n",
       "      <th>응답</th>\n",
       "      <th></th>\n",
       "      <th></th>\n",
       "      <th></th>\n",
       "      <th></th>\n",
       "      <th></th>\n",
       "      <th></th>\n",
       "      <th></th>\n",
       "      <th></th>\n",
       "      <th></th>\n",
       "    </tr>\n",
       "  </thead>\n",
       "  <tbody>\n",
       "    <tr>\n",
       "      <th>그렇다</th>\n",
       "      <td>39.6</td>\n",
       "      <td>33.4</td>\n",
       "      <td>46.2</td>\n",
       "      <td>27.5</td>\n",
       "      <td>23.3</td>\n",
       "      <td>32.0</td>\n",
       "      <td>14.5</td>\n",
       "      <td>10.5</td>\n",
       "      <td>18.9</td>\n",
       "    </tr>\n",
       "    <tr>\n",
       "      <th>아니다</th>\n",
       "      <td>60.4</td>\n",
       "      <td>66.6</td>\n",
       "      <td>53.8</td>\n",
       "      <td>72.5</td>\n",
       "      <td>76.7</td>\n",
       "      <td>68.0</td>\n",
       "      <td>85.5</td>\n",
       "      <td>89.5</td>\n",
       "      <td>81.1</td>\n",
       "    </tr>\n",
       "  </tbody>\n",
       "</table>\n",
       "</div>"
      ],
      "text/plain": [
       "     스트레스 스트레스남학생 스트레스여학생 우울감경험율 우울남학생 우울여학생 자살생각율 자살남학생 자살여학생\n",
       "응답                                                            \n",
       "그렇다  39.6    33.4    46.2   27.5  23.3  32.0  14.5  10.5  18.9\n",
       "아니다  60.4    66.6    53.8   72.5  76.7  68.0  85.5  89.5  81.1"
      ]
     },
     "execution_count": 16,
     "metadata": {},
     "output_type": "execute_result"
    }
   ],
   "source": [
    "ori=ori.set_index('응답')\n",
    "ori"
   ]
  },
  {
   "cell_type": "code",
   "execution_count": null,
   "id": "24039556-a1f7-44c6-9647-b716de3eb7fa",
   "metadata": {},
   "outputs": [],
   "source": [
    "# OS에 사용가능한, 설치된 폰트를 나열\n",
    "import matplotlib \n",
    "import matplotlib.pyplot as plt\n",
    "from matplotlib import rc\n",
    "import matplotlib.font_manager as fm\n",
    "fontlist=fm.findSystemFonts(fontpaths=None, fontext='ttf')\n",
    "fontlist"
   ]
  },
  {
   "cell_type": "code",
   "execution_count": 18,
   "id": "843e3b26-25d7-4c9a-a55b-c452495d7c5a",
   "metadata": {},
   "outputs": [],
   "source": [
    "# 윈도우용 폰트 경로 설정\n",
    "# path=\"C:\\\\Windows\\\\Fonts\\\\NanumGothic.ttf\"\n",
    "# font_name = fm.FontProperties(fname=path).get_name()\n",
    "# rc('font',family=font_name)"
   ]
  },
  {
   "cell_type": "code",
   "execution_count": 19,
   "id": "fffdd50d-6561-4d88-a7b6-b89683a8db70",
   "metadata": {},
   "outputs": [
    {
     "data": {
      "text/plain": [
       "<Axes: ylabel='스트레스'>"
      ]
     },
     "execution_count": 19,
     "metadata": {},
     "output_type": "execute_result"
    },
    {
     "data": {
      "image/png": "[encoded data removed]",
      "text/plain": [
       "<Figure size 640x480 with 1 Axes>"
      ]
     },
     "metadata": {},
     "output_type": "display_data"
    }
   ],
   "source": [
    "ori['스트레스'].astype(float).plot.pie(explode=[0,0.02])"
   ]
  },
  {
   "cell_type": "code",
   "execution_count": 20,
   "id": "05472b35-a9dc-4f09-9d7b-e8c63a9366e3",
   "metadata": {},
   "outputs": [
    {
     "data": {
      "image/png": "[encoded data removed]",
      "text/plain": [
       "<Figure size 1000x800 with 6 Axes>"
      ]
     },
     "metadata": {},
     "output_type": "display_data"
    }
   ],
   "source": [
    "import matplotlib.pyplot as plt\n",
    "\n",
    "columns = ['스트레스', '우울감경험율', '자살생각율']\n",
    "titles = ['스트레스를 받은적 있다.', '우울증을 경험한적 있다.', '자살을 고민한 적이 있다.']\n",
    "\n",
    "fig, ax = plt.subplots(2, 3, figsize=(10, 8))\n",
    "\n",
    "for i, col in enumerate(columns):\n",
    "    ori[col].astype(float).plot.pie(\n",
    "        explode=[0, 0.05], ax=ax[1][i], autopct=\"%.1f%%\")\n",
    "    ax[1][i].set_title(titles[i])\n",
    "    ax[1][i].set_ylabel('')\n",
    "\n",
    "plt.suptitle('2023년 청소년 정신 건강 관련 통계')\n",
    "plt.show()"
   ]
  },
  {
   "cell_type": "code",
   "execution_count": 21,
   "id": "20a2bf6f-1fe1-435a-8d8b-4ba9f4ca2f15",
   "metadata": {},
   "outputs": [
    {
     "data": {
      "text/html": [
       "<div>\n",
       "<style scoped>\n",
       "    .dataframe tbody tr th:only-of-type {\n",
       "        vertical-align: middle;\n",
       "    }\n",
       "\n",
       "    .dataframe tbody tr th {\n",
       "        vertical-align: top;\n",
       "    }\n",
       "\n",
       "    .dataframe thead th {\n",
       "        text-align: right;\n",
       "    }\n",
       "</style>\n",
       "<table border=\"1\" class=\"dataframe\">\n",
       "  <thead>\n",
       "    <tr style=\"text-align: right;\">\n",
       "      <th></th>\n",
       "      <th>시점</th>\n",
       "      <th>특성별(1)</th>\n",
       "      <th>학업문제(학업부담 성적 등) (%)</th>\n",
       "      <th>가족 간의 갈등(가정폭력이나 학대 등) (%)</th>\n",
       "      <th>선후배나 또래와의 갈등(학교폭력 등) (%)</th>\n",
       "      <th>경제적인 어려움 (%)</th>\n",
       "      <th>미래(진로)에 대한 불안 (%)</th>\n",
       "      <th>심리적 불안이나 우울 (%)</th>\n",
       "      <th>기타 (%)</th>\n",
       "    </tr>\n",
       "  </thead>\n",
       "  <tbody>\n",
       "    <tr>\n",
       "      <th>0</th>\n",
       "      <td>2021</td>\n",
       "      <td>전체</td>\n",
       "      <td>4.7</td>\n",
       "      <td>26.3</td>\n",
       "      <td>7.0</td>\n",
       "      <td>3.2</td>\n",
       "      <td>6.2</td>\n",
       "      <td>48.4</td>\n",
       "      <td>4.2</td>\n",
       "    </tr>\n",
       "  </tbody>\n",
       "</table>\n",
       "</div>"
      ],
      "text/plain": [
       "     시점 특성별(1)  학업문제(학업부담 성적 등) (%)  가족 간의 갈등(가정폭력이나 학대 등) (%)  \\\n",
       "0  2021     전체                  4.7                       26.3   \n",
       "\n",
       "   선후배나 또래와의 갈등(학교폭력 등) (%)  경제적인 어려움 (%)  미래(진로)에 대한 불안 (%)  심리적 불안이나 우울 (%)  \\\n",
       "0                       7.0           3.2                6.2             48.4   \n",
       "\n",
       "   기타 (%)  \n",
       "0     4.2  "
      ]
     },
     "execution_count": 21,
     "metadata": {},
     "output_type": "execute_result"
    }
   ],
   "source": [
    "import pandas as pd\n",
    "file_path = \"./ref/죽고싶다고생각한가장큰이유.csv\"\n",
    "ori = pd.read_csv(file_path,encoding=\"EUC-KR\")\n",
    "ori"
   ]
  },
  {
   "cell_type": "code",
   "execution_count": null,
   "id": "671d411b-fc42-4641-8a42-0fe4f54f9600",
   "metadata": {},
   "outputs": [],
   "source": [
    "ori=ori.loc[0:,'학업문제':]\n",
    "ori"
   ]
  },
  {
   "cell_type": "markdown",
   "id": "1f927f32-554c-4639-bcc9-7cdefebf07fa",
   "metadata": {},
   "source": [
    "<h1>청소년 스트레스 경험 통계 분석</h1>\n",
    "스트레스 경험 비율: 39.6%<br>\n",
    "우울증 경험 비율: 27.5%<br>\n",
    "자살을 고민한 비율: 14.5%<br>\n",
    "\n",
    "\n",
    "스트레스 경험 비율이 높은 것은 현대 청소년들이 겪는 압박과 부담이 상당하다는 걸 보여주고 있으며, 우울증과 자살에 대한 고민 역시 가볍게 볼 수 없는 문제입니다."
   ]
  },
  {
   "cell_type": "markdown",
   "id": "24c8bd51-10d9-409e-9e94-a37d2a68de8a",
   "metadata": {},
   "source": [
    "<h3>가장 큰 요인은 심리적 불안과 우울(48.4%)이며, 우울증 경험 비율(27.5%)과 밀접하게 연관되어 있습니다. 청소년들이 건강하게 성장할 수 있도록 예방 교육이나 정신 건강 상담의 접근성을 높이고, 국가적 차원의 지속 가능한 지원책 마련 필요합니다.</h3>"
   ]
  }
 ],
 "metadata": {
  "kernelspec": {
   "display_name": "Python 3 (ipykernel)",
   "language": "python",
   "name": "python3"
  },
  "language_info": {
   "codemirror_mode": {
    "name": "ipython",
    "version": 3
   },
   "file_extension": ".py",
   "mimetype": "text/x-python",
   "name": "python",
   "nbconvert_exporter": "python",
   "pygments_lexer": "ipython3",
   "version": "3.10.12"
  }
 },
 "nbformat": 4,
 "nbformat_minor": 5
}
