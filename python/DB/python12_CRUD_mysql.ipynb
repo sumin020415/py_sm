{
 "cells": [
  {
   "cell_type": "code",
   "execution_count": 1,
   "id": "8ee2a6da-86f0-403a-9451-87f9a107026e",
   "metadata": {},
   "outputs": [
    {
     "name": "stdout",
     "output_type": "stream",
     "text": [
      "Defaulting to user installation because normal site-packages is not writeable\n",
      "Collecting mysql-connector-python\n",
      "  Downloading mysql_connector_python-9.2.0-cp310-cp310-manylinux_2_28_x86_64.whl.metadata (6.0 kB)\n",
      "Downloading mysql_connector_python-9.2.0-cp310-cp310-manylinux_2_28_x86_64.whl (33.9 MB)\n",
      "\u001b[2K   \u001b[90m━━━━━━━━━━━━━━━━━━━━━━━━━━━━━━━━━━━━━━━━\u001b[0m \u001b[32m33.9/33.9 MB\u001b[0m \u001b[31m42.9 MB/s\u001b[0m eta \u001b[36m0:00:00\u001b[0m00:01\u001b[0m00:01\u001b[0m\n",
      "\u001b[?25hInstalling collected packages: mysql-connector-python\n",
      "Successfully installed mysql-connector-python-9.2.0\n",
      "Note: you may need to restart the kernel to use updated packages.\n"
     ]
    }
   ],
   "source": [
    "pip install mysql-connector-python"
   ]
  },
  {
   "cell_type": "code",
   "execution_count": 1,
   "id": "33e76b98-0dc5-4575-84af-ba8422dfc63e",
   "metadata": {},
   "outputs": [
    {
     "name": "stdout",
     "output_type": "stream",
     "text": [
      "MySQL 서버에 성공적으로 연결되었습니다.\n",
      "연결중..\n"
     ]
    }
   ],
   "source": [
    "import mysql.connector\n",
    "\n",
    "try:\n",
    "    conn = mysql.connector.connect(\n",
    "        host=\"mysql\",  # MySQL 서버주소\n",
    "        user=\"root\",\n",
    "        password=\"1234\"\n",
    "    )\n",
    "    if conn.is_connected():\n",
    "        print(\"MySQL 서버에 성공적으로 연결되었습니다.\")\n",
    "except mywql.connector.Error as err:\n",
    "    print(\"MySQL 연결실패\", err)\n",
    "finally:\n",
    "    if conn.is_connected():\n",
    "        print(\"연결중..\")"
   ]
  },
  {
   "cell_type": "code",
   "execution_count": 3,
   "id": "55e6a6f1-c7e8-4675-ba68-7b02250453ec",
   "metadata": {},
   "outputs": [],
   "source": [
    "# 커서 생성\n",
    "cursor = conn.cursor()\n",
    "que = \"CREATE DATABASE IF NOT EXISTS judb\"\n",
    "cursor.execute(que)\n",
    "conn.close()"
   ]
  },
  {
   "cell_type": "code",
   "execution_count": 4,
   "id": "f99b7f00-ef26-4d73-b3f7-22bf0a3890dc",
   "metadata": {},
   "outputs": [
    {
     "name": "stdout",
     "output_type": "stream",
     "text": [
      "MySQL 서버에 성공적으로 연결되었습니다.\n"
     ]
    }
   ],
   "source": [
    "# MySQL에 연결\n",
    "conn = mysql.connector.connect(\n",
    "        host=\"mysql\",  # MySQL 서버주소\n",
    "        user=\"root\",\n",
    "        password=\"1234\",\n",
    "        database = \"judb\"  # 사용할 데이터베이스 / DB없으면 에러\n",
    "    )\n",
    "cursor = conn.cursor()\n",
    "print(\"MySQL 서버에 성공적으로 연결되었습니다.\")"
   ]
  },
  {
   "cell_type": "code",
   "execution_count": 5,
   "id": "095b8b6f-27f1-4cf1-813c-1a6c7f8718cb",
   "metadata": {},
   "outputs": [
    {
     "name": "stdout",
     "output_type": "stream",
     "text": [
      "테이블 생성완료\n"
     ]
    }
   ],
   "source": [
    "# 테이블 생성\n",
    "query = \"CREATE TABLE IF NOT EXISTS users(id INT AUTO_INCREMENT PRIMARY KEY ,name VARCHAR(50), age INT, city VARCHAR(50))\"\n",
    "# IF NOT EXISTS = 제약쿼리 (해당 테이블이 없다면)\n",
    "cursor.execute(query)\n",
    "print(\"테이블 생성완료\")"
   ]
  },
  {
   "attachments": {
    "45c593f1-fd19-4bfb-a6d2-671dd17420fc.png": {
     "image/png": "[encoded data removed]"
    }
   },
   "cell_type": "markdown",
   "id": "f7c84bb2-724f-4b5f-8c94-c4864c8fb34f",
   "metadata": {},
   "source": [
    "![image.png](attachment:45c593f1-fd19-4bfb-a6d2-671dd17420fc.png)"
   ]
  },
  {
   "cell_type": "code",
   "execution_count": 7,
   "id": "c78c1f38-5e99-458e-ac1f-3370f3e54f12",
   "metadata": {},
   "outputs": [
    {
     "name": "stdout",
     "output_type": "stream",
     "text": [
      "1개의 데이터를 삽입하였습니다, ID :  1\n"
     ]
    }
   ],
   "source": [
    "# 단일데이터 삽입\n",
    "sql = \"INSERT INTO users (name, age, city) VALUES (%s, %s, %s)\"\n",
    "values = (\"Alice\", 25, \"Seoul\")\n",
    "cursor.execute(sql, values)\n",
    "conn.commit()\n",
    "print(\"1개의 데이터를 삽입하였습니다, ID : \", cursor.lastrowid)"
   ]
  },
  {
   "attachments": {
    "5c2353ed-d6e8-4b59-811f-1d8e83319687.png": {
     "image/png": "[encoded data removed]"
    }
   },
   "cell_type": "markdown",
   "id": "cd3cb94d-d520-4d14-9acd-6330b78e06ae",
   "metadata": {},
   "source": [
    "![image.png](attachment:5c2353ed-d6e8-4b59-811f-1d8e83319687.png)"
   ]
  },
  {
   "cell_type": "code",
   "execution_count": 8,
   "id": "cf05e858-c903-43c8-b4c4-fc65f355cecd",
   "metadata": {},
   "outputs": [
    {
     "name": "stdout",
     "output_type": "stream",
     "text": [
      "여러개의 데이터를 삽입하였습니다\n"
     ]
    }
   ],
   "source": [
    "# 여러개의 데이터 삽입\n",
    "m_values = [(\"Superman\", 33, \"Busan\"),(\"Cutegirl\", 17, \"Incheon\"),(\"Coolboy\", 22, \"Jeju\")]\n",
    "cursor.executemany(sql, m_values)\n",
    "conn.commit()\n",
    "print(\"여러개의 데이터를 삽입하였습니다\")"
   ]
  },
  {
   "attachments": {
    "1adba21b-3012-4810-8bc3-f99b12794159.png": {
     "image/png": "[encoded data removed]"
    }
   },
   "cell_type": "markdown",
   "id": "ba4ec988-92db-4dde-9676-2ab963396a8a",
   "metadata": {},
   "source": [
    "![image.png](attachment:1adba21b-3012-4810-8bc3-f99b12794159.png)"
   ]
  },
  {
   "cell_type": "code",
   "execution_count": 12,
   "id": "41c06f58-8f93-4cfd-9ab0-3d70e6b34b57",
   "metadata": {},
   "outputs": [],
   "source": [
    "# 모든 데이터 조회\n",
    "que = \"SELECT * FROM users\"\n",
    "cursor.execute(que)\n",
    "users = cursor.fetchall()"
   ]
  },
  {
   "cell_type": "code",
   "execution_count": 13,
   "id": "4878c0f6-c6fb-4320-bb73-35c79551eaa1",
   "metadata": {},
   "outputs": [
    {
     "name": "stdout",
     "output_type": "stream",
     "text": [
      "[(1, 'Alice', 25, 'Seoul'), (2, 'Superman', 33, 'Busan'), (3, 'Cutegirl', 17, 'Incheon'), (4, 'Coolboy', 22, 'Jeju')]\n"
     ]
    }
   ],
   "source": [
    "print(users)"
   ]
  },
  {
   "cell_type": "code",
   "execution_count": 14,
   "id": "3e80e54c-1085-4d2d-8a57-3b003056e6d9",
   "metadata": {},
   "outputs": [
    {
     "name": "stdout",
     "output_type": "stream",
     "text": [
      "(1, 'Alice', 25, 'Seoul')\n",
      "(2, 'Superman', 33, 'Busan')\n",
      "(3, 'Cutegirl', 17, 'Incheon')\n",
      "(4, 'Coolboy', 22, 'Jeju')\n"
     ]
    }
   ],
   "source": [
    "for user in users:\n",
    "    print(user)"
   ]
  },
  {
   "cell_type": "code",
   "execution_count": 15,
   "id": "b686b980-fe88-48c9-92e7-7b8bb636fd7f",
   "metadata": {},
   "outputs": [
    {
     "name": "stdout",
     "output_type": "stream",
     "text": [
      "(1, 'Alice', 25, 'Seoul')\n",
      "(2, 'Superman', 33, 'Busan')\n"
     ]
    }
   ],
   "source": [
    "# 특정 조건 데이터 조회 / 24세 이상\n",
    "que = \"SELECT * FROM users\"\n",
    "filters = \" WHERE age >= 24\"\n",
    "cursor.execute(que+filters)\n",
    "\n",
    "filtered = cursor.fetchall()\n",
    "for f in filtered:\n",
    "    print(f)"
   ]
  },
  {
   "cell_type": "code",
   "execution_count": 17,
   "id": "4c7930cf-3e6d-443e-b82e-99221133f629",
   "metadata": {},
   "outputs": [
    {
     "name": "stdout",
     "output_type": "stream",
     "text": [
      "수정된 행 개수: 1\n"
     ]
    }
   ],
   "source": [
    "# 특정 사용자의 나이 수정\n",
    "sql = \"UPDATE users SET age = %s WHERE name = %s\"\n",
    "values = (29, \"Alice\")\n",
    "cursor.execute(sql, values)\n",
    "conn.commit()\n",
    "print(\"수정된 행 개수:\", cursor.rowcount)"
   ]
  },
  {
   "attachments": {
    "80b91bcb-6c56-4fff-a33f-927be6aaa3be.png": {
     "image/png": "[encoded data removed]"
    }
   },
   "cell_type": "markdown",
   "id": "e20abca7-c1c7-4b1e-95cc-dcd207e31fb7",
   "metadata": {},
   "source": [
    "![image.png](attachment:80b91bcb-6c56-4fff-a33f-927be6aaa3be.png)"
   ]
  },
  {
   "cell_type": "code",
   "execution_count": 21,
   "id": "4a789aa7-cf02-4e19-a72b-11a852f9ed40",
   "metadata": {},
   "outputs": [
    {
     "name": "stdout",
     "output_type": "stream",
     "text": [
      "('jeju',)에 해당하는 목록을 삭제하였습니다.\n"
     ]
    }
   ],
   "source": [
    "# 특정 조건 사용자 삭제\n",
    "que = \"DELETE FROM users WHERE age > %s AND city = %s\"\n",
    "filters = (20 , \"jeju\")\n",
    "cursor.execute(que, filters)\n",
    "conn.commit()\n",
    "print(f\"{filters}에 해당하는 목록을 삭제하였습니다.\")"
   ]
  },
  {
   "attachments": {
    "b6ad5cf2-7d84-4454-bf97-c5436d24ad8c.png": {
     "image/png": "[encoded data removed]"
    }
   },
   "cell_type": "markdown",
   "id": "9c7718b0-44f2-4d0f-8c81-2bf0c4a00d75",
   "metadata": {},
   "source": [
    "![image.png](attachment:b6ad5cf2-7d84-4454-bf97-c5436d24ad8c.png)"
   ]
  }
 ],
 "metadata": {
  "kernelspec": {
   "display_name": "Python 3 (ipykernel)",
   "language": "python",
   "name": "python3"
  },
  "language_info": {
   "codemirror_mode": {
    "name": "ipython",
    "version": 3
   },
   "file_extension": ".py",
   "mimetype": "text/x-python",
   "name": "python",
   "nbconvert_exporter": "python",
   "pygments_lexer": "ipython3",
   "version": "3.10.12"
  }
 },
 "nbformat": 4,
 "nbformat_minor": 5
}
