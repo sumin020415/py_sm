{
 "cells": [
  {
   "cell_type": "markdown",
   "id": "3024a8d9-54ff-4b38-8879-09c7fd69c3d4",
   "metadata": {},
   "source": [
    "<h1> 개인과제 </h1>\n",
    "<h2> 주피터랩에서 데이터를 입력받으면 3가지 DB에 동시에 CRUD 가 되는 시스템을 만들어라 .</h2>\n",
    "<h3> 예) input을 이용하여 <이름:> 홍길동 (엔터), <나이> 33 (엔터), <주소> 해운대구 (엔터)</h3>\n",
    "<h3>입력하고, 데이터를 검색하고, 이름을 고르고 수정하고, 삭제 가능하게 만들것</h3>"
   ]
  },
  {
   "cell_type": "code",
   "execution_count": null,
   "id": "2bbdb27f-bef4-4d3b-b45b-53ac2e975bf5",
   "metadata": {},
   "outputs": [
    {
     "name": "stdout",
     "output_type": "stream",
     "text": [
      "\n",
      "    1. 데이터 등록\n",
      "    2. 데이터 읽기\n",
      "    3. 데이터 수정\n",
      "    4. 데이터 삭제\n",
      "    5. 종료\n",
      "    고르세요.\n",
      "    \n"
     ]
    }
   ],
   "source": [
    "str = \"\"\"\n",
    "    1. 데이터 등록\n",
    "    2. 데이터 읽기\n",
    "    3. 데이터 수정\n",
    "    4. 데이터 삭제\n",
    "    5. 종료\n",
    "    고르세요.\n",
    "    \"\"\"\n",
    "while True:\n",
    "    print(str)\n",
    "    inp = input(\"선택하세요: \")\n",
    "    print(inp,'고르셨네요.')\n",
    "    # 데이터 등록\n",
    "    if inp == '1':\n",
    "        inp1 = input(\"이름을 입력하세요\")\n",
    "        inp2 = input(\"나이를 입력하세요\")\n",
    "        inp3 = input(\"주소를 입력하세요\")\n",
    "        print(inp1,inp2,inp3)\n",
    "    # 데이터 읽기\n",
    "    if inp == '2': pass\n",
    "    if inp == '3': pass\n",
    "    if inp == '4': pass\n",
    "    if inp == '5':\n",
    "        print(\"좋료합니다.\")\n",
    "        break"
   ]
  }
 ],
 "metadata": {
  "kernelspec": {
   "display_name": "Python 3 (ipykernel)",
   "language": "python",
   "name": "python3"
  },
  "language_info": {
   "codemirror_mode": {
    "name": "ipython",
    "version": 3
   },
   "file_extension": ".py",
   "mimetype": "text/x-python",
   "name": "python",
   "nbconvert_exporter": "python",
   "pygments_lexer": "ipython3",
   "version": "3.10.12"
  }
 },
 "nbformat": 4,
 "nbformat_minor": 5
}
