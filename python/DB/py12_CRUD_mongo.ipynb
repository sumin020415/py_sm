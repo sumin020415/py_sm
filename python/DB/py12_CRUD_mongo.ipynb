{
 "cells": [
  {
   "cell_type": "code",
   "execution_count": 2,
   "id": "3a2ada7d-4667-457b-b195-78ca44e5736c",
   "metadata": {},
   "outputs": [],
   "source": [
    "# !pip install pymongo"
   ]
  },
  {
   "cell_type": "code",
   "execution_count": 34,
   "id": "98cbde8d-b0a8-4f21-8b54-064b88974e7e",
   "metadata": {},
   "outputs": [
    {
     "name": "stdout",
     "output_type": "stream",
     "text": [
      "{'ok': 1.0}\n",
      "MongoDB 서버에 성공적으로 연결되었습니다.\n"
     ]
    }
   ],
   "source": [
    "from pymongo import MongoClient\n",
    "client = MongoClient(\"mongodb://mongodb:27017\")\n",
    "\n",
    "try:\n",
    "    print(client.admin.command('ping'))\n",
    "    print(\"MongoDB 서버에 성공적으로 연결되었습니다.\")\n",
    "except Exception as e:\n",
    "    print(\"MongoDB 서버 연결 실패:\", e)"
   ]
  },
  {
   "cell_type": "code",
   "execution_count": 35,
   "id": "6976069e-a907-4953-a195-5700faf85f7e",
   "metadata": {},
   "outputs": [
    {
     "name": "stdout",
     "output_type": "stream",
     "text": [
      "사용할 데이터베이스 선택됨\n",
      "사용할 컬렉션 선택됨\n"
     ]
    }
   ],
   "source": [
    "# 사용할 데이터베이스 선택\n",
    "db = client[\"mdb\"]\n",
    "print(\"사용할 데이터베이스 선택됨\")\n",
    "\n",
    "# 사용할 컬랙션 선택\n",
    "collection = db[\"c1\"]\n",
    "print(\"사용할 컬렉션 선택됨\")"
   ]
  },
  {
   "cell_type": "code",
   "execution_count": 5,
   "id": "225484a2-182d-434c-a417-8b9cdad5610a",
   "metadata": {},
   "outputs": [
    {
     "name": "stdout",
     "output_type": "stream",
     "text": [
      "Inserted ID: InsertOneResult(ObjectId('67f5e4488a6fc194d55d05f9'), acknowledged=True)\n"
     ]
    }
   ],
   "source": [
    "# 단일 문서 삽입\n",
    "user = {\"name\":\"Alice\",\"age\":25,\"city\":\"Seoul\"}\n",
    "insert_result = collection.insert_one(user)\n",
    "print(\"Inserted ID:\",insert_result)"
   ]
  },
  {
   "cell_type": "code",
   "execution_count": 6,
   "id": "31388698-eaf1-4ac4-8142-07cb2442489c",
   "metadata": {
    "scrolled": true
   },
   "outputs": [
    {
     "name": "stdout",
     "output_type": "stream",
     "text": [
      "Inserted IDs: InsertManyResult([ObjectId('67f5e4538a6fc194d55d05fa'), ObjectId('67f5e4538a6fc194d55d05fb'), ObjectId('67f5e4538a6fc194d55d05fc')], acknowledged=True)\n"
     ]
    }
   ],
   "source": [
    "# 여러개 문서 삽입\n",
    "user = [\n",
    "    {\"name\":\"Bob\",\"age\":30,\"city\":\"Busan\"},\n",
    "    {\"name\":\"Char\",\"age\":35,\"city\":\"Incheon\"},\n",
    "    {\"name\":\"Apple\",\"age\":15,\"city\":\"Daegu\"}]\n",
    "insert_results = collection.insert_many(user)\n",
    "print(\"Inserted IDs:\",insert_results)"
   ]
  },
  {
   "cell_type": "code",
   "execution_count": 22,
   "id": "47736afd-a8fd-4131-8ccc-a223d4a0fb84",
   "metadata": {},
   "outputs": [
    {
     "name": "stdout",
     "output_type": "stream",
     "text": [
      "{'_id': ObjectId('67f5cb56727f60d8116b140d'), 'name': 'superman', 'etc': '힘쌤'}\n",
      "{'_id': ObjectId('67f5cbbc727f60d8116b140f'), 'name': 'cutegirl', 'age': 20}\n",
      "{'_id': ObjectId('67f5e4538a6fc194d55d05fa'), 'name': 'Bob', 'age': 30, 'city': 'Busan'}\n",
      "{'_id': ObjectId('67f5e4538a6fc194d55d05fb'), 'name': 'Char', 'age': 35, 'city': 'Incheon'}\n"
     ]
    }
   ],
   "source": [
    "# 여러개의 문서 조회\n",
    "users = collection.find()\n",
    "for u in users:\n",
    "    print(u)"
   ]
  },
  {
   "cell_type": "code",
   "execution_count": 7,
   "id": "ab9ee4ff-0ca7-4e00-b498-13d6245bdbb1",
   "metadata": {},
   "outputs": [
    {
     "name": "stdout",
     "output_type": "stream",
     "text": [
      "{'name': 'Apple', 'age': 15, 'city': 'Daegu'}\n"
     ]
    }
   ],
   "source": [
    "# 단일 문서 조회\n",
    "user = collection.find_one({\"name\":\"Apple\"},{\"_id\":0})\n",
    "print(user)"
   ]
  },
  {
   "cell_type": "code",
   "execution_count": 11,
   "id": "024cf000-07a3-40a4-a2bc-097129369e4e",
   "metadata": {},
   "outputs": [
    {
     "name": "stdout",
     "output_type": "stream",
     "text": [
      "{'name': '', 'age': 22, 'etc': '아버지부르지못함'}\n",
      "{'name': 'hong', 'age': 22, 'etc': '아버지부르지못함'}\n",
      "{'name': 'Alice', 'age': 26, 'city': 'Seoul'}\n",
      "{'name': 'Bob', 'age': 30, 'city': 'Busan'}\n",
      "{'name': 'Char', 'age': 35, 'city': 'Incheon'}\n"
     ]
    }
   ],
   "source": [
    "# 특정 조건을 만족하는 문서조회\n",
    "filters = {\"age\":{\"$gt\":20}}  # 나이가 20보다 큰 문서 찾기\n",
    "filtered = collection.find(filters,{\"_id\":0})\n",
    "for f in filtered:\n",
    "    print(f)"
   ]
  },
  {
   "cell_type": "code",
   "execution_count": 9,
   "id": "f5a0e06d-1871-49f0-bf17-049e144e82cf",
   "metadata": {},
   "outputs": [
    {
     "name": "stdout",
     "output_type": "stream",
     "text": [
      "수정됨:  UpdateResult({'n': 1, 'nModified': 1, 'ok': 1.0, 'updatedExisting': True}, acknowledged=True)\n"
     ]
    }
   ],
   "source": [
    "# 특정 문서 한 개 수정\n",
    "update = collection.update_one({\"name\":\"Alice\"},{\"$set\":{\"age\":26}})\n",
    "print(\"수정됨: \",update)"
   ]
  },
  {
   "cell_type": "code",
   "execution_count": 13,
   "id": "cbd3f8b3-94f8-4056-9d54-efdaf67d6f8e",
   "metadata": {},
   "outputs": [
    {
     "name": "stdout",
     "output_type": "stream",
     "text": [
      "수정됨:  UpdateResult({'n': 2, 'nModified': 2, 'ok': 1.0, 'updatedExisting': True}, acknowledged=True)\n"
     ]
    }
   ],
   "source": [
    "# 특정 문서 여러 개 수정\n",
    "updates = collection.update_many({\"name\":{\"$regex\":\"^A\"}},{\"$inc\":{\"age\":5}})  # A로 시작하는 이름은 5살 증가시켜라\n",
    "# updates = collection.update_many({\"name\":\"/^A/\"},{\"$inc\":{\"age\":5}})  # inc : 증가\n",
    "print(\"수정됨: \",updates)"
   ]
  },
  {
   "cell_type": "code",
   "execution_count": 15,
   "id": "bc9e8fa3-804b-4124-bcf5-490e3f752a99",
   "metadata": {},
   "outputs": [
    {
     "name": "stdout",
     "output_type": "stream",
     "text": [
      "DeleteResult({'n': 1, 'ok': 1.0}, acknowledged=True)\n"
     ]
    }
   ],
   "source": [
    "# 특정 문서 한 개 삭제\n",
    "delete = collection.delete_one({\"etc\":\"잘생김\"})\n",
    "print(delete)"
   ]
  },
  {
   "cell_type": "code",
   "execution_count": 21,
   "id": "c8180c18-ac99-4b58-b03c-b47e8e90fe47",
   "metadata": {},
   "outputs": [
    {
     "name": "stdout",
     "output_type": "stream",
     "text": [
      "DeleteResult({'n': 1, 'ok': 1.0}, acknowledged=True)\n"
     ]
    }
   ],
   "source": [
    "# 특정 문서 여러 개 삭제\n",
    "deletes = collection.delete_many({\"name\":{\"$regex\":\"e$\"}})  # 정규식으로 e로 끝나는 이름을 모두 삭제\n",
    "print(deletes)"
   ]
  },
  {
   "cell_type": "code",
   "execution_count": 30,
   "id": "8e31531c-c388-45c1-bc55-2aeb5d2fbe2b",
   "metadata": {},
   "outputs": [],
   "source": [
    "import json\n",
    "\n",
    "with open('./photos.json') as f:\n",
    "    data = json.load(f)"
   ]
  },
  {
   "cell_type": "code",
   "execution_count": 31,
   "id": "ba11ee76-61c3-4132-ac74-ceaf5bb32bb8",
   "metadata": {},
   "outputs": [
    {
     "name": "stdout",
     "output_type": "stream",
     "text": [
      "사용할 데이터베이스 선택됨\n",
      "사용할 컬렉션 선택됨\n"
     ]
    }
   ],
   "source": [
    "# 사용할 데이터베이스 선택\n",
    "db2 = client[\"jdb\"]\n",
    "print(\"사용할 데이터베이스 선택됨\")\n",
    "\n",
    "# 사용할 컬랙션 선택\n",
    "collection2 = db[\"j1\"]\n",
    "print(\"사용할 컬렉션 선택됨\")"
   ]
  },
  {
   "cell_type": "code",
   "execution_count": 32,
   "id": "41e20b25-d46a-4b47-8d3a-6d2c6d03721a",
   "metadata": {},
   "outputs": [
    {
     "name": "stdout",
     "output_type": "stream",
     "text": [
      "로드완료\n"
     ]
    }
   ],
   "source": [
    "collection2.insert_many(data)\n",
    "print(\"로드완료\")"
   ]
  },
  {
   "cell_type": "code",
   "execution_count": 36,
   "id": "d79d0451-8d3a-4532-9b57-b96a262e02fd",
   "metadata": {},
   "outputs": [
    {
     "ename": "KeyError",
     "evalue": "'url'",
     "output_type": "error",
     "traceback": [
      "\u001b[0;31m---------------------------------------------------------------------------\u001b[0m",
      "\u001b[0;31mKeyError\u001b[0m                                  Traceback (most recent call last)",
      "Cell \u001b[0;32mIn[36], line 3\u001b[0m\n\u001b[1;32m      1\u001b[0m out \u001b[38;5;241m=\u001b[39m collection2\u001b[38;5;241m.\u001b[39mfind({\u001b[38;5;124m'\u001b[39m\u001b[38;5;124mid\u001b[39m\u001b[38;5;124m'\u001b[39m: {\u001b[38;5;124m'\u001b[39m\u001b[38;5;124m$lte\u001b[39m\u001b[38;5;124m'\u001b[39m: \u001b[38;5;241m30\u001b[39m}})\n\u001b[1;32m      2\u001b[0m \u001b[38;5;28;01mfor\u001b[39;00m o \u001b[38;5;129;01min\u001b[39;00m out:\n\u001b[0;32m----> 3\u001b[0m     \u001b[38;5;28mprint\u001b[39m(\u001b[43mo\u001b[49m\u001b[43m[\u001b[49m\u001b[38;5;124;43m\"\u001b[39;49m\u001b[38;5;124;43murl\u001b[39;49m\u001b[38;5;124;43m\"\u001b[39;49m\u001b[43m]\u001b[49m)\n",
      "\u001b[0;31mKeyError\u001b[0m: 'url'"
     ]
    }
   ],
   "source": [
    "out = collection2.find({'id': {'$lte': 30}})\n",
    "for o in out:\n",
    "    print(o[\"url\"])"
   ]
  }
 ],
 "metadata": {
  "kernelspec": {
   "display_name": "Python 3 (ipykernel)",
   "language": "python",
   "name": "python3"
  },
  "language_info": {
   "codemirror_mode": {
    "name": "ipython",
    "version": 3
   },
   "file_extension": ".py",
   "mimetype": "text/x-python",
   "name": "python",
   "nbconvert_exporter": "python",
   "pygments_lexer": "ipython3",
   "version": "3.10.12"
  }
 },
 "nbformat": 4,
 "nbformat_minor": 5
}
