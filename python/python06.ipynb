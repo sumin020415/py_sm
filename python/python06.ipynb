{
 "cells": [
  {
   "cell_type": "markdown",
   "id": "29bce0ee-6c92-4d55-b100-6837b54755e0",
   "metadata": {},
   "source": [
    "# 모듈"
   ]
  },
  {
   "cell_type": "markdown",
   "id": "e88c3a23-4101-40cc-8275-9bbab3099fdd",
   "metadata": {},
   "source": [
    "## 모듈 만들기"
   ]
  },
  {
   "cell_type": "code",
   "execution_count": 2,
   "id": "46d4f9b5-6bd7-44bf-8f84-19344a4bbd79",
   "metadata": {},
   "outputs": [],
   "source": [
    "# 모듈 만들기 - mod1_py\n",
    "# def add(a,b):\n",
    "#     return a + b\n",
    "# def sub(a,b):\n",
    "#     return a-b"
   ]
  },
  {
   "cell_type": "code",
   "execution_count": 2,
   "id": "7fdbb40c-9a94-48d9-8c00-de2f794a3222",
   "metadata": {},
   "outputs": [
    {
     "name": "stdout",
     "output_type": "stream",
     "text": [
      "33\n",
      "-11\n"
     ]
    }
   ],
   "source": [
    "import mod1\n",
    "print(mod1.add(11,22))\n",
    "print(mod1.sub(11,22))"
   ]
  },
  {
   "cell_type": "code",
   "execution_count": 3,
   "id": "e9ed1093-07e5-48eb-8b5f-9b76d29bcba6",
   "metadata": {},
   "outputs": [],
   "source": [
    "# 모듈 파일 바로 생성 - mod2_py\n",
    "with open(\"mod2.py\",\"w\") as f:\n",
    "    data = \"\"\"def mul(a,b):\n",
    "    return a*b\n",
    "def div(a,b):\n",
    "    return a/b\"\"\"\n",
    "    f.write(data)"
   ]
  },
  {
   "cell_type": "code",
   "execution_count": 1,
   "id": "238f7027-e183-4017-a9c5-87e43c928383",
   "metadata": {},
   "outputs": [
    {
     "name": "stdout",
     "output_type": "stream",
     "text": [
      "12\n",
      "2.0\n"
     ]
    }
   ],
   "source": [
    "import mod2\n",
    "print(mod2.mul(3,4))\n",
    "print(mod2.div(8,4))"
   ]
  },
  {
   "cell_type": "code",
   "execution_count": 1,
   "id": "d03175e0-b50b-4f88-a136-cba701744196",
   "metadata": {},
   "outputs": [
    {
     "name": "stdout",
     "output_type": "stream",
     "text": [
      "33\n",
      "-11\n",
      "12\n",
      "2.0\n"
     ]
    }
   ],
   "source": [
    "import mod1,mod2\n",
    "print(mod1.add(11,22))\n",
    "print(mod1.sub(11,22))\n",
    "print(mod2.mul(3,4))\n",
    "print(mod2.div(8,4))"
   ]
  },
  {
   "cell_type": "code",
   "execution_count": 3,
   "id": "73bc50e1-a24c-4402-8a7c-563913145db6",
   "metadata": {},
   "outputs": [
    {
     "name": "stdout",
     "output_type": "stream",
     "text": [
      "33\n",
      "11\n",
      "12\n",
      "2.0\n"
     ]
    }
   ],
   "source": [
    "# import mod1 as m1\n",
    "# import mod2 as m2\n",
    "import mod1 as m1 , mod2 as m2\n",
    "print(m1.add(11,22))\n",
    "print(m1.sub(33,22))\n",
    "print(m2.mul(3,4))\n",
    "print(m2.div(8,4))"
   ]
  },
  {
   "cell_type": "code",
   "execution_count": 4,
   "id": "d7031628-887c-471e-ab9e-093b7e8c09d9",
   "metadata": {},
   "outputs": [
    {
     "name": "stdout",
     "output_type": "stream",
     "text": [
      "77\n"
     ]
    }
   ],
   "source": [
    "from mod1 import add , sub\n",
    "print(add(33,44))"
   ]
  },
  {
   "cell_type": "code",
   "execution_count": 2,
   "id": "c5da0069-9542-4c84-bba2-0ea5167dfbe5",
   "metadata": {},
   "outputs": [
    {
     "name": "stdout",
     "output_type": "stream",
     "text": [
      "20\n"
     ]
    }
   ],
   "source": [
    "from mod2 import *\n",
    "print(mul(4,5))"
   ]
  },
  {
   "cell_type": "markdown",
   "id": "7e5e132b-c921-4868-bc69-6db768f68858",
   "metadata": {},
   "source": [
    "## __main__의 의미"
   ]
  },
  {
   "cell_type": "code",
   "execution_count": 6,
   "id": "326c1efd-df05-4bf7-923c-9bae9ab025b0",
   "metadata": {},
   "outputs": [],
   "source": [
    "# mod1.py 내용추가\n",
    "with open(\"mod1.py\",\"a\") as f:\n",
    "    text = \"\"\"\\nprint(add(1,4))\\nprint(sub(4,2))\"\"\"\n",
    "    f.write(text)"
   ]
  },
  {
   "cell_type": "markdown",
   "id": "88fb6c4b-cc18-4d80-b627-fadf4927dfbc",
   "metadata": {},
   "source": [
    "[매직커멘드]\n",
    "- %%cmd  : 터미널 열기(윈도우)\n",
    "- %%bash : 우분투, 리눅스"
   ]
  },
  {
   "cell_type": "code",
   "execution_count": 3,
   "id": "e5834334-ddb6-4989-a844-6caf23c04d7a",
   "metadata": {},
   "outputs": [
    {
     "name": "stdout",
     "output_type": "stream",
     "text": [
      "Microsoft Windows [Version 10.0.26100.2894]\n",
      "(c) Microsoft Corporation. All rights reserved.\n",
      "\n",
      "SM\\code>python mod1.py\n",
      "5\n",
      "2\n",
      "__main__\n",
      "�� ������ �Ǿ����.\n",
      "\n",
      "d:\\PSM\\code>"
     ]
    }
   ],
   "source": [
    "%%cmd \n",
    "python mod1.py"
   ]
  },
  {
   "cell_type": "code",
   "execution_count": 3,
   "id": "fe2b4e00-8896-4a61-9e96-9d02c471cd0b",
   "metadata": {},
   "outputs": [
    {
     "name": "stdout",
     "output_type": "stream",
     "text": [
      "5\n",
      "2\n",
      "mod1\n",
      "전 모듈로 임포트 되었어요.\n"
     ]
    }
   ],
   "source": [
    "import mod1"
   ]
  },
  {
   "cell_type": "code",
   "execution_count": 7,
   "id": "d241d215-3220-4f70-af84-133363147c8a",
   "metadata": {},
   "outputs": [
    {
     "data": {
      "text/plain": [
       "['__builtins__',\n",
       " '__cached__',\n",
       " '__doc__',\n",
       " '__file__',\n",
       " '__loader__',\n",
       " '__name__',\n",
       " '__package__',\n",
       " '__spec__',\n",
       " 'add',\n",
       " 'sub']"
      ]
     },
     "execution_count": 7,
     "metadata": {},
     "output_type": "execute_result"
    }
   ],
   "source": [
    "dir(mod1)"
   ]
  },
  {
   "cell_type": "code",
   "execution_count": 18,
   "id": "957bf917-7c09-43f8-bf28-e030bb1e5f25",
   "metadata": {},
   "outputs": [],
   "source": [
    "# mod1 = 내용 추가\n",
    "with open(\"mod1.py\",\"a\") as f:\n",
    "    content = \"\"\"\\nprint(__name__)\"\"\"\n",
    "    f.write(content)"
   ]
  },
  {
   "cell_type": "markdown",
   "id": "979441f4-3a77-42aa-8ca9-445f92c8dece",
   "metadata": {},
   "source": [
    "[삼성전자 현 시세 55000]\n",
    "기본 : cmd 에서 파일로 실행했을 때 (python sam.py) 삼성전자의 시세가 나오고 임포트 했을 땐 아무것도 나오지 않게 하기\n",
    "도전 : python sam '기아' - 인자로 입력 시 시세 출력"
   ]
  },
  {
   "cell_type": "code",
   "execution_count": 9,
   "id": "925e3905-b4ad-4ba3-90b5-87235223f604",
   "metadata": {},
   "outputs": [
    {
     "name": "stdout",
     "output_type": "stream",
     "text": [
      "삼성전자 :55,900원\n",
      "기아 :94,600원\n"
     ]
    }
   ],
   "source": [
    "import requests as req\n",
    "url = \"https://finance.naver.com/sise/sise_market_sum.naver\"\n",
    "web = req.get(url)\n",
    "html = web.text\n",
    "# print(html)\n",
    "f1 = html.find('삼성전자')\n",
    "# print(html[f1:f1 + 100].find('<td class=\"number\">'))\n",
    "print('삼성전자 :'+html[f1:f1 + 100][19:50].replace('<td class=\"number\">',\"\").replace('</td>',\"\").replace('\\n',\"\")+\"원\")\n",
    "f2 = html.find('기아')\n",
    "# print(html[f2:f2 + 100].find('<td class=\"number\">'))\n",
    "print('기아 :'+html[f2:f2 + 100][17:50].replace('<td class=\"number\">',\"\").replace('</td>',\"\").replace('\\n',\"\").replace('\\t',\"\")+\"원\")"
   ]
  },
  {
   "cell_type": "code",
   "execution_count": 4,
   "id": "7ee06647-324b-4a56-9146-99be1116bd7a",
   "metadata": {},
   "outputs": [
    {
     "data": {
      "text/plain": [
       "'삼성물산: <121,600원'"
      ]
     },
     "execution_count": 4,
     "metadata": {},
     "output_type": "execute_result"
    }
   ],
   "source": [
    "import sam\n",
    "sam.sam('삼성물산')"
   ]
  },
  {
   "cell_type": "markdown",
   "id": "1cd8f2c0-22ca-4045-b29e-855783dc2ea1",
   "metadata": {},
   "source": [
    "## 클래스나 변수 등을 포함한 모듈"
   ]
  },
  {
   "cell_type": "code",
   "execution_count": 3,
   "id": "9b78b498-e8c1-4294-a2b0-35fd58229578",
   "metadata": {},
   "outputs": [],
   "source": [
    "with open(\"mod3.py\",\"w\") as f:\n",
    "    text = \"\"\"PI = 3.141592\\n\\nclass Math:\\n\\tdef solv(self,r):\\n\\t\\treturn PI * (r**2)\\n\\ndef add(a,b):\\n\\treturn a+b\"\"\"\n",
    "    f.write(text)"
   ]
  },
  {
   "cell_type": "code",
   "execution_count": 4,
   "id": "cdb1989a-bf7d-4298-a021-e29f9c450808",
   "metadata": {},
   "outputs": [
    {
     "name": "stdout",
     "output_type": "stream",
     "text": [
      "3.141592\n",
      "314.1592\n",
      "7.5415920000000005\n"
     ]
    }
   ],
   "source": [
    "import mod3\n",
    "# 변수\n",
    "print(mod3.PI)\n",
    "\n",
    "# 클래스\n",
    "a = mod3.Math()\n",
    "print(a.solv(10))\n",
    "\n",
    "# 함수\n",
    "print(mod3.add(mod3.PI, 4.4))"
   ]
  },
  {
   "cell_type": "markdown",
   "id": "94747f29-129d-4788-b453-06686920536b",
   "metadata": {},
   "source": [
    "## 다른 디렉터리에 있는 모듈 불러오는 방법"
   ]
  },
  {
   "cell_type": "code",
   "execution_count": 1,
   "id": "4226d8fe-f5d4-4196-b8ac-e9c198c57a2a",
   "metadata": {},
   "outputs": [
    {
     "data": {
      "text/plain": [
       "['C:\\\\Users\\\\Admin\\\\AppData\\\\Local\\\\Programs\\\\Python\\\\Python313\\\\python313.zip',\n",
       " 'C:\\\\Users\\\\Admin\\\\AppData\\\\Local\\\\Programs\\\\Python\\\\Python313\\\\DLLs',\n",
       " 'C:\\\\Users\\\\Admin\\\\AppData\\\\Local\\\\Programs\\\\Python\\\\Python313\\\\Lib',\n",
       " 'C:\\\\Users\\\\Admin\\\\AppData\\\\Local\\\\Programs\\\\Python\\\\Python313',\n",
       " '',\n",
       " 'C:\\\\Users\\\\Admin\\\\AppData\\\\Local\\\\Programs\\\\Python\\\\Python313\\\\Lib\\\\site-packages',\n",
       " 'C:\\\\Users\\\\Admin\\\\AppData\\\\Local\\\\Programs\\\\Python\\\\Python313\\\\Lib\\\\site-packages\\\\win32',\n",
       " 'C:\\\\Users\\\\Admin\\\\AppData\\\\Local\\\\Programs\\\\Python\\\\Python313\\\\Lib\\\\site-packages\\\\win32\\\\lib',\n",
       " 'C:\\\\Users\\\\Admin\\\\AppData\\\\Local\\\\Programs\\\\Python\\\\Python313\\\\Lib\\\\site-packages\\\\Pythonwin']"
      ]
     },
     "execution_count": 1,
     "metadata": {},
     "output_type": "execute_result"
    }
   ],
   "source": [
    "import sys\n",
    "sys.path"
   ]
  },
  {
   "cell_type": "code",
   "execution_count": 2,
   "id": "296623d3-db88-46ec-af0c-5990d62cc024",
   "metadata": {},
   "outputs": [
    {
     "data": {
      "text/plain": [
       "['C:\\\\Users\\\\Admin\\\\AppData\\\\Local\\\\Programs\\\\Python\\\\Python313\\\\python313.zip',\n",
       " 'C:\\\\Users\\\\Admin\\\\AppData\\\\Local\\\\Programs\\\\Python\\\\Python313\\\\DLLs',\n",
       " 'C:\\\\Users\\\\Admin\\\\AppData\\\\Local\\\\Programs\\\\Python\\\\Python313\\\\Lib',\n",
       " 'C:\\\\Users\\\\Admin\\\\AppData\\\\Local\\\\Programs\\\\Python\\\\Python313',\n",
       " '',\n",
       " 'C:\\\\Users\\\\Admin\\\\AppData\\\\Local\\\\Programs\\\\Python\\\\Python313\\\\Lib\\\\site-packages',\n",
       " 'C:\\\\Users\\\\Admin\\\\AppData\\\\Local\\\\Programs\\\\Python\\\\Python313\\\\Lib\\\\site-packages\\\\win32',\n",
       " 'C:\\\\Users\\\\Admin\\\\AppData\\\\Local\\\\Programs\\\\Python\\\\Python313\\\\Lib\\\\site-packages\\\\win32\\\\lib',\n",
       " 'C:\\\\Users\\\\Admin\\\\AppData\\\\Local\\\\Programs\\\\Python\\\\Python313\\\\Lib\\\\site-packages\\\\Pythonwin',\n",
       " 'D:\\\\PSM\\\\code\\\\mymod>']"
      ]
     },
     "execution_count": 2,
     "metadata": {},
     "output_type": "execute_result"
    }
   ],
   "source": [
    "sys.path.append('D:\\\\PSM\\\\code\\\\mymod>') # 초기화하면 사라짐\n",
    "sys.path"
   ]
  },
  {
   "cell_type": "markdown",
   "id": "3b4a1b7a-172b-4b45-b100-90f730610e51",
   "metadata": {},
   "source": [
    "- CMD에서 set PYTHONPATH=D:\\PSM\\code\\mymod\n",
    "- PS에서 $env:PYTHONPATH=\"D:\\PSM\\code\\mymod"
   ]
  },
  {
   "cell_type": "code",
   "execution_count": 5,
   "id": "b0365b12-37fd-45bd-a842-8b36d57dfc89",
   "metadata": {},
   "outputs": [
    {
     "name": "stdout",
     "output_type": "stream",
     "text": [
      "Requirement already satisfied: pip in c:\\users\\admin\\appdata\\local\\programs\\python\\python313\\lib\\site-packages (25.0)\n",
      "Collecting pip\n",
      "  Downloading pip-25.0.1-py3-none-any.whl.metadata (3.7 kB)\n",
      "Downloading pip-25.0.1-py3-none-any.whl (1.8 MB)\n",
      "   ---------------------------------------- 0.0/1.8 MB ? eta -:--:--\n",
      "   ---------------------------------------- 1.8/1.8 MB 50.8 MB/s eta 0:00:00\n",
      "Installing collected packages: pip\n",
      "  Attempting uninstall: pip\n",
      "    Found existing installation: pip 25.0\n",
      "    Uninstalling pip-25.0:\n",
      "      Successfully uninstalled pip-25.0\n",
      "Successfully installed pip-25.0.1\n"
     ]
    }
   ],
   "source": [
    "!pip install python_dotenv\n",
    "# !python.exe -m pip install --upgrade pip"
   ]
  },
  {
   "cell_type": "code",
   "execution_count": 1,
   "id": "f7819538-0764-4604-873a-daf2a25c3556",
   "metadata": {},
   "outputs": [
    {
     "name": "stdout",
     "output_type": "stream",
     "text": [
      "my phone 010-1111-2222\n",
      "https://www.google.com\n",
      "이게될까?? 모르겠어요.!\n"
     ]
    }
   ],
   "source": [
    "from dotenv import load_dotenv\n",
    "import os\n",
    "\n",
    "# .env 파일 로드\n",
    "load_dotenv()\n",
    "\n",
    "SKEY = os.getenv(\"SECRET_KEY\")\n",
    "print(SKEY)\n",
    "DBUG = os.getenv(\"DEBUG\")\n",
    "print(DBUG)\n",
    "TEST = os.getenv(\"TEST\")\n",
    "print(TEST)"
   ]
  },
  {
   "cell_type": "code",
   "execution_count": 4,
   "id": "9af63209-97ce-4019-9bb1-63aa7527ed4e",
   "metadata": {},
   "outputs": [
    {
     "name": "stdout",
     "output_type": "stream",
     "text": [
      "{\n",
      "\t\"lastBuildDate\":\"Thu, 13 Feb 2025 15:46:17 +0900\",\n",
      "\t\"total\":2094071,\n",
      "\t\"start\":1,\n",
      "\t\"display\":5,\n",
      "\t\"items\":[\n",
      "\t\t{\n",
      "\t\t\t\"title\":\"[<b>속보<\\/b>] 대만 타이중 백화점서 폭발 사고\",\n",
      "\t\t\t\"originallink\":\"https:\\/\\/www.khan.co.kr\\/article\\/202502131504001\",\n",
      "\t\t\t\"link\":\"https:\\/\\/n.news.naver.com\\/mnews\\/article\\/032\\/0003350795?sid=104\",\n",
      "\t\t\t\"description\":\"대만 타이중에 있는 신콩미츠코시 백화점에서 13일(현지시간) 폭발이 일어나 적어도 1명이 숨졌다고 AFP통신이 보도했다. 소방당국은 백화점 내 폭발로 1명이 사망하고 4명은 생체 징후가 없는 상태라고 밝혔다. 당국은... \",\n",
      "\t\t\t\"pubDate\":\"Thu, 13 Feb 2025 15:05:00 +0900\"\n",
      "\t\t},\n",
      "\t\t{\n",
      "\t\t\t\"title\":\"[<b>속보<\\/b>] 대만 타이중 백화점서 폭발···최소 1명 사망\",\n",
      "\t\t\t\"originallink\":\"http:\\/\\/www.segye.com\\/newsView\\/20250213512918?OutUrl=naver\",\n",
      "\t\t\t\"link\":\"https:\\/\\/n.news.naver.com\\/mnews\\/article\\/022\\/0004010649?sid=104\",\n",
      "\t\t\t\"description\":\"대만 타이중에 있는 신콩미츠코시 백화점에서 13일(현지시간) 폭발이 일어나 적어도 1명이 숨졌다고 AFP통신이 보도했다. 소방당국은 백화점 내 폭발로 1명이 사망하고 4명은 생체 징후가 없는 상태라고 밝혔다. 당국은... \",\n",
      "\t\t\t\"pubDate\":\"Thu, 13 Feb 2025 15:11:00 +0900\"\n",
      "\t\t},\n",
      "\t\t{\n",
      "\t\t\t\"title\":\"[<b>속보<\\/b>]김건희, 스노보드 남자 하프파이프 금메달[하얼빈AG]\",\n",
      "\t\t\t\"originallink\":\"https:\\/\\/www.newsis.com\\/view\\/NISX20250213_0003064112\",\n",
      "\t\t\t\"link\":\"https:\\/\\/n.news.naver.com\\/mnews\\/article\\/003\\/0013065159?sid=104\",\n",
      "\t\t\t\"description\":\"후속기사가 이어집니다\",\n",
      "\t\t\t\"pubDate\":\"Thu, 13 Feb 2025 13:42:00 +0900\"\n",
      "\t\t},\n",
      "\t\t{\n",
      "\t\t\t\"title\":\"[<b>속보<\\/b>] 日 혼다-닛산 '세기의 합병' 결국 두달만에 철회\",\n",
      "\t\t\t\"originallink\":\"https:\\/\\/www.sedaily.com\\/NewsView\\/2GOYD9OEGG\",\n",
      "\t\t\t\"link\":\"https:\\/\\/n.news.naver.com\\/mnews\\/article\\/011\\/0004450152?sid=104\",\n",
      "\t\t\t\"description\":\"일본 자동차 업계 '빅딜'로 주목받았던 혼다와 닛산자동차의 경영 통합이 2개월 만에 무산됐다. 13일 닛케이에 따르면 양사는 이날 각각 이사회를 열어 합병 협의 중단을 결정했다. 양사는 지난해 12월 2026년 8월 지주회사... \",\n",
      "\t\t\t\"pubDate\":\"Thu, 13 Feb 2025 14:58:00 +0900\"\n",
      "\t\t},\n",
      "\t\t{\n",
      "\t\t\t\"title\":\"[<b>속보<\\/b>]尹측 &quot;헌재가 법률 규정 위반해 재판 진행…계속되면 중대 결심&quot;\",\n",
      "\t\t\t\"originallink\":\"https:\\/\\/www.kwnews.co.kr\\/page\\/view\\/2025021315273920296\",\n",
      "\t\t\t\"link\":\"https:\\/\\/n.news.naver.com\\/mnews\\/article\\/087\\/0001097878?sid=102\",\n",
      "\t\t\t\"description\":\"<b>속보<\\/b>='12·3 비상계엄'으로 국회가 탄핵소추한 윤석열 대통령에 대한 헌법재판소 탄핵심판 절차가 진행되고 있는 가운데, 윤 대통령 측은 헌재의 재판 진행 방식에 항의하며 한덕수 국무총리를 증인으로 불러달라고 다시... \",\n",
      "\t\t\t\"pubDate\":\"Thu, 13 Feb 2025 15:29:00 +0900\"\n",
      "\t\t}\n",
      "\t]\n",
      "}\n"
     ]
    }
   ],
   "source": [
    "# 네이버 검색 API 예제 - 블로그 검색\n",
    "import os\n",
    "import sys\n",
    "import urllib.request\n",
    "from dotenv import load_dotenv\n",
    "\n",
    "load_dotenv()\n",
    "client_id =  os.environ.get(\"MY_ID\")\n",
    "client_secret = os.environ.get(\"MY_SECRET\")\n",
    "\n",
    "encText = urllib.parse.quote(\"속보\")\n",
    "url = \"https://openapi.naver.com/v1/search/news.json?query=\" + encText + '&display=5&start=1&sort=sim'\n",
    "# JSON 결과\n",
    "request = urllib.request.Request(url)\n",
    "request.add_header(\"X-Naver-Client-Id\",client_id)\n",
    "request.add_header(\"X-Naver-Client-Secret\",client_secret)\n",
    "response = urllib.request.urlopen(request)\n",
    "rescode = response.getcode()\n",
    "if(rescode==200):\n",
    "    response_body = response.read()\n",
    "    print(response_body.decode('utf-8'))\n",
    "else:\n",
    "    print(\"Error Code:\" + rescode)"
   ]
  },
  {
   "cell_type": "code",
   "execution_count": 1,
   "id": "b9a8e283-4fa1-45f2-9b64-d7b747d6bc6b",
   "metadata": {},
   "outputs": [
    {
     "name": "stdout",
     "output_type": "stream",
     "text": [
      "Collecting qrcode\n",
      "  Downloading qrcode-8.0-py3-none-any.whl.metadata (17 kB)\n",
      "Requirement already satisfied: colorama in c:\\users\\admin\\appdata\\local\\programs\\python\\python313\\lib\\site-packages (from qrcode) (0.4.6)\n",
      "Downloading qrcode-8.0-py3-none-any.whl (45 kB)\n",
      "Installing collected packages: qrcode\n",
      "Successfully installed qrcode-8.0\n"
     ]
    }
   ],
   "source": [
    "!pip install qrcode"
   ]
  },
  {
   "cell_type": "code",
   "execution_count": 7,
   "id": "3cbff69f-e8b8-43a2-a4c6-54755c4aed8e",
   "metadata": {},
   "outputs": [],
   "source": [
    "import qrcode\n",
    "\n",
    "def qrcode_maker(text,filename='pr.png'):\n",
    "    qr = qrcode.make(text)\n",
    "    qr.save(filename)\n",
    "\n",
    "qrcode_maker('바쁘냐??????')\n",
    "qrcode_maker('www.naver.com','naver.png')"
   ]
  },
  {
   "cell_type": "code",
   "execution_count": 15,
   "id": "4e17a8a1-c846-4bbd-8105-b5abf9be5bf2",
   "metadata": {},
   "outputs": [
    {
     "data": {
      "text/html": [
       "<img src=\"pr.png\" width=100>"
      ],
      "text/plain": [
       "<IPython.core.display.HTML object>"
      ]
     },
     "metadata": {},
     "output_type": "display_data"
    }
   ],
   "source": [
    "from IPython.display import display , HTML\n",
    "from PIL import Image\n",
    "\n",
    "image_path = \"pr.png\"\n",
    "img = Image.open(image_path)\n",
    "htmlcode = '<img src=\"pr.png\" width=100>'\n",
    "display(HTML(htmlcode))\n",
    "# display(img)"
   ]
  },
  {
   "cell_type": "code",
   "execution_count": 2,
   "id": "760dd00d-28c3-4216-bc65-81451c3f3c20",
   "metadata": {},
   "outputs": [
    {
     "name": "stdout",
     "output_type": "stream",
     "text": [
      "{\n",
      "\t\"lastBuildDate\":\"Mon, 17 Feb 2025 09:15:07 +0900\",\n",
      "\t\"total\":222564,\n",
      "\t\"start\":1,\n",
      "\t\"display\":5,\n",
      "\t\"items\":[\n",
      "\t\t{\n",
      "\t\t\t\"title\":\"[영상] “<b>영화<\\/b> 아바타 이겨야!”…중국 ‘<b>영화<\\/b> 패권’도 노린다\",\n",
      "\t\t\t\"originallink\":\"https:\\/\\/news.kbs.co.kr\\/news\\/pc\\/view\\/view.do?ncd=8177237&ref=A\",\n",
      "\t\t\t\"link\":\"https:\\/\\/n.news.naver.com\\/mnews\\/article\\/056\\/0011893783?sid=121\",\n",
      "\t\t\t\"description\":\"불과 3일 뒤인 2월 14일에는 매출이 우리돈 2조 원대를 넘어서며, 세계 역대 <b>영화<\\/b> 흥행 <b>순위<\\/b> 16위까지 올라섰습니다. 중국 포털 검색어 <b>순위<\\/b>에서도 2주 넘게 상위권을 차지할 만큼 이슈의 중심에 있습니다. 재미도 재미인데... \",\n",
      "\t\t\t\"pubDate\":\"Sun, 16 Feb 2025 16:00:00 +0900\"\n",
      "\t\t},\n",
      "\t\t{\n",
      "\t\t\t\"title\":\"약대 출신에 3D 애니 독학, 내놓는 <b>영화<\\/b>마다 대박… 中 ‘너자2’ 감독...\",\n",
      "\t\t\t\"originallink\":\"https:\\/\\/biz.chosun.com\\/international\\/international_general\\/2025\\/02\\/16\\/5PBKJ377NFAY3IKYJIYCRIUD3U\\/?utm_source=naver&utm_medium=original&utm_campaign=biz\",\n",
      "\t\t\t\"link\":\"https:\\/\\/n.news.naver.com\\/mnews\\/article\\/366\\/0001054252?sid=104\",\n",
      "\t\t\t\"description\":\"너자2는 글로벌 <b>영화<\\/b> 흥행 <b>순위<\\/b>에서 중국 <b>영화<\\/b> 최초로 20위권에 진입한 상태다. 마오옌은 너자2 박스오피스 매출이 160억위안(약 3조2000억원)에 달할 것으로 전망하고 있다. 이렇게 되면 너자2는 디즈니·픽사의... \",\n",
      "\t\t\t\"pubDate\":\"Sun, 16 Feb 2025 06:01:00 +0900\"\n",
      "\t\t},\n",
      "\t\t{\n",
      "\t\t\t\"title\":\"봉준호의 새로운 우주 이야기 '미키17' 베를린<b>영화<\\/b>제에서 첫 공개\",\n",
      "\t\t\t\"originallink\":\"https:\\/\\/www.jemin.com\\/news\\/articleView.html?idxno=787770\",\n",
      "\t\t\t\"link\":\"https:\\/\\/www.jemin.com\\/news\\/articleView.html?idxno=787770\",\n",
      "\t\t\t\"description\":\"그보다 무기를 온전히 지키는 것이 더 큰 우선<b>순위<\\/b>였던 것이다. 미키 또한 추운 날씨 속에서 자신이 재생될 운명이라는 사실 때문에 빨리 죽는 게 낫다고 생각했다. 제75회 베를린<b>영화<\\/b>제에서... \",\n",
      "\t\t\t\"pubDate\":\"Sun, 16 Feb 2025 21:20:00 +0900\"\n",
      "\t\t},\n",
      "\t\t{\n",
      "\t\t\t\"title\":\"17년 전 <b>영화<\\/b>에 10대 관객도 몰렸다…재개봉 열풍의 비밀\",\n",
      "\t\t\t\"originallink\":\"https:\\/\\/www.joongang.co.kr\\/article\\/25314208\",\n",
      "\t\t\t\"link\":\"https:\\/\\/n.news.naver.com\\/mnews\\/article\\/025\\/0003420938?sid=103\",\n",
      "\t\t\t\"description\":\"재개봉 <b>영화<\\/b>다. 이날 재개봉한 ‘미드나잇 인 파리’(2011), ‘500일의 썸머’(2009), ‘원더’(2017)는 이미 과거 한두 차례 재개봉 했음에도 또 다시 <b>순위<\\/b>권에 올랐다. 또 지난 연말부터 ‘재개봉의 기적’으로 떠오른 ‘더... \",\n",
      "\t\t\t\"pubDate\":\"Sat, 15 Feb 2025 15:00:00 +0900\"\n",
      "\t\t},\n",
      "\t\t{\n",
      "\t\t\t\"title\":\"극장서 고전한 '보고타', 넷플릭스 공개 후 비영어권 <b>영화<\\/b> 1위\",\n",
      "\t\t\t\"originallink\":\"https:\\/\\/www.yna.co.kr\\/view\\/AKR20250213092900005?input=1195m\",\n",
      "\t\t\t\"link\":\"https:\\/\\/m.entertain.naver.com\\/article\\/001\\/0015210809\",\n",
      "\t\t\t\"description\":\"영어권·비영어권 <b>영화<\\/b> 통합 <b>순위<\\/b>에서는 2위에 올랐다. 우리나라를 비롯해 <b>영화<\\/b>의 배경인 콜롬비아 등 10개국에서 1위를 기록했고 총 73개국에서 10위 안에 진입했다. 지난해 12월 극장에 걸린 '보고타'는 1997년... \",\n",
      "\t\t\t\"pubDate\":\"Thu, 13 Feb 2025 13:28:00 +0900\"\n",
      "\t\t}\n",
      "\t]\n",
      "}\n"
     ]
    }
   ],
   "source": [
    "# 네이버 검색 API 예제 - 영화순위\n",
    "import os\n",
    "import sys\n",
    "import urllib.request\n",
    "from dotenv import load_dotenv\n",
    "\n",
    "load_dotenv()\n",
    "client_id =  os.environ.get(\"MY_ID\")\n",
    "client_secret = os.environ.get(\"MY_SECRET\")\n",
    "\n",
    "encText = urllib.parse.quote(\"영화 순위\")\n",
    "url = \"https://openapi.naver.com/v1/search/news.json?query=\" + encText + '&display=5&start=1&sort=sim'\n",
    "# JSON 결과\n",
    "request = urllib.request.Request(url)\n",
    "request.add_header(\"X-Naver-Client-Id\",client_id)\n",
    "request.add_header(\"X-Naver-Client-Secret\",client_secret)\n",
    "response = urllib.request.urlopen(request)\n",
    "rescode = response.getcode()\n",
    "if(rescode==200):\n",
    "    response_body = response.read()\n",
    "    print(response_body.decode('utf-8'))\n",
    "else:\n",
    "    print(\"Error Code:\" + rescode)"
   ]
  },
  {
   "cell_type": "markdown",
   "id": "a0477bd1-e5a9-4e91-868c-bd4b0e6ca3ce",
   "metadata": {},
   "source": [
    "# 패키지"
   ]
  },
  {
   "cell_type": "markdown",
   "id": "f156d267-3ba5-4f03-9470-15703f458d26",
   "metadata": {},
   "source": [
    "## 패키지 만들기"
   ]
  },
  {
   "cell_type": "code",
   "execution_count": null,
   "id": "c6efd6e8-7d9c-4cd1-aae6-4e213af55a78",
   "metadata": {},
   "outputs": [],
   "source": [
    "# %%cmd\n",
    "# set PYTHONPATH=D:\\\\PSM\\\\code\\\\python\\\\game"
   ]
  },
  {
   "cell_type": "code",
   "execution_count": 1,
   "id": "c593f0a9-04a9-4be4-952d-49474ace5209",
   "metadata": {},
   "outputs": [
    {
     "name": "stdout",
     "output_type": "stream",
     "text": [
      "에코\n",
      "랜더링\n"
     ]
    }
   ],
   "source": [
    "# 테스트 1 명시적이다. 그렇지만 길다.\n",
    "import game.sound.echo \n",
    "import game.graphic.render\n",
    "game.sound.echo.echo_test()\n",
    "game.graphic.render.render_test()"
   ]
  },
  {
   "cell_type": "code",
   "execution_count": 2,
   "id": "428775a1-eb2e-42d7-bdb4-ba950dbde055",
   "metadata": {},
   "outputs": [
    {
     "name": "stdout",
     "output_type": "stream",
     "text": [
      "에코\n",
      "비디오에코\n"
     ]
    }
   ],
   "source": [
    "import game.echo, game.echo_v\n",
    "game.echo.echo_test()\n",
    "game.echo_v.echo_test()"
   ]
  },
  {
   "cell_type": "code",
   "execution_count": 3,
   "id": "233236e9-0534-4edd-9ed7-1e83eb27929f",
   "metadata": {},
   "outputs": [
    {
     "name": "stdout",
     "output_type": "stream",
     "text": [
      "에코\n",
      "비디오에코\n"
     ]
    }
   ],
   "source": [
    "from game import echo, echo_v\n",
    "echo.echo_test()\n",
    "echo_v.echo_test()"
   ]
  },
  {
   "cell_type": "code",
   "execution_count": 4,
   "id": "e53db18f-d157-46ae-b12c-3eaa14d16736",
   "metadata": {},
   "outputs": [
    {
     "name": "stdout",
     "output_type": "stream",
     "text": [
      "비디오에코\n",
      "에코\n"
     ]
    }
   ],
   "source": [
    "# 짧지만 중복의 위험이 있다. 그리고 명시적이진 않다.\n",
    "from game.echo_v import echo_test as ev\n",
    "from game.echo import echo_test as e\n",
    "ev()\n",
    "e()"
   ]
  },
  {
   "cell_type": "code",
   "execution_count": 2,
   "id": "f874a259-1041-4d27-aa93-6e62cd753ae6",
   "metadata": {},
   "outputs": [
    {
     "name": "stdout",
     "output_type": "stream",
     "text": [
      "3.6\n",
      "The version of this game is 3.6\n"
     ]
    }
   ],
   "source": [
    "# __init__.py 를 사용하기\n",
    "import game \n",
    "print(game.VERSION)\n",
    "game.print_version_info()"
   ]
  },
  {
   "cell_type": "code",
   "execution_count": 3,
   "id": "a5b3d663-65dd-41ad-98a4-cf36fe6d86c1",
   "metadata": {},
   "outputs": [],
   "source": [
    "# __init__.py 은 한번만 로드됨\n",
    "import game"
   ]
  },
  {
   "cell_type": "code",
   "execution_count": null,
   "id": "f8e48bf0-46b7-448e-aa05-ffe4cfde1434",
   "metadata": {},
   "outputs": [],
   "source": [
    "# __init__.py 는 패키지내에 내 모듈을 미리 import 할 수 있다.\n",
    "game.render_test()"
   ]
  },
  {
   "cell_type": "code",
   "execution_count": 5,
   "id": "cc81c12f-6b73-4562-844e-15507373297f",
   "metadata": {},
   "outputs": [],
   "source": [
    "import game.graphic"
   ]
  },
  {
   "cell_type": "code",
   "execution_count": 6,
   "id": "90f4d09f-7f0e-4993-8d80-dc2ba5a0aa73",
   "metadata": {},
   "outputs": [
    {
     "name": "stdout",
     "output_type": "stream",
     "text": [
      "The version of this graphic of game is 3.7\n"
     ]
    }
   ],
   "source": [
    "game.graphic.print_version_info()"
   ]
  },
  {
   "cell_type": "code",
   "execution_count": null,
   "id": "86d5066f-41fb-4918-b9a5-bd7286f0113b",
   "metadata": {},
   "outputs": [],
   "source": [
    "# __all__ 사용하기\n",
    "from game.graphic import *"
   ]
  },
  {
   "cell_type": "code",
   "execution_count": null,
   "id": "1e469546-0b15-4698-b1fd-1d0d94d3dbf9",
   "metadata": {},
   "outputs": [],
   "source": [
    "echo.echo_test()"
   ]
  },
  {
   "cell_type": "code",
   "execution_count": 9,
   "id": "3701cd89-dd3f-450a-88da-df98052e3824",
   "metadata": {},
   "outputs": [],
   "source": [
    "# relative 패키지\n",
    "from game.graphic.render import render_test"
   ]
  },
  {
   "cell_type": "code",
   "execution_count": 10,
   "id": "de18ab2e-69d1-4599-806b-250c5d02fddf",
   "metadata": {},
   "outputs": [
    {
     "name": "stdout",
     "output_type": "stream",
     "text": [
      "랜더링\n"
     ]
    }
   ],
   "source": [
    "# 비디오 에코가 아닌 사운드 에코 호출\n",
    "render_test()"
   ]
  },
  {
   "cell_type": "markdown",
   "id": "506d42fe-6e3e-4d46-b588-138a2b8232bc",
   "metadata": {},
   "source": [
    "# 예외 처리"
   ]
  },
  {
   "cell_type": "markdown",
   "id": "c7cd9fe8-24cf-485f-8083-bd4b69268899",
   "metadata": {},
   "source": [
    "## 오류 발생\n",
    "- 오타\n",
    "- 존재하지 않는 파일을 지정 또는 사용\n",
    "- 수학적 오류\n",
    "- 인덱스 오류\n",
    "## 오류 예외 처리 기법\n",
    "- try-except 문\n",
    "- try-finally 문\n",
    "- 여러개의 오류 처리\n",
    "- try-else 문"
   ]
  },
  {
   "cell_type": "code",
   "execution_count": 5,
   "id": "09493797-75ab-4962-95a4-559ad294419e",
   "metadata": {},
   "outputs": [],
   "source": [
    "# f = open(\"뜬금파일\",\"r\")\n",
    "# #FileNotFoundError: [Errno 2] No such file or directory: '뜬금파일'"
   ]
  },
  {
   "cell_type": "code",
   "execution_count": 6,
   "id": "39407057-e10f-4bde-9721-2c7e1f42700d",
   "metadata": {},
   "outputs": [],
   "source": [
    "# 4/0\n",
    "# ZeroDivisionError: division by zero"
   ]
  },
  {
   "cell_type": "code",
   "execution_count": 7,
   "id": "69c05a4e-3da7-49b5-9385-ffc4c6d5f6f6",
   "metadata": {},
   "outputs": [],
   "source": [
    "# a = [1,2,3]\n",
    "# print(a[7])\n",
    "# IndexError: list index out of range"
   ]
  },
  {
   "cell_type": "code",
   "execution_count": 5,
   "id": "d20776b3-e53c-4b89-bd77-a707b4961ba5",
   "metadata": {},
   "outputs": [
    {
     "name": "stdout",
     "output_type": "stream",
     "text": [
      "없는거 찾지마, 혼자있고싶어.\n",
      "[Errno 2] No such file or directory: '뜬금파일'\n",
      "코드 작성을 마칩니다.\n"
     ]
    }
   ],
   "source": [
    "# test 1\n",
    "try:\n",
    "    f = open(\"뜬금파일\",\"r\")\n",
    "# \n",
    "except FileNotFoundError as e:\n",
    "    if e:\n",
    "        print('없는거 찾지마, 혼자있고싶어.')\n",
    "    print(e)\n",
    "# 에러나던 안나던 무조건 출력\n",
    "finally:\n",
    "    print('코드 작성을 마칩니다.')"
   ]
  },
  {
   "cell_type": "code",
   "execution_count": 8,
   "id": "3222e6b9-2f54-474a-ae81-11cde34ced64",
   "metadata": {},
   "outputs": [
    {
     "name": "stdout",
     "output_type": "stream",
     "text": [
      "0으로 나눌 수 없다 division by zero\n"
     ]
    }
   ],
   "source": [
    "# 지정한 이름의 예외처리 as로 별칭가능\n",
    "try:\n",
    "    4/0\n",
    "# except: 도 가능함 \n",
    "except ZeroDivisionError as e:\n",
    "    print('0으로 나눌 수 없다', e)"
   ]
  },
  {
   "cell_type": "code",
   "execution_count": 11,
   "id": "78a4d3f1-6e22-4ef5-9945-7d9a5908f406",
   "metadata": {},
   "outputs": [
    {
     "name": "stdout",
     "output_type": "stream",
     "text": [
      "0으로 나누지마세요\n"
     ]
    }
   ],
   "source": [
    "# try-except-finally 3단계도 가능, finally는 에러가 나도 무조건 처리하는 것 (여기서는 파일닫기)\n",
    "try:\n",
    "    f = open('foo.text','w')\n",
    "    f.write(4/0)\n",
    "except:\n",
    "    print('0으로 나누지마세요')\n",
    "finally:\n",
    "    f.close()"
   ]
  },
  {
   "cell_type": "code",
   "execution_count": 1,
   "id": "257006f8-437f-420b-bc98-1a6ea8669da5",
   "metadata": {},
   "outputs": [
    {
     "name": "stdout",
     "output_type": "stream",
     "text": [
      "list index out of range\n"
     ]
    }
   ],
   "source": [
    "# 에러가 2개일 경우 / 중복 에러는 처음 만나는 에러만 출력 / 정상 중복값은 마지막의 값만 출력\n",
    "try:\n",
    "    a = [1,2]\n",
    "    print(a[3])\n",
    "    4/0\n",
    "except (ZeroDivisionError, IndexError) as e:\n",
    "    print(e)\n",
    "# try 블록에서 첫 번째 에러를 만났을 때 바로 except 블록으로 넘어가므로, 두 번째 에러는 처리되지 않는다. 처리를 위해 try-except문을 각각 써야 함"
   ]
  },
  {
   "cell_type": "code",
   "execution_count": 8,
   "id": "52a9cbfa-5795-4cae-82f0-71598888cdc4",
   "metadata": {},
   "outputs": [
    {
     "name": "stdin",
     "output_type": "stream",
     "text": [
      "나이를 입력하세요:  33\n"
     ]
    },
    {
     "name": "stdout",
     "output_type": "stream",
     "text": [
      "환영합니다.\n",
      "====================\n",
      "분석끝\n"
     ]
    }
   ],
   "source": [
    "# try-else 문\n",
    "try:\n",
    "    age = int(input(\"나이를 입력하세요: \"))\n",
    "except:\n",
    "    print(\"입력이 정확하지 않습니다.\")\n",
    "else:\n",
    "    if age <= 18:\n",
    "        print('미성년자는 출입금지')\n",
    "    else: \n",
    "        print('환영합니다.')\n",
    "finally:\n",
    "     print('='*20+'\\n분석끝')"
   ]
  },
  {
   "cell_type": "code",
   "execution_count": 9,
   "id": "d71c01a9-e82c-41bb-8512-f17fc71cfaf5",
   "metadata": {},
   "outputs": [
    {
     "name": "stdout",
     "output_type": "stream",
     "text": [
      "반가워\n"
     ]
    }
   ],
   "source": [
    "# 오류 회피하기\n",
    "try:\n",
    "    print('반가워')\n",
    "    f = open('없는파일','r')\n",
    "    print('안녕')\n",
    "except FileNotFoundError as e:\n",
    "    pass"
   ]
  },
  {
   "cell_type": "code",
   "execution_count": null,
   "id": "6d4ae07d-2a26-432c-a458-047480e8871f",
   "metadata": {},
   "outputs": [],
   "source": [
    "# 오류 일부러 발생시키기 (클래스 상속기반)\n",
    "class Bird:\n",
    "    def fly(self):\n",
    "        raise NotImplementedError\n",
    "\n",
    "class Eagle(Bird):\n",
    "    def fly(self):\n",
    "        print('난 독수리다')\n",
    "\n",
    "eagle = Eagle()\n",
    "eagle.fly()"
   ]
  },
  {
   "cell_type": "code",
   "execution_count": null,
   "id": "bcbd0a2e-495d-48f3-a3e8-2474af058113",
   "metadata": {},
   "outputs": [],
   "source": [
    "dir(Exception)"
   ]
  },
  {
   "cell_type": "code",
   "execution_count": 17,
   "id": "628c8dcc-a52b-44e9-a18a-87f9f8c82a8d",
   "metadata": {},
   "outputs": [],
   "source": [
    "# 예외 만들기\n",
    "class MyError(Exception):\n",
    "    pass"
   ]
  },
  {
   "cell_type": "code",
   "execution_count": 18,
   "id": "d78ea6b5-3463-4959-a96e-ca6c008b76f5",
   "metadata": {},
   "outputs": [],
   "source": [
    "def say_nick(nick):\n",
    "    if nick  == '바보':\n",
    "        raise MyError()\n",
    "    print(nick)"
   ]
  },
  {
   "cell_type": "code",
   "execution_count": null,
   "id": "2f3cb166-e694-4a36-8276-4d631a3d7716",
   "metadata": {},
   "outputs": [],
   "source": [
    "say_nick(\"바보\")"
   ]
  },
  {
   "attachments": {
    "d1e78481-b61a-4cf0-a22b-609333979e14.png": {
     "image/png": "[encoded data removed]"
    }
   },
   "cell_type": "markdown",
   "id": "39bf6460-bca8-4234-88cc-b16535629553",
   "metadata": {},
   "source": [
    "![image.png](attachment:d1e78481-b61a-4cf0-a22b-609333979e14.png)"
   ]
  },
  {
   "cell_type": "code",
   "execution_count": 20,
   "id": "a2aec4e1-81cc-4365-968e-3d26bce0cafc",
   "metadata": {},
   "outputs": [
    {
     "name": "stdout",
     "output_type": "stream",
     "text": [
      "천사\n",
      "욕하지만 바보아냐, 사람은 착해 \n"
     ]
    }
   ],
   "source": [
    "try: \n",
    "    say_nick(\"천사\")\n",
    "    say_nick(\"바보\")\n",
    "except MyError as e:\n",
    "    print('욕하지만 바보아냐, 사람은 착해',e)"
   ]
  },
  {
   "cell_type": "code",
   "execution_count": null,
   "id": "5d8200a4-6c9d-42cf-b682-17690c1956a3",
   "metadata": {},
   "outputs": [],
   "source": [
    "class MyError(Exception):\n",
    "    def __str__(self):\n",
    "        retutn \"욕하지만 그래도 사람은 착해\""
   ]
  },
  {
   "cell_type": "code",
   "execution_count": null,
   "id": "58673345-fd09-4d82-9553-38a69047b889",
   "metadata": {},
   "outputs": [],
   "source": []
  }
 ],
 "metadata": {
  "kernelspec": {
   "display_name": "Python 3 (ipykernel)",
   "language": "python",
   "name": "python3"
  },
  "language_info": {
   "codemirror_mode": {
    "name": "ipython",
    "version": 3
   },
   "file_extension": ".py",
   "mimetype": "text/x-python",
   "name": "python",
   "nbconvert_exporter": "python",
   "pygments_lexer": "ipython3",
   "version": "3.13.1"
  }
 },
 "nbformat": 4,
 "nbformat_minor": 5
}
