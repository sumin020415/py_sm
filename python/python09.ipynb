{
 "cells": [
  {
   "cell_type": "code",
   "execution_count": 11,
   "id": "884c099a-9c50-4acf-bf21-f1ecde32bd9d",
   "metadata": {},
   "outputs": [],
   "source": [
    "!pip install -q -U google-genai"
   ]
  },
  {
   "cell_type": "code",
   "execution_count": 13,
   "id": "beb74aaf-d69d-4a19-945b-5b477c8d577e",
   "metadata": {
    "id": "QUFi8vZEJ0x2"
   },
   "outputs": [
    {
     "name": "stdout",
     "output_type": "stream",
     "text": [
      "안녕하세요! pandas는 파이썬에서 데이터를 효율적으로 다루고 분석할 수 있도록 설계된 강력한 라이브러리입니다. \n",
      "\n",
      "**핵심 기능:**\n",
      "\n",
      "*   **데이터 구조:** pandas는 Series와 DataFrame이라는 두 가지 주요 데이터 구조를 제공합니다.\n",
      "    *   **Series:** 1차원 배열 형태이며, 인덱스와 값으로 구성됩니다. 마치 엑셀의 열(column) 하나와 유사합니다.\n",
      "    *   **DataFrame:** 2차원 테이블 형태이며, 여러 개의 Series가 합쳐진 것입니다. 엑셀 시트와 비슷하다고 생각하면 됩니다.\n",
      "*   **데이터 처리:** pandas는 데이터 정렬, 필터링, 그룹화, 결합, 변환 등 다양한 데이터 처리 기능을 제공합니다.\n",
      "*   **데이터 입출력:** CSV, Excel, SQL 데이터베이스 등 다양한 형식의 데이터를 읽고 쓸 수 있습니다.\n",
      "\n",
      "**장점:**\n",
      "\n",
      "*   **유연성:** 다양한 데이터 형태를 처리하고 분석할 수 있습니다.\n",
      "*   **편의성:** 직관적인 API를 통해 데이터 조작을 쉽게 할 수 있습니다.\n",
      "*   **성능:** 내부적으로 최적화되어 있어 대용량 데이터도 효율적으로 처리할 수 있습니다.\n",
      "\n",
      "**활용 예시:**\n",
      "\n",
      "*   데이터 분석: 통계 분석, 시각화 등을 통해 데이터에서 유용한 정보를 추출합니다.\n",
      "*   머신러닝: 머신러닝 모델 학습을 위한 데이터 전처리 및 feature engineering에 활용됩니다.\n",
      "*   데이터 시각화: matplotlib, seaborn과 같은 시각화 라이브러리와 함께 사용하여 데이터를 시각적으로 표현합니다.\n",
      "\n",
      "pandas는 데이터 분석 및 처리 작업을 훨씬 쉽고 효율적으로 만들어주는 필수적인 도구입니다. 더 자세한 내용은 pandas 공식 문서를 참고하시면 좋습니다.\n"
     ]
    },
    {
     "data": {
      "text/plain": [
       "'안녕하세요! pandas는 파이썬에서 데이터를 효율적으로 다루고 분석할 수 있도록 설계된 강력한 라이브러리입니다. \\n\\n**핵심 기능:**\\n\\n*   **데이터 구조:** pandas는 Series와 DataFrame이라는 두 가지 주요 데이터 구조를 제공합니다.\\n    *   **Series:** 1차원 배열 형태이며, 인덱스와 값으로 구성됩니다. 마치 엑셀의 열(column) 하나와 유사합니다.\\n    *   **DataFrame:** 2차원 테이블 형태이며, 여러 개의 Series가 합쳐진 것입니다. 엑셀 시트와 비슷하다고 생각하면 됩니다.\\n*   **데이터 처리:** pandas는 데이터 정렬, 필터링, 그룹화, 결합, 변환 등 다양한 데이터 처리 기능을 제공합니다.\\n*   **데이터 입출력:** CSV, Excel, SQL 데이터베이스 등 다양한 형식의 데이터를 읽고 쓸 수 있습니다.\\n\\n**장점:**\\n\\n*   **유연성:** 다양한 데이터 형태를 처리하고 분석할 수 있습니다.\\n*   **편의성:** 직관적인 API를 통해 데이터 조작을 쉽게 할 수 있습니다.\\n*   **성능:** 내부적으로 최적화되어 있어 대용량 데이터도 효율적으로 처리할 수 있습니다.\\n\\n**활용 예시:**\\n\\n*   데이터 분석: 통계 분석, 시각화 등을 통해 데이터에서 유용한 정보를 추출합니다.\\n*   머신러닝: 머신러닝 모델 학습을 위한 데이터 전처리 및 feature engineering에 활용됩니다.\\n*   데이터 시각화: matplotlib, seaborn과 같은 시각화 라이브러리와 함께 사용하여 데이터를 시각적으로 표현합니다.\\n\\npandas는 데이터 분석 및 처리 작업을 훨씬 쉽고 효율적으로 만들어주는 필수적인 도구입니다. 더 자세한 내용은 pandas 공식 문서를 참고하시면 좋습니다.'"
      ]
     },
     "execution_count": 13,
     "metadata": {},
     "output_type": "execute_result"
    }
   ],
   "source": [
    "# 구글 제미나이 AI\n",
    "from google import genai\n",
    "def aiai(text):\n",
    "    client = genai.Client(api_key=\".\")\n",
    "    response = client.models.generate_content(model=\"gemini-2.0-flash\",contents= text + \"단, 500자 이내로 알려줘. 서술형으로 친절하게 알려줘.\",)\n",
    "    answer = response.text\n",
    "    print(answer)\n",
    "    return answer\n",
    "    \n",
    "aiai(\"pandas에 대해 알려줘\")"
   ]
  }
 ],
 "metadata": {
  "kernelspec": {
   "display_name": "Python 3 (ipykernel)",
   "language": "python",
   "name": "python3"
  },
  "language_info": {
   "codemirror_mode": {
    "name": "ipython",
    "version": 3
   },
   "file_extension": ".py",
   "mimetype": "text/x-python",
   "name": "python",
   "nbconvert_exporter": "python",
   "pygments_lexer": "ipython3",
   "version": "3.13.1"
  }
 },
 "nbformat": 4,
 "nbformat_minor": 5
}
