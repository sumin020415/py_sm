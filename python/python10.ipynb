{
 "cells": [
  {
   "cell_type": "code",
   "execution_count": null,
   "metadata": {
    "id": "IZbPhZLwfhqT"
   },
   "outputs": [],
   "source": [
    "# with open('./drive/MyDrive/readME.md','w') as f:\n",
    "#     daa = f.write('*반가워요.')\n",
    "#     print('저장되었습니다.')\n",
    "# !pwd"
   ]
  },
  {
   "cell_type": "code",
   "execution_count": 130,
   "metadata": {
    "colab": {
     "base_uri": "https://localhost:8080/"
    },
    "id": "gADEFZeEJRKO",
    "outputId": "8271290e-5357-4a72-dcd7-d9918ff402d1"
   },
   "outputs": [
    {
     "name": "stdout",
     "output_type": "stream",
     "text": [
      "1.26.4\n"
     ]
    }
   ],
   "source": [
    "# 넘파이 버전 확인\n",
    "import numpy as np\n",
    "print(np.__version__)"
   ]
  },
  {
   "cell_type": "markdown",
   "metadata": {
    "id": "ZZ73CBOGixG5"
   },
   "source": [
    "##넘파이(numpy)"
   ]
  },
  {
   "cell_type": "markdown",
   "metadata": {
    "id": "fuKNz-UEjc6R"
   },
   "source": [
    "- ndim : 축의 개수\n",
    "- shape : 배열의 차원정보\n",
    "- size : 배열안에 있는 원소의 총 개수\n",
    "- dtype : 배열 원소의 자료형"
   ]
  },
  {
   "cell_type": "markdown",
   "metadata": {
    "id": "fkNrq5hFuOuh"
   },
   "source": [
    "### 1차원과 속성들"
   ]
  },
  {
   "cell_type": "code",
   "execution_count": 1,
   "metadata": {
    "colab": {
     "base_uri": "https://localhost:8080/"
    },
    "id": "9BrSBz6bizyK",
    "outputId": "71e23a43-e870-40c4-f8a2-d2f8e19f5c8e"
   },
   "outputs": [
    {
     "name": "stdout",
     "output_type": "stream",
     "text": [
      "[0 1 2 3 4] <class 'numpy.ndarray'>\n",
      "1\n",
      "(5,)\n",
      "5\n",
      "int64\n",
      "3\n",
      "[2 3]\n"
     ]
    }
   ],
   "source": [
    "# pip  install numpy\n",
    "import numpy as np\n",
    "narry= np.array(range(5))\n",
    "print(narry,type(narry))\n",
    "print(narry.ndim)\n",
    "print(narry.shape)\n",
    "print(narry.size)\n",
    "print(narry.dtype)\n",
    "print(narry[3])\n",
    "print(narry[2:4])   # <= x <"
   ]
  },
  {
   "cell_type": "code",
   "execution_count": 18,
   "metadata": {
    "colab": {
     "base_uri": "https://localhost:8080/"
    },
    "id": "qe9rHz_Mi72T",
    "outputId": "979f56bd-b8ce-4c1d-c0e2-9f3be20bfda6"
   },
   "outputs": [
    {
     "name": "stdout",
     "output_type": "stream",
     "text": [
      "[1 2 3 4] int64\n",
      "['1' '2' 'a' 'b'] <U21\n",
      "['1' '2' '3' '4'] <U1\n"
     ]
    }
   ],
   "source": [
    "narr1 = np.array([1,2,3,4])\n",
    "narr2 = np.array([1,2,'a','b'])   # 타입을 정하지 않으면 문자로 처리\n",
    "narr3 = np.array([1,2,3,4],dtype='str')\n",
    "# narr3 = np.array([1,2,'a','b'],dtype='int') / ValueError: invalid literal for int() with base 10: 'a'\n",
    "print(narr1,narr1.dtype)\n",
    "print(narr2,narr2.dtype)\n",
    "print(narr3,narr3.dtype)"
   ]
  },
  {
   "cell_type": "code",
   "execution_count": 73,
   "metadata": {
    "colab": {
     "base_uri": "https://localhost:8080/"
    },
    "id": "r7SqZofVp4RZ",
    "outputId": "90657955-a1af-4f35-8b5d-349723b991d8"
   },
   "outputs": [
    {
     "name": "stdout",
     "output_type": "stream",
     "text": [
      "[0 0 0 0 0 0 0 0 0 0] 1 int64 (10,) 10 <class 'numpy.ndarray'>\n",
      "==============================\n",
      "[0. 0.] 1 float64 (2,) 2 <class 'numpy.ndarray'>\n",
      "==============================\n",
      "[[0. 0.]\n",
      " [0. 0.]] 2 float64 (2, 2) 4 <class 'numpy.ndarray'>\n",
      "==============================\n",
      "[[3 3 3]\n",
      " [3 3 3]\n",
      " [3 3 3]] 2 int64 (3, 3) 9 <class 'numpy.ndarray'>\n",
      "==============================\n",
      "[[1. 1.]\n",
      " [1. 1.]] 2 float64 (2, 2) 4 <class 'numpy.ndarray'>\n",
      "==============================\n",
      "[['number' 'number' 'number']\n",
      " ['number' 'number' 'number']\n",
      " ['number' 'number' 'number']] 2 <U6 (3, 3) 9 <class 'numpy.ndarray'>\n",
      "==============================\n",
      "[[1. 0. 0.]\n",
      " [0. 1. 0.]\n",
      " [0. 0. 1.]] 2 float64 (3, 3) 9 <class 'numpy.ndarray'>\n",
      "==============================\n",
      "[ 1 20 40 60 80] 1 int64 (5,) 5 <class 'numpy.ndarray'>\n",
      "==============================\n",
      "[ 1 21 41 61 81] 1 int64 (5,) 5 <class 'numpy.ndarray'>\n"
     ]
    }
   ],
   "source": [
    "narr4 = np.zeros(10,dtype='int64')\n",
    "narr5 = np.zeros(2)\n",
    "narr6 = np.zeros((2,2))\n",
    "narr7 = np.full((3,3),3)\n",
    "narr8 = np.ones((2,2))\n",
    "narr9 = np.full((3,3),'number')\n",
    "narr10 = np.eye(3)\n",
    "narr11 = np.linspace(1,100,5,endpoint=False,dtype='int64')\n",
    "narr12 = np.arange(1,100,20)\n",
    "print(narr4,narr4.ndim,narr4.dtype,narr4.shape,narr4.size,type(narr4))\n",
    "print(\"=\"*30)\n",
    "print(narr5,narr5.ndim,narr5.dtype,narr5.shape,narr5.size,type(narr5))\n",
    "print(\"=\"*30)\n",
    "print(narr6,narr6.ndim,narr6.dtype,narr6.shape,narr6.size,type(narr6))\n",
    "print(\"=\"*30)\n",
    "print(narr7,narr7.ndim,narr7.dtype,narr7.shape,narr7.size,type(narr7))\n",
    "print(\"=\"*30)\n",
    "print(narr8,narr8.ndim,narr8.dtype,narr8.shape,narr8.size,type(narr8))\n",
    "print(\"=\"*30)\n",
    "print(narr9,narr9.ndim,narr9.dtype,narr9.shape,narr9.size,type(narr9))\n",
    "print(\"=\"*30)\n",
    "print(narr10,narr10.ndim,narr10.dtype,narr10.shape,narr10.size,type(narr10))\n",
    "print(\"=\"*30)\n",
    "print(narr11,narr11.ndim,narr11.dtype,narr11.shape,narr11.size,type(narr11))\n",
    "print(\"=\"*30)\n",
    "print(narr12,narr12.ndim,narr12.dtype,narr12.shape,narr12.size,type(narr12))"
   ]
  },
  {
   "cell_type": "markdown",
   "metadata": {
    "id": "F1_JgYtpuY1_"
   },
   "source": [
    "### 2차원 배열"
   ]
  },
  {
   "cell_type": "code",
   "execution_count": 46,
   "metadata": {
    "colab": {
     "base_uri": "https://localhost:8080/"
    },
    "id": "Qkh40ynXvlaj",
    "outputId": "2817e617-3d20-41ae-f3e5-d37de706ef54"
   },
   "outputs": [
    {
     "name": "stdout",
     "output_type": "stream",
     "text": [
      "[2, 3, 4, 5, 6, 7, 8, 9]\n",
      "[2 3 4 5 6 7 8 9]\n"
     ]
    },
    {
     "data": {
      "text/plain": [
       "array([0, 1, 2, 3, 4, 5, 6, 7, 8, 9])"
      ]
     },
     "execution_count": 46,
     "metadata": {},
     "output_type": "execute_result"
    }
   ],
   "source": [
    "print(list(range(2,10)))\n",
    "print(np.arange(2,10))\n",
    "range(10)\n",
    "np.arange(10)"
   ]
  },
  {
   "cell_type": "code",
   "execution_count": 45,
   "metadata": {
    "colab": {
     "base_uri": "https://localhost:8080/"
    },
    "id": "YOyMlmE6lcu7",
    "outputId": "d20a4a7a-98d2-4468-d20c-0a79bbf2e6b3"
   },
   "outputs": [
    {
     "name": "stdout",
     "output_type": "stream",
     "text": [
      "[[0 0]\n",
      " [0 0]] 2 int64 (2, 2) 4 <class 'numpy.ndarray'>\n"
     ]
    }
   ],
   "source": [
    "arr1 = np.array([[0,0],[0,0]])\n",
    "print(arr1,arr1.ndim,arr1.dtype,arr1.shape,arr1.size,type(arr1))"
   ]
  },
  {
   "cell_type": "code",
   "execution_count": 54,
   "metadata": {
    "colab": {
     "base_uri": "https://localhost:8080/"
    },
    "id": "VBXHbZZDpwBV",
    "outputId": "234bcd36-4957-465d-a2d3-84572278d37f"
   },
   "outputs": [
    {
     "name": "stdout",
     "output_type": "stream",
     "text": [
      "차원: 2 / 데이터타입: int64 / 형태: (3, 3) / 크기: 9 <class 'numpy.ndarray'>\n",
      "차원: 2 / 데이터타입: int64 / 형태: (3, 3) / 크기: 9 <class 'numpy.ndarray'>\n",
      "차원: 2 / 데이터타입: int64 / 형태: (2, 5) / 크기: 10 <class 'numpy.ndarray'>\n",
      "차원: 2 / 데이터타입: int64 / 형태: (5, 2) / 크기: 10 <class 'numpy.ndarray'>\n",
      "차원: 3 / 데이터타입: int64 / 형태: (3, 3, 3) / 크기: 27 <class 'numpy.ndarray'>\n"
     ]
    }
   ],
   "source": [
    "arr2 = np.array([1,2,3,4,5,6,7,8,9]).reshape(3,3)\n",
    "arr3 = np.arange(1,10).reshape(3,3)\n",
    "arr4 = np.arange(1,11).reshape(2,5)\n",
    "arr5 = np.arange(1,11).reshape(5,2)\n",
    "arr6 = np.arange(1,28).reshape(3,3,3)\n",
    "print('차원:',arr2.ndim,'/ 데이터타입:',arr2.dtype,'/ 형태:', arr2.shape,'/ 크기:', arr2.size, type(arr2))\n",
    "print('차원:',arr3.ndim,'/ 데이터타입:',arr3.dtype,'/ 형태:', arr3.shape,'/ 크기:', arr3.size, type(arr3))\n",
    "print('차원:',arr4.ndim,'/ 데이터타입:',arr4.dtype,'/ 형태:', arr4.shape,'/ 크기:', arr4.size, type(arr4))\n",
    "print('차원:',arr5.ndim,'/ 데이터타입:',arr5.dtype,'/ 형태:', arr5.shape,'/ 크기:', arr5.size, type(arr5))\n",
    "print('차원:',arr6.ndim,'/ 데이터타입:',arr6.dtype,'/ 형태:', arr6.shape,'/ 크기:', arr6.size, type(arr6))"
   ]
  },
  {
   "cell_type": "code",
   "execution_count": 100,
   "metadata": {
    "colab": {
     "base_uri": "https://localhost:8080/"
    },
    "id": "9P2f8VQ14ocV",
    "outputId": "d47ff1e7-2bbc-41cc-d452-9c08cb0d585a"
   },
   "outputs": [
    {
     "name": "stdout",
     "output_type": "stream",
     "text": [
      "[[ 1  2  3  4  5  6  7]\n",
      " [ 8  9 10 11 12 13 14]\n",
      " [15 16 17 18 19 20 21]]\n",
      "=========================\n",
      "[[1]\n",
      " [2]\n",
      " [3]\n",
      " [4]\n",
      " [5]\n",
      " [6]\n",
      " [7]]\n",
      "=========================\n",
      "[[ 1  2]\n",
      " [ 3  4]\n",
      " [ 5  6]\n",
      " [ 7  8]\n",
      " [ 9 10]]\n",
      "=========================\n",
      "[[ 1  2  3  4  5  6  7]\n",
      " [ 8  9 10 11 12 13 14]\n",
      " [15 16 17 18 19 20 21]]\n",
      "=========================\n",
      "[[[ 1]\n",
      "  [ 2]\n",
      "  [ 3]]\n",
      "\n",
      " [[ 4]\n",
      "  [ 5]\n",
      "  [ 6]]\n",
      "\n",
      " [[ 7]\n",
      "  [ 8]\n",
      "  [ 9]]\n",
      "\n",
      " [[10]\n",
      "  [11]\n",
      "  [12]]]\n"
     ]
    }
   ],
   "source": [
    "a1 = np.arange(1,22).reshape(3,7)\n",
    "a2 = np.arange(1,8).reshape(7,1)\n",
    "a3 = np.arange(1,11).reshape(5,2)\n",
    "a4 = np.arange(1,22).reshape(3,7)\n",
    "a5 = np.arange(1,13).reshape(4,3,1)\n",
    "print(a1)\n",
    "print(\"=\"*25)\n",
    "print(a2)\n",
    "print(\"=\"*25)\n",
    "print(a3)\n",
    "print(\"=\"*25)\n",
    "print(a4)\n",
    "print(\"=\"*25)\n",
    "print(a5)"
   ]
  },
  {
   "cell_type": "code",
   "execution_count": 86,
   "metadata": {
    "colab": {
     "base_uri": "https://localhost:8080/"
    },
    "id": "-4iGZqHe5mlW",
    "outputId": "0a12ac52-4efb-4d7d-8217-e27b9eaa6d6c"
   },
   "outputs": [
    {
     "name": "stdout",
     "output_type": "stream",
     "text": [
      "[[ 1  2  3  4  5  6  7]\n",
      " [ 8  9 10 11 12 13 14]\n",
      " [15 16 17 18 19 20 21]]\n",
      "=========================\n",
      "[ 8  9 10 11 12 13 14]\n",
      "=========================\n",
      "[10 11 12]\n"
     ]
    }
   ],
   "source": [
    "print(a1)\n",
    "print(\"=\"*25)\n",
    "print(a1[1])\n",
    "print(\"=\"*25)\n",
    "print(a1[1][2:5])"
   ]
  },
  {
   "cell_type": "code",
   "execution_count": 95,
   "metadata": {
    "colab": {
     "base_uri": "https://localhost:8080/"
    },
    "id": "tL8JjmdX-vst",
    "outputId": "7697a418-7151-4bfe-8f7e-3962e07f944b"
   },
   "outputs": [
    {
     "name": "stdout",
     "output_type": "stream",
     "text": [
      "[[ 1  2  3  4  5  6  7]\n",
      " [ 8  9 10 11 12 13 14]\n",
      " [15 16 17 18 19 20 21]]\n",
      "=========================\n",
      "[4 5 6 7]\n",
      "=========================\n",
      "[11 12 13 14]\n",
      "=========================\n",
      "[18 19 20 21]\n"
     ]
    }
   ],
   "source": [
    "print(a4)\n",
    "print(\"=\"*25)\n",
    "print(a4[0][3:])\n",
    "print(\"=\"*25)\n",
    "print(a4[1][3:])\n",
    "print(\"=\"*25)\n",
    "print(a4[2][3:])"
   ]
  },
  {
   "cell_type": "code",
   "execution_count": 109,
   "metadata": {
    "colab": {
     "base_uri": "https://localhost:8080/"
    },
    "id": "i7LUhjrc_L3n",
    "outputId": "62f9f573-6b6b-4c50-a96a-d2e43819976d"
   },
   "outputs": [
    {
     "name": "stdout",
     "output_type": "stream",
     "text": [
      "[[10 11]\n",
      " [17 18]]\n",
      "=========================\n",
      "[[12 13]\n",
      " [19 20]]\n",
      "=========================\n",
      "[[False  True False  True False  True False]\n",
      " [ True False  True False  True False  True]\n",
      " [False  True False  True False  True False]]\n"
     ]
    }
   ],
   "source": [
    "print(a4[1:3,2:4])\n",
    "print(\"=\"*25)\n",
    "print(a4[1:3,4:6])\n",
    "print(\"=\"*25)\n",
    "print(a4 % 2 == 0)"
   ]
  },
  {
   "cell_type": "code",
   "execution_count": 108,
   "metadata": {
    "colab": {
     "base_uri": "https://localhost:8080/"
    },
    "id": "g0glIYTLDm9H",
    "outputId": "9c226b2c-e2a1-4253-9d70-799b2b50cf36"
   },
   "outputs": [
    {
     "name": "stdout",
     "output_type": "stream",
     "text": [
      "[array([[False, False, False, False, False, False, False],\n",
      "       [False, False, False, False, False,  True,  True],\n",
      "       [ True,  True,  True,  True,  True,  True,  True]])]\n",
      "========================================\n",
      "[13 14 15 16 17 18 19 20 21]\n"
     ]
    }
   ],
   "source": [
    "print([a4>12])\n",
    "print(\"=\"*40)\n",
    "print(a4[a4>12])"
   ]
  },
  {
   "cell_type": "code",
   "execution_count": 111,
   "metadata": {
    "colab": {
     "base_uri": "https://localhost:8080/"
    },
    "id": "QpO5M0QHEuGW",
    "outputId": "48509eb1-6783-4a00-8648-ac3783290d46"
   },
   "outputs": [
    {
     "name": "stdout",
     "output_type": "stream",
     "text": [
      "덧셈: [ 7  9 11 13 15]\n",
      "뺄셈: [-5 -5 -5 -5 -5]\n",
      "곱셈: [ 6 14 24 36 50]\n",
      "나눗셈: [0.16666667 0.28571429 0.375      0.44444444 0.5       ]\n"
     ]
    }
   ],
   "source": [
    "# np 배열 연산 // shape 가 같을 경우 원소별 연산이 가\n",
    "np1 = np.array([1,2,3,4,5])\n",
    "np2 = np.array([6,7,8,9,10])\n",
    "print(\"덧셈:\",np1+np2)\n",
    "print(\"뺄셈:\",np1-np2)\n",
    "print(\"곱셈:\",np1*np2)\n",
    "print(\"나눗셈:\",np1/np2)"
   ]
  },
  {
   "cell_type": "code",
   "execution_count": 112,
   "metadata": {
    "colab": {
     "base_uri": "https://localhost:8080/"
    },
    "id": "jBvZLxuyGAVG",
    "outputId": "a8cf11db-12b4-463d-85f3-eeb1dca3a75d"
   },
   "outputs": [
    {
     "name": "stdout",
     "output_type": "stream",
     "text": [
      "[11 12 13 14 15]\n"
     ]
    }
   ],
   "source": [
    "# 브로드캐스팅\n",
    "np3 = np1 + 10\n",
    "print(np3)"
   ]
  },
  {
   "cell_type": "code",
   "execution_count": 129,
   "metadata": {
    "colab": {
     "base_uri": "https://localhost:8080/"
    },
    "id": "_qVX-oHDHTyk",
    "outputId": "f6df073a-fe01-4536-ce78-37dcb25f61f6"
   },
   "outputs": [
    {
     "name": "stdout",
     "output_type": "stream",
     "text": [
      "[[1 2 3]\n",
      " [4 5 6]\n",
      " [7 8 9]]\n",
      "---------------\n",
      "[11 22 33]\n",
      "==스칼라와 연산==\n",
      "[[ 4  5  6]\n",
      " [ 7  8  9]\n",
      " [10 11 12]]\n",
      "---------------\n",
      "[[ 2  4  6]\n",
      " [ 8 10 12]\n",
      " [14 16 18]]\n",
      "==2D와 1D의 연산==\n",
      "[[12 24 36]\n",
      " [15 27 39]\n",
      " [18 30 42]]\n",
      "---------------\n",
      "[[ 11  44  99]\n",
      " [ 44 110 198]\n",
      " [ 77 176 297]]\n",
      "---------------\n"
     ]
    }
   ],
   "source": [
    "br1 = np.arange(1,10).reshape(3,3)\n",
    "br2 = np.array([11,22,33])\n",
    "print(br1)\n",
    "print(\"-\"*15)\n",
    "print(br2)\n",
    "# 스칼라와 연산\n",
    "print('==스칼라와 연산==')\n",
    "print(br1+3)\n",
    "print(\"-\"*15)\n",
    "print(br1*2)\n",
    "# 2D와 1D의 연산\n",
    "print('==2D와 1D의 연산==')\n",
    "print(br1+br2)\n",
    "print(\"-\"*15)\n",
    "print(br1*br2)\n",
    "print(\"-\"*15)"
   ]
  },
  {
   "cell_type": "code",
   "execution_count": 135,
   "metadata": {
    "colab": {
     "base_uri": "https://localhost:8080/"
    },
    "id": "fckxph6sHXOW",
    "outputId": "c8c14eb5-a729-4fd4-9b6f-e0b32adcbd58"
   },
   "outputs": [
    {
     "name": "stdout",
     "output_type": "stream",
     "text": [
      "[[1 2 3]\n",
      " [4 5 6]\n",
      " [7 8 9]]\n",
      "--------------------\n",
      "[[1 2 3 4 5 6 7 8 9]]\n",
      "--------------------\n",
      "[1 2 3 4 5 6 7 8 9]\n"
     ]
    }
   ],
   "source": [
    "ff = np.arange(1,10).reshape(3,3)\n",
    "print(ff)\n",
    "print(\"-\"*20)\n",
    "print(ff.reshape(1,9))\n",
    "print(\"-\"*20)\n",
    "print(ff.flatten())"
   ]
  }
 ],
 "metadata": {
  "colab": {
   "provenance": [],
   "toc_visible": true
  },
  "kernelspec": {
   "display_name": "Python 3 (ipykernel)",
   "language": "python",
   "name": "python3"
  },
  "language_info": {
   "codemirror_mode": {
    "name": "ipython",
    "version": 3
   },
   "file_extension": ".py",
   "mimetype": "text/x-python",
   "name": "python",
   "nbconvert_exporter": "python",
   "pygments_lexer": "ipython3",
   "version": "3.13.1"
  }
 },
 "nbformat": 4,
 "nbformat_minor": 4
}
