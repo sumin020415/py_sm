{
 "cells": [
  {
   "cell_type": "markdown",
   "id": "72cc15e3-746a-448b-a372-fdca76b47913",
   "metadata": {},
   "source": [
    "# 외부 라이브러리"
   ]
  },
  {
   "cell_type": "markdown",
   "id": "8f1a4c64-4174-480a-9533-969d99e36723",
   "metadata": {},
   "source": [
    "## pip *"
   ]
  },
  {
   "cell_type": "markdown",
   "id": "0ab709bd-ec4b-4f14-a022-ab61523c784f",
   "metadata": {},
   "source": [
    "- venv1 생성 후 백업: pip freeze > requirements.txt\n",
    "- venv2 생성 후 복구: pip install -r requirements.txt\n",
    "- venv3 jupyterlab 설치후 matplotlib 설치 후 백업하고\n",
    "- venv4 에 pip 리스트 그대로 복구하라.\n",
    "- venv5 에 numpy 2.2.2 버전으로 복구되도록 requirements.txt 수정 후 복구하라.\n"
   ]
  },
  {
   "cell_type": "markdown",
   "id": "4fc47db5-4cb6-4b53-af91-b5b0a29e4c7c",
   "metadata": {},
   "source": [
    "## Faker"
   ]
  },
  {
   "cell_type": "code",
   "execution_count": 1,
   "id": "cb4896dc-9e2b-4982-9e33-08339600ef7e",
   "metadata": {},
   "outputs": [
    {
     "name": "stdout",
     "output_type": "stream",
     "text": [
      "Collecting Faker\n",
      "  Downloading Faker-36.1.1-py3-none-any.whl.metadata (15 kB)\n",
      "Collecting tzdata (from Faker)\n",
      "  Downloading tzdata-2025.1-py2.py3-none-any.whl.metadata (1.4 kB)\n",
      "Downloading Faker-36.1.1-py3-none-any.whl (1.9 MB)\n",
      "   ---------------------------------------- 0.0/1.9 MB ? eta -:--:--\n",
      "   ---------------------------------------- 1.9/1.9 MB 48.4 MB/s eta 0:00:00\n",
      "Downloading tzdata-2025.1-py2.py3-none-any.whl (346 kB)\n",
      "Installing collected packages: tzdata, Faker\n",
      "Successfully installed Faker-36.1.1 tzdata-2025.1\n"
     ]
    }
   ],
   "source": [
    "# !pip install Faker"
   ]
  },
  {
   "cell_type": "code",
   "execution_count": 12,
   "id": "2b8b6344-c0e9-4caa-b868-3e1c33f04fa6",
   "metadata": {},
   "outputs": [
    {
     "data": {
      "text/plain": [
       "[{'name': '김혜진',\n",
       "  'id': 'haeun96',\n",
       "  'phone': '053-883-9980',\n",
       "  'email': 'hyejinmun@example.net'},\n",
       " {'name': '오은경',\n",
       "  'id': 'gimseohyeon',\n",
       "  'phone': '053-532-0488',\n",
       "  'email': 'lgim@example.org'},\n",
       " {'name': '최민수',\n",
       "  'id': 'zgim',\n",
       "  'phone': '055-433-6195',\n",
       "  'email': 'igim@example.org'},\n",
       " {'name': '심성현',\n",
       "  'id': 'vgim',\n",
       "  'phone': '010-9700-2366',\n",
       "  'email': 'yunmiyeong@example.com'},\n",
       " {'name': '백재호',\n",
       "  'id': 'lbag',\n",
       "  'phone': '053-750-7950',\n",
       "  'email': 'gwangsugim@example.com'},\n",
       " {'name': '민우진',\n",
       "  'id': 'ijeongja',\n",
       "  'phone': '052-166-7957',\n",
       "  'email': 'xi@example.com'},\n",
       " {'name': '강숙자',\n",
       "  'id': 'doyun00',\n",
       "  'phone': '054-297-5471',\n",
       "  'email': 'ti@example.org'},\n",
       " {'name': '황지원',\n",
       "  'id': 'hyejin02',\n",
       "  'phone': '033-044-6262',\n",
       "  'email': 'seonghungim@example.com'},\n",
       " {'name': '이지영',\n",
       "  'id': 'yunseo07',\n",
       "  'phone': '019-369-2552',\n",
       "  'email': 'haeun19@example.com'},\n",
       " {'name': '강예진',\n",
       "  'id': 'vgim',\n",
       "  'phone': '042-170-2026',\n",
       "  'email': 'iyujin@example.net'}]"
      ]
     },
     "execution_count": 12,
     "metadata": {},
     "output_type": "execute_result"
    }
   ],
   "source": [
    "from faker import Faker\n",
    "fake = Faker('ko-KR')\n",
    "[{'name':fake.name(),'id':fake.user_name(),'phone':fake.phone_number(),'email':fake.email()} for n in range(10)]"
   ]
  },
  {
   "cell_type": "markdown",
   "id": "43868f4a-6103-42a8-b80f-1bf51c4388bd",
   "metadata": {},
   "source": [
    "`<table style=\"float:left;width:400px\">`\n",
    "<table style=\"float:left;width:400px\">\n",
    "<thead>\n",
    "<tr>\n",
    "<th>항목</th>\n",
    "<th>설명</th>\n",
    "</tr>\n",
    "</thead>\n",
    "<tbody>\n",
    "<tr>\n",
    "<td>fake.name()</td>\n",
    "<td>이름</td>\n",
    "</tr>\n",
    "<tr>\n",
    "<td>fake.address()</td>\n",
    "<td>주소</td>\n",
    "</tr>\n",
    "<tr>\n",
    "<td>fake.postcode()</td>\n",
    "<td>우편 번호</td>\n",
    "</tr>\n",
    "<tr>\n",
    "<td>fake.country()</td>\n",
    "<td>국가명</td>\n",
    "</tr>\n",
    "<tr>\n",
    "<td>fake.company()</td>\n",
    "<td>회사명</td>\n",
    "</tr>\n",
    "<tr>\n",
    "<td>fake.job()</td>\n",
    "<td>직업명</td>\n",
    "</tr>\n",
    "<tr>\n",
    "<td>fake.phone_number()</td>\n",
    "<td>휴대전화 번호</td>\n",
    "</tr>\n",
    "<tr>\n",
    "<td>fake.email()</td>\n",
    "<td>이메일 주소</td>\n",
    "</tr>\n",
    "<tr>\n",
    "<td>fake.user_name()</td>\n",
    "<td>사용자명</td>\n",
    "</tr>\n",
    "<tr>\n",
    "<td>fake.pyint(min_value=0, max_value=100)</td>\n",
    "<td>0부터 100 사이의 임의의 숫자</td>\n",
    "</tr>\n",
    "<tr>\n",
    "<td>fake.ipv4_private()</td>\n",
    "<td>IP 주소</td>\n",
    "</tr>\n",
    "<tr>\n",
    "<td>fake.text()</td>\n",
    "<td>임의의 문장 (한글 임의의 문장은 <code>fake.catch_phrase()</code> 사용)</td>\n",
    "</tr>\n",
    "<tr>\n",
    "<td>fake.color_name()</td>\n",
    "<td>색상명</td>\n",
    "</tr>\n",
    "</tbody>\n",
    "</table>"
   ]
  },
  {
   "cell_type": "markdown",
   "id": "6d5ec06b-bd36-4329-8adb-9026f9721de0",
   "metadata": {},
   "source": [
    "## sympy"
   ]
  },
  {
   "cell_type": "code",
   "execution_count": 2,
   "id": "1f35529a-1e9a-4ea0-ac5c-3c9ef594ab5d",
   "metadata": {},
   "outputs": [
    {
     "name": "stdout",
     "output_type": "stream",
     "text": [
      "Collecting sympy\n",
      "  Downloading sympy-1.13.3-py3-none-any.whl.metadata (12 kB)\n",
      "Collecting mpmath<1.4,>=1.1.0 (from sympy)\n",
      "  Downloading mpmath-1.3.0-py3-none-any.whl.metadata (8.6 kB)\n",
      "Downloading sympy-1.13.3-py3-none-any.whl (6.2 MB)\n",
      "   ---------------------------------------- 0.0/6.2 MB ? eta -:--:--\n",
      "   ---------------------------------------- 6.2/6.2 MB 79.4 MB/s eta 0:00:00\n",
      "Downloading mpmath-1.3.0-py3-none-any.whl (536 kB)\n",
      "   ---------------------------------------- 0.0/536.2 kB ? eta -:--:--\n",
      "   --------------------------------------- 536.2/536.2 kB 24.8 MB/s eta 0:00:00\n",
      "Installing collected packages: mpmath, sympy\n",
      "Successfully installed mpmath-1.3.0 sympy-1.13.3\n"
     ]
    }
   ],
   "source": [
    "!pip install sympy"
   ]
  },
  {
   "cell_type": "code",
   "execution_count": 3,
   "id": "566e4e50-aeee-4149-8227-4f5aebff4247",
   "metadata": {},
   "outputs": [
    {
     "name": "stdout",
     "output_type": "stream",
     "text": [
      "남은 돈은 2640원 입니다.\n"
     ]
    }
   ],
   "source": [
    "from fractions import Fraction\n",
    "import sympy\n",
    "\n",
    "# 가지고 있던 돈을 x라고 하자.\n",
    "x = sympy.symbols(\"x\")\n",
    "\n",
    "# 가지고 있던 돈의 2/5가 1760원이므로 방정식은 x * (2/5) = 1760 이다.\n",
    "f = sympy.Eq(x*Fraction('2/5'), 1760)\n",
    "\n",
    "# 방정식을 만족하는 값(result)을 구한다.\n",
    "result = sympy.solve(f)  # 결괏값은 리스트\n",
    "\n",
    "# 남은 돈은 다음과 같이 가지고 있던 돈에서 1760원을 빼면 된다.\n",
    "remains = result[0] - 1760\n",
    "\n",
    "print('남은 돈은 {}원 입니다.'.format(remains))"
   ]
  },
  {
   "cell_type": "code",
   "execution_count": 4,
   "id": "55741b82-0cbb-4e11-b732-e1b515cd7b06",
   "metadata": {},
   "outputs": [
    {
     "name": "stdout",
     "output_type": "stream",
     "text": [
      "1위:  REBEL HEART / IVE (아이브)\n"
     ]
    }
   ],
   "source": [
    "import requests as req\n",
    "from bs4 import BeautifulSoup as bs\n",
    "\n",
    "url = 'https://www.melon.com/chart/index.htm'\n",
    "headers = {'User-Agent':'Mozilla/5.0 (Windows NT 10.0; Win64; x64) AppleWebKit/537.36 (KHTML, like Gecko) Chrome/132.0.0.0 Safari/537.36'}\n",
    "\n",
    "web = req.get(url, headers = headers)\n",
    "# print(web)\n",
    "soup = bs(web.content, 'html.parser')\n",
    "# print(soup)\n",
    "title = soup.select_one('.wrap_song_info')\n",
    "# print(title)\n",
    "# <div class=\"wrap_song_info\">\n",
    "# <div class=\"ellipsis rank01\"><span>\n",
    "# <a href=\"javascript:melon.play.playSong('1000002721',38444825);\" title=\"REBEL HEART 재생\">REBEL HEART</a>\n",
    "# </span></div><br/>\n",
    "# <div class=\"ellipsis rank02\">\n",
    "# <a href=\"javascript:melon.link.goArtistDetail('3055146');\" title=\"IVE (아이브) - 페이지 이동\">IVE (아이브)</a><span class=\"checkEllipsis\" style=\"display:none\"><a href=\"javascript:melon.link.goArtistDetail('3055146');\" title=\"IVE (아이브) - 페이지 이동\">IVE (아이브)</a></span>\n",
    "# </div>\n",
    "# </div>\n",
    "atitle = title.select_one('a')\n",
    "#print(atitle) # <a href=\"javascript:melon.play.playSong('1000002721',38444825);\" title=\"REBEL HEART 재생\">REBEL HEART</a>\n",
    "# print(atitle.text)\n",
    "aname0 = title.select_one('.checkEllipsis')\n",
    "aname = aname0.select_one('a')\n",
    "\n",
    "print('1위: ', atitle.text, '/', aname.text)"
   ]
  },
  {
   "cell_type": "code",
   "execution_count": 16,
   "id": "e080d61c-4f6b-42f2-9d05-33e47ed9c5f7",
   "metadata": {},
   "outputs": [
    {
     "name": "stdout",
     "output_type": "stream",
     "text": [
      "1위: REBEL HEART / IVE (아이브)\n",
      "2위: HOME SWEET HOME (feat. 태양, 대성) / G-DRAGON\n",
      "3위: 나는 반딧불 / 황가람\n",
      "4위: 모르시나요(PROD.로코베리) / 조째즈\n",
      "5위: Whiplash / aespa\n",
      "6위: Drowning / WOODZ\n",
      "7위: APT. / 로제 (ROSÉ)\n",
      "8위: ATTITUDE / Bruno Mars\n",
      "9위: 오늘만 I LOVE YOU / IVE (아이브)\n",
      "10위: Dash / BOYNEXTDOOR\n",
      "11위: toxic till the end / PLAVE\n",
      "12위: RIZZ / 로제 (ROSÉ)\n",
      "13위: HAPPY / PLAVE\n",
      "14위: Chroma Drift / DAY6 (데이식스)\n",
      "15위: Island / PLAVE\n",
      "16위: 내게 사랑이 뭐냐고 물어본다면 / PLAVE\n",
      "17위: POWER / 로이킴\n",
      "18위: 12:32 (A to T) / G-DRAGON\n",
      "19위: 사랑은 늘 도망가 / PLAVE\n",
      "20위: DRIP / 임영웅\n",
      " "
     ]
    }
   ],
   "source": [
    "import requests as req\n",
    "from bs4 import BeautifulSoup as bs\n",
    "\n",
    "url = 'https://www.melon.com/chart/index.htm'\n",
    "headers = {'User-Agent':'Mozilla/5.0 (Windows NT 10.0; Win64; x64) AppleWebKit/537.36 (KHTML, like Gecko) Chrome/132.0.0.0 Safari/537.36'}\n",
    "\n",
    "web = req.get(url, headers = headers)\n",
    "\n",
    "soup = bs(web.content, 'html.parser')\n",
    "\n",
    "title = soup.select('.rank01')\n",
    "name = soup.select('.checkEllipsis a')[:20]\n",
    "str = ''\n",
    "# print(title)\n",
    "for i, (t,n) in enumerate(zip(title,name),1):\n",
    "    # print(f'{1}위:', t.text.strip(),'/',n.text)\n",
    "    str += f'{i}위: {t.text.strip()} / {n.text}\\n'\n",
    "print(str,end=' ')\n",
    "    # aname = name.select_one('a')\n",
    "\n",
    "# atitle = title.select_one('a')\n",
    "\n",
    "# aname0 = title.select_one('.checkEllipsis')\n",
    "# aname = aname0.select_one('a')\n",
    "\n",
    "# print('1위: ', atitle.text, '/', aname.text)"
   ]
  },
  {
   "cell_type": "code",
   "execution_count": 7,
   "id": "bdb2f59e-6a89-4ece-b049-2792f82f4367",
   "metadata": {},
   "outputs": [
    {
     "name": "stdout",
     "output_type": "stream",
     "text": [
      "1위: REBEL HEART / IVE (아이브)\n",
      "2위: HOME SWEET HOME (feat. 태양, 대성) / G-DRAGON\n",
      "3위: 나는 반딧불 / 황가람\n",
      "4위: Whiplash / aespa\n",
      "5위: APT. / 로제 (ROSÉ)\n",
      "6위: 오늘만 I LOVE YOU / Bruno Mars\n",
      "7위: Drowning / BOYNEXTDOOR\n",
      "8위: ATTITUDE / WOODZ\n",
      "9위: toxic till the end / IVE (아이브)\n",
      "10위: Dash / 로제 (ROSÉ)\n",
      "11위: POWER / PLAVE\n",
      "12위: HAPPY / G-DRAGON\n",
      "13위: 내게 사랑이 뭐냐고 물어본다면 / DAY6 (데이식스)\n",
      "14위: RIZZ / 로이킴\n",
      "15위: DRIP / PLAVE\n",
      "16위: Chroma Drift / BABYMONSTER\n",
      "17위: Island / PLAVE\n",
      "18위: 소나기 / PLAVE\n",
      "19위: 12:32 (A to T) / 이클립스 (ECLIPSE)\n",
      "20위: 너와의 모든 지금 / PLAVE\n",
      " "
     ]
    }
   ],
   "source": [
    "import melon\n",
    "melon.mel()"
   ]
  },
  {
   "cell_type": "code",
   "execution_count": 5,
   "id": "5703f91a-17b8-41ef-a814-c515972cc61e",
   "metadata": {},
   "outputs": [
    {
     "name": "stdout",
     "output_type": "stream",
     "text": [
      "1위: 삼성전자 58,200원\n",
      "2위: SK하이닉스 209,500원\n",
      "3위: LG에너지솔루션 378,500원\n",
      "4위: 삼성바이오로직스 1,157,000원\n",
      "5위: 현대차 206,000원\n",
      "6위: 삼성전자우 49,000원\n",
      "7위: 셀트리온 178,200원\n",
      "8위: 기아 94,600원\n",
      "9위: NAVER 226,500원\n",
      "10위: KB금융 82,700원\n",
      "11위: 한화에어로스페이스 660,000원\n",
      "12위: HD현대중공업 301,000원\n",
      "13위: 신한지주 47,650원\n",
      "14위: 메리츠금융지주 125,000원\n",
      "15위: 현대모비스 254,500원\n",
      "16위: POSCO홀딩스 282,000원\n",
      "17위: 한화오션 73,000원\n",
      "18위: 삼성물산 128,900원\n",
      "19위: SK이노베이션 132,400원\n",
      "20위: 두산에너빌리티 28,950원\n",
      "21위: 삼성화재 389,500원\n",
      "22위: 삼성생명 90,300원\n",
      "23위: 하나금융지주 62,300원\n",
      "24위: LG화학 251,000원\n",
      "25위: 카카오 39,900원\n",
      "26위: 고려아연 816,000원\n",
      "27위: HMM 18,670원\n",
      "28위: 삼성SDI 231,500원\n",
      "29위: 크래프톤 327,500원\n",
      "30위: HD한국조선해양 214,000원\n",
      "31위: 한국전력 21,900원\n",
      "32위: HD현대일렉트릭 375,000원\n",
      "33위: LG전자 82,400원\n",
      "34위: SK스퀘어 100,100원\n",
      "35위: KT&G 104,100원\n",
      "36위: 우리금융지주 17,220원\n",
      "37위: SK텔레콤 58,200원\n",
      "38위: 기업은행 15,500원\n",
      "39위: KT 47,200원\n",
      "40위: 삼성중공업 13,370원\n",
      "41위: 카카오뱅크 24,150원\n",
      "42위: 포스코퓨처엠 145,700원\n",
      "43위: LG 70,600원\n",
      "44위: SK 148,100원\n",
      "45위: 삼성전기 143,200원\n",
      "46위: 한미반도체 105,900원\n",
      "47위: 하이브 245,500원\n",
      "48위: 현대글로비스 133,900원\n",
      "49위: 삼성에스디에스 129,000원\n",
      "50위: 현대로템 91,000원\n"
     ]
    }
   ],
   "source": [
    "import requests as req\n",
    "from bs4 import BeautifulSoup as bs\n",
    "\n",
    "url = 'https://finance.naver.com/sise/sise_market_sum.naver'\n",
    "web = req.get(url)\n",
    "# print(web)\n",
    "soup = bs(web.content, 'html.parser')\n",
    "# soup = bs(web.content, 'html5lib')\n",
    "# print(soup)\n",
    "title = soup.select('.type_2')\n",
    "name = soup.select('.tltle')\n",
    "# print(title)\n",
    "# print(name)\n",
    "atitle = soup.select('.type_2')\n",
    "# atitle = soup.select('tbody')\n",
    "# aname = soup.select('.number')\n",
    "# aname = soup.select('tbody')[0:2]\n",
    "# aname = soup.select('td:first-child')\n",
    "# aname = soup.select('table.type_2 tbody tr td.number')\n",
    "aname = soup.select('td.number:nth-child(3)')\n",
    "# print(aname)\n",
    "for i, (n,a) in enumerate(zip(name,aname),1):\n",
    "# for i, n, a in enumerate(name,1, aname):\n",
    "    print(f'{i}위: {n.text} {a.text}원')"
   ]
  },
  {
   "cell_type": "code",
   "execution_count": 2,
   "id": "a39cf51c-3844-4bda-8275-c02def78b77c",
   "metadata": {},
   "outputs": [
    {
     "name": "stdout",
     "output_type": "stream",
     "text": [
      "1위: 삼성전자 58,800\n",
      "2위: SK하이닉스 217,500\n",
      "3위: LG에너지솔루션 374,000\n",
      "4위: 삼성바이오로직스 1,129,000\n",
      "5위: 현대차 202,000\n",
      "6위: 삼성전자우 49,250\n",
      "7위: 셀트리온 180,200\n",
      "8위: 기아 93,800\n",
      "9위: NAVER 220,500\n",
      "10위: KB금융 82,300\n",
      "11위: HD현대중공업 318,500\n",
      "12위: 한화에어로스페이스 611,000\n",
      "13위: 신한지주 47,600\n",
      "14위: 삼성물산 133,000\n",
      "15위: 메리츠금융지주 123,900\n",
      "16위: 현대모비스 250,500\n",
      "17위: 한화오션 73,200\n",
      "18위: POSCO홀딩스 264,000\n",
      "19위: 삼성생명 100,900\n",
      "20위: SK이노베이션 131,100\n",
      "21위: 삼성화재 405,000\n",
      "22위: 두산에너빌리티 28,550\n",
      "23위: 하나금융지주 62,300\n",
      "24위: 카카오 40,150\n",
      "25위: LG화학 248,000\n",
      "26위: 고려아연 817,000\n",
      "27위: HMM 18,550\n",
      "28위: 크래프톤 331,000\n",
      "29위: HD한국조선해양 223,500\n",
      "30위: 삼성SDI 229,500\n",
      "31위: 한국전력 21,450\n",
      "32위: SK스퀘어 102,500\n",
      "33위: HD현대일렉트릭 377,000\n",
      "34위: LG전자 81,900\n",
      "35위: KT&G 105,300\n",
      "36위: 우리금융지주 17,400\n",
      "37위: SK텔레콤 57,900\n",
      "38위: 기업은행 15,550\n",
      "39위: 삼성중공업 13,970\n",
      "40위: KT 47,200\n",
      "41위: 카카오뱅크 23,850\n",
      "42위: 포스코퓨처엠 143,500\n",
      "43위: LG 70,200\n",
      "44위: SK 150,200\n",
      "45위: 삼성전기 141,500\n",
      "46위: 하이브 250,500\n",
      "47위: 한미반도체 106,100\n",
      "48위: 삼성에스디에스 130,100\n",
      "49위: 유한양행 123,300\n",
      "50위: 현대글로비스 128,200\n"
     ]
    }
   ],
   "source": [
    "import sise\n",
    "sise.nsise()"
   ]
  },
  {
   "cell_type": "code",
   "execution_count": 3,
   "id": "efa01882-d4cd-463c-81fd-83a793480173",
   "metadata": {},
   "outputs": [
    {
     "name": "stdout",
     "output_type": "stream",
     "text": [
      "Collecting html5lib\n",
      "  Downloading html5lib-1.1-py2.py3-none-any.whl.metadata (16 kB)\n",
      "Requirement already satisfied: six>=1.9 in c:\\users\\admin\\appdata\\local\\programs\\python\\python313\\lib\\site-packages (from html5lib) (1.17.0)\n",
      "Requirement already satisfied: webencodings in c:\\users\\admin\\appdata\\local\\programs\\python\\python313\\lib\\site-packages (from html5lib) (0.5.1)\n",
      "Downloading html5lib-1.1-py2.py3-none-any.whl (112 kB)\n",
      "Installing collected packages: html5lib\n",
      "Successfully installed html5lib-1.1\n"
     ]
    }
   ],
   "source": [
    "!pip install html5lib"
   ]
  },
  {
   "cell_type": "code",
   "execution_count": 12,
   "id": "c83a0e03-2b21-498a-b4e5-0d6006c18237",
   "metadata": {},
   "outputs": [
    {
     "name": "stdout",
     "output_type": "stream",
     "text": [
      "====================\n",
      "월 2025.02.17\n",
      "--------------------\n",
      "정식-5,500원 강황밥\n",
      "김치콩나물국\n",
      "돈육바싹불고기\n",
      "모듬잡채\n",
      "멸치새우견과볶음\n",
      "상추겉절이\n",
      "포기김치\n",
      "\n",
      "====================\n",
      "화 2025.02.18\n",
      "--------------------\n",
      "정식-5,500원 백미밥\n",
      "물만두국\n",
      "순살닭매콤조림\n",
      "쫄면야채무침\n",
      "파래무무침\n",
      "참나물겉절이\n",
      "포기김치\n",
      "\n",
      "====================\n",
      "수 2025.02.19\n",
      "--------------------\n",
      "정식-5,500원 백미밥\n",
      "모듬어묵국\n",
      "함박스테이크/치즈/소스\n",
      "스파게티/소스\n",
      "치커리유자청샐러드\n",
      "콩나물무침\n",
      "포기김치\n",
      "\n",
      "====================\n",
      "목 2025.02.20\n",
      "--------------------\n",
      "정식-5,500원 잡곡밥\n",
      "홍합미역국\n",
      "순살치킨/맛초킹소스\n",
      "꼬시레기두부무침\n",
      "잡채어묵조림\n",
      "상추겉절이\n",
      "포기김치\n",
      "\n",
      "====================\n",
      "금 2025.02.21\n",
      "--------------------\n",
      "정식-5,500원 백미밥\n",
      "국수\n",
      "깐풍기/소스\n",
      "알감자버터구이\n",
      "도토리묵김치무침\n",
      "열무겉절이\n",
      "포기김치\n",
      "\n"
     ]
    }
   ],
   "source": [
    "import requests as req\n",
    "from bs4 import BeautifulSoup as bs\n",
    "url = \"https://www.pusan.ac.kr/kor/CMS/MenuMgr/menuListOnBuilding.do?mCode=MN202\"\n",
    "headers = {'User-Agent':'Mozilla/5.0 (Windows NT 10.0; Win64; x64) AppleWebKit/537.36 (KHTML, like Gecko) Chrome/133.0.0.0 Safari/537.36 Edg/133.0.0.0'}\n",
    "web = req.get(url, headers = headers)\n",
    "soup = bs(web.content, 'html5lib')\n",
    "menucard = soup.select('.menu-tb1')\n",
    "won = soup.select('.menu-tit01')\n",
    "menu = soup.select('h3.menu-tit01+p')\n",
    "day = soup.select('.day')\n",
    "date = soup.select('.date')\n",
    "# test = soup.select('#cont > div.menu-wr > div.is-wauto-box.menu-tbl-wr > table > tbody > tr:nth-child(2) > td:nth-child(2) > ul > li > p')\n",
    "for d, dd, w, m in zip(day, date, won,menu):\n",
    "    print('='*20)\n",
    "    print(d.text, dd.text)\n",
    "    print('-'*20)\n",
    "    print(w.text, m.text)"
   ]
  },
  {
   "cell_type": "code",
   "execution_count": 20,
   "id": "4737928a-d644-4bad-b78b-0a25b40e47b8",
   "metadata": {},
   "outputs": [
    {
     "name": "stdout",
     "output_type": "stream",
     "text": [
      "월 2025.02.17\n",
      "정식-5,500원\n",
      "강황밥\n",
      "김치콩나물국\n",
      "돈육바싹불고기\n",
      "모듬잡채\n",
      "멸치새우견과볶음\n",
      "상추겉절이\n",
      "포기김치\n",
      "\n",
      "--------------------\n",
      "화 2025.02.18\n",
      "정식-5,500원\n",
      "백미밥\n",
      "물만두국\n",
      "순살닭매콤조림\n",
      "쫄면야채무침\n",
      "파래무무침\n",
      "참나물겉절이\n",
      "포기김치\n",
      "\n",
      "--------------------\n",
      "수 2025.02.19\n",
      "정식-5,500원\n",
      "백미밥\n",
      "모듬어묵국\n",
      "함박스테이크/치즈/소스\n",
      "스파게티/소스\n",
      "치커리유자청샐러드\n",
      "콩나물무침\n",
      "포기김치\n",
      "\n",
      "--------------------\n",
      "목 2025.02.20\n",
      "정식-5,500원\n",
      "잡곡밥\n",
      "홍합미역국\n",
      "순살치킨/맛초킹소스\n",
      "꼬시레기두부무침\n",
      "잡채어묵조림\n",
      "상추겉절이\n",
      "포기김치\n",
      "\n",
      "--------------------\n",
      "금 2025.02.21\n",
      "정식-5,500원\n",
      "백미밥\n",
      "국수\n",
      "깐풍기/소스\n",
      "알감자버터구이\n",
      "도토리묵김치무침\n",
      "열무겉절이\n",
      "포기김치\n",
      "\n",
      "--------------------\n"
     ]
    }
   ],
   "source": [
    "import bab\n",
    "bab.bbab()"
   ]
  },
  {
   "cell_type": "code",
   "execution_count": 17,
   "id": "e161c250-35da-4671-a4d9-c31d89a0a290",
   "metadata": {},
   "outputs": [
    {
     "name": "stdout",
     "output_type": "stream",
     "text": [
      "1위: REBEL HEART / IVE (아이브)\n",
      "2위: 모르시나요 (Prod. by 로코베리) / 조째즈\n",
      "3위: 나는 반딧불 / 황가람\n",
      "4위: HOME SWEET HOME (Feat. 태양 & 대성) / G-DRAGON\n",
      "5위: Drowning / WOODZ\n",
      "6위: Whiplash / aespa\n",
      "7위: ATTITUDE / IVE (아이브)\n",
      "8위: APT. / 로제 (ROSÉ) & Bruno Mars\n",
      "9위: HAPPY / DAY6 (데이식스)\n",
      "10위: 내게 사랑이 뭐냐고 물어본다면 / 로이킴\n",
      "11위: toxic till the end / 로제 (ROSÉ)\n",
      "12위: 내 이름 맑음 / QWER\n",
      "13위: 사랑은 늘 도망가 / 임영웅\n",
      "14위: POWER / G-DRAGON\n",
      "15위: Welcome to the Show / DAY6 (데이식스)\n",
      "16위: 한 페이지가 될 수 있게 / DAY6 (데이식스)\n",
      "17위: Supernova / aespa\n",
      "18위: 미치게 그리워서 / 황가람\n",
      "19위: 소나기 / 이클립스 (ECLIPSE)\n",
      "20위: 우리들의 블루스 / 임영웅\n",
      "21위: 이제 나만 믿어요 / 임영웅\n",
      "22위: 너와의 모든 지금 / 재쓰비 (JAESSBEE)\n",
      "23위: 다시 만날 수 있을까 / 임영웅\n",
      "24위: 슬픈 초대장 / 순순희 (지환)\n",
      "25위: 예뻤어 / DAY6 (데이식스)\n",
      "26위: 모래 알갱이 / 임영웅\n",
      "27위: Home / 임영웅\n",
      "28위: 무지개 / 임영웅\n",
      "29위: 천상연 / 이창섭\n",
      "30위: 온기 / 임영웅\n",
      "31위: 고민중독 / QWER\n",
      "32위: 오늘만 I LOVE YOU / BOYNEXTDOOR\n",
      "33위: London Boy / 임영웅\n",
      "34위: Die With A Smile / Lady Gaga & Bruno Mars\n",
      "35위: Polaroid / 임영웅\n",
      "36위: Do or Die / 임영웅\n",
      "37위: 인생찬가 / 임영웅\n",
      "38위: 청춘만화 / 이무진\n",
      "39위: UP (KARINA Solo) / aespa\n",
      "40위: 에피소드 / 이무진\n",
      "41위: 나는 아픈 건 딱 질색이니까 / (여자)아이들\n",
      "42위: 연애편지 / 임영웅\n",
      "43위: Storm / 김보경 (NEON)\n",
      "44위: 보금자리 / 임영웅\n",
      "45위: DRIP / BABYMONSTER\n",
      "46위: Mantra / 제니 (JENNIE)\n",
      "47위: Love wins all / 아이유 (IU)\n",
      "48위: 비의 랩소디 / 임재현\n",
      "49위: 청혼하지 않을 이유를 못 찾았어 / 이무진\n",
      "50위: 단 / 허각\n"
     ]
    }
   ],
   "source": [
    "import requests as req\n",
    "from bs4 import BeautifulSoup as bs\n",
    "url = \"https://www.genie.co.kr/chart/top200\"\n",
    "headers = {'User-Agent':'Mozilla/5.0 (Windows NT 10.0; Win64; x64) AppleWebKit/537.36 (KHTML, like Gecko) Chrome/133.0.0.0 Safari/537.36 Edg/133.0.0.0'}\n",
    "web = req.get(url, headers = headers)\n",
    "soup = bs(web.content, 'html.parser')\n",
    "#위에서 여기까지 쭉 적어주기\n",
    "title = soup.select('.info .title') #앞은 상위, 띄어쓰기 하고 뒤에 하위를 적어주면 된다\n",
    "artist = soup.select('.info .artist')\n",
    "# print(title)\n",
    "for i,(t,a) in enumerate(zip(title,artist),1):\n",
    "    print(f'{i}위: {t.text.strip()} / {a.text.strip()}') #strip()공백 없앰"
   ]
  },
  {
   "cell_type": "code",
   "execution_count": 20,
   "id": "a773696a-29a0-41ae-8789-7fc091168948",
   "metadata": {},
   "outputs": [
    {
     "name": "stdout",
     "output_type": "stream",
     "text": [
      "월 2025.02.17\n",
      "정식-5,500원\n",
      "강황밥\n",
      "김치콩나물국\n",
      "돈육바싹불고기\n",
      "모듬잡채\n",
      "멸치새우견과볶음\n",
      "상추겉절이\n",
      "포기김치\n",
      "\n",
      "--------------------\n",
      "화 2025.02.18\n",
      "정식-5,500원\n",
      "백미밥\n",
      "물만두국\n",
      "순살닭매콤조림\n",
      "쫄면야채무침\n",
      "파래무무침\n",
      "참나물겉절이\n",
      "포기김치\n",
      "\n",
      "--------------------\n",
      "수 2025.02.19\n",
      "정식-5,500원\n",
      "백미밥\n",
      "모듬어묵국\n",
      "함박스테이크/치즈/소스\n",
      "스파게티/소스\n",
      "치커리유자청샐러드\n",
      "콩나물무침\n",
      "포기김치\n",
      "\n",
      "--------------------\n",
      "목 2025.02.20\n",
      "정식-5,500원\n",
      "잡곡밥\n",
      "홍합미역국\n",
      "순살치킨/맛초킹소스\n",
      "꼬시레기두부무침\n",
      "잡채어묵조림\n",
      "상추겉절이\n",
      "포기김치\n",
      "\n",
      "--------------------\n",
      "금 2025.02.21\n",
      "정식-5,500원\n",
      "백미밥\n",
      "국수\n",
      "깐풍기/소스\n",
      "알감자버터구이\n",
      "도토리묵김치무침\n",
      "열무겉절이\n",
      "포기김치\n",
      "\n",
      "--------------------\n"
     ]
    }
   ],
   "source": [
    "import bab\n",
    "bab.bbab()"
   ]
  },
  {
   "cell_type": "code",
   "execution_count": 9,
   "id": "421a0b18-7de8-40e6-9107-6ae686724dc6",
   "metadata": {},
   "outputs": [
    {
     "name": "stdout",
     "output_type": "stream",
     "text": [
      "Collecting python-telegram-bot\n",
      "  Downloading python_telegram_bot-21.10-py3-none-any.whl.metadata (17 kB)\n",
      "Requirement already satisfied: httpx~=0.27 in c:\\users\\admin\\appdata\\local\\programs\\python\\python313\\lib\\site-packages (from python-telegram-bot) (0.28.1)\n",
      "Requirement already satisfied: anyio in c:\\users\\admin\\appdata\\local\\programs\\python\\python313\\lib\\site-packages (from httpx~=0.27->python-telegram-bot) (4.8.0)\n",
      "Requirement already satisfied: certifi in c:\\users\\admin\\appdata\\local\\programs\\python\\python313\\lib\\site-packages (from httpx~=0.27->python-telegram-bot) (2025.1.31)\n",
      "Requirement already satisfied: httpcore==1.* in c:\\users\\admin\\appdata\\local\\programs\\python\\python313\\lib\\site-packages (from httpx~=0.27->python-telegram-bot) (1.0.7)\n",
      "Requirement already satisfied: idna in c:\\users\\admin\\appdata\\local\\programs\\python\\python313\\lib\\site-packages (from httpx~=0.27->python-telegram-bot) (3.10)\n",
      "Requirement already satisfied: h11<0.15,>=0.13 in c:\\users\\admin\\appdata\\local\\programs\\python\\python313\\lib\\site-packages (from httpcore==1.*->httpx~=0.27->python-telegram-bot) (0.14.0)\n",
      "Requirement already satisfied: sniffio>=1.1 in c:\\users\\admin\\appdata\\local\\programs\\python\\python313\\lib\\site-packages (from anyio->httpx~=0.27->python-telegram-bot) (1.3.1)\n",
      "Downloading python_telegram_bot-21.10-py3-none-any.whl (669 kB)\n",
      "   ---------------------------------------- 0.0/669.5 kB ? eta -:--:--\n",
      "   --------------------------------------- 669.5/669.5 kB 24.1 MB/s eta 0:00:00\n",
      "Installing collected packages: python-telegram-bot\n",
      "Successfully installed python-telegram-bot-21.10\n"
     ]
    }
   ],
   "source": [
    "!pip install python-telegram-bot"
   ]
  },
  {
   "cell_type": "code",
   "execution_count": 19,
   "id": "82815bde-12d4-4318-a085-02bf169638e2",
   "metadata": {},
   "outputs": [
    {
     "name": "stdout",
     "output_type": "stream",
     "text": [
      "봇이 실행중입니다.\n"
     ]
    }
   ],
   "source": [
    "import asyncio\n",
    "import nest_asyncio #주피터랩용\n",
    "from dotenv import load_dotenv\n",
    "import os\n",
    "\n",
    "# .env 파일 로드\n",
    "load_dotenv()\n",
    "\n",
    "\n",
    "from telegram import Update\n",
    "from telegram.ext import Application, CommandHandler, MessageHandler, filters, CallbackContext\n",
    "nest_asyncio.apply()\n",
    "\n",
    "TELEGRAM_TOKEN = os.getenv(\"TELEGRAM_TOKEN\")\n",
    "\n",
    "# async def start(update: Update, context: CallbackContext):\n",
    "async def start(update, context):\n",
    "    await context.bot.send_message(chat_id=update.effective_chat.id, text='봇이 가동되었습니다!')\n",
    "\n",
    "# async def handle_message(update: Update, context: CallbackContext):\n",
    "async def handle_message(update, context):\n",
    "    user_message = update.message.text.lower() #Text -> text\n",
    "\n",
    "    if '선생님' in user_message:\n",
    "        response='수업 열심히 해봅시다!'\n",
    "    elif '날씨' in user_message:\n",
    "        response='오늘은 추워요~'\n",
    "    print(response)\n",
    "\n",
    "    #응답 메시지 전송\n",
    "    await context.bot.send_message(chat_id=update.effective_chat.id, text=response)\n",
    "\n",
    "async def main():\n",
    "    application = Application.builder().token(TELEGRAM_TOKEN).build()\n",
    "    await application.initialize() #초기화 필수\n",
    "\n",
    "    #핸들러 추가\n",
    "    application.add_handler(CommandHandler('start',start))\n",
    "    application.add_handler(MessageHandler(filters.TEXT & ~filters.COMMAND, handle_message))\n",
    "\n",
    "    await application.start()\n",
    "    print('봇이 실행중입니다.')\n",
    "\n",
    "    await application.updater.start_polling()\n",
    "\n",
    "if __name__=='__main__':\n",
    "    asyncio.run(main())"
   ]
  },
  {
   "cell_type": "code",
   "execution_count": 26,
   "id": "881f0304-bd01-4f5e-9432-bc809e36c45e",
   "metadata": {},
   "outputs": [
    {
     "ename": "ModuleNotFoundError",
     "evalue": "No module named 'talk_db'",
     "output_type": "error",
     "traceback": [
      "\u001b[1;31m---------------------------------------------------------------------------\u001b[0m",
      "\u001b[1;31mModuleNotFoundError\u001b[0m                       Traceback (most recent call last)",
      "Cell \u001b[1;32mIn[26], line 1\u001b[0m\n\u001b[1;32m----> 1\u001b[0m \u001b[38;5;28;01mimport\u001b[39;00m\u001b[38;5;250m \u001b[39m\u001b[38;5;21;01mbot\u001b[39;00m\n\u001b[0;32m      2\u001b[0m bot\u001b[38;5;241m.\u001b[39mmain()\n",
      "File \u001b[1;32md:\\PSM\\code\\bot.py:3\u001b[0m\n\u001b[0;32m      1\u001b[0m \u001b[38;5;28;01mfrom\u001b[39;00m\u001b[38;5;250m \u001b[39m\u001b[38;5;21;01mtelegram\u001b[39;00m\u001b[38;5;250m \u001b[39m\u001b[38;5;28;01mimport\u001b[39;00m Update\n\u001b[0;32m      2\u001b[0m \u001b[38;5;28;01mfrom\u001b[39;00m\u001b[38;5;250m \u001b[39m\u001b[38;5;21;01mtelegram\u001b[39;00m\u001b[38;5;21;01m.\u001b[39;00m\u001b[38;5;21;01mext\u001b[39;00m\u001b[38;5;250m \u001b[39m\u001b[38;5;28;01mimport\u001b[39;00m Application, CommandHandler, MessageHandler, filters, CallbackContext\n\u001b[1;32m----> 3\u001b[0m \u001b[38;5;28;01mimport\u001b[39;00m\u001b[38;5;250m \u001b[39m\u001b[38;5;21;01mtalk_db\u001b[39;00m\u001b[38;5;250m \u001b[39m\u001b[38;5;28;01mas\u001b[39;00m\u001b[38;5;250m \u001b[39m\u001b[38;5;21;01mtk\u001b[39;00m\n\u001b[0;32m      5\u001b[0m TOKEN \u001b[38;5;241m=\u001b[39m \u001b[38;5;124m'\u001b[39m\u001b[38;5;124m7925059034:AAFfTMw5p-PVYUWYZtO0zGwHa5RmUNrcHH4\u001b[39m\u001b[38;5;124m'\u001b[39m\n\u001b[0;32m      7\u001b[0m TRIGGER_WORDS \u001b[38;5;241m=\u001b[39m {\n\u001b[0;32m      8\u001b[0m     \u001b[38;5;124m'\u001b[39m\u001b[38;5;124m안녕\u001b[39m\u001b[38;5;124m'\u001b[39m:\u001b[38;5;124m'\u001b[39m\u001b[38;5;124m안녕하세요! 반가워용😊\u001b[39m\u001b[38;5;124m'\u001b[39m,\n\u001b[0;32m      9\u001b[0m     \u001b[38;5;124m'\u001b[39m\u001b[38;5;124m정보\u001b[39m\u001b[38;5;124m'\u001b[39m:\u001b[38;5;124m'\u001b[39m\u001b[38;5;124m어떤 정보가 필요하세요?🤔\u001b[39m\u001b[38;5;124m'\u001b[39m,\n\u001b[0;32m     10\u001b[0m     \u001b[38;5;124m'\u001b[39m\u001b[38;5;124m기분\u001b[39m\u001b[38;5;124m'\u001b[39m:\u001b[38;5;124m'\u001b[39m\u001b[38;5;124m오늘 기분이 좋아요😍\u001b[39m\u001b[38;5;124m'\u001b[39m\n\u001b[0;32m     11\u001b[0m }\n",
      "\u001b[1;31mModuleNotFoundError\u001b[0m: No module named 'talk_db'"
     ]
    }
   ],
   "source": [
    "import bot\n",
    "bot.main()"
   ]
  },
  {
   "cell_type": "code",
   "execution_count": 12,
   "id": "b227187f-6f53-4fc4-9a99-e3896d2400ab",
   "metadata": {},
   "outputs": [
    {
     "name": "stdout",
     "output_type": "stream",
     "text": [
      "□  (종합) 대기 매우 건조, 기온 낮아 춥겠음, 먼바다 풍랑 유의\n",
      "○  (오늘, 24일) 대체로 맑음\n",
      "○  (내일, 25일) 구름많음\n",
      "○  (모레, 26일) 대체로 맑음\n",
      "○  (글피, 27일) 구름많음\n"
     ]
    }
   ],
   "source": [
    "import requests as req\n",
    "from bs4 import BeautifulSoup as bs #정적웹용\n",
    "url = \"https://www.weather.go.kr/w/weather/forecast/short-term.do?stnId=159\"\n",
    "# headers = {'User-Agent':'Mozilla/5.0 (Windows NT 10.0; Win64; x64) AppleWebKit/537.36 (KHTML, like Gecko) Chrome/133.0.0.0 Safari/537.36 Edg/133.0.0.0'}\n",
    "web = req.get(url)\n",
    "soup = bs(web.content, 'html.parser')\n",
    "#위에서 여기까지 쭉 적어주기\n",
    "# print(soup)\n",
    "summary = soup.select('p.summary') \n",
    "# print(summary) #배열로 가져옴\n",
    "# print(summary.text)-> 이터러블해서 바꿀 수 없다함 오류남\n",
    "# print(summary[0].text) -> 이렇게 적으면 겉의 대괄호가 벗겨지면서 해결 가능\n",
    "for s in summary:\n",
    "    print(s.text.replace('○','\\n○'))"
   ]
  },
  {
   "cell_type": "code",
   "execution_count": 13,
   "id": "fcd290c8-b4c0-45cd-bc74-b90142fd6ba2",
   "metadata": {},
   "outputs": [
    {
     "name": "stdout",
     "output_type": "stream",
     "text": [
      "예보요소 :최저기온 / 최고기온\n",
      "평년(오늘): -4.0 ~ 3.1 / 9.8 ~ 13.2\n",
      "어제(23일): -8.6 ~ -2.0 / 1.1 ~ 5.8\n",
      "오늘(24일): - / 5 ~ 9\n",
      "내일(25일): -8 ~ -1 / 9 ~ 12\n",
      "모레(26일): -3 ~ 3 / 9 ~ 13\n",
      "글피(27일): -6 ~ 2 / 10 ~ 14\n"
     ]
    }
   ],
   "source": [
    "# tb = soup.select_one('.table-col')\n",
    "tb = soup.select('.table-col')[0]\n",
    "# print(tb[0].text)\n",
    "# print(tb.text)\n",
    "data = tb.select('tr')\n",
    "# print(data)\n",
    "header = data[0].select('th')\n",
    "line1 = ['최저기온'] + data[1].select('td')\n",
    "line2 = ['최고기온'] + data[2].select('td')\n",
    "raw_data = []\n",
    "# print(header) \n",
    "# print(line1) \n",
    "# print(line2) \n",
    "for h, l1, l2 in zip(header,line1,line2):\n",
    "    try:\n",
    "        out = h.text+': '+l1.text+' / '+l2.text\n",
    "        # raw_data.append(h.text, ':', l1.text, '/', l2.text) 원래는 이렇게 해야하는데 중복되니까 finally를 써도 됨\n",
    "    except:\n",
    "        out = h.text+' :'+l1+' / '+l2\n",
    "        # pass\n",
    "    finally:\n",
    "        print(out)\n",
    "        raw_data.append(out)"
   ]
  },
  {
   "cell_type": "code",
   "execution_count": 14,
   "id": "3c89ea79-1b39-49c0-b4ac-298ac88bb73c",
   "metadata": {},
   "outputs": [
    {
     "name": "stdout",
     "output_type": "stream",
     "text": [
      "Collecting pandas\n",
      "  Downloading pandas-2.2.3-cp313-cp313-win_amd64.whl.metadata (19 kB)\n",
      "Requirement already satisfied: numpy>=1.26.0 in c:\\users\\admin\\appdata\\local\\programs\\python\\python313\\lib\\site-packages (from pandas) (2.2.2)\n",
      "Requirement already satisfied: python-dateutil>=2.8.2 in c:\\users\\admin\\appdata\\local\\programs\\python\\python313\\lib\\site-packages (from pandas) (2.9.0.post0)\n",
      "Collecting pytz>=2020.1 (from pandas)\n",
      "  Downloading pytz-2025.1-py2.py3-none-any.whl.metadata (22 kB)\n",
      "Requirement already satisfied: tzdata>=2022.7 in c:\\users\\admin\\appdata\\local\\programs\\python\\python313\\lib\\site-packages (from pandas) (2025.1)\n",
      "Requirement already satisfied: six>=1.5 in c:\\users\\admin\\appdata\\local\\programs\\python\\python313\\lib\\site-packages (from python-dateutil>=2.8.2->pandas) (1.17.0)\n",
      "Downloading pandas-2.2.3-cp313-cp313-win_amd64.whl (11.5 MB)\n",
      "   ---------------------------------------- 0.0/11.5 MB ? eta -:--:--\n",
      "   ------------------ --------------------- 5.2/11.5 MB 91.0 MB/s eta 0:00:01\n",
      "   ---------------------------------------- 11.5/11.5 MB 38.5 MB/s eta 0:00:00\n",
      "Downloading pytz-2025.1-py2.py3-none-any.whl (507 kB)\n",
      "Installing collected packages: pytz, pandas\n",
      "Successfully installed pandas-2.2.3 pytz-2025.1\n"
     ]
    }
   ],
   "source": [
    "!pip install pandas"
   ]
  },
  {
   "cell_type": "code",
   "execution_count": 23,
   "id": "e05d2dbf-3e54-4d8e-bf10-a4be60068799",
   "metadata": {},
   "outputs": [],
   "source": [
    "import pandas as pd\n",
    "# print(raw_data)\n",
    "# 데이터 파싱작업\n",
    "parsed_data = []\n",
    "for entry in raw_data[1:]:\n",
    "   # print(entry.split(':'))\n",
    "    date, temps = entry.split(':')\n",
    "    low_temp, high_temp = temps.split('/')\n",
    "    parsed_data.append([date.strip(),low_temp.strip(),high_temp.strip()])\n",
    "# parsed_data\n",
    "\n",
    "#데이터프레임 생성\n",
    "df = pd.DataFrame(parsed_data, columns=['날짜','최저기온','최고기온'])\n",
    "# df.to_csv('weather.csv',index=False, encoding='utf-8') -엑셀에서 글자깨짐\n",
    "df.to_csv('weather_x.csv',index=False, encoding='utf-8-sig')"
   ]
  },
  {
   "cell_type": "code",
   "execution_count": 24,
   "id": "6aa047c5-e04b-474c-a785-45d548d8da9a",
   "metadata": {},
   "outputs": [
    {
     "data": {
      "text/html": [
       "<div>\n",
       "<style scoped>\n",
       "    .dataframe tbody tr th:only-of-type {\n",
       "        vertical-align: middle;\n",
       "    }\n",
       "\n",
       "    .dataframe tbody tr th {\n",
       "        vertical-align: top;\n",
       "    }\n",
       "\n",
       "    .dataframe thead th {\n",
       "        text-align: right;\n",
       "    }\n",
       "</style>\n",
       "<table border=\"1\" class=\"dataframe\">\n",
       "  <thead>\n",
       "    <tr style=\"text-align: right;\">\n",
       "      <th></th>\n",
       "      <th>날짜</th>\n",
       "      <th>최저기온</th>\n",
       "      <th>최고기온</th>\n",
       "    </tr>\n",
       "  </thead>\n",
       "  <tbody>\n",
       "    <tr>\n",
       "      <th>0</th>\n",
       "      <td>평년(오늘)</td>\n",
       "      <td>-4.0 ~ 3.1</td>\n",
       "      <td>9.8 ~ 13.2</td>\n",
       "    </tr>\n",
       "    <tr>\n",
       "      <th>1</th>\n",
       "      <td>어제(23일)</td>\n",
       "      <td>-8.6 ~ -2.0</td>\n",
       "      <td>1.1 ~ 5.8</td>\n",
       "    </tr>\n",
       "    <tr>\n",
       "      <th>2</th>\n",
       "      <td>오늘(24일)</td>\n",
       "      <td>-</td>\n",
       "      <td>5 ~ 9</td>\n",
       "    </tr>\n",
       "    <tr>\n",
       "      <th>3</th>\n",
       "      <td>내일(25일)</td>\n",
       "      <td>-8 ~ -1</td>\n",
       "      <td>9 ~ 12</td>\n",
       "    </tr>\n",
       "    <tr>\n",
       "      <th>4</th>\n",
       "      <td>모레(26일)</td>\n",
       "      <td>-3 ~ 3</td>\n",
       "      <td>9 ~ 13</td>\n",
       "    </tr>\n",
       "    <tr>\n",
       "      <th>5</th>\n",
       "      <td>글피(27일)</td>\n",
       "      <td>-6 ~ 2</td>\n",
       "      <td>10 ~ 14</td>\n",
       "    </tr>\n",
       "  </tbody>\n",
       "</table>\n",
       "</div>"
      ],
      "text/plain": [
       "        날짜          최저기온         최고기온\n",
       "0   평년(오늘)   -4.0 ~ 3.1    9.8 ~ 13.2\n",
       "1  어제(23일)  -8.6 ~ -2.0     1.1 ~ 5.8\n",
       "2  오늘(24일)            -         5 ~ 9\n",
       "3  내일(25일)      -8 ~ -1        9 ~ 12\n",
       "4  모레(26일)       -3 ~ 3        9 ~ 13\n",
       "5  글피(27일)       -6 ~ 2       10 ~ 14"
      ]
     },
     "execution_count": 24,
     "metadata": {},
     "output_type": "execute_result"
    }
   ],
   "source": [
    "df = pd.DataFrame( [entry.split(':')[0].strip(),*entry.split(':')[1].strip().split('/')] for entry in raw_data[1:])\n",
    "df.columns=['날짜','최저기온','최고기온']\n",
    "df"
   ]
  }
 ],
 "metadata": {
  "kernelspec": {
   "display_name": "Python 3 (ipykernel)",
   "language": "python",
   "name": "python3"
  },
  "language_info": {
   "codemirror_mode": {
    "name": "ipython",
    "version": 3
   },
   "file_extension": ".py",
   "mimetype": "text/x-python",
   "name": "python",
   "nbconvert_exporter": "python",
   "pygments_lexer": "ipython3",
   "version": "3.13.1"
  }
 },
 "nbformat": 4,
 "nbformat_minor": 5
}
