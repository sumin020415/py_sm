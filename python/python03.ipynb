{
 "cells": [
  {
   "cell_type": "markdown",
   "id": "d474e3fe-f43d-4aa0-a45b-25c7d532f924",
   "metadata": {},
   "source": [
    "# 제어문"
   ]
  },
  {
   "cell_type": "markdown",
   "id": "7b498a1a-7865-43b8-8ec5-608ecf3035c2",
   "metadata": {},
   "source": [
    "## if문"
   ]
  },
  {
   "cell_type": "code",
   "execution_count": 170,
   "id": "0f288554-3649-43ad-8145-03a8817856fd",
   "metadata": {},
   "outputs": [
    {
     "name": "stdout",
     "output_type": "stream",
     "text": [
      "항상 동작합니다!\n",
      "값이 없는데 나올까요?\n",
      "5가 큽니다.\n"
     ]
    }
   ],
   "source": [
    "# 값이 있거나 True일 경우 출력, 0이거나 False일 경우 출력안됨\n",
    "if True:\n",
    "    print(\"항상 동작합니다!\")\n",
    "if False:\n",
    "    print(\"이건 동작할까요?\")\n",
    "if \"\":\n",
    "    print(\"값이 없는데 나올까요?\")\n",
    "if \" \":\n",
    "    print(\"값이 없는데 나올까요?\")  # 스페이스도 값에 인정\n",
    "if 5 > 2:\n",
    "    print(\"5가 큽니다.\")\n",
    "if 4 > 10:\n",
    "    print(\"나올까요?\")"
   ]
  },
  {
   "cell_type": "code",
   "execution_count": 171,
   "id": "bdb23460-8a49-421b-82c8-a36944f29801",
   "metadata": {},
   "outputs": [
    {
     "name": "stdout",
     "output_type": "stream",
     "text": [
      "택시를\n",
      "타고\n",
      "가라\n"
     ]
    }
   ],
   "source": [
    "if True:\n",
    "    print('택시를')\n",
    "    print('타고')\n",
    "    print('가라')\n",
    "# 들여쓰기가 되어 있지 않으면 구문 오류 발생"
   ]
  },
  {
   "cell_type": "code",
   "execution_count": null,
   "id": "9fb4aa4f-3816-4f7c-bbbb-bf323cb35c9a",
   "metadata": {},
   "outputs": [],
   "source": [
    "mymoney = int(input('얼마 가지고 있습니까?'))\n",
    "if mymoney >= 3000:\n",
    "    print('택시타세요.')\n",
    "# if mymoney < 3000:\n",
    "else:\n",
    "    print('걸으세요.')"
   ]
  },
  {
   "cell_type": "code",
   "execution_count": 173,
   "id": "d8ffad7f-c328-4b7e-bf93-d7382db0eb57",
   "metadata": {},
   "outputs": [],
   "source": [
    "# and, or, not"
   ]
  },
  {
   "cell_type": "code",
   "execution_count": 174,
   "id": "f7d1eee1-e6ee-406f-9e3e-f8b74988f840",
   "metadata": {},
   "outputs": [
    {
     "name": "stdout",
     "output_type": "stream",
     "text": [
      "===== and 연산 =====\n",
      "True\n",
      "False\n",
      "False\n",
      "False\n",
      "===== or 연산 =====\n",
      "True\n",
      "True\n",
      "True\n",
      "False\n",
      "===== not 연산 =====\n",
      "True\n",
      "False\n",
      "True\n"
     ]
    }
   ],
   "source": [
    "print(\"===== and 연산 =====\") # 둘다 True여야 True\n",
    "print(True and True)\n",
    "print(True and False)\n",
    "print(False and True)\n",
    "print(False and False)\n",
    "print(\"===== or 연산 =====\") # 하나라도 True일 경우 True\n",
    "print(True or True)\n",
    "print(True or False)\n",
    "print(False or True)\n",
    "print(False or False)\n",
    "print(\"===== not 연산 =====\")\n",
    "print(True)\n",
    "print(not True)\n",
    "print(not False)"
   ]
  },
  {
   "cell_type": "code",
   "execution_count": 175,
   "id": "c4e7a64b-a293-44b6-9832-1a40f36f1ac1",
   "metadata": {},
   "outputs": [
    {
     "name": "stdout",
     "output_type": "stream",
     "text": [
      "반갑습니다..\n"
     ]
    }
   ],
   "source": [
    "이상형 = True\n",
    "똑똑 = False\n",
    "if 이상형 and 똑똑:\n",
    "    print(\"만나자!!\")\n",
    "else:\n",
    "    print(\"반갑습니다..\")"
   ]
  },
  {
   "cell_type": "code",
   "execution_count": 176,
   "id": "15ea6632-d3e5-4d72-aa42-35045c39eb1e",
   "metadata": {},
   "outputs": [
    {
     "name": "stdout",
     "output_type": "stream",
     "text": [
      "만나자!!\n"
     ]
    }
   ],
   "source": [
    "이상형 = True\n",
    "다정 = True\n",
    "if 이상형 or 다정:\n",
    "    print(\"만나자!!\")\n",
    "else:\n",
    "    print(\"반갑습니다..\")"
   ]
  },
  {
   "cell_type": "code",
   "execution_count": 177,
   "id": "85db0071-9a63-4889-aa07-b5d964f02244",
   "metadata": {},
   "outputs": [
    {
     "name": "stdout",
     "output_type": "stream",
     "text": [
      "만나자.\n"
     ]
    }
   ],
   "source": [
    "주사 = False\n",
    "if not 주사:\n",
    "    print(\"만나자.\")\n",
    "else:\n",
    "    print(\"빠이\")"
   ]
  },
  {
   "cell_type": "code",
   "execution_count": 178,
   "id": "d3b3af13-0797-44c6-9d80-fbf844613d82",
   "metadata": {},
   "outputs": [
    {
     "name": "stdout",
     "output_type": "stream",
     "text": [
      "택시타라\n"
     ]
    }
   ],
   "source": [
    "money = 2000\n",
    "card = True\n",
    "if money >= 3000 or card:\n",
    "    print(\"택시타라\")\n",
    "else:\n",
    "    print(\"걸어라\")"
   ]
  },
  {
   "cell_type": "code",
   "execution_count": 179,
   "id": "f66f8257-f983-45c7-acbd-639223afd087",
   "metadata": {},
   "outputs": [
    {
     "name": "stdout",
     "output_type": "stream",
     "text": [
      "A회사 불합격입니다.\n",
      "B회사 합격입니다.\n",
      "C회사 합격입니다.\n"
     ]
    }
   ],
   "source": [
    "me = 'Python'\n",
    "compA = ['JAVA','CSS','Javasxript','c','MySQL']\n",
    "compB = ['JAVA','Python','Javasxript','c','MySQL']\n",
    "compC = ['JAVA','Python','HTML','MySQL']\n",
    "if me in compA:\n",
    "    print(\"A회사 합격입니다.\")\n",
    "else:\n",
    "    print(\"A회사 불합격입니다.\")\n",
    "if me in compB:\n",
    "    print(\"B회사 합격입니다.\")\n",
    "else:\n",
    "    print(\"B회사 불합격입니다.\")\n",
    "if me in compC:\n",
    "    print(\"C회사 합격입니다.\")\n",
    "else:\n",
    "    print(\"C회사 불합격입니다.\")"
   ]
  },
  {
   "cell_type": "code",
   "execution_count": 182,
   "id": "a5f13a95-d25e-4fda-9e5b-3fa3bf609c34",
   "metadata": {},
   "outputs": [
    {
     "name": "stdin",
     "output_type": "stream",
     "text": [
      "점수를 입력하세요 80\n"
     ]
    },
    {
     "name": "stdout",
     "output_type": "stream",
     "text": [
      "B 입니다. 아자아자!\n"
     ]
    }
   ],
   "source": [
    "# 학점출력\n",
    "me = int(input(\"점수를 입력하세요\"))\n",
    "\n",
    "if me >= 90:\n",
    "    print(\"A 입니다~!!\")\n",
    "elif me >= 80:\n",
    "    print(\"B 입니다. 아자아자!\")\n",
    "elif me >= 70:\n",
    "    print(\"C 입니다.\")\n",
    "elif me >= 60:\n",
    "    print(\"D 입니다. 조금 더 분발하세요~\")\n",
    "else:\n",
    "    print(\"F 입니다.. 재수강하세요!\")"
   ]
  },
  {
   "cell_type": "code",
   "execution_count": 184,
   "id": "3ed5bd82-2732-4cbb-8391-a1afbdafe915",
   "metadata": {},
   "outputs": [
    {
     "name": "stdin",
     "output_type": "stream",
     "text": [
      "점수를 입력하세요. 70\n"
     ]
    },
    {
     "name": "stdout",
     "output_type": "stream",
     "text": [
      "C 학점입니다.\n"
     ]
    }
   ],
   "source": [
    "# 학점출력 방법1 if만 사용\n",
    "점수 = int(input(\"점수를 입력하세요.\") or 60) # 입력하지 않으면 or 값이 들어감\n",
    "grade = 'F'\n",
    "if 90 <= 점수: grade = 'A'\n",
    "if 80 <= 점수 < 90: grade = 'B'\n",
    "if 70 <= 점수 < 80: grade = 'C'\n",
    "if 60 <= 점수 < 70: grade = 'D'    \n",
    "print(f\"{grade} 학점입니다.\")"
   ]
  },
  {
   "cell_type": "code",
   "execution_count": 185,
   "id": "5a21c3de-2f67-41b5-b71f-9b7224c8406c",
   "metadata": {},
   "outputs": [
    {
     "name": "stdin",
     "output_type": "stream",
     "text": [
      "점수를 입력하세요 90\n"
     ]
    },
    {
     "name": "stdout",
     "output_type": "stream",
     "text": [
      "A 학점입니다.\n"
     ]
    }
   ],
   "source": [
    "# 학점출력 방법2 if,elif, else 사용\n",
    "score = int(input(\"점수를 입력하세요\"))\n",
    "if 90 <= score : grade = 'A'\n",
    "elif 80 <= score: grade = 'B'\n",
    "elif 70 <= score: grade = 'C'\n",
    "elif 60 <= score: grade = 'D'\n",
    "else: grade = 'F'\n",
    "print(f'{grade} 학점입니다.')  "
   ]
  },
  {
   "cell_type": "code",
   "execution_count": 186,
   "id": "d28a17cf-0277-473c-8334-ef10aa2630a3",
   "metadata": {},
   "outputs": [
    {
     "name": "stdin",
     "output_type": "stream",
     "text": [
      "몇 도 인가요? -1\n"
     ]
    },
    {
     "name": "stdout",
     "output_type": "stream",
     "text": [
      "겨울입니다.\n"
     ]
    }
   ],
   "source": [
    "온도 = int(input(\"몇 도 인가요?\"))\n",
    "W = '여름'\n",
    "if 25 <= 온도:\n",
    "    W = '여름'\n",
    "elif 15 <= 온도:\n",
    "    W = '봄'\n",
    "elif 10 <= 온도:\n",
    "    W = '가을'\n",
    "else:\n",
    "    W = '겨울'\n",
    "print(f'{W}입니다.') "
   ]
  },
  {
   "cell_type": "markdown",
   "id": "add40eed-df1c-4894-a572-b248c1e8598a",
   "metadata": {},
   "source": [
    "## while문"
   ]
  },
  {
   "cell_type": "code",
   "execution_count": 187,
   "id": "e0284fb5-4903-48aa-9973-ce52b4ab7e7f",
   "metadata": {},
   "outputs": [
    {
     "name": "stdout",
     "output_type": "stream",
     "text": [
      "1 나 화났다!!!!!!!!!!!\n",
      "2 나 화났다!!!!!!!!!!!\n",
      "3 나 화났다!!!!!!!!!!!\n",
      "4 나 화났다!!!!!!!!!!!\n",
      "5 나 화났다!!!!!!!!!!!\n",
      "6 나 화났다!!!!!!!!!!!\n",
      "7 나 화났다!!!!!!!!!!!\n",
      "8 나 화났다!!!!!!!!!!!\n",
      "9 나 화났다!!!!!!!!!!!\n",
      "10 나 화났다!!!!!!!!!!!\n"
     ]
    }
   ],
   "source": [
    "num = 0\n",
    "while True: # True인 경우 계속 반복함\n",
    "    num += 1\n",
    "    print(num, \"나 화났다!!!!!!!!!!!\")\n",
    "    if num >= 10:\n",
    "        break # while 멈추기\n",
    "# 값의 위치에 따라 출력값이 다름 "
   ]
  },
  {
   "cell_type": "code",
   "execution_count": 188,
   "id": "a96bbccf-5170-47e5-bc96-697de676172f",
   "metadata": {},
   "outputs": [
    {
     "name": "stdout",
     "output_type": "stream",
     "text": [
      "나무를 1번 찍었습니다.\n",
      "나무를 2번 찍었습니다.\n",
      "나무를 3번 찍었습니다.\n",
      "나무를 4번 찍었습니다.\n",
      "나무를 5번 찍었습니다.\n",
      "나무를 6번 찍었습니다.\n",
      "나무를 7번 찍었습니다.\n",
      "나무를 8번 찍었습니다.\n",
      "나무를 9번 찍었습니다.\n",
      "나무를 10번 찍었습니다.\n",
      "나무 넘어갑니다.\n"
     ]
    }
   ],
   "source": [
    "treeHit = 0\n",
    "while treeHit < 10:\n",
    "    treeHit = treeHit + 1\n",
    "    print(\"나무를 %d번 찍었습니다.\" % treeHit)\n",
    "    if treeHit == 10:\n",
    "        print(\"나무 넘어갑니다.\")"
   ]
  },
  {
   "cell_type": "code",
   "execution_count": 189,
   "id": "6716e63f-0d25-4aaa-ab6a-63c8c23ac9d7",
   "metadata": {},
   "outputs": [
    {
     "name": "stdout",
     "output_type": "stream",
     "text": [
      "선택해주세요.\n",
      "\n",
      " 1. Add\n",
      " 2. Del\n",
      " 3. List\n",
      " 4. Quit\n",
      "\n",
      "\n"
     ]
    },
    {
     "name": "stdin",
     "output_type": "stream",
     "text": [
      " 4\n"
     ]
    },
    {
     "name": "stdout",
     "output_type": "stream",
     "text": [
      "시스템이 종료되었습니다.\n"
     ]
    }
   ],
   "source": [
    "# from IPython.display import clear_output\n",
    "print(\"선택해주세요.\")\n",
    "prompt = \"\"\"\n",
    " 1. Add\n",
    " 2. Del\n",
    " 3. List\n",
    " 4. Quit\n",
    "\n",
    "\"\"\"\n",
    "number = 0\n",
    "while number != 4: # 값 4를 입력하지 않으면 계속해서 prompt를 출력\n",
    "    print(prompt)\n",
    "    number = int(input())\n",
    "    # clear_output(wait=True) # 이전 질문 지우기\n",
    "print(\"시스템이 종료되었습니다.\")"
   ]
  },
  {
   "cell_type": "code",
   "execution_count": 190,
   "id": "24d010b0-6997-4366-9123-99250c8cf0e9",
   "metadata": {},
   "outputs": [],
   "source": [
    "# random 주사위\n",
    "import random as r\n",
    "# ran = int(r.random()*6 + 1)\n",
    "box = [] #초기화**"
   ]
  },
  {
   "cell_type": "code",
   "execution_count": 191,
   "id": "44e4f187-52fb-49d9-83fa-f500269414a6",
   "metadata": {},
   "outputs": [
    {
     "name": "stdout",
     "output_type": "stream",
     "text": [
      "[5]\n"
     ]
    }
   ],
   "source": [
    "ran = r.randint(1,6)\n",
    "box.append(ran)\n",
    "print(box)"
   ]
  },
  {
   "cell_type": "code",
   "execution_count": 192,
   "id": "642dfb8b-e5ca-47c0-b3b2-771244d63c8b",
   "metadata": {},
   "outputs": [
    {
     "name": "stdout",
     "output_type": "stream",
     "text": [
      "100000회 정상 진행되었습니다.\n",
      "랜덤주사위에서 1: 16811번(16.811%), 2: 16753번(16.753%), 3: 16602번(16.602%), 4: 16415번(16.415%), 5: 16852번(16.852%), 6: 16567번(16.567%) 나왔습니다!\n"
     ]
    }
   ],
   "source": [
    "import random as r\n",
    "box = [] \n",
    "num = 0\n",
    "target = 100000\n",
    "\n",
    "while num < 100000:\n",
    "    num = num + 1\n",
    "    ran = r.randint(1,6)\n",
    "    box.append(ran)\n",
    "\n",
    "if target == len(box):\n",
    "    print(f\"{target}회 정상 진행되었습니다.\")\n",
    "else:\n",
    "    print(f\"검증 결과 횟수 이상이 있습니다. 이유:({target}회 목표로 동작하였으나, {len(box)}으로 측정되었습니다.)\")\n",
    "\n",
    "A = box.count(1)\n",
    "B = box.count(2)\n",
    "C = box.count(3)\n",
    "D = box.count(4)\n",
    "E = box.count(5)\n",
    "F = box.count(6)\n",
    "\n",
    "G = A/1000\n",
    "H = B/1000\n",
    "I = C/1000\n",
    "J = D/1000\n",
    "K = E/1000\n",
    "L = F/1000\n",
    "\n",
    "print(f'랜덤주사위에서 1: {A}번({G}%), 2: {B}번({H}%), 3: {C}번({I}%), 4: {D}번({J}%), 5: {E}번({K}%), 6: {F}번({L}%) 나왔습니다!')"
   ]
  },
  {
   "cell_type": "code",
   "execution_count": 193,
   "id": "30618ae6-5181-455f-9d85-10f7f721eaac",
   "metadata": {},
   "outputs": [
    {
     "name": "stdout",
     "output_type": "stream",
     "text": [
      "250000회 정상 진행되었습니다.\n",
      "1번이 41559번(16.62%) 등장하였습니다.\n",
      "2번이 41830번(16.73%) 등장하였습니다.\n",
      "3번이 41688번(16.68%) 등장하였습니다.\n",
      "4번이 41730번(16.69%) 등장하였습니다.\n",
      "5번이 41577번(16.63%) 등장하였습니다.\n",
      "6번이 41616번(16.65%) 등장하였습니다.\n"
     ]
    }
   ],
   "source": [
    "# random 주사위\n",
    "import random as r\n",
    "box = [] # 초기화\n",
    "num = 0\n",
    "target = 250000\n",
    "while num < target:\n",
    "    num = num + 1\n",
    "    ran = r.randint(1,6)\n",
    "    box.append(ran)\n",
    "if target == len(box):\n",
    "    print(f\"{target}회 정상 진행되었습니다.\")\n",
    "else:\n",
    "    print(f\"검증 결과 횟수 이상이 있습니다. 이유:({target}회 목표로 동작하였으나, {len(box)}으로 측정되었습니다.)\")\n",
    "\n",
    "# 리스트의 특정한 숫자를 몇개인지 찾아내는 함수써서\n",
    "print(f\"1번이 {box.count(1)}번({(box.count(1)/len(box))*100:.2f}%) 등장하였습니다.\")\n",
    "print(f\"2번이 {box.count(2)}번({(box.count(2)/len(box))*100:.2f}%) 등장하였습니다.\")\n",
    "print(f\"3번이 {box.count(3)}번({(box.count(3)/len(box))*100:.2f}%) 등장하였습니다.\")\n",
    "print(f\"4번이 {box.count(4)}번({(box.count(4)/len(box))*100:.2f}%) 등장하였습니다.\")\n",
    "print(f\"5번이 {box.count(5)}번({(box.count(5)/len(box))*100:.2f}%) 등장하였습니다.\")\n",
    "print(f\"6번이 {box.count(6)}번({(box.count(6)/len(box))*100:.2f}%) 등장하였습니다.\")"
   ]
  },
  {
   "cell_type": "code",
   "execution_count": 194,
   "id": "2bd100ba-c19c-4ad3-9efe-bc8567763ecf",
   "metadata": {},
   "outputs": [
    {
     "name": "stdout",
     "output_type": "stream",
     "text": [
      "250000회 정상 진행되었습니다.\n",
      "1번이 41649번(16.66%) 등장하였습니다.\n",
      "2번이 41313번(16.53%) 등장하였습니다.\n",
      "3번이 42206번(16.88%) 등장하였습니다.\n",
      "4번이 41502번(16.60%) 등장하였습니다.\n",
      "5번이 41603번(16.64%) 등장하였습니다.\n",
      "6번이 41727번(16.69%) 등장하였습니다.\n"
     ]
    }
   ],
   "source": [
    "# random 주사위\n",
    "import random as r\n",
    "box = [] # 초기화\n",
    "num = 0\n",
    "target = 250000\n",
    "while num < target:\n",
    "    num = num + 1\n",
    "    ran = r.randint(1,6)\n",
    "    box.append(ran)\n",
    "if target == len(box):\n",
    "    print(f\"{target}회 정상 진행되었습니다.\")\n",
    "else:\n",
    "    print(f\"검증 결과 횟수 이상이 있습니다. 이유:({target}회 목표로 동작하였으나, {len(box)}으로 측정되었습니다.)\")\n",
    "\n",
    "# 리스트의 특정한 숫자를 몇개인지 찾아내는 함수써서\n",
    "print(f\"1번이 {box.count(1)}번({(box.count(1)/len(box))*100:.2f}%) 등장하였습니다.\")\n",
    "print(f\"2번이 {box.count(2)}번({(box.count(2)/len(box))*100:.2f}%) 등장하였습니다.\")\n",
    "print(f\"3번이 {box.count(3)}번({(box.count(3)/len(box))*100:.2f}%) 등장하였습니다.\")\n",
    "print(f\"4번이 {box.count(4)}번({(box.count(4)/len(box))*100:.2f}%) 등장하였습니다.\")\n",
    "print(f\"5번이 {box.count(5)}번({(box.count(5)/len(box))*100:.2f}%) 등장하였습니다.\")\n",
    "print(f\"6번이 {box.count(6)}번({(box.count(6)/len(box))*100:.2f}%) 등장하였습니다.\")\n",
    "# print(\"\") 6번이 가장 많이 출현하였습니다.\n",
    "# max(): 가장 큰 수, min(): 가장 작은 수"
   ]
  },
  {
   "cell_type": "code",
   "execution_count": 195,
   "id": "c99967b5-d240-444f-a670-39372531308f",
   "metadata": {},
   "outputs": [
    {
     "name": "stdin",
     "output_type": "stream",
     "text": [
      "돈을 넣어 주세요: 500\n"
     ]
    },
    {
     "name": "stdout",
     "output_type": "stream",
     "text": [
      "거스름돈 200를 주고 커피를 줍니다.\n"
     ]
    },
    {
     "name": "stdin",
     "output_type": "stream",
     "text": [
      "돈을 넣어 주세요: 400\n"
     ]
    },
    {
     "name": "stdout",
     "output_type": "stream",
     "text": [
      "거스름돈 100를 주고 커피를 줍니다.\n"
     ]
    },
    {
     "name": "stdin",
     "output_type": "stream",
     "text": [
      "돈을 넣어 주세요: 300\n"
     ]
    },
    {
     "name": "stdout",
     "output_type": "stream",
     "text": [
      "커피를 줍니다.\n"
     ]
    },
    {
     "name": "stdin",
     "output_type": "stream",
     "text": [
      "돈을 넣어 주세요: 200\n"
     ]
    },
    {
     "name": "stdout",
     "output_type": "stream",
     "text": [
      "돈을 다시 돌려 주고 커피를 주지 않습니다.\n",
      "남은 커피의 양은 7개입니다.\n"
     ]
    },
    {
     "name": "stdin",
     "output_type": "stream",
     "text": [
      "돈을 넣어 주세요: 300\n"
     ]
    },
    {
     "name": "stdout",
     "output_type": "stream",
     "text": [
      "커피를 줍니다.\n"
     ]
    },
    {
     "name": "stdin",
     "output_type": "stream",
     "text": [
      "돈을 넣어 주세요: 300\n"
     ]
    },
    {
     "name": "stdout",
     "output_type": "stream",
     "text": [
      "커피를 줍니다.\n"
     ]
    },
    {
     "name": "stdin",
     "output_type": "stream",
     "text": [
      "돈을 넣어 주세요: 300\n"
     ]
    },
    {
     "name": "stdout",
     "output_type": "stream",
     "text": [
      "커피를 줍니다.\n"
     ]
    },
    {
     "name": "stdin",
     "output_type": "stream",
     "text": [
      "돈을 넣어 주세요: 300\n"
     ]
    },
    {
     "name": "stdout",
     "output_type": "stream",
     "text": [
      "커피를 줍니다.\n"
     ]
    },
    {
     "name": "stdin",
     "output_type": "stream",
     "text": [
      "돈을 넣어 주세요: 300\n"
     ]
    },
    {
     "name": "stdout",
     "output_type": "stream",
     "text": [
      "커피를 줍니다.\n"
     ]
    },
    {
     "name": "stdin",
     "output_type": "stream",
     "text": [
      "돈을 넣어 주세요: 300\n"
     ]
    },
    {
     "name": "stdout",
     "output_type": "stream",
     "text": [
      "커피를 줍니다.\n"
     ]
    },
    {
     "name": "stdin",
     "output_type": "stream",
     "text": [
      "돈을 넣어 주세요: 300\n"
     ]
    },
    {
     "name": "stdout",
     "output_type": "stream",
     "text": [
      "커피를 줍니다.\n",
      "커피가 다 떨어졌습니다.판매를 중지합니다.\n"
     ]
    }
   ],
   "source": [
    "coffee = 10\n",
    "while True:\n",
    "    money = int(input(\"돈을 넣어 주세요:\"))\n",
    "    if money == 300:\n",
    "        print(\"커피를 줍니다.\")\n",
    "        coffee = coffee -1\n",
    "    elif money > 300:\n",
    "        print(\"거스름돈 %d를 주고 커피를 줍니다.\" % (money-300))\n",
    "        coffee = coffee -1\n",
    "    else:\n",
    "        print(\"돈을 다시 돌려 주고 커피를 주지 않습니다.\")\n",
    "        print(\"남은 커피의 양은 %d개입니다.\" % coffee)\n",
    "    if coffee == 0:\n",
    "        print(\"커피가 다 떨어졌습니다.판매를 중지합니다.\")\n",
    "        break"
   ]
  },
  {
   "cell_type": "markdown",
   "id": "8737f7ce-76e3-4765-bb3d-b5d5675542b5",
   "metadata": {},
   "source": [
    "## for문"
   ]
  },
  {
   "cell_type": "code",
   "execution_count": 196,
   "id": "457a3c8e-b888-441d-900d-56256e0896d3",
   "metadata": {},
   "outputs": [
    {
     "name": "stdout",
     "output_type": "stream",
     "text": [
      "one\n",
      "two\n",
      "three\n"
     ]
    }
   ],
   "source": [
    "# test_list = ['one','two','three']\n",
    "# for i in test_list:\n",
    "\n",
    "for i in ['one','two','three'] : # for x in 리스트 : \n",
    "    print(i)"
   ]
  },
  {
   "cell_type": "code",
   "execution_count": 197,
   "id": "fc2068b0-de58-47bf-aae4-14ddfb49b4fb",
   "metadata": {},
   "outputs": [
    {
     "name": "stdout",
     "output_type": "stream",
     "text": [
      "1 2 11\n",
      "3 4 33\n",
      "5 6 55\n"
     ]
    }
   ],
   "source": [
    "# 다양한 for 문의 사용\n",
    "a = [(1,2,11),(3,4,33),(5,6,55)]\n",
    "for (x , y , z ) in a:\n",
    "    print( x, y, z)"
   ]
  },
  {
   "cell_type": "code",
   "execution_count": 198,
   "id": "1ed410a2-8c19-4fec-8633-2770d10f0520",
   "metadata": {},
   "outputs": [
    {
     "name": "stdout",
     "output_type": "stream",
     "text": [
      "1번 학생은 합격입니다.\n",
      "2번 학생은 불합격입니다.\n",
      "3번 학생은 합격입니다.\n",
      "4번 학생은 불합격입니다.\n",
      "5번 학생은 합격입니다.\n"
     ]
    }
   ],
   "source": [
    "#marks1.py\n",
    "marks = [90,25,67,45,80]  #점수 리스트\n",
    "\n",
    "number = 0  # 학생에게 붙여 줄 번호\n",
    "for mark in marks:  # 90,25,67,45,80 순서대로 mark에 대입 \n",
    "    number = number + 1\n",
    "    if mark >= 60:\n",
    "        print(\"%d번 학생은 합격입니다.\" % number)\n",
    "    else:\n",
    "        print(\"%d번 학생은 불합격입니다.\" % number)"
   ]
  },
  {
   "cell_type": "code",
   "execution_count": 199,
   "id": "6117da2c-4888-49de-aea2-8ac9dccc5b3f",
   "metadata": {},
   "outputs": [
    {
     "name": "stdout",
     "output_type": "stream",
     "text": [
      "1번 학생 축하합니다! 합격입니다.\n",
      "3번 학생 축하합니다! 합격입니다.\n",
      "5번 학생 축하합니다! 합격입니다.\n"
     ]
    }
   ],
   "source": [
    "#marks2.py\n",
    "marks = [90,25,67,45,80] \n",
    "\n",
    "number = 0 \n",
    "for mark in marks:  \n",
    "    number = number + 1\n",
    "    if mark < 60:\n",
    "        continue\n",
    "    print(\"%d번 학생 축하합니다! 합격입니다.\" % number)"
   ]
  },
  {
   "cell_type": "code",
   "execution_count": 200,
   "id": "9bd6140f-cd43-419b-afba-2d1e6762f84e",
   "metadata": {},
   "outputs": [
    {
     "name": "stdout",
     "output_type": "stream",
     "text": [
      "1은(는) 홀수입니다.\n",
      "3은(는) 홀수입니다.\n",
      "5은(는) 홀수입니다.\n",
      "7은(는) 홀수입니다.\n",
      "9은(는) 홀수입니다.\n"
     ]
    }
   ],
   "source": [
    "A = [1,2,3,4,5,6,7,8,9,10] # continue 활용, 홀수만 출력하기\n",
    "B = 0\n",
    "for a in A:\n",
    "    B = B + 1\n",
    "    if a % 2 == 0:\n",
    "        continue\n",
    "    print(\"%d은(는) 홀수입니다.\" % B)"
   ]
  },
  {
   "cell_type": "code",
   "execution_count": 201,
   "id": "46e9ea77-add1-4dbf-958d-a6f4e4b7bf6c",
   "metadata": {
    "scrolled": true
   },
   "outputs": [
    {
     "name": "stdout",
     "output_type": "stream",
     "text": [
      "*\n",
      "**\n",
      "***\n",
      "****\n",
      "*****\n"
     ]
    }
   ],
   "source": [
    "i = 0\n",
    "while True:\n",
    "    i += 1\n",
    "    if i > 5: break\n",
    "    print ('*' * i)"
   ]
  },
  {
   "cell_type": "markdown",
   "id": "620c41d2-bcbf-4824-8b46-d3f352b6b929",
   "metadata": {},
   "source": [
    "### range 함수"
   ]
  },
  {
   "cell_type": "code",
   "execution_count": 202,
   "id": "aef51d44-1896-4af0-b501-c0a8f219e824",
   "metadata": {},
   "outputs": [
    {
     "name": "stdout",
     "output_type": "stream",
     "text": [
      "range(0, 10)\n"
     ]
    }
   ],
   "source": [
    "# range 함수\n",
    "a = range(10)\n",
    "print(a)"
   ]
  },
  {
   "cell_type": "code",
   "execution_count": 203,
   "id": "48cec9f0-0b81-4436-80ab-31b2fd21750e",
   "metadata": {},
   "outputs": [
    {
     "name": "stdout",
     "output_type": "stream",
     "text": [
      "0\n",
      "1\n",
      "2\n",
      "3\n",
      "4\n"
     ]
    }
   ],
   "source": [
    "for n in range(5):\n",
    "    print(n)"
   ]
  },
  {
   "cell_type": "code",
   "execution_count": 204,
   "id": "ab7d7c8d-4a4e-42ea-bf6c-396fe3ab9686",
   "metadata": {},
   "outputs": [
    {
     "name": "stdout",
     "output_type": "stream",
     "text": [
      "[0, 5, 10, 15, 20, 25, 30, 35, 40, 45, 50, 55, 60, 65, 70, 75, 80, 85, 90, 95]\n"
     ]
    }
   ],
   "source": [
    "la = list(range(0,100,5))\n",
    "print(la)"
   ]
  },
  {
   "cell_type": "code",
   "execution_count": 205,
   "id": "f61076a5-4e24-424d-8efe-22f21ba9a62b",
   "metadata": {},
   "outputs": [
    {
     "name": "stdout",
     "output_type": "stream",
     "text": [
      "0\n",
      "2\n",
      "4\n",
      "6\n",
      "8\n"
     ]
    }
   ],
   "source": [
    "for even in range(0,10,2):\n",
    "    print(even)"
   ]
  },
  {
   "cell_type": "code",
   "execution_count": 206,
   "id": "769b87a9-6c9f-4796-ac27-d78624b64c55",
   "metadata": {},
   "outputs": [
    {
     "name": "stdout",
     "output_type": "stream",
     "text": [
      "1\n",
      "2\n",
      "3\n",
      "4\n",
      "5\n",
      "6\n",
      "7\n",
      "8\n",
      "9\n",
      "10\n"
     ]
    }
   ],
   "source": [
    "for N in range(1,11):\n",
    "    print(N)"
   ]
  },
  {
   "cell_type": "code",
   "execution_count": 207,
   "id": "07b516b6-2ad8-4313-9477-426183d5cb1f",
   "metadata": {},
   "outputs": [
    {
     "name": "stdout",
     "output_type": "stream",
     "text": [
      "1\n",
      "3\n",
      "6\n",
      "10\n",
      "15\n",
      "21\n",
      "28\n",
      "36\n",
      "45\n",
      "55\n"
     ]
    }
   ],
   "source": [
    "num = 0\n",
    "for N in range(1,11):\n",
    "    num += N\n",
    "    print(num)"
   ]
  },
  {
   "cell_type": "code",
   "execution_count": null,
   "id": "3617dba9-519e-4def-9f49-e0f38a5a5caf",
   "metadata": {},
   "outputs": [],
   "source": [
    "num = 0\n",
    "for A in range(1,131):\n",
    "    num += A\n",
    "    print(num)"
   ]
  },
  {
   "cell_type": "code",
   "execution_count": 209,
   "id": "f0c21fa5-e2b1-44f5-a75c-fcd4fdf9e8d7",
   "metadata": {},
   "outputs": [],
   "source": [
    "list = [0,1,2,3,4,5,6,7,8,9,10]"
   ]
  },
  {
   "cell_type": "code",
   "execution_count": 210,
   "id": "0ff34bc8-8da0-44b7-8f35-36026fea28c7",
   "metadata": {},
   "outputs": [
    {
     "name": "stdout",
     "output_type": "stream",
     "text": [
      "1번 학생 축하합니다. 합격입니다.\n",
      "3번 학생 축하합니다. 합격입니다.\n",
      "5번 학생 축하합니다. 합격입니다.\n"
     ]
    }
   ],
   "source": [
    "marks = [90,25,67,45,80]\n",
    "for number in range(len(marks)):\n",
    "    if marks[number] < 60:\n",
    "        continue\n",
    "    print(\"%d번 학생 축하합니다. 합격입니다.\" % (number + 1))"
   ]
  },
  {
   "cell_type": "code",
   "execution_count": 48,
   "id": "07cea29a-e763-4897-acee-3edab86c4860",
   "metadata": {},
   "outputs": [
    {
     "name": "stdout",
     "output_type": "stream",
     "text": [
      "   February 2025\n",
      "Mo Tu We Th Fr Sa Su\n",
      "                1  2\n",
      " 3  4  5  6  7  8  9\n",
      "10 11 12 13 14 15 16\n",
      "17 18 19 20 21 22 23\n",
      "24 25 26 27 28\n",
      "\n",
      "   February 2025\n",
      "Su Mo Tu We Th Fr Sa\n",
      "                   1\n",
      " 2  3  4  5  6  7  8\n",
      " 9 10 11 12 13 14 15\n",
      "16 17 18 19 20 21 22\n",
      "23 24 25 26 27 28\n",
      "\n"
     ]
    }
   ],
   "source": [
    "# 달력연습\n",
    "import calendar\n",
    "c = calendar.TextCalendar()\n",
    "print(c.formatmonth(2025,2))\n",
    "\n",
    "# 일요일을 첫 요일로 할 경우\n",
    "import calendar\n",
    "c = calendar.TextCalendar(calendar.SUNDAY)\n",
    "print(c.formatmonth(2025,2))"
   ]
  },
  {
   "cell_type": "code",
   "execution_count": 57,
   "id": "d0cb68b3-0c08-4754-9990-d7c969da8132",
   "metadata": {},
   "outputs": [
    {
     "name": "stdout",
     "output_type": "stream",
     "text": [
      "◆ ◆ ◆ ◆ ◆ ◆ ◆ ◆ ◆ ◆ ◆ "
     ]
    }
   ],
   "source": [
    "# 테스트 타이머\n",
    "import time as t\n",
    "for x in range(11):\n",
    "    print(f'◆', end=' ')\n",
    "    t.sleep(1)"
   ]
  },
  {
   "cell_type": "code",
   "execution_count": 211,
   "id": "5bb146d9-0e9b-4a41-97b8-9a4fbd3b05cb",
   "metadata": {},
   "outputs": [
    {
     "name": "stdout",
     "output_type": "stream",
     "text": [
      "<class 'list'>\n",
      "<class 'tuple'>\n"
     ]
    }
   ],
   "source": [
    "# 리스트 속도 측정\n",
    "import time as t\n",
    "lt = []\n",
    "tp = []\n",
    "length = 10000000\n",
    "# length = 10*1000*1000\n",
    "for x in range(length):\n",
    "    lt.append(x)\n",
    "for t in range(length):\n",
    "    lt.append(t)\n",
    "tp = tuple(tp)\n",
    "print(type(lt))\n",
    "print(type(tp))"
   ]
  },
  {
   "cell_type": "code",
   "execution_count": 212,
   "id": "bfb24eac-70c6-45a2-8bb0-48577a216d7e",
   "metadata": {},
   "outputs": [
    {
     "name": "stdout",
     "output_type": "stream",
     "text": [
      "0.8340103626251221\n"
     ]
    }
   ],
   "source": [
    "import time\n",
    "start = time.time()\n",
    "for x in lt:\n",
    "    lts = [1,2,3,4,5]\n",
    "print(time.time() - start)"
   ]
  },
  {
   "cell_type": "code",
   "execution_count": 213,
   "id": "4f8328e7-defc-4222-a6cb-d9870150d674",
   "metadata": {},
   "outputs": [
    {
     "name": "stdout",
     "output_type": "stream",
     "text": [
      "4.8160552978515625e-05\n"
     ]
    }
   ],
   "source": [
    "import time\n",
    "start = time.time()\n",
    "for x in tp:\n",
    "    tps = (1,2,3,4,5)\n",
    "print(time.time() - start)"
   ]
  },
  {
   "cell_type": "code",
   "execution_count": 90,
   "id": "af35a94d-5278-45b7-8dc6-de56676cae3e",
   "metadata": {},
   "outputs": [
    {
     "name": "stdout",
     "output_type": "stream",
     "text": [
      "Requirement already satisfied: tqdm in c:\\users\\admin\\appdata\\local\\programs\\python\\python313\\lib\\site-packages (4.67.1)\n",
      "Requirement already satisfied: colorama in c:\\users\\admin\\appdata\\local\\programs\\python\\python313\\lib\\site-packages (from tqdm) (0.4.6)\n"
     ]
    }
   ],
   "source": [
    "!pip install tqdm"
   ]
  },
  {
   "cell_type": "code",
   "execution_count": 88,
   "id": "bec8c2dc-c9d6-4fce-82f2-1c9c5afded5e",
   "metadata": {},
   "outputs": [
    {
     "name": "stderr",
     "output_type": "stream",
     "text": [
      "100%|████████████████████████████████████████████████████████████████████████████████| 100/100 [00:10<00:00,  9.84it/s]\n"
     ]
    }
   ],
   "source": [
    "from tqdm import tqdm \n",
    "import time as tt\n",
    "for x in tqdm(range(100)):\n",
    "    pass\n",
    "    tt.sleep(0.1)"
   ]
  },
  {
   "cell_type": "code",
   "execution_count": 214,
   "id": "269f594d-bc94-477b-92d6-e5cde2a54675",
   "metadata": {},
   "outputs": [
    {
     "name": "stdout",
     "output_type": "stream",
     "text": [
      "상승장입니다.\n"
     ]
    }
   ],
   "source": [
    "# 비트코인시세로 상승장 하강장 구분하기\n",
    "import requests as req\n",
    "url = \"https://api.bithumb.com/public/ticker/ALL_KRW\"\n",
    "gdata = req.get(url).json()\n",
    "btc = gdata['data']['BTC']\n",
    "maxp = float(btc['max_price']) # 최대가\n",
    "minp = float(btc['min_price']) # 최소가\n",
    "openp = float(btc['opening_price']) # 시작가\n",
    "bandp = float(maxp) - float(minp) # 변화폭\n",
    "btc\n",
    "# 시작가 + 변화폭 > 최대가 ---> 상승장 / 반대는 하락장\n",
    "if (openp + bandp) > maxp:\n",
    "    print(\"상승장입니다.\") \n",
    "else:\n",
    "    print(\"하락장입니다.\")"
   ]
  },
  {
   "cell_type": "code",
   "execution_count": 215,
   "id": "3e75a4df-c6d4-4540-8e3a-7a54dd5aefe2",
   "metadata": {},
   "outputs": [
    {
     "name": "stdout",
     "output_type": "stream",
     "text": [
      "148988000\n",
      "상승장입니다.\n"
     ]
    }
   ],
   "source": [
    "# 1분 캔들\n",
    "import requests as req\n",
    "url = \"https://api.bithumb.com/v1/candles/minutes/1?market=KRW-BTC&count=1\"\n",
    "btc_data = req.get(url).json()\n",
    "\n",
    "print(btc_data[0]['trade_price']) # 1분 거래가\n",
    "maxp = float(btc['max_price']) # 최대가\n",
    "minp = float(btc['min_price']) # 최소가\n",
    "openp = float(btc['opening_price']) # 시작가\n",
    "bandp = float(maxp) - float(minp) # 변화폭\n",
    "\n",
    "if (openp + bandp) > maxp:\n",
    "    print(\"상승장입니다.\") \n",
    "else:\n",
    "    print(\"하락장입니다.\")"
   ]
  },
  {
   "cell_type": "code",
   "execution_count": 216,
   "id": "1cd8f98e-5495-49a6-a0cc-21b75936b729",
   "metadata": {},
   "outputs": [
    {
     "name": "stdout",
     "output_type": "stream",
     "text": [
      "2 x 1 = 2\n",
      "2 x 2 = 4\n",
      "2 x 3 = 6\n",
      "2 x 4 = 8\n",
      "2 x 5 = 10\n",
      "2 x 6 = 12\n",
      "2 x 7 = 14\n",
      "2 x 8 = 16\n",
      "2 x 9 = 18\n"
     ]
    }
   ],
   "source": [
    "# 구구단 출력 (2단)\n",
    "for a in range(1,10):\n",
    "    print(f'{2} x {a} = {2*a}')"
   ]
  },
  {
   "cell_type": "code",
   "execution_count": null,
   "id": "6b20bdd1-98dd-4212-9cb5-b5d317ec3145",
   "metadata": {},
   "outputs": [],
   "source": [
    "# 구구단 출력\n",
    "for a in range(2,10):\n",
    "    for b in range(1, 10):\n",
    "        print(a*b)"
   ]
  },
  {
   "cell_type": "code",
   "execution_count": 137,
   "id": "f91f9bc7-b544-47a8-a857-8ebb4d652e6b",
   "metadata": {},
   "outputs": [
    {
     "name": "stdout",
     "output_type": "stream",
     "text": [
      "2 4 6 8 10 12 14 16 18 3 6 9 12 15 18 21 24 27 4 8 12 16 20 24 28 32 36 5 10 15 20 25 30 35 40 45 6 12 18 24 30 36 42 48 54 7 14 21 28 35 42 49 56 63 8 16 24 32 40 48 56 64 72 9 18 27 36 45 54 63 72 81 "
     ]
    }
   ],
   "source": [
    "for a in range(2,10):\n",
    "    for b in range(1, 10):\n",
    "        print(a*b, end=' ')"
   ]
  },
  {
   "cell_type": "code",
   "execution_count": null,
   "id": "24849e93-cec8-4261-b6d6-6f30c5d37016",
   "metadata": {},
   "outputs": [],
   "source": [
    "for j in range(2,10):\n",
    "    print(f'{j}단')\n",
    "    for i in range(1,10):\n",
    "        print(f'{j} x {i} = {j*i}')"
   ]
  },
  {
   "cell_type": "markdown",
   "id": "19e474c9-3ca2-4794-a0e4-2dd441c7114e",
   "metadata": {},
   "source": [
    "### 리스트 컴프리헨션"
   ]
  },
  {
   "cell_type": "code",
   "execution_count": 154,
   "id": "8ae8c73c-81d4-4e2a-9b8f-89965b88ccaa",
   "metadata": {},
   "outputs": [
    {
     "data": {
      "text/plain": [
       "[3, 6, 9, 12]"
      ]
     },
     "execution_count": 154,
     "metadata": {},
     "output_type": "execute_result"
    }
   ],
   "source": [
    "[num*3 for num in [1,2,3,4]]"
   ]
  },
  {
   "cell_type": "code",
   "execution_count": 164,
   "id": "eefab1d4-5036-4d21-bc2e-ac813c3de024",
   "metadata": {},
   "outputs": [
    {
     "name": "stdout",
     "output_type": "stream",
     "text": [
      "[0, 2, 4, 6, 8]\n"
     ]
    }
   ],
   "source": [
    "res = []\n",
    "for x in range(10):\n",
    "    if x%2==0:\n",
    "        res.append(x)\n",
    "print(res)"
   ]
  },
  {
   "cell_type": "code",
   "execution_count": 165,
   "id": "d5266cce-bb26-4f5e-bec1-c8cf4c3188ae",
   "metadata": {},
   "outputs": [
    {
     "data": {
      "text/plain": [
       "[0, 2, 4, 6, 8]"
      ]
     },
     "execution_count": 165,
     "metadata": {},
     "output_type": "execute_result"
    }
   ],
   "source": [
    "# test1\n",
    "[x for x in range(10) if x%2==0]  # list(range(10))"
   ]
  },
  {
   "cell_type": "code",
   "execution_count": 158,
   "id": "a62211ca-96d3-420c-8abc-5b5ec0713be3",
   "metadata": {},
   "outputs": [
    {
     "name": "stdout",
     "output_type": "stream",
     "text": [
      "[2, 4, 6, 8, 10, 12, 14, 16, 18, 3, 6, 9, 12, 15, 18, 21, 24, 27, 4, 8, 12, 16, 20, 24, 28, 32, 36, 5, 10, 15, 20, 25, 30, 35, 40, 45, 6, 12, 18, 24, 30, 36, 42, 48, 54, 7, 14, 21, 28, 35, 42, 49, 56, 63, 8, 16, 24, 32, 40, 48, 56, 64, 72, 9, 18, 27, 36, 45, 54, 63, 72, 81]\n"
     ]
    }
   ],
   "source": [
    "result = [a*b for a in range(2,10)\n",
    "              for b in range(1,10)]\n",
    "print(result)"
   ]
  },
  {
   "cell_type": "code",
   "execution_count": null,
   "id": "9e94d273-c0a7-452a-9fd1-9c2a88fefffa",
   "metadata": {},
   "outputs": [],
   "source": [
    "# for j in range(2,10):\n",
    "#     print(f'{j}단')\n",
    "#     for i in range(1,10):\n",
    "#         print(f'{j} x {i} = {j*i}')\n",
    "\n",
    "[f'{j} x {i} = {j*i}' for j in range(2,10) for i in range(1,10)]"
   ]
  },
  {
   "cell_type": "code",
   "execution_count": 169,
   "id": "c749adb0-1489-4d53-b0a1-30b121db4d7e",
   "metadata": {},
   "outputs": [
    {
     "name": "stdout",
     "output_type": "stream",
     "text": [
      "55\n"
     ]
    }
   ],
   "source": [
    "a = [11,22,33,44,55]\n",
    "# a.sort(reverse=True)\n",
    "# print(a)\n",
    "print(max(a))"
   ]
  },
  {
   "cell_type": "code",
   "execution_count": 1,
   "id": "22d7f292-d22a-4bd4-8e13-b4264d870b7c",
   "metadata": {},
   "outputs": [
    {
     "name": "stdout",
     "output_type": "stream",
     "text": [
      "[3, 12, 13, 26, 42]\n"
     ]
    }
   ],
   "source": [
    "# 로또 생성기 / 숫자 6개가 나와야하고 중복되면 안됨, 오름차순으로 정리\n",
    "# 로또 생성기 / 숫자 6개가 나와야하고 중복되면 안됨, 오름차순으로 정리\n",
    "import random as r\n",
    "box = set()\n",
    "num = 0\n",
    "\n",
    "while num < 6:\n",
    "    num = num + 1\n",
    "    ran = r.randint(1,45)\n",
    "    box.add(ran)\n",
    "\n",
    "sorted_box = sorted(box)\n",
    "print(sorted_box)"
   ]
  },
  {
   "cell_type": "code",
   "execution_count": 7,
   "id": "3077d0ef-5980-4eba-b1ff-52312bec2542",
   "metadata": {},
   "outputs": [
    {
     "name": "stdout",
     "output_type": "stream",
     "text": [
      "100000회 정상 진행되었습니다.\n",
      "\n",
      "1번이 2240번(2.24%) 등장하였습니다.\n",
      "2번이 2213번(2.21%) 등장하였습니다.\n",
      "3번이 2205번(2.21%) 등장하였습니다.\n",
      "4번이 2141번(2.14%) 등장하였습니다.\n",
      "5번이 2293번(2.29%) 등장하였습니다.\n",
      "6번이 2131번(2.13%) 등장하였습니다.\n",
      "7번이 2248번(2.25%) 등장하였습니다.\n",
      "8번이 2198번(2.20%) 등장하였습니다.\n",
      "9번이 2119번(2.12%) 등장하였습니다.\n",
      "10번이 2180번(2.18%) 등장하였습니다.\n",
      "11번이 2120번(2.12%) 등장하였습니다.\n",
      "12번이 2224번(2.22%) 등장하였습니다.\n",
      "13번이 2270번(2.27%) 등장하였습니다.\n",
      "14번이 2288번(2.29%) 등장하였습니다.\n",
      "15번이 2210번(2.21%) 등장하였습니다.\n",
      "16번이 2191번(2.19%) 등장하였습니다.\n",
      "17번이 2210번(2.21%) 등장하였습니다.\n",
      "18번이 2226번(2.23%) 등장하였습니다.\n",
      "19번이 2298번(2.30%) 등장하였습니다.\n",
      "20번이 2145번(2.15%) 등장하였습니다.\n",
      "21번이 2284번(2.28%) 등장하였습니다.\n",
      "22번이 2220번(2.22%) 등장하였습니다.\n",
      "23번이 2255번(2.25%) 등장하였습니다.\n",
      "24번이 2165번(2.17%) 등장하였습니다.\n",
      "25번이 2209번(2.21%) 등장하였습니다.\n",
      "26번이 2217번(2.22%) 등장하였습니다.\n",
      "27번이 2225번(2.23%) 등장하였습니다.\n",
      "28번이 2216번(2.22%) 등장하였습니다.\n",
      "29번이 2304번(2.30%) 등장하였습니다.\n",
      "30번이 2168번(2.17%) 등장하였습니다.\n",
      "31번이 2308번(2.31%) 등장하였습니다.\n",
      "32번이 2181번(2.18%) 등장하였습니다.\n",
      "33번이 2246번(2.25%) 등장하였습니다.\n",
      "34번이 2215번(2.21%) 등장하였습니다.\n",
      "35번이 2211번(2.21%) 등장하였습니다.\n",
      "36번이 2232번(2.23%) 등장하였습니다.\n",
      "37번이 2195번(2.20%) 등장하였습니다.\n",
      "38번이 2197번(2.20%) 등장하였습니다.\n",
      "39번이 2293번(2.29%) 등장하였습니다.\n",
      "40번이 2214번(2.21%) 등장하였습니다.\n",
      "41번이 2328번(2.33%) 등장하였습니다.\n",
      "42번이 2288번(2.29%) 등장하였습니다.\n",
      "43번이 2318번(2.32%) 등장하였습니다.\n",
      "44번이 2133번(2.13%) 등장하였습니다.\n",
      "45번이 2228번(2.23%) 등장하였습니다.\n"
     ]
    }
   ],
   "source": [
    "# 로또 10만회 생성 > 각각 번호가 나온걸 카운팅 > 각 번호를 퍼센트 내기(소수점 두자리)\n",
    "import random as r\n",
    "box = []\n",
    "num = 0\n",
    "target = 100000\n",
    "\n",
    "while num < 100000:\n",
    "    num = num + 1\n",
    "    ran = r.randint(1,45)\n",
    "    box.append(ran)\n",
    "if target == len(box):\n",
    "    print(f\"{target}회 정상 진행되었습니다.\"+\"\\n\")\n",
    "\n",
    "for c in range(1,46):\n",
    "    count = box.count(c)\n",
    "    print(f\"{c}번이 {count}번({(count/len(box)) * 100:.2f}%) 등장하였습니다.\")"
   ]
  },
  {
   "cell_type": "code",
   "execution_count": 25,
   "id": "492389b5-889b-4309-aff0-5f3c92214b51",
   "metadata": {},
   "outputs": [
    {
     "name": "stdout",
     "output_type": "stream",
     "text": [
      "[32, 14, 15, 13, 21, 7] 6\n"
     ]
    }
   ],
   "source": [
    "import random \n",
    "box = []\n",
    "while len(box) < 6:  \n",
    "    ran = random.randint(1,45)\n",
    "    if not ran in box:\n",
    "        box.append(ran)\n",
    "box.sort()\n",
    "print(box,len(box))\n"
   ]
  },
  {
   "cell_type": "code",
   "execution_count": 1,
   "id": "5f17e03c-416a-4c81-a466-de6aaace35f8",
   "metadata": {},
   "outputs": [
    {
     "name": "stdout",
     "output_type": "stream",
     "text": [
      "[39, 33, 32, 36, 27, 35] 6\n"
     ]
    }
   ],
   "source": [
    "import random \n",
    "box = []\n",
    "while len(box) < 6:  \n",
    "    ran = random.randint(1,45) \n",
    "    if ran not in box:\n",
    "        box.append(ran)\n",
    "print(box,len(box))\n",
    "# print(list(set(box)),len(list(set(box))))"
   ]
  },
  {
   "cell_type": "code",
   "execution_count": 16,
   "id": "3264557b-3a8e-4633-b9f5-5e6c1d5bc375",
   "metadata": {
    "scrolled": true
   },
   "outputs": [
    {
     "name": "stdout",
     "output_type": "stream",
     "text": [
      "숫자1 : 출연한 횟수는 13회 입니다.\n",
      "숫자2 : 출연한 횟수는 14회 입니다.\n",
      "숫자3 : 출연한 횟수는 17회 입니다.\n",
      "숫자4 : 출연한 횟수는 15회 입니다.\n",
      "숫자5 : 출연한 횟수는 17회 입니다.\n",
      "숫자6 : 출연한 횟수는 15회 입니다.\n",
      "숫자7 : 출연한 횟수는 14회 입니다.\n",
      "숫자8 : 출연한 횟수는 15회 입니다.\n",
      "숫자9 : 출연한 횟수는 13회 입니다.\n",
      "숫자10 : 출연한 횟수는 9회 입니다.\n",
      "숫자11 : 출연한 횟수는 13회 입니다.\n",
      "숫자12 : 출연한 횟수는 16회 입니다.\n",
      "숫자13 : 출연한 횟수는 13회 입니다.\n",
      "숫자14 : 출연한 횟수는 10회 입니다.\n",
      "숫자15 : 출연한 횟수는 15회 입니다.\n",
      "숫자16 : 출연한 횟수는 14회 입니다.\n",
      "숫자17 : 출연한 횟수는 15회 입니다.\n",
      "숫자18 : 출연한 횟수는 15회 입니다.\n",
      "숫자19 : 출연한 횟수는 13회 입니다.\n",
      "숫자20 : 출연한 횟수는 14회 입니다.\n",
      "숫자21 : 출연한 횟수는 12회 입니다.\n",
      "숫자22 : 출연한 횟수는 14회 입니다.\n",
      "숫자23 : 출연한 횟수는 16회 입니다.\n",
      "숫자24 : 출연한 횟수는 15회 입니다.\n",
      "숫자25 : 출연한 횟수는 9회 입니다.\n",
      "숫자26 : 출연한 횟수는 9회 입니다.\n",
      "숫자27 : 출연한 횟수는 11회 입니다.\n",
      "숫자28 : 출연한 횟수는 11회 입니다.\n",
      "숫자29 : 출연한 횟수는 15회 입니다.\n",
      "숫자30 : 출연한 횟수는 9회 입니다.\n",
      "숫자31 : 출연한 횟수는 10회 입니다.\n",
      "숫자32 : 출연한 횟수는 7회 입니다.\n",
      "숫자33 : 출연한 횟수는 11회 입니다.\n",
      "숫자34 : 출연한 횟수는 19회 입니다.\n",
      "숫자35 : 출연한 횟수는 21회 입니다.\n",
      "숫자36 : 출연한 횟수는 15회 입니다.\n",
      "숫자37 : 출연한 횟수는 19회 입니다.\n",
      "숫자38 : 출연한 횟수는 11회 입니다.\n",
      "숫자39 : 출연한 횟수는 9회 입니다.\n",
      "숫자40 : 출연한 횟수는 12회 입니다.\n",
      "숫자41 : 출연한 횟수는 17회 입니다.\n",
      "숫자42 : 출연한 횟수는 14회 입니다.\n",
      "숫자43 : 출연한 횟수는 10회 입니다.\n",
      "숫자44 : 출연한 횟수는 15회 입니다.\n",
      "숫자45 : 출연한 횟수는 9회 입니다.\n",
      "[13, 14, 17, 15, 17, 15, 14, 15, 13, 9, 13, 16, 13, 10, 15, 14, 15, 15, 13, 14, 12, 14, 16, 15, 9, 9, 11, 11, 15, 9, 10, 7, 11, 19, 21, 15, 19, 11, 9, 12, 17, 14, 10, 15, 9] True\n",
      "출연 횟수 100에 대한 검증이 되었습니다.\n"
     ]
    }
   ],
   "source": [
    "# 참고용 1\n",
    "ls = []\n",
    "la = []\n",
    "how = 100\n",
    "for h in range(how):\n",
    "    lotto = sorted(random.sample(range(1,46),6))\n",
    "    la.append(lotto)\n",
    "    ls = ls + lotto\n",
    "# print(la, type(la))  # 배열 유지\n",
    "ss = []\n",
    "dic = {}\n",
    "for n in range(1,46):\n",
    "    ss.append(ls.count(n))\n",
    "    print(f'숫자{n} : 출연한 횟수는 {ls.count(n)}회 입니다.')  # 배열 망가짐, 카운트하기 편함\n",
    "print(ss, sum(ss) == how*6)\n",
    "if sum(ss) == (how * 6):\n",
    "    print(f\"출연 횟수 {how}에 대한 검증이 되었습니다.\")"
   ]
  },
  {
   "cell_type": "code",
   "execution_count": 21,
   "id": "93b25293-0ca4-4140-bc9d-db1064c136cf",
   "metadata": {},
   "outputs": [
    {
     "name": "stdout",
     "output_type": "stream",
     "text": [
      "{'num1': 13, 'num2': 11, 'num3': 10, 'num4': 8, 'num5': 22, 'num6': 20, 'num7': 16, 'num8': 16, 'num9': 12, 'num10': 12, 'num11': 14, 'num12': 13, 'num13': 15, 'num14': 9, 'num15': 12, 'num16': 10, 'num17': 8, 'num18': 9, 'num19': 14, 'num20': 18, 'num21': 16, 'num22': 14, 'num23': 20, 'num24': 7, 'num25': 20, 'num26': 11, 'num27': 13, 'num28': 9, 'num29': 15, 'num30': 11, 'num31': 12, 'num32': 10, 'num33': 9, 'num34': 13, 'num35': 15, 'num36': 15, 'num37': 15, 'num38': 12, 'num39': 9, 'num40': 15, 'num41': 12, 'num42': 16, 'num43': 12, 'num44': 20, 'num45': 17}\n",
      "dict_values([13, 11, 10, 8, 22, 20, 16, 16, 12, 12, 14, 13, 15, 9, 12, 10, 8, 9, 14, 18, 16, 14, 20, 7, 20, 11, 13, 9, 15, 11, 12, 10, 9, 13, 15, 15, 15, 12, 9, 15, 12, 16, 12, 20, 17])\n"
     ]
    }
   ],
   "source": [
    "# 참고용 2\n",
    "ls = []\n",
    "la = []\n",
    "how = 100\n",
    "for h in range(how):\n",
    "    lotto = sorted(random.sample(range(1,46),6))   \n",
    "    la.append(lotto)\n",
    "    ls = ls + lotto\n",
    "dic = {}\n",
    "for n in range(1,46):\n",
    "    dic[f\"num{n}\"] = ls.count(n)\n",
    "    # print(f'숫자{n}: 출현한 횟수는 {ls.count(n)}회 입니다.')\n",
    "print(dic)\n",
    "print(sum(dic.values()))"
   ]
  },
  {
   "cell_type": "code",
   "execution_count": 31,
   "id": "8f387a7c-5b84-479b-af28-e885350bef0b",
   "metadata": {},
   "outputs": [
    {
     "name": "stdout",
     "output_type": "stream",
     "text": [
      "[12, 16, 25, 26, 29, 37] 6\n"
     ]
    }
   ],
   "source": [
    "import random \n",
    "def 로또(파라미터=6,매개변수=46):\n",
    "    box = []\n",
    "    while len(box) < 6:  \n",
    "        ran = random.randint(1,매개변수)\n",
    "        if not ran in box:\n",
    "            box.append(ran)\n",
    "    box.sort()\n",
    "    print(box,len(box))\n",
    "로또()"
   ]
  },
  {
   "cell_type": "code",
   "execution_count": 28,
   "id": "8ad78928-f732-46b6-a4ce-140033cd6955",
   "metadata": {},
   "outputs": [
    {
     "name": "stdout",
     "output_type": "stream",
     "text": [
      "[7, 10, 15, 17, 18, 36] 6\n",
      "[2, 10, 35, 37, 38, 45] 6\n",
      "[3, 10, 12, 14, 17, 36] 6\n",
      "[9, 16, 30, 33, 37, 40] 6\n",
      "[5, 8, 19, 29, 38, 40] 6\n"
     ]
    }
   ],
   "source": [
    "# 참고용 3\n",
    "for n in range(5):\n",
    "    로또()"
   ]
  },
  {
   "cell_type": "code",
   "execution_count": null,
   "id": "948aff36-0194-43f0-80e9-3951eca6579d",
   "metadata": {},
   "outputs": [],
   "source": [
    "# list(set(box))\n",
    "# print(list(set(box)),len(list(set(box))))\n",
    "\n",
    "if ran in box:\n",
    "        pass\n",
    "else:\n",
    "    box.append()\n",
    "    if ran not in box:"
   ]
  },
  {
   "cell_type": "code",
   "execution_count": null,
   "id": "576fdf2b-3d5f-4dbe-a0c2-2637523f1473",
   "metadata": {},
   "outputs": [],
   "source": [
    "# max와 min, short를 사용하지 않고 배열요소를 오름차순으로 나열해라 [33,11,22] / [33,11,22,44]"
   ]
  },
  {
   "cell_type": "code",
   "execution_count": null,
   "id": "0aa45dc1-cff0-42ee-950e-f0c777e5b56c",
   "metadata": {},
   "outputs": [],
   "source": [
    "# max와 min, short를 사용하지 않고 요소 중 가장 큰 수를 찾아내라 [33,11,22] / [33,11,22,44]"
   ]
  },
  {
   "cell_type": "code",
   "execution_count": null,
   "id": "88fe3fee-97e9-4fdd-af78-6d40660a2c73",
   "metadata": {},
   "outputs": [],
   "source": [
    "# 가위바위보 / 사람이 하나를 내면 상대인 컴퓨터는 랜덤으로 선택하여 낸다. 승률기록 컴퓨터: , 사람, ㅇㅇ가 졌습니다. 및 각자 승률 출력"
   ]
  },
  {
   "cell_type": "code",
   "execution_count": 25,
   "id": "361a8f96-3473-4d52-b7c2-84606c83468d",
   "metadata": {},
   "outputs": [
    {
     "name": "stdin",
     "output_type": "stream",
     "text": [
      "돈을 넣어주세요~ 5000\n",
      "구매 가격 입력 1330\n"
     ]
    },
    {
     "name": "stdout",
     "output_type": "stream",
     "text": [
      "3670 원 드릴게요!\n",
      "1000원 지폐: 3 장\n",
      "500원 동전: 1 개\n",
      "100원 동전: 1 개\n",
      "50원 동전: 1 개\n",
      "10원 동전: 2 개\n"
     ]
    }
   ],
   "source": [
    "# 잔돈 분류 프로그램 / 5000원 투입, 1330원 구매, 3670원 잔돈 / 1000원 3장, 500원 1개, 100원 1개, 50원 1개, 10원 2개\n",
    "\n",
    "money = int(input(\"돈을 넣어주세요~\"))\n",
    "buy = int(input(\"구매 가격 입력\"))\n",
    "value = money - buy\n",
    "print(value, \"원 드릴게요!\")\n",
    "\n",
    "if value//1000 > 0:\n",
    "    print(\"1000원 지폐:\", (value//1000), \"장\")\n",
    "    value = value % 1000\n",
    "if value//500 > 0:\n",
    "    print(\"500원 동전:\", (value//500), \"개\")\n",
    "    value = value % 500\n",
    "if value//100 > 0:\n",
    "    print(\"100원 동전:\", (value//100), \"개\")\n",
    "    value = value % 100\n",
    "if value//50 > 0:\n",
    "    print(\"50원 동전:\", (value//50), \"개\")\n",
    "    value = value % 50\n",
    "if value//10 > 0:\n",
    "    print(\"10원 동전:\", (value//10), \"개\")\n",
    "    value = value % 10"
   ]
  },
  {
   "cell_type": "code",
   "execution_count": 24,
   "id": "86c42327-5aba-4288-b877-214e19d2088a",
   "metadata": {},
   "outputs": [
    {
     "name": "stdin",
     "output_type": "stream",
     "text": [
      "돈을 넣어주세요~ 5000\n",
      "구매 가격 입력 1330\n"
     ]
    },
    {
     "name": "stdout",
     "output_type": "stream",
     "text": [
      "3670 원 드릴게요!\n",
      "1000원 지폐/동전: 3개\n",
      "500원 지폐/동전: 1개\n",
      "100원 지폐/동전: 1개\n",
      "50원 지폐/동전: 1개\n",
      "10원 지폐/동전: 2개\n"
     ]
    }
   ],
   "source": [
    "# 잔돈 분류 2\n",
    "\n",
    "money = int(input(\"돈을 넣어주세요~\"))\n",
    "buy = int(input(\"구매 가격 입력\"))\n",
    "value = money - buy\n",
    "\n",
    "print(f\"{value} 원 드릴게요!\")\n",
    "\n",
    "mn = [1000, 500, 100, 50, 10]\n",
    "for coin in mn:\n",
    "    count = value // coin\n",
    "    if count > 0:\n",
    "        print(f\"{coin}원 지폐/동전: {count}개\")\n",
    "        value %= coin\n"
   ]
  }
 ],
 "metadata": {
  "kernelspec": {
   "display_name": "Python 3 (ipykernel)",
   "language": "python",
   "name": "python3"
  },
  "language_info": {
   "codemirror_mode": {
    "name": "ipython",
    "version": 3
   },
   "file_extension": ".py",
   "mimetype": "text/x-python",
   "name": "python",
   "nbconvert_exporter": "python",
   "pygments_lexer": "ipython3",
   "version": "3.13.1"
  }
 },
 "nbformat": 4,
 "nbformat_minor": 5
}
