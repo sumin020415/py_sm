{
 "cells": [
  {
   "cell_type": "markdown",
   "id": "22716ce1-890f-4384-90a8-c21500473d88",
   "metadata": {},
   "source": [
    "# 클래스"
   ]
  },
  {
   "cell_type": "markdown",
   "id": "22e8e336-f635-473e-8d4e-0f300fe9afb4",
   "metadata": {},
   "source": [
    "## 클래스 기본"
   ]
  },
  {
   "cell_type": "code",
   "execution_count": 3,
   "id": "6d547aa9-f6ed-4702-98d8-be825cbd8a0a",
   "metadata": {},
   "outputs": [
    {
     "name": "stdout",
     "output_type": "stream",
     "text": [
      "[1, 2, 3, 4] <class 'list'>\n",
      "(11, 22, 33, 44) <class 'tuple'>\n"
     ]
    }
   ],
   "source": [
    "what = [1,2,3,4]\n",
    "what1 = ['a','b','c']\n",
    "who = 11,22,33,44\n",
    "print(what,type(what))\n",
    "print(who,type(who))"
   ]
  },
  {
   "cell_type": "code",
   "execution_count": 2,
   "id": "043d0c66-4520-48b5-8aff-40268c8097f2",
   "metadata": {},
   "outputs": [
    {
     "name": "stdout",
     "output_type": "stream",
     "text": [
      "3\n",
      "7\n"
     ]
    }
   ],
   "source": [
    "result = 0\n",
    "def add(num):\n",
    "    global result\n",
    "    result += num\n",
    "    return result\n",
    "\n",
    "print(add(3))\n",
    "print(add(4))"
   ]
  },
  {
   "cell_type": "code",
   "execution_count": 13,
   "id": "66281e0c-3db0-4ecd-937b-e29a0613c282",
   "metadata": {},
   "outputs": [
    {
     "name": "stdout",
     "output_type": "stream",
     "text": [
      "1: 1\n",
      "2: 1\n",
      "2: 2\n",
      "2: 3\n",
      "1: 2\n",
      "1: 3\n"
     ]
    }
   ],
   "source": [
    "# 계산기(클래스 사용x)\n",
    "result1 = 0\n",
    "result2 = 0\n",
    "\n",
    "def add1(num):  # 계산기1\n",
    "    global result1\n",
    "    result1 += num\n",
    "    return result1\n",
    "\n",
    "def add2(num):  # 계산기2\n",
    "    global result2\n",
    "    result2 += num\n",
    "    return result2\n",
    "    \n",
    "# print(add1(3))\n",
    "# print(add1(4))\n",
    "# print(add2(3))\n",
    "# print(add2(7))\n",
    "\n",
    "print('1:',add1(1))\n",
    "print('2:',add2(1))\n",
    "print('2:',add2(1))\n",
    "print('2:',add2(1))\n",
    "print('1:',add1(1))\n",
    "print('1:',add1(1))"
   ]
  },
  {
   "cell_type": "markdown",
   "id": "7787cae6-5622-4278-bad8-de3cdf405afd",
   "metadata": {},
   "source": [
    "클래스 (Class): 클래스는 객체의 설계도나 청사진과 같은 개념입니다. 속성과 메서드를 정의하여 객체의 구조와 동작을 설명합니다.\n",
    "\n",
    "인스턴스 (Instance): 클래스에 정의된 속성과 메서드를 바탕으로 생성된 실제 객체를 인스턴스라고 합니다. 즉, 클래스의 구체적인 구현물입니다."
   ]
  },
  {
   "cell_type": "code",
   "execution_count": 9,
   "id": "e5ceeefe-03bd-4bcf-905e-ba37aa383c25",
   "metadata": {
    "scrolled": true
   },
   "outputs": [
    {
     "name": "stdout",
     "output_type": "stream",
     "text": [
      "3\n",
      "7\n",
      "3\n",
      "10\n",
      "9\n",
      "7\n"
     ]
    }
   ],
   "source": [
    "# 계산기(클래스사용)\n",
    "class Calculator:\n",
    "    def __init__(self):\n",
    "        self.result = 0\n",
    "\n",
    "    def add(self, num):\n",
    "        self.result += num\n",
    "        return self.result\n",
    "\n",
    "    def sub(self,num):\n",
    "        self.result -= num\n",
    "        return self.result\n",
    "\n",
    "cal1 = Calculator()\n",
    "cal2 = Calculator()\n",
    "\n",
    "# print(cal1.add(3))\n",
    "# print(cal1.add(4))\n",
    "# print(cal2.add(3))\n",
    "# print(cal2.add(7))\n",
    "# print(cal2.sub(1))\n",
    "# print(cal2.sub(2))\n",
    "\n",
    "print('1:',cal1.add(1))\n",
    "print('2:',cal2.add(1))\n",
    "print('2:',cal2.add(1))\n",
    "print('2:',cal2.add(1))\n",
    "print('1:',cal1.add(1))\n",
    "print('1:',cal1.add(1))\n",
    "\n",
    "print(cal2.sub(1))\n",
    "print(cal2.sub(1))"
   ]
  },
  {
   "cell_type": "markdown",
   "id": "e5fc7262-654f-4c33-959a-7983c2cba172",
   "metadata": {},
   "source": [
    "## 생성자"
   ]
  },
  {
   "cell_type": "code",
   "execution_count": 44,
   "id": "4393d89a-27e1-457b-9631-193fdb4024a5",
   "metadata": {},
   "outputs": [],
   "source": [
    "# 예제1\n",
    "class Dduk:\n",
    "    def __init__(self,won,ea):\n",
    "        self.won = won\n",
    "        self.ea = ea\n",
    "    def dduk(self):\n",
    "        result = self.won * self.ea\n",
    "        print(f\"배가 고파서 떡볶이 가게에서 떡볶이를 {result}원어치 먹었다.\")\n",
    "    def odeng(self):\n",
    "        result = self.won * 2 * self.ea\n",
    "        print(f\"배가 고파서 떡볶이 가게에서 오뎅을 {result}원어치 먹었다.\")\n",
    "    def sundae(self):\n",
    "        result = self.won * 2 * self.ea\n",
    "        print(f\"배가 고파서 떡볶이 가게에서 순대를 {result}원어치 먹었다.\")"
   ]
  },
  {
   "cell_type": "code",
   "execution_count": 45,
   "id": "d10dcf83-e118-46c3-8a83-06c08c67f346",
   "metadata": {},
   "outputs": [
    {
     "name": "stdout",
     "output_type": "stream",
     "text": [
      "배가 고파서 떡볶이 가게에서 떡볶이를 10000원어치 먹었다.\n",
      "배가 고파서 떡볶이 가게에서 오뎅을 20000원어치 먹었다.\n",
      "배가 고파서 떡볶이 가게에서 순대를 20000원어치 먹었다.\n"
     ]
    }
   ],
   "source": [
    "수민 = Dduk(1000,10)\n",
    "수민.dduk()\n",
    "수민.odeng()\n",
    "수민.sundae()"
   ]
  },
  {
   "cell_type": "code",
   "execution_count": 46,
   "id": "bebcb7f5-7fb0-4d1e-8d38-4ecea7205eb5",
   "metadata": {},
   "outputs": [
    {
     "name": "stdout",
     "output_type": "stream",
     "text": [
      "배가 고파서 떡볶이 가게에서 오뎅을 10000원어치 먹었다.\n"
     ]
    }
   ],
   "source": [
    "수민.__init__(500,10)\n",
    "수민.odeng()"
   ]
  },
  {
   "cell_type": "code",
   "execution_count": 47,
   "id": "fb2ba411-be15-428a-9aff-635885a505cb",
   "metadata": {},
   "outputs": [
    {
     "name": "stdout",
     "output_type": "stream",
     "text": [
      "배가 고파서 떡볶이 가게에서 순대를 6000원어치 먹었다.\n"
     ]
    }
   ],
   "source": [
    "수민.__init__(3000,1)\n",
    "수민.sundae()"
   ]
  },
  {
   "cell_type": "markdown",
   "id": "322173c0-1870-4ffa-b9d4-55311eb90dda",
   "metadata": {},
   "source": [
    "## 예제들"
   ]
  },
  {
   "cell_type": "code",
   "execution_count": 53,
   "id": "ef3d0732-03af-468b-952d-c02061b3e53c",
   "metadata": {},
   "outputs": [
    {
     "name": "stdout",
     "output_type": "stream",
     "text": [
      "방가방가 저는 고전 인사입니다!\n",
      "방가방가1 저는 고전 인사입니다!\n"
     ]
    }
   ],
   "source": [
    "# test\n",
    "def test():\n",
    "    \"\"\" (함수를 설명, 기본 출력 시 나오지 않음)\n",
    "    이것은 예로부터 전해오는 고전 인사함수 입니다. DocString\n",
    "    \"\"\"\n",
    "    print(\"방가방가 저는 고전 인사입니다!\")\n",
    "    print(\"방가방가1 저는 고전 인사입니다!\")\n",
    "test()"
   ]
  },
  {
   "cell_type": "code",
   "execution_count": 50,
   "id": "f1918fcf-7abd-4588-a4ef-e4fb710508fa",
   "metadata": {},
   "outputs": [
    {
     "name": "stdout",
     "output_type": "stream",
     "text": [
      "(함수를 설명, 출력 시 나오지 않음)\n",
      "이것은 예로부터 전해오는 고전 인사함수 입니다. \n",
      "\n"
     ]
    }
   ],
   "source": [
    "print(test.__doc__) # 설명 출력"
   ]
  },
  {
   "cell_type": "code",
   "execution_count": null,
   "id": "e4f3bb48-7a2c-4171-9c22-cd110639cce0",
   "metadata": {},
   "outputs": [],
   "source": [
    "dir(test)"
   ]
  },
  {
   "cell_type": "code",
   "execution_count": null,
   "id": "71acb743-ce36-4e63-9256-c3d23b89ddce",
   "metadata": {},
   "outputs": [],
   "source": [
    "help(test)"
   ]
  },
  {
   "cell_type": "code",
   "execution_count": 7,
   "id": "7734c2ed-300f-4038-9e48-af62aa418c94",
   "metadata": {},
   "outputs": [],
   "source": [
    "# test2 / class의 self 없이 함수만들기\n",
    "def set_car(name, color):\n",
    "    return {\"name\":name, \"color\":color}\n",
    "def get_car_info(car):\n",
    "    return f\"Car:{car['name']},'Color:{car['color']}\""
   ]
  },
  {
   "cell_type": "code",
   "execution_count": 62,
   "id": "27b1e4b2-5e79-42df-847b-e48f8d52242a",
   "metadata": {},
   "outputs": [
    {
     "name": "stdout",
     "output_type": "stream",
     "text": [
      "{'name': 'HD', 'color': 'Blue'}\n",
      "Car:HD,'Color:Blue\n"
     ]
    }
   ],
   "source": [
    "# 자동차를 생성\n",
    "car = set_car(\"HD\",\"Blue\")\n",
    "print(car)\n",
    "# 자동차 정보를 생성\n",
    "print(get_car_info(car))"
   ]
  },
  {
   "cell_type": "code",
   "execution_count": 64,
   "id": "401a622c-7896-4770-9f67-9f4c2db19dd8",
   "metadata": {},
   "outputs": [
    {
     "name": "stdout",
     "output_type": "stream",
     "text": [
      "Car:kia,'Color:white\n"
     ]
    }
   ],
   "source": [
    "print(get_car_info(set_car(\"kia\",\"white\")))"
   ]
  },
  {
   "cell_type": "code",
   "execution_count": 65,
   "id": "84381f24-1fa0-4965-a56f-9864e44759bf",
   "metadata": {},
   "outputs": [],
   "source": [
    "# test3\n",
    "class Car:\n",
    "    def set_car(name, color):\n",
    "        return {\"name\":name, \"color\":color}\n",
    "    def get_car_info(car):\n",
    "        return f\"Car:{car['name']},'Color:{car['color']}\""
   ]
  },
  {
   "cell_type": "code",
   "execution_count": 66,
   "id": "27be22b9-53a1-467b-954b-ba49388abe05",
   "metadata": {},
   "outputs": [
    {
     "name": "stdout",
     "output_type": "stream",
     "text": [
      "Car:HD,'Color:Yellow\n",
      "Car:kia,'Color:white\n"
     ]
    }
   ],
   "source": [
    "car1 = Car.set_car(\"HD\",\"Yellow\")\n",
    "car2 = Car.set_car(\"kia\",\"white\")\n",
    "print(Car.get_car_info(car1))\n",
    "print(Car.get_car_info(car2))"
   ]
  },
  {
   "cell_type": "code",
   "execution_count": 77,
   "id": "68e5379c-e7f9-4e1e-b331-6b13b9989e27",
   "metadata": {},
   "outputs": [],
   "source": [
    "# test4\n",
    "class Car:\n",
    "    def __init__(self,name,color): # 생성자\n",
    "        self.name = name\n",
    "        self.color = color   \n",
    "    def get_car_info(self):\n",
    "        return f\"Car:{self.name},Color:{self.color}\""
   ]
  },
  {
   "cell_type": "code",
   "execution_count": 78,
   "id": "fab0bb8c-90c2-423b-a5eb-8a978943e9b3",
   "metadata": {},
   "outputs": [],
   "source": [
    "car1 = Car(\"HD\",\"Black\")\n",
    "car2 = Car(\"Kia\",\"Gray\")"
   ]
  },
  {
   "cell_type": "code",
   "execution_count": 79,
   "id": "13b9a5a9-dd09-42bc-9973-a31b1f28d83d",
   "metadata": {},
   "outputs": [
    {
     "name": "stdout",
     "output_type": "stream",
     "text": [
      "Car:HD,Color:Black\n",
      "Car:Kia,Color:Gray\n"
     ]
    }
   ],
   "source": [
    "print(car1.get_car_info())\n",
    "print(car2.get_car_info())"
   ]
  },
  {
   "cell_type": "code",
   "execution_count": 91,
   "id": "b0235351-4950-4525-a60f-46212b3c8c2e",
   "metadata": {},
   "outputs": [],
   "source": [
    "# test5\n",
    "class Car:\n",
    "    def __init__(self,name,color): # 생성자\n",
    "        self.name = name\n",
    "        self.color = color\n",
    "        self.speed = 0 # 초기값 0\n",
    "    def get_car_info(self):\n",
    "        return f\"Car:{self.name},Color:{self.color}\"\n",
    "    def acc(self, amount):\n",
    "        self.speed += amount # 속도가 증가\n",
    "        return f\"{self.name} 속도 올려요. 현재속도는 {self.speed}Km/h\""
   ]
  },
  {
   "cell_type": "code",
   "execution_count": 94,
   "id": "7331587f-a2d1-444d-9757-1dc1a9dfeeb6",
   "metadata": {},
   "outputs": [
    {
     "name": "stdout",
     "output_type": "stream",
     "text": [
      "Car:HD,Color:Black\n",
      "Car:Kia,Color:Gray\n",
      "HD 속도 올려요. 현재속도는 30Km/h\n",
      "Kia 속도 올려요. 현재속도는 50Km/h\n",
      "HD 속도 올려요. 현재속도는 95Km/h\n"
     ]
    }
   ],
   "source": [
    "car1 = Car(\"HD\",\"Black\")\n",
    "car2 = Car(\"Kia\",\"Gray\")\n",
    "print(car1.get_car_info())\n",
    "print(car2.get_car_info())\n",
    "print(car1.acc(30))\n",
    "print(car2.acc(50))\n",
    "print(car1.acc(65))"
   ]
  },
  {
   "cell_type": "code",
   "execution_count": null,
   "id": "ee18f1e2-604f-4664-8cc1-6eeaf62e7d6b",
   "metadata": {},
   "outputs": [],
   "source": [
    "import time as t\n",
    "for n in range(60):\n",
    "    print(car1.acc(1))\n",
    "    t.sleep(1)\n",
    "print(\"60Km/h 속도 유지중..\")"
   ]
  },
  {
   "cell_type": "code",
   "execution_count": 96,
   "id": "b5ba5149-69c5-475b-a009-d2403dd8afc3",
   "metadata": {},
   "outputs": [],
   "source": [
    "# test6 상속\n",
    "class Mycar(Car):\n",
    "    def turbo(self):\n",
    "        self.speed += 50        \n",
    "        return(f\"내차가 나른다!! 터보 ! {self.speed} Km/h\")    \n",
    "    def acc(self):\n",
    "        self.speed += 30 # 속도가 증가\n",
    "        return f\"{self.name}의 {self.speed}!!\" "
   ]
  },
  {
   "cell_type": "code",
   "execution_count": 97,
   "id": "7b439288-dec9-4787-a330-32d4589f55d4",
   "metadata": {},
   "outputs": [
    {
     "name": "stdout",
     "output_type": "stream",
     "text": [
      "Kia 속도 올려요. 현재속도는 10Km/h\n",
      "mycar의 30!!\n"
     ]
    }
   ],
   "source": [
    "my = Mycar(\"mycar\",\"skyblue\")\n",
    "car0 = Car(\"Kia\",\"Gray\")\n",
    "print(car0.acc(10))\n",
    "print(my.acc())"
   ]
  },
  {
   "cell_type": "code",
   "execution_count": 98,
   "id": "6933f96c-5131-476d-82a8-ca0cb4665ade",
   "metadata": {},
   "outputs": [
    {
     "name": "stdout",
     "output_type": "stream",
     "text": [
      "내차가 나른다!! 터보 ! 80 Km/h\n",
      "내차가 나른다!! 터보 ! 130 Km/h\n"
     ]
    }
   ],
   "source": [
    "print(my.turbo())\n",
    "print(my.turbo())"
   ]
  },
  {
   "cell_type": "code",
   "execution_count": 99,
   "id": "9c708828-9709-45cd-a3dd-90ab8b650628",
   "metadata": {},
   "outputs": [],
   "source": [
    "# test 7\n",
    "class Pet:\n",
    "    def __init__(self,name,species):\n",
    "        \"\"\"펫을 생성\"\"\"\n",
    "        self.name = name\n",
    "        self.species = species\n",
    "        self.hunger = 50 # 초기 배고픔 수치 ( 0 ~ 100)\n",
    "    def feed(self):\n",
    "        \"\"\"밥을 주면 배고픔 감소\"\"\"\n",
    "        if self.hunger > 10:\n",
    "            self.hunger -= 10\n",
    "        return f\"{self.name}에게 밥을 줬습니다.! 배고픔:{self.hunger}\"\n",
    "    def play(self):\n",
    "        \"\"\"놀아주면 배고픔이 증가\"\"\"\n",
    "        if self.hunger < 80:\n",
    "            self.hunger += 20\n",
    "        return f\"{self.name}와 아주 잘 놀아줬어요!!!!~~~~ 배고픔:{self.hunger}\"   \n",
    "    "
   ]
  },
  {
   "cell_type": "code",
   "execution_count": 100,
   "id": "826d8f9c-fa05-4c75-ab2b-d3f7bfac236a",
   "metadata": {},
   "outputs": [
    {
     "name": "stdout",
     "output_type": "stream",
     "text": [
      "뽀삐에게 밥을 줬습니다.! 배고픔:40\n",
      "뽀삐에게 밥을 줬습니다.! 배고픔:30\n",
      "아지와 아주 잘 놀아줬어요!!!!~~~~ 배고픔:70\n",
      "아지와 아주 잘 놀아줬어요!!!!~~~~ 배고픔:90\n",
      "아지와 아주 잘 놀아줬어요!!!!~~~~ 배고픔:90\n",
      "뽀삐와 아주 잘 놀아줬어요!!!!~~~~ 배고픔:50\n",
      "뽀삐와 아주 잘 놀아줬어요!!!!~~~~ 배고픔:70\n",
      "컁이와 아주 잘 놀아줬어요!!!!~~~~ 배고픔:70\n",
      "컁이와 아주 잘 놀아줬어요!!!!~~~~ 배고픔:90\n",
      "컁이에게 밥을 줬습니다.! 배고픔:80\n"
     ]
    }
   ],
   "source": [
    "# 펫생성\n",
    "dog1 = Pet(\"뽀삐\",\"말티즈\")\n",
    "dog2 = Pet(\"아지\",\"요크\")\n",
    "cat = Pet(\"컁이\",\"나만고양없어\")\n",
    "print(dog1.feed())\n",
    "print(dog1.feed())\n",
    "print(dog2.play())\n",
    "print(dog2.play())\n",
    "print(dog2.play())\n",
    "print(dog1.play())\n",
    "print(dog1.play())\n",
    "print(cat.play())\n",
    "print(cat.play())\n",
    "print(cat.feed())"
   ]
  },
  {
   "cell_type": "code",
   "execution_count": 101,
   "id": "f59f873e-8b61-4ab9-8486-979da71b1ba1",
   "metadata": {},
   "outputs": [],
   "source": [
    "# test 8\n",
    "class Bacteria:\n",
    "    def __init__(self,initial_population, growth_rate):\n",
    "        \"\"\"세균초기화\"\"\"\n",
    "        self.population = initial_population\n",
    "        self.growth_rate = growth_rate\n",
    "        self.time = 0 # 시작시간\n",
    "    def grow(self,hours):\n",
    "        \"\"\"일정 시간이 지나면 세균이 증식함\"\"\"\n",
    "        self.time = hours\n",
    "        self.population *= self.growth_rate**hours\n",
    "        return f\"{self.time} 시간 후 세균 수: { int(self.population)} 마리\"\n",
    "    def check(self):\n",
    "        \"\"\"현재 세균 수 확인\"\"\"\n",
    "        return f\"현재 세균 수 : { int(self.population)} 마리\""
   ]
  },
  {
   "cell_type": "code",
   "execution_count": 102,
   "id": "76261148-90fc-4895-9409-debb001be41e",
   "metadata": {},
   "outputs": [],
   "source": [
    "bacteria = Bacteria( 100, 2)"
   ]
  },
  {
   "cell_type": "code",
   "execution_count": 103,
   "id": "03ec71ec-0b04-43ac-85b1-9a4210c94feb",
   "metadata": {},
   "outputs": [
    {
     "name": "stdout",
     "output_type": "stream",
     "text": [
      "1 시간 후 세균 수: 200 마리\n",
      "2 시간 후 세균 수: 800 마리\n",
      "3 시간 후 세균 수: 6400 마리\n"
     ]
    }
   ],
   "source": [
    "print(bacteria.grow(1))\n",
    "print(bacteria.grow(2))\n",
    "print(bacteria.grow(3))"
   ]
  },
  {
   "cell_type": "code",
   "execution_count": 104,
   "id": "b1e67003-9106-4bb4-83f0-c4ba1d238b2e",
   "metadata": {},
   "outputs": [
    {
     "name": "stdout",
     "output_type": "stream",
     "text": [
      "철수님의 잔고는 50000원 입니다.\n",
      "영희님의 잔고는 200000원 입니다.\n",
      "철수님의 잔고는 9000000원 입니다.\n",
      "9000000\n"
     ]
    }
   ],
   "source": [
    "# test 9 은행예금 캡슐화 안됨, 클래스 변수\n",
    "class BankAccount:\n",
    "    interest_rate = 0.02 # 클래스 변수\n",
    "    def __init__(self, owner, balance):\n",
    "        self.owner = owner\n",
    "        self.balance = balance or 0\n",
    "    def bprint(self):\n",
    "        return f\"{self.owner}님의 잔고는 {self.balance}원 입니다.\"\n",
    "\n",
    "acc1 = BankAccount(\"철수\",50000)\n",
    "acc2 = BankAccount(\"영희\",200000)\n",
    "print(acc1.bprint())\n",
    "print(acc2.bprint())\n",
    "# 공격후\n",
    "acc1.balance = 9000000\n",
    "print(acc1.bprint())\n",
    "print(acc1.balance)"
   ]
  },
  {
   "cell_type": "code",
   "execution_count": 111,
   "id": "f090dc55-01e6-4a8f-87a4-860c84f71594",
   "metadata": {},
   "outputs": [
    {
     "name": "stdout",
     "output_type": "stream",
     "text": [
      "철수님의 잔고는 50000원 입니다.\n",
      "영희님의 잔고는 200000원 입니다.\n",
      "0.02% 의 이자가 반영된 금액은 51000원 입니다.\n",
      "0.02% 의 이자가 반영된 금액은 204000원 입니다.\n",
      "0.03% 의 이자가 반영된 금액은 51500원 입니다.\n",
      "0.03% 의 이자가 반영된 금액은 206000원 입니다.\n"
     ]
    }
   ],
   "source": [
    "# test 9 은행예금 캡슐화 된 예제, 클래스 변수\n",
    "class BankAccount:\n",
    "    interest_rate = 0.02 # 클래스 변수\n",
    "    def __init__(self, owner, balance):\n",
    "        self.owner = owner\n",
    "        self.__balance = balance or 0\n",
    "    def bprint(self):\n",
    "        return f\"{self.owner}님의 잔고는 {self.__balance}원 입니다.\"\n",
    "    def deposit(self, amount):\n",
    "        self.__balance += amount\n",
    "        return f\"{self.owner}님의 계좌에 {amount}원이 입금 되었습니다. 현재 잔액: {self.__balance}원\"\n",
    "    def withdraw(self, amount):\n",
    "        if self.__balance >= amount:\n",
    "            self.__balance -= amount\n",
    "            return f\"{self.owner}님의 계좌에 {amount}원이 출금 되었습니다. 현재 잔액: {self.__balance}원\"\n",
    "        return \"잔액이 부족합니다.\"\n",
    "    def interest(self):\n",
    "        total = self.__balance * (1 + self.interest_rate)\n",
    "        return f\"{self.interest_rate}% 의 이자가 반영된 금액은 {total:.0f}원 입니다.\"\n",
    "# 인스턴스화\n",
    "acc3 = BankAccount(\"철수\",50000)\n",
    "acc4 = BankAccount(\"영희\",200000)\n",
    "print(acc3.bprint())\n",
    "print(acc4.bprint())\n",
    "print(acc3.interest())\n",
    "print(acc4.interest())\n",
    "# 클래스 변수 바꾸기\n",
    "BankAccount.interest_rate = 0.03\n",
    "print(acc3.interest())\n",
    "print(acc4.interest())\n",
    "\n",
    "# 공격후\n",
    "# acc3.balance = 9000000\n",
    "# print(acc3.balance)\n",
    "\n",
    "# 내장메소드로 캡슐화된 변수 접근\n",
    "# print(acc3.deposit(30000))\n",
    "# print(acc3.withdraw(5500))"
   ]
  },
  {
   "cell_type": "code",
   "execution_count": 112,
   "id": "3cc81e9d-bedb-47fe-986d-06c2802e6b1c",
   "metadata": {},
   "outputs": [
    {
     "name": "stdout",
     "output_type": "stream",
     "text": [
      "잔액이 2000원으로 증가했습니다.\n",
      "콜라을(를) 구매했습니다! 남은 잔액: 500원\n",
      "잔액이 부족합니다! (사이다 가격: 1400원, 현재 잔액: 500원)\n",
      "잔액 500원이 반환되었습니다.\n"
     ]
    }
   ],
   "source": [
    "# test 10\n",
    "class VendingMachine:\n",
    "    def __init__(self):\n",
    "        \"\"\"자동판매기 초기화\"\"\"\n",
    "        self.balance = 0  # 사용자의 잔액\n",
    "        self.items = {  # 상품 목록 (이름: 가격)\n",
    "            \"콜라\": 1500,\n",
    "            \"사이다\": 1400,\n",
    "            \"물\": 1000\n",
    "        }\n",
    "\n",
    "    def insert_money(self, amount):\n",
    "        \"\"\"잔액 충전\"\"\"\n",
    "        self.balance += amount\n",
    "        return f\"잔액이 {self.balance}원으로 증가했습니다.\"\n",
    "\n",
    "    def buy_item(self, item_name):\n",
    "        \"\"\"상품 구매\"\"\"\n",
    "        if item_name not in self.items:\n",
    "            return f\"{item_name}은(는) 판매하지 않는 상품입니다.\"\n",
    "\n",
    "        price = self.items[item_name]\n",
    "        if self.balance < price:\n",
    "            return f\"잔액이 부족합니다! ({item_name} 가격: {price}원, 현재 잔액: {self.balance}원)\"\n",
    "\n",
    "        self.balance -= price\n",
    "        return f\"{item_name}을(를) 구매했습니다! 남은 잔액: {self.balance}원\"\n",
    "\n",
    "    def refund(self):\n",
    "        \"\"\"잔액 반환\"\"\"\n",
    "        amount = self.balance\n",
    "        self.balance = 0\n",
    "        return f\"잔액 {amount}원이 반환되었습니다.\"\n",
    "\n",
    "# 자동판매기 객체 생성\n",
    "vm = VendingMachine()\n",
    "\n",
    "# 잔액 충전\n",
    "print(vm.insert_money(2000))  # 잔액이 2000원으로 증가했습니다.\n",
    "\n",
    "# 상품 구매\n",
    "print(vm.buy_item(\"콜라\"))  # 콜라을(를) 구매했습니다! 남은 잔액: 500원\n",
    "print(vm.buy_item(\"사이다\"))  # 잔액이 부족합니다! (사이다 가격: 1400원, 현재 잔액: 500원)\n",
    "\n",
    "# 잔액 반환\n",
    "print(vm.refund())  # 잔액 500원이 반환되었습니다.\n"
   ]
  },
  {
   "cell_type": "code",
   "execution_count": 1,
   "id": "484b1153-37dc-428a-8e04-61556a2e998a",
   "metadata": {},
   "outputs": [],
   "source": [
    "import turtle\n",
    "\n",
    "# 창을 생성하고 설정\n",
    "window = turtle.Screen()\n",
    "window.bgcolor(\"white\")\n",
    "\n",
    "# 거북이 생성\n",
    "my_turtle = turtle.Turtle()\n",
    "my_turtle.shape(\"turtle\")\n",
    "my_turtle.color(\"blue\")\n",
    "\n",
    "# 사각형 그리기\n",
    "for _ in range(4):\n",
    "    my_turtle.forward(100)  # 앞으로 100 픽셀 이동\n",
    "    my_turtle.right(90)     # 오른쪽으로 90도 회전"
   ]
  },
  {
   "cell_type": "code",
   "execution_count": null,
   "id": "8c7affc2-fd28-4573-b698-5e8208a214f2",
   "metadata": {},
   "outputs": [],
   "source": [
    "# 창 닫기\n",
    "window.mainloop()"
   ]
  },
  {
   "cell_type": "code",
   "execution_count": null,
   "id": "b56dcaa4-eae0-4217-94b4-e36e0cc2296f",
   "metadata": {},
   "outputs": [],
   "source": [
    "import turtle\n",
    "window = turtle.Screen()\n",
    "window.bgcolor(\"black\")\n",
    "\n",
    "# 거북이 생성\n",
    "my_turtle = turtle.Turtle()\n",
    "my_turtle.shape(\"turtle\")\n",
    "my_turtle.color(\"yellow\")\n",
    "\n",
    "# 사각형 그리기\n",
    "for _ in range(5):\n",
    "    my_turtle.forward(100)  # 앞으로 100 픽셀 이동\n",
    "    my_turtle.right(45)     # 오른쪽으로 90도 회전\n",
    "    my_turtle.forward(100)  # 앞으로 100 픽셀 이동\n",
    "    my_turtle.left(45)\n",
    "    my_turtle.back(100) \n",
    "\n",
    "\n",
    "# 창 닫기\n",
    "window.mainloop()"
   ]
  },
  {
   "cell_type": "code",
   "execution_count": 1,
   "id": "9235cfcf-95d7-47de-9f3b-d19555f3734d",
   "metadata": {},
   "outputs": [
    {
     "name": "stdout",
     "output_type": "stream",
     "text": [
      "1 2\n"
     ]
    }
   ],
   "source": [
    "# test\n",
    "# 테스트\n",
    "a, _, c = 1, 77 , 2\n",
    "print(a,c)"
   ]
  },
  {
   "cell_type": "code",
   "execution_count": 2,
   "id": "d6ad227c-fdb6-4c4b-b814-6e99d8f88c43",
   "metadata": {},
   "outputs": [
    {
     "name": "stdout",
     "output_type": "stream",
     "text": [
      "인사 다섯번 할께요.\n",
      "인사 다섯번 할께요.\n",
      "인사 다섯번 할께요.\n",
      "인사 다섯번 할께요.\n",
      "인사 다섯번 할께요.\n"
     ]
    }
   ],
   "source": [
    "for _ in range(5):\n",
    "    print(\"인사 다섯번 할께요.\")"
   ]
  },
  {
   "cell_type": "code",
   "execution_count": 3,
   "id": "840c9910-50c2-4cd5-8e7e-14113439cbcf",
   "metadata": {},
   "outputs": [],
   "source": [
    "import random\n",
    "\n",
    "class Character:\n",
    "    def __init__(self, name ,hp ,attack_p):\n",
    "        \"\"\"케릭터 초기화\"\"\"\n",
    "        self.name = name\n",
    "        self.hp = hp\n",
    "        self.attack_p = attack_p\n",
    "    def attack(self, opponent):\n",
    "        \"\"\"상대방을 공격\"\"\"\n",
    "        damage = random.randint(2, self.attack_p)\n",
    "        opponent.hp -= damage\n",
    "        print(f\"{self.name}가 { opponent.name}를 공격하여 {damage} 데미지를 입혔습니다.\")\n",
    "    def now_status(self):\n",
    "        \"\"\"현재 체력 상태 확인\"\"\"\n",
    "        return f\"{self.name} 체력:{self.hp}\"\n",
    "    def is_alive(self):\n",
    "        \"\"\"케릭터 생존여부 확인\"\"\"\n",
    "        return self.hp > 0        "
   ]
  },
  {
   "cell_type": "code",
   "execution_count": 4,
   "id": "46d062ab-77bb-4b4e-9b8c-b1b0a1af9cc9",
   "metadata": {},
   "outputs": [],
   "source": [
    "# 히어로과 몬스터 생성\n",
    "player = Character(\"영웅\",attack_p=15,hp=50)\n",
    "monster = Character(\"골렘\", 60, 9)"
   ]
  },
  {
   "cell_type": "code",
   "execution_count": 5,
   "id": "4f04bced-8389-4dbc-896f-5afbc7b97b80",
   "metadata": {},
   "outputs": [
    {
     "name": "stdout",
     "output_type": "stream",
     "text": [
      "=====전투시작!!=====\n"
     ]
    },
    {
     "name": "stdin",
     "output_type": "stream",
     "text": [
      " 공격하려면 엔터를 치세요.  \n"
     ]
    },
    {
     "name": "stdout",
     "output_type": "stream",
     "text": [
      "영웅가 골렘를 공격하여 14 데미지를 입혔습니다.\n",
      "골렘가 영웅를 공격하여 2 데미지를 입혔습니다.\n",
      "영웅 체력:48 vs 골렘 체력:46\n"
     ]
    },
    {
     "name": "stdin",
     "output_type": "stream",
     "text": [
      " 공격하려면 엔터를 치세요.  \n"
     ]
    },
    {
     "name": "stdout",
     "output_type": "stream",
     "text": [
      "영웅가 골렘를 공격하여 12 데미지를 입혔습니다.\n",
      "골렘가 영웅를 공격하여 8 데미지를 입혔습니다.\n",
      "영웅 체력:40 vs 골렘 체력:34\n"
     ]
    },
    {
     "name": "stdin",
     "output_type": "stream",
     "text": [
      " 공격하려면 엔터를 치세요.  \n"
     ]
    },
    {
     "name": "stdout",
     "output_type": "stream",
     "text": [
      "영웅가 골렘를 공격하여 10 데미지를 입혔습니다.\n",
      "골렘가 영웅를 공격하여 4 데미지를 입혔습니다.\n",
      "영웅 체력:36 vs 골렘 체력:24\n"
     ]
    },
    {
     "name": "stdin",
     "output_type": "stream",
     "text": [
      " 공격하려면 엔터를 치세요.  \n"
     ]
    },
    {
     "name": "stdout",
     "output_type": "stream",
     "text": [
      "영웅가 골렘를 공격하여 7 데미지를 입혔습니다.\n",
      "골렘가 영웅를 공격하여 5 데미지를 입혔습니다.\n",
      "영웅 체력:31 vs 골렘 체력:17\n"
     ]
    },
    {
     "name": "stdin",
     "output_type": "stream",
     "text": [
      " 공격하려면 엔터를 치세요.  \n"
     ]
    },
    {
     "name": "stdout",
     "output_type": "stream",
     "text": [
      "영웅가 골렘를 공격하여 14 데미지를 입혔습니다.\n",
      "골렘가 영웅를 공격하여 7 데미지를 입혔습니다.\n",
      "영웅 체력:24 vs 골렘 체력:3\n"
     ]
    },
    {
     "name": "stdin",
     "output_type": "stream",
     "text": [
      " 공격하려면 엔터를 치세요.  \n"
     ]
    },
    {
     "name": "stdout",
     "output_type": "stream",
     "text": [
      "영웅가 골렘를 공격하여 14 데미지를 입혔습니다.\n",
      "영웅 체력:24 vs 골렘 체력:-11\n",
      "😁당신이 승리하였습니다!😆\n"
     ]
    }
   ],
   "source": [
    "# 전투진행\n",
    "print(\"=====전투시작!!=====\")\n",
    "while player.is_alive() and monster.is_alive():\n",
    "    input(\" 공격하려면 엔터를 치세요. \")\n",
    "    player.attack(monster)\n",
    "    if monster.is_alive():\n",
    "        monster.attack(player)\n",
    "    print(player.now_status(),'vs',monster.now_status())\n",
    "# 결과\n",
    "if player.is_alive():\n",
    "    print(\"😁당신이 승리하였습니다!😆\")\n",
    "else:\n",
    "    print(\"☠️당신이 패배하였습니다.. to continue..?☠️\")"
   ]
  }
 ],
 "metadata": {
  "kernelspec": {
   "display_name": "Python 3 (ipykernel)",
   "language": "python",
   "name": "python3"
  },
  "language_info": {
   "codemirror_mode": {
    "name": "ipython",
    "version": 3
   },
   "file_extension": ".py",
   "mimetype": "text/x-python",
   "name": "python",
   "nbconvert_exporter": "python",
   "pygments_lexer": "ipython3",
   "version": "3.13.1"
  }
 },
 "nbformat": 4,
 "nbformat_minor": 5
}
