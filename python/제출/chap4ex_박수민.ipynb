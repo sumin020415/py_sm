{
 "cells": [
  {
   "cell_type": "markdown",
   "id": "7c08350b-5a68-4b39-841e-3bac1fbfc3df",
   "metadata": {},
   "source": [
    "#### 홀/짝 판별하기"
   ]
  },
  {
   "cell_type": "code",
   "execution_count": 6,
   "id": "b3ca70cb-7915-4ad7-9eb2-239597b0ad27",
   "metadata": {},
   "outputs": [
    {
     "name": "stdout",
     "output_type": "stream",
     "text": [
      "True\n",
      "False\n"
     ]
    }
   ],
   "source": [
    "# 주어진 자연수가 홀수인지, 짝수인지 판별해 주는 함수 id_odd를 작성 / is_odd 함수는 홀수이면 True, 짝수이면 False를 리턴해야 함\n",
    "def is_odd(number):\n",
    "    if number%2!=0:\n",
    "        return True\n",
    "    else:\n",
    "        return False\n",
    "\n",
    "print(is_odd(9))\n",
    "print(is_odd(6))"
   ]
  },
  {
   "cell_type": "markdown",
   "id": "ba1573aa-a6bf-46f7-9e69-3263ec75af30",
   "metadata": {},
   "source": [
    "#### 모든 입력의 평균 구하기"
   ]
  },
  {
   "cell_type": "code",
   "execution_count": 9,
   "id": "f42fa5ae-b71e-4df2-9d6e-7c7ae2b7439c",
   "metadata": {},
   "outputs": [
    {
     "name": "stdout",
     "output_type": "stream",
     "text": [
      "3\n",
      "15\n"
     ]
    }
   ],
   "source": [
    "# 입력으로 들어오는 모든 수의 평균값을 계산해 주는 함수를 작성 (단, 입력으로 들어오는 수의 개수는 정해져 있지 않다.)\n",
    "def avg_numbers(*args):\n",
    "    result = 0\n",
    "    for i in args:\n",
    "        result += i\n",
    "    return result\n",
    "\n",
    "print(avg_numbers(1,2))\n",
    "print(avg_numbers(1,2,3,4,5))"
   ]
  },
  {
   "cell_type": "markdown",
   "id": "e9295a36-8951-4a4f-8c9c-cc80e2dd93fe",
   "metadata": {},
   "source": [
    "#### 프로그램 오류 수정하기1"
   ]
  },
  {
   "cell_type": "code",
   "execution_count": 19,
   "id": "e7900f67-2bda-448d-8d87-ec4507eb39ea",
   "metadata": {},
   "outputs": [
    {
     "name": "stdin",
     "output_type": "stream",
     "text": [
      "첫 번째 숫자를 입력하세요:  3\n",
      "두 번째 숫자를 입력하세요:  6\n"
     ]
    },
    {
     "name": "stdout",
     "output_type": "stream",
     "text": [
      "두 수의 합은 9입니다\n"
     ]
    }
   ],
   "source": [
    "# 다음은 2개의 숫자를 입력받아 더한 후에 리턴하는 프로그램이다.\n",
    "input1 = int(input(\"첫 번째 숫자를 입력하세요: \"))\n",
    "input2 = int(input(\"두 번째 숫자를 입력하세요: \"))\n",
    "\n",
    "total = (input1 + input2)\n",
    "print(\"두 수의 합은 %d입니다\" % total)\n",
    "# 3과 6을 입력했을 때 9가 아닌 36이라는 결괏값이 출력되었다. 이 프로그램의 오류를 수정해보자"
   ]
  },
  {
   "cell_type": "markdown",
   "id": "9c02bc2b-259a-44df-90d8-56415cb4e681",
   "metadata": {},
   "source": [
    "#### 출력 결과가 다른 것은? 3번"
   ]
  },
  {
   "cell_type": "code",
   "execution_count": 17,
   "id": "39e53701-98b6-4405-83fa-7791acaae8ae",
   "metadata": {},
   "outputs": [
    {
     "name": "stdout",
     "output_type": "stream",
     "text": [
      "youneedpython\n",
      "youneedpython\n",
      "you need python\n",
      "youneedpython\n"
     ]
    }
   ],
   "source": [
    "print(\"you\" \"need\" \"python\")\n",
    "print(\"you\"+\"need\"+\"python\")\n",
    "print(\"you\", \"need\", \"python\")\n",
    "print(\"\".join([\"you\",\"need\",\"python\"]))"
   ]
  },
  {
   "cell_type": "markdown",
   "id": "c90fc164-5b82-40dd-8797-41ef15589735",
   "metadata": {},
   "source": [
    "#### 프로그램 오류 수정하기2"
   ]
  },
  {
   "cell_type": "code",
   "execution_count": 1,
   "id": "13ccfc4c-3b46-477d-ae4d-d84eb228ac45",
   "metadata": {},
   "outputs": [
    {
     "name": "stdout",
     "output_type": "stream",
     "text": [
      "life is too short\n"
     ]
    }
   ],
   "source": [
    "# 다음은 파일(test.txt)에 \"Life is too short\" 문자열을 저장한 후 다시 그 파일을 읽어 출력하는 프로그램이다.\n",
    "f1 = open(\"test.txt\",\"w\")\n",
    "text = (\"life is too short\")\n",
    "f1.write(text)\n",
    "f1.close()\n",
    "\n",
    "f2 = open(\"test.txt\",\"r\")\n",
    "print(f2.read())\n",
    "# 이 프로그램은 우리가 예상한 'Life is too short'라는 문장을 출력하지 않는다. 우리가 예상한 값을 출력할 수 있도록 프로그램을 수정해보자."
   ]
  },
  {
   "cell_type": "markdown",
   "id": "9bcfffdc-ce6e-407d-8103-02b874ada8ee",
   "metadata": {},
   "source": [
    "#### 사용자 입력 저장하기"
   ]
  },
  {
   "cell_type": "code",
   "execution_count": 3,
   "id": "6373ea70-7e43-4fce-b99a-8225f4a58c0f",
   "metadata": {},
   "outputs": [
    {
     "name": "stdin",
     "output_type": "stream",
     "text": [
      "저장할 내용을 입력하세요: save~\n"
     ]
    }
   ],
   "source": [
    "# 사용자의 입력을 파일(test.txt)에 저장하는 프로그램을 작성해보자. (단, 프로그램을 다시 실행하더라도 기존에 작성한 내용을 유지하고 새로 입력한 내용을 추가해야 한다.)\n",
    "user_input = input(\"저장할 내용을 입력하세요:\")\n",
    "f = open('test.txt',\"a\")\n",
    "f.write(user_input)\n",
    "f.write(user_input)\n",
    "f.close()"
   ]
  },
  {
   "cell_type": "code",
   "execution_count": null,
   "id": "15cb2c2c-2e00-4d22-8ffb-452a168a9813",
   "metadata": {},
   "outputs": [],
   "source": []
  }
 ],
 "metadata": {
  "kernelspec": {
   "display_name": "Python 3 (ipykernel)",
   "language": "python",
   "name": "python3"
  },
  "language_info": {
   "codemirror_mode": {
    "name": "ipython",
    "version": 3
   },
   "file_extension": ".py",
   "mimetype": "text/x-python",
   "name": "python",
   "nbconvert_exporter": "python",
   "pygments_lexer": "ipython3",
   "version": "3.13.1"
  }
 },
 "nbformat": 4,
 "nbformat_minor": 5
}
