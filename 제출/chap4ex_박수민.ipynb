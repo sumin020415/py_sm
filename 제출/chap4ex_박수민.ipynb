{
 "cells": [
  {
   "cell_type": "markdown",
   "id": "7c08350b-5a68-4b39-841e-3bac1fbfc3df",
   "metadata": {},
   "source": [
    "#### 홀/짝 판별하기"
   ]
  },
  {
   "cell_type": "code",
   "execution_count": 2,
   "id": "b3ca70cb-7915-4ad7-9eb2-239597b0ad27",
   "metadata": {},
   "outputs": [],
   "source": [
    "def is_odd(number):\n",
    "    if number%2!=0:\n",
    "        return True\n",
    "    else:\n",
    "        return False"
   ]
  },
  {
   "cell_type": "code",
   "execution_count": null,
   "id": "e44e8d2a-c7b7-4fc0-bf07-844803d521f2",
   "metadata": {},
   "outputs": [],
   "source": []
  }
 ],
 "metadata": {
  "kernelspec": {
   "display_name": "Python 3 (ipykernel)",
   "language": "python",
   "name": "python3"
  },
  "language_info": {
   "codemirror_mode": {
    "name": "ipython",
    "version": 3
   },
   "file_extension": ".py",
   "mimetype": "text/x-python",
   "name": "python",
   "nbconvert_exporter": "python",
   "pygments_lexer": "ipython3",
   "version": "3.13.1"
  }
 },
 "nbformat": 4,
 "nbformat_minor": 5
}
