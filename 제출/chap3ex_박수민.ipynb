{
 "cells": [
  {
   "cell_type": "code",
   "execution_count": 4,
   "id": "f2fe74fa-6dd8-4a13-af23-f352ce0837c7",
   "metadata": {},
   "outputs": [
    {
     "name": "stdout",
     "output_type": "stream",
     "text": [
      "shirt\n"
     ]
    }
   ],
   "source": [
    "a = \"Life is too short, you need python\"\n",
    "\n",
    "if \"wife\" in a: print(\"wife\")\n",
    "elif \"python\" in a and \"you\" not in a: print(\"python\")\n",
    "elif \"shirt\" not in a: print(\"shirt\")\n",
    "elif \"need\" in a: print(\"need\")\n",
    "else: print(\"none\")"
   ]
  },
  {
   "cell_type": "code",
   "execution_count": 3,
   "id": "5e2cfb50-35ef-403d-b8d4-d6454af7528c",
   "metadata": {},
   "outputs": [
    {
     "name": "stdout",
     "output_type": "stream",
     "text": [
      "166833\n"
     ]
    }
   ],
   "source": [
    "# while 문 사용하여 1~1000까지의 자연수 중 3의 배수의 합을 구해라.\n",
    "result = 0\n",
    "i = 1\n",
    "while i <= 1000:\n",
    "    if i % 3 == 0:\n",
    "        result += i\n",
    "    i += 1\n",
    "\n",
    "print(result)"
   ]
  },
  {
   "cell_type": "code",
   "execution_count": 7,
   "id": "08b8104d-b91e-4d2f-9971-0153a06142eb",
   "metadata": {},
   "outputs": [
    {
     "name": "stdout",
     "output_type": "stream",
     "text": [
      "*\n",
      "**\n",
      "***\n",
      "****\n",
      "*****\n"
     ]
    }
   ],
   "source": [
    "# while문 사용해 * 표시하는 프로그램 작성\n",
    "i = 0\n",
    "while True:\n",
    "    i += 1 # while문 수행 시 1씩 증가\n",
    "    if i > 5 :break\n",
    "    print(i * '*')"
   ]
  },
  {
   "cell_type": "code",
   "execution_count": null,
   "id": "ce9e6924-9e6d-4e39-904b-641dedd16fcf",
   "metadata": {},
   "outputs": [],
   "source": [
    "# 1부터 100까지 출력\n",
    "for i in range(1,101):\n",
    "    print(i)"
   ]
  },
  {
   "cell_type": "code",
   "execution_count": 9,
   "id": "a39142b2-7e7b-4e8d-b8cb-563480eaadc1",
   "metadata": {},
   "outputs": [
    {
     "name": "stdout",
     "output_type": "stream",
     "text": [
      "79.0\n"
     ]
    }
   ],
   "source": [
    "# 평균점수 구하기\n",
    "A = [70,60,55,75,95,90,80,80,85,100]\n",
    "total = 0\n",
    "\n",
    "for score in A:\n",
    "    total += score \n",
    "average = total / len(A)\n",
    "print(average)"
   ]
  },
  {
   "cell_type": "code",
   "execution_count": 11,
   "id": "05efdaa3-f1e8-4ba5-ac9d-29ce9f521bbc",
   "metadata": {},
   "outputs": [
    {
     "name": "stdout",
     "output_type": "stream",
     "text": [
      "[2, 6, 10]\n"
     ]
    }
   ],
   "source": [
    "# 리스트 컴프리헨션 사용하기\n",
    "numbers = [1,2,3,4,5]\n",
    "result = [n*2 for n in numbers if n%2 == 1]\n",
    "print(result)"
   ]
  }
 ],
 "metadata": {
  "kernelspec": {
   "display_name": "Python 3 (ipykernel)",
   "language": "python",
   "name": "python3"
  },
  "language_info": {
   "codemirror_mode": {
    "name": "ipython",
    "version": 3
   },
   "file_extension": ".py",
   "mimetype": "text/x-python",
   "name": "python",
   "nbconvert_exporter": "python",
   "pygments_lexer": "ipython3",
   "version": "3.13.1"
  }
 },
 "nbformat": 4,
 "nbformat_minor": 5
}
