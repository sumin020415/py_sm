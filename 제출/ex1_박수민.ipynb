{
 "cells": [
  {
   "cell_type": "code",
   "execution_count": 1,
   "id": "df347664-c1e8-4776-8e4b-88483d151aaa",
   "metadata": {},
   "outputs": [
    {
     "name": "stdin",
     "output_type": "stream",
     "text": [
      "돈을 넣어주세요~ 5000\n",
      "구매 가격 입력 1330\n"
     ]
    },
    {
     "name": "stdout",
     "output_type": "stream",
     "text": [
      "3670 원 드릴게요!\n",
      "1000원 지폐: 3 장\n",
      "500원 동전: 1 개\n",
      "100원 동전: 1 개\n",
      "50원 동전: 1 개\n",
      "10원 동전: 2 개\n"
     ]
    }
   ],
   "source": [
    "# 잔돈 분류 프로그램 / 5000원 투입, 1330원 구매, 3670원 잔돈 / 1000원 3장, 500원 1개, 100원 1개, 50원 1개, 10원 2개\n",
    "\n",
    "money = int(input(\"돈을 넣어주세요~\"))\n",
    "buy = int(input(\"구매 가격 입력\"))\n",
    "value = money - buy\n",
    "print(value, \"원 드릴게요!\")\n",
    "\n",
    "if value//1000 > 0:\n",
    "    print(\"1000원 지폐:\", (value//1000), \"장\")\n",
    "    value = value % 1000\n",
    "if value//500 > 0:\n",
    "    print(\"500원 동전:\", (value//500), \"개\")\n",
    "    value = value % 500\n",
    "if value//100 > 0:\n",
    "    print(\"100원 동전:\", (value//100), \"개\")\n",
    "    value = value % 100\n",
    "if value//50 > 0:\n",
    "    print(\"50원 동전:\", (value//50), \"개\")\n",
    "    value = value % 50\n",
    "if value//10 > 0:\n",
    "    print(\"10원 동전:\", (value//10), \"개\")\n",
    "    value = value % 10"
   ]
  },
  {
   "cell_type": "code",
   "execution_count": 2,
   "id": "cfcd369f-0878-44f1-86ee-883fe7b549e1",
   "metadata": {},
   "outputs": [
    {
     "name": "stdin",
     "output_type": "stream",
     "text": [
      "돈을 넣어주세요~ 5000\n",
      "구매 가격 입력 1330\n"
     ]
    },
    {
     "name": "stdout",
     "output_type": "stream",
     "text": [
      "3670 원 드릴게요!\n",
      "1000원 지폐/동전: 3개\n",
      "500원 지폐/동전: 1개\n",
      "100원 지폐/동전: 1개\n",
      "50원 지폐/동전: 1개\n",
      "10원 지폐/동전: 2개\n"
     ]
    }
   ],
   "source": [
    "# 잔돈 분류 2\n",
    "\n",
    "money = int(input(\"돈을 넣어주세요~\"))\n",
    "buy = int(input(\"구매 가격 입력\"))\n",
    "value = money - buy\n",
    "\n",
    "print(f\"{value} 원 드릴게요!\")\n",
    "\n",
    "mn = [1000, 500, 100, 50, 10]\n",
    "for coin in mn:\n",
    "    count = value // coin\n",
    "    if count > 0:\n",
    "        print(f\"{coin}원 지폐/동전: {count}개\")\n",
    "        value %= coin"
   ]
  },
  {
   "cell_type": "code",
   "execution_count": null,
   "id": "dcea1bf9-c942-4300-b6a4-805069a4e4ec",
   "metadata": {},
   "outputs": [],
   "source": [
    "# max와 min, short를 사용하지 않고 배열요소를 오름차순으로 나열해라 [33,11,22] / [33,11,22,44]\n",
    "l1 = [33,11,22]\n",
    "\n",
    "if l1[0]>l1[1] and l1[2]:\n",
    "    elif \n",
    "    print(,l1[0])\n",
    "    "
   ]
  },
  {
   "cell_type": "code",
   "execution_count": null,
   "id": "ba0ecb63-16b4-4a48-adea-fc7c63547040",
   "metadata": {},
   "outputs": [],
   "source": [
    "# max와 min, short를 사용하지 않고 요소 중 가장 큰 수를 찾아내라 [33,11,22] / [33,11,22,44]"
   ]
  },
  {
   "cell_type": "code",
   "execution_count": null,
   "id": "0bd12230-a34e-4f7f-bd54-96e949593c5a",
   "metadata": {},
   "outputs": [],
   "source": [
    "# 가위바위보 / 사람이 하나를 내면 상대인 컴퓨터는 랜덤으로 선택하여 낸다. 승률기록 컴퓨터: , 사람, ㅇㅇ가 졌습니다. 및 각자 승률 출력\n",
    "import random\n",
    "\n",
    "choice = [\"가위\", \"바위\", \"보\"] # 가위, 바위, 보 선택\n",
    "\n",
    "# 승리, 패배, 무승부 카운트 초기화\n",
    "com_wins = 0  # 컴퓨터의 승리 수\n",
    "user_wins = 0  # 사용자의 승리 수\n",
    "an = 0  # 무승부 수\n",
    "total = 0  # 총 게임 수\n",
    "\n",
    "while True:\n",
    "    user_choice = print(input(\"가위/바위/보 중 하나를 선택하세요. (종료를 원할 경우 \"종료\" 입력)\"))\n",
    "    if user_choice == \"종료\":\n",
    "        break\n",
    "    if user_choice not in choices:  # 잘못된 입력인 경우\n",
    "        print(\"잘못 입력하셨습니다!!!\")\n",
    "        continue\n",
    "    \n",
    "    # 컴퓨터가 랜덤으로 가위, 바위, 보 중 하나를 선택\n",
    "    com_choice = random.choice(choice)\n",
    "    total_games += 1  # 총 게임 수 증가\n",
    "\n",
    "    print(f\"사람: {user_choice}, 컴퓨터: {computer_choice}\")\n",
    "    \n",
    "    if user_choice == computer_choice:  # 사용자와 컴퓨터가 같은 것을 낸 경우\n",
    "        ties += 1\n",
    "        result = \"무승부\"\n",
    "    elif (user_choice == \"가위\" and computer_choice == \"보\") or \\\n",
    "         (user_choice == \"바위\" and computer_choice == \"가위\") or \\\n",
    "         (user_choice == \"보\" and computer_choice == \"바위\"):  # 사용자가 이기는 경우\n",
    "        user_wins += 1\n",
    "        result = \"사람이 이겼습니다!\"\n",
    "    else:  # 사용자가 지는 경우\n",
    "        computer_wins += 1\n",
    "        result = \"컴퓨터가 이겼습니다!\"\n",
    "    \n",
    "    print(result)\n",
    "\n",
    "# 게임이 종료된 후 최종 결과 출력\n",
    "print(\"\\n최종 결과:\")\n",
    "print(f\"총 게임 수: {total_games}\")\n",
    "print(f\"사람 승률: {user_wins / total_games * 100:.2f}% ({user_wins} 승)\")\n",
    "print(f\"컴퓨터 승률: {computer_wins / total_games * 100:.2f}% ({computer_wins} 승)\")\n",
    "print(f\"무승부 비율: {ties / total_games * 100:.2f}% ({ties} 무승부)\")"
   ]
  },
  {
   "cell_type": "code",
   "execution_count": null,
   "id": "46f6cb76-4ad3-4b36-a2f2-433a4389251d",
   "metadata": {},
   "outputs": [],
   "source": [
    "# 하드코딩으로 연습문제 풀기\n",
    "# 1)-1\n",
    "a = [33, 11, 22]\n",
    "if a[1] < a[2] and a[1] < a[0] and a[2] < a[0]:\n",
    "    print(a[1],a[2],a[0])\n",
    "elif a[1] < a[2] and a[1] < a[0] and a[0] < a[2]:\n",
    "    print(a[1],a[0],a[2])\n",
    "elif a[2] < a[1] and a[2] < a[0] and a[1] < a[0]:\n",
    "    print(a[2],a[1],a[0])\n",
    "elif a[2] < a[1] and a[2] < a[0] and a[0] < a[1]:\n",
    "    print(a[2],a[0],a[1])\n",
    "elif a[0] < a[2] and a[0] < a[1] and a[2] < a[1]:\n",
    "    print(a[0],a[2],a[1])\n",
    "else:\n",
    "    print(a[0],a[1],a[2])\n",
    "\n",
    "# 2)-1\n",
    "if a[0] > a[1] and a[0] > a[2]:\n",
    "    print(f\"제일 큰 수는:\",a[0])\n",
    "elif a[1] > a[0] and a[1] > a[2]:\n",
    "    print(f\"제일 큰 수는:\",a[1])\n",
    "else:\n",
    "    print(f\"제일 큰 수는:\",a[2])\n",
    "\n",
    "# 1)-2\n",
    "a = [33, 11, 22, 44]\n",
    "print(a[1], a[2], a[0], a[3])\n",
    "\n",
    "# 2)-2\n",
    "if a[3] > a[0] and a[3] > a[1] and a[3] > a[2]:\n",
    "    print(f\"제일 큰 수는:\",a[3])\n",
    "elif a[2] > a[0] and a[2] > a[1] and a[2] > a[4]:\n",
    "    print(f\"제일 큰 수는:\",a[2])\n",
    "elif a[1] > a[0] and a[1] > a[2] and a[1] > a[3]:\n",
    "    print(f\"제일 큰 수는:\",a[1])\n",
    "else:\n",
    "    print(f\"제일 큰 수는:\",a[0])"
   ]
  }
 ],
 "metadata": {
  "kernelspec": {
   "display_name": "Python 3 (ipykernel)",
   "language": "python",
   "name": "python3"
  },
  "language_info": {
   "codemirror_mode": {
    "name": "ipython",
    "version": 3
   },
   "file_extension": ".py",
   "mimetype": "text/x-python",
   "name": "python",
   "nbconvert_exporter": "python",
   "pygments_lexer": "ipython3",
   "version": "3.13.1"
  }
 },
 "nbformat": 4,
 "nbformat_minor": 5
}
