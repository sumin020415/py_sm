{
 "cells": [
  {
   "cell_type": "code",
   "execution_count": 1,
   "id": "df347664-c1e8-4776-8e4b-88483d151aaa",
   "metadata": {},
   "outputs": [
    {
     "name": "stdin",
     "output_type": "stream",
     "text": [
      "돈을 넣어주세요~ 5000\n",
      "구매 가격 입력 1330\n"
     ]
    },
    {
     "name": "stdout",
     "output_type": "stream",
     "text": [
      "3670 원 드릴게요!\n",
      "1000원 지폐: 3 장\n",
      "500원 동전: 1 개\n",
      "100원 동전: 1 개\n",
      "50원 동전: 1 개\n",
      "10원 동전: 2 개\n"
     ]
    }
   ],
   "source": [
    "# 잔돈 분류 프로그램 / 5000원 투입, 1330원 구매, 3670원 잔돈 / 1000원 3장, 500원 1개, 100원 1개, 50원 1개, 10원 2개\n",
    "\n",
    "money = int(input(\"돈을 넣어주세요~\"))\n",
    "buy = int(input(\"구매 가격 입력\"))\n",
    "value = money - buy\n",
    "print(value, \"원 드릴게요!\")\n",
    "\n",
    "if value//1000 > 0:\n",
    "    print(\"1000원 지폐:\", (value//1000), \"장\")\n",
    "    value = value % 1000\n",
    "if value//500 > 0:\n",
    "    print(\"500원 동전:\", (value//500), \"개\")\n",
    "    value = value % 500\n",
    "if value//100 > 0:\n",
    "    print(\"100원 동전:\", (value//100), \"개\")\n",
    "    value = value % 100\n",
    "if value//50 > 0:\n",
    "    print(\"50원 동전:\", (value//50), \"개\")\n",
    "    value = value % 50\n",
    "if value//10 > 0:\n",
    "    print(\"10원 동전:\", (value//10), \"개\")\n",
    "    value = value % 10"
   ]
  },
  {
   "cell_type": "code",
   "execution_count": 2,
   "id": "cfcd369f-0878-44f1-86ee-883fe7b549e1",
   "metadata": {},
   "outputs": [
    {
     "name": "stdin",
     "output_type": "stream",
     "text": [
      "돈을 넣어주세요~ 5000\n",
      "구매 가격 입력 1330\n"
     ]
    },
    {
     "name": "stdout",
     "output_type": "stream",
     "text": [
      "3670 원 드릴게요!\n",
      "1000원 지폐/동전: 3개\n",
      "500원 지폐/동전: 1개\n",
      "100원 지폐/동전: 1개\n",
      "50원 지폐/동전: 1개\n",
      "10원 지폐/동전: 2개\n"
     ]
    }
   ],
   "source": [
    "# 잔돈 분류 2\n",
    "\n",
    "money = int(input(\"돈을 넣어주세요~\"))\n",
    "buy = int(input(\"구매 가격 입력\"))\n",
    "value = money - buy\n",
    "\n",
    "print(f\"{value} 원 드릴게요!\")\n",
    "\n",
    "mn = [1000, 500, 100, 50, 10]\n",
    "for coin in mn:\n",
    "    count = value // coin\n",
    "    if count > 0:\n",
    "        print(f\"{coin}원 지폐/동전: {count}개\")\n",
    "        value %= coin"
   ]
  },
  {
   "cell_type": "code",
   "execution_count": null,
   "id": "dcea1bf9-c942-4300-b6a4-805069a4e4ec",
   "metadata": {},
   "outputs": [],
   "source": [
    "# max와 min, short를 사용하지 않고 배열요소를 오름차순으로 나열해라 [33,11,22] / [33,11,22,44]\n",
    "\n",
    "l1 = [33,11,22]\n",
    "\n",
    "for a in range(len(l1)):"
   ]
  },
  {
   "cell_type": "code",
   "execution_count": null,
   "id": "ba0ecb63-16b4-4a48-adea-fc7c63547040",
   "metadata": {},
   "outputs": [],
   "source": [
    "# max와 min, short를 사용하지 않고 요소 중 가장 큰 수를 찾아내라 [33,11,22] / [33,11,22,44]"
   ]
  },
  {
   "cell_type": "code",
   "execution_count": null,
   "id": "0bd12230-a34e-4f7f-bd54-96e949593c5a",
   "metadata": {},
   "outputs": [],
   "source": [
    "# 가위바위보 / 사람이 하나를 내면 상대인 컴퓨터는 랜덤으로 선택하여 낸다. 승률기록 컴퓨터: , 사람, ㅇㅇ가 졌습니다. 및 각자 승률 출력"
   ]
  }
 ],
 "metadata": {
  "kernelspec": {
   "display_name": "Python 3 (ipykernel)",
   "language": "python",
   "name": "python3"
  },
  "language_info": {
   "codemirror_mode": {
    "name": "ipython",
    "version": 3
   },
   "file_extension": ".py",
   "mimetype": "text/x-python",
   "name": "python",
   "nbconvert_exporter": "python",
   "pygments_lexer": "ipython3",
   "version": "3.13.1"
  }
 },
 "nbformat": 4,
 "nbformat_minor": 5
}
