{
 "cells": [
  {
   "cell_type": "code",
   "execution_count": 2,
   "id": "5f87413f-99c5-4433-bb07-a3e96c094f85",
   "metadata": {},
   "outputs": [],
   "source": [
    "# 입력을 하면 그 단어가 거꾸로 해도 같은 단어인지 확인하는 프로그램을 만들어라"
   ]
  },
  {
   "cell_type": "code",
   "execution_count": 8,
   "id": "f47b6824-f0ba-4e4b-aa20-1b39e6ddf02b",
   "metadata": {},
   "outputs": [
    {
     "name": "stdin",
     "output_type": "stream",
     "text": [
      "단어를 입력하세요:  단어단어\n"
     ]
    },
    {
     "name": "stdout",
     "output_type": "stream",
     "text": [
      "False\n"
     ]
    }
   ],
   "source": [
    "def reverse(s):\n",
    "    word = \"\"\n",
    "    for i in s:\n",
    "        word = i + word\n",
    "    if word == s :\n",
    "        return True\n",
    "    else:\n",
    "        return False\n",
    "\n",
    "s = input(\"단어를 입력하세요: \")\n",
    "s = s.upper()\n",
    "new = \"\"        \n",
    "i = 0\n",
    "for i in range(len(s)):\n",
    "    if s[i] != \" \" and s[i] != \",\" and s[i] != \"?\":\n",
    "        new = new + s[i]\n",
    "result = reverse(new)\n",
    "print(result)"
   ]
  },
  {
   "cell_type": "code",
   "execution_count": 3,
   "id": "b9d1195f-0f94-4e65-810f-6b38f7bd5aa2",
   "metadata": {},
   "outputs": [],
   "source": [
    "# 하나의 긴 리스트 값을 입력하면 두 개의 리스트로 결과가 나오는데 각각 짝수의 값이 담기고 홀수의 값이 담기도록 해라"
   ]
  },
  {
   "cell_type": "code",
   "execution_count": 7,
   "id": "4d7b207f-d946-4e5e-8ef7-f56b19cf056b",
   "metadata": {},
   "outputs": [],
   "source": [
    "import requests as req\n",
    "import sys\n",
    "\n",
    "# 인자 받기\n",
    "args = sys.argv[1:]\n",
    "\n",
    "def distinction(*args):\n",
    "    even = []\n",
    "    odd = []\n",
    "    for l in args:\n",
    "        num = int(l)  # 문자열을 정수로 변환\n",
    "        if num % 2 == 0:\n",
    "            even.append(num)\n",
    "        else: \n",
    "            odd.append(num)\n",
    "    result = even, odd # *들여쓰기 주의*\n",
    "    return result\n",
    "\n",
    "print(distinction(*args))"
   ]
  },
  {
   "cell_type": "code",
   "execution_count": null,
   "id": "e37833d4-6f36-4490-a839-3c40405aad1e",
   "metadata": {},
   "outputs": [],
   "source": [
    "# 하나의 긴 문장을 입력받았을 때 그 문장 중에 가장 긴 단어를 밖으로 출력하게 해라 (긴글자가 하나 이상 있으면 그 글자 모두)"
   ]
  },
  {
   "cell_type": "code",
   "execution_count": 17,
   "id": "b4be8133-2ba9-4b80-a07a-ba40ddbed707",
   "metadata": {},
   "outputs": [
    {
     "name": "stdin",
     "output_type": "stream",
     "text": [
      "문장을 입력하세요:  안녕 커피 한잔 할래?\n"
     ]
    },
    {
     "name": "stdout",
     "output_type": "stream",
     "text": [
      "문장 중 가장 긴 단어는: 할래?\n"
     ]
    }
   ],
   "source": [
    "import sys\n",
    "\n",
    "def find_words(sentence):\n",
    "    if not sentence.strip():\n",
    "        return []  \n",
    "    words = sentence.split()\n",
    "    max_len = max(len(word) for word in words)\n",
    "    long = [word for word in words if len(word) == max_len]\n",
    "    return long\n",
    "\n",
    "sentence = input(\"문장을 입력하세요: \")\n",
    "longest_words = find_words(sentence)\n",
    "\n",
    "if longest_words:\n",
    "    print(\"문장 중 가장 긴 단어는:\", \", \".join(longest_words))\n",
    "else:\n",
    "    print(\"입력된 문장이 없습니다.\")"
   ]
  },
  {
   "cell_type": "code",
   "execution_count": 15,
   "id": "a5fd6ef9-7043-451b-a6b7-9ef3e6cca7c6",
   "metadata": {},
   "outputs": [
    {
     "name": "stdin",
     "output_type": "stream",
     "text": [
      "당신의 기분을 한 문장으로 표현해주세요!:  완전 행복해 정말 좋아\n"
     ]
    },
    {
     "name": "stdout",
     "output_type": "stream",
     "text": [
      "기분이 좋아보이네요\n",
      "기분이 좋아보이네요\n"
     ]
    }
   ],
   "source": [
    "# 입력을 받은 문장을 분류해라\n",
    "positive_words = [\"좋아\",\"행복\",\"멋져\",\"최고\",\"사랑해\"]\n",
    "negative_words = [\"싫어\",\"화나\",\"짜증\",\"별로\",\"나빠\"]\n",
    "text = input(\"당신의 기분을 한 문장으로 표현해주세요!: \")\n",
    "\n",
    "# 해설1\n",
    "for v in positive_words:\n",
    "    if v in text:\n",
    "        print(\"기분이 좋아보이네요\")\n",
    "for n in negative_words:\n",
    "    if n in text:\n",
    "        print(\"기분이 나빠보이네요.\")"
   ]
  },
  {
   "cell_type": "code",
   "execution_count": 23,
   "id": "803817f8-9d37-4631-b806-99848cfccc17",
   "metadata": {},
   "outputs": [
    {
     "name": "stdin",
     "output_type": "stream",
     "text": [
      "당신의 기분을 한 문장으로 표현해주세요!:  완전 별로야 짜증나!!\n"
     ]
    },
    {
     "name": "stdout",
     "output_type": "stream",
     "text": [
      "기분이 나빠보이네요\n"
     ]
    }
   ],
   "source": [
    "positive_words = [\"좋아\",\"행복\",\"멋져\",\"최고\",\"사랑해\"]\n",
    "negative_words = [\"싫어\",\"화나\",\"짜증\",\"별로\",\"나빠\"]\n",
    "text = input(\"당신의 기분을 한 문장으로 표현해주세요!: \")\n",
    "\n",
    "# 해설2\n",
    "if any( word in text for word in positive_words):\n",
    "    print(\"기분이 좋아보이네요\")\n",
    "elif any(word in text for word in negative_words):\n",
    "    print(\"기분이 나빠보이네요\")\n",
    "else:\n",
    "    print(\"보통이시네요\")"
   ]
  },
  {
   "cell_type": "code",
   "execution_count": 18,
   "id": "17d5c63e-4d2c-4ec7-bf4c-c4bb3509b41f",
   "metadata": {},
   "outputs": [
    {
     "name": "stdin",
     "output_type": "stream",
     "text": [
      "당신의 기분을 한 문장으로 표현해주세요!:  짜증나고 화나는데 좋아\n"
     ]
    },
    {
     "name": "stdout",
     "output_type": "stream",
     "text": [
      "['좋아'] 1\n",
      "['화나', '짜증'] 2\n",
      "기분이 나빠보이네요\n"
     ]
    }
   ],
   "source": [
    "positive_words = [\"좋아\",\"행복\",\"멋져\",\"최고\",\"사랑해\"]\n",
    "negative_words = [\"싫어\",\"화나\",\"짜증\",\"별로\",\"나빠\"]\n",
    "text = input(\"당신의 기분을 한 문장으로 표현해주세요!: \")\n",
    "\n",
    "# 해설3\n",
    "pos = [v for v in positive_words if v in text]\n",
    "print(pos,len(pos))\n",
    "neg = [n for n in negative_words if n in text]\n",
    "print(neg,len(neg))\n",
    "if len(pos)> len(neg):\n",
    "# abs(len(pos) - len(neg))>0 값의 차이, 크기, 변화폭\n",
    "    print(\"기분이 좋아보이네요\")\n",
    "elif len(pos)<len(neg):\n",
    "    print(\"기분이 나빠보이네요\")\n",
    "else:\n",
    "    print(\"보통이시네요\")"
   ]
  },
  {
   "cell_type": "code",
   "execution_count": 27,
   "id": "3cd5a079-7431-4e3a-8194-1103fe21765a",
   "metadata": {},
   "outputs": [
    {
     "name": "stdin",
     "output_type": "stream",
     "text": [
      "당신의 기분을 한 문장으로 표현해주세요!:  좋아 좋아서 좋아요 사랑 사랑해 나빠 진짜 나빠\n"
     ]
    },
    {
     "name": "stdout",
     "output_type": "stream",
     "text": [
      "0\n"
     ]
    }
   ],
   "source": [
    "positive_words = [\"좋아\",\"행복\",\"멋져\",\"최고\",\"사랑해\"]\n",
    "negative_words = [\"싫어\",\"화나\",\"짜증\",\"별로\",\"나빠\"]\n",
    "text = input(\"당신의 기분을 한 문장으로 표현해주세요!: \")\n",
    "\n",
    "# 해설4\n",
    "pnum = 0\n",
    "text = text.split(\" \")\n",
    "for v in positive_words:\n",
    "    for s in text:\n",
    "        if v == s:\n",
    "            pnum+=1\n",
    "for x in negative_words:\n",
    "    for y in text:\n",
    "        if x == y:\n",
    "            pnum-=1\n",
    "print(pnum)"
   ]
  },
  {
   "cell_type": "code",
   "execution_count": 30,
   "id": "935a478f-398c-41d8-b2f6-6ac16d1bd075",
   "metadata": {},
   "outputs": [],
   "source": [
    "# !pip install konlpy"
   ]
  },
  {
   "cell_type": "code",
   "execution_count": 8,
   "id": "360f86f3-0fd7-4a9c-8be6-faa23ef60237",
   "metadata": {},
   "outputs": [
    {
     "name": "stdin",
     "output_type": "stream",
     "text": [
      "당신의 기분을 한 문장으로 표현해주세요!:  좋아서 멋지고 그래서 사랑해\n"
     ]
    },
    {
     "name": "stdout",
     "output_type": "stream",
     "text": [
      "['좋다', '멋지다', '그래서', '사랑', '하다']\n"
     ]
    }
   ],
   "source": [
    "from konlpy.tag import Okt\n",
    "\n",
    "# 한글 형태소 분석기\n",
    "okt = Okt()\n",
    "\n",
    "positive_words = [\"좋다\",\"행복\",\"멋지다\",\"최고\",\"사랑\"]\n",
    "negative_words = [\"싫어\",\"화나\",\"짜증\",\"별로\",\"나빠\"]\n",
    "text = input(\"당신의 기분을 한 문장으로 표현해주세요!: \")\n",
    "\n",
    "words = okt.morphs(text, stem=True)\n",
    "print(words)"
   ]
  },
  {
   "cell_type": "code",
   "execution_count": 2,
   "id": "a3062cc4-7dbb-4450-8869-b2c181573f21",
   "metadata": {},
   "outputs": [
    {
     "name": "stderr",
     "output_type": "stream",
     "text": [
      "java version \"1.8.0_441\"\n",
      "Java(TM) SE Runtime Environment (build 1.8.0_441-b07)\n",
      "Java HotSpot(TM) 64-Bit Server VM (build 25.441-b07, mixed mode)\n"
     ]
    }
   ],
   "source": [
    "!java -version"
   ]
  },
  {
   "cell_type": "code",
   "execution_count": 25,
   "id": "9eb03b5b-6d57-44ac-a313-f805819a8132",
   "metadata": {},
   "outputs": [],
   "source": [
    "# 영어 소문자로 문장을 입력받으면 매 첫글자만 대문자로 변경되게 하고 문장의 마지막은 마침표를 찍어라. / apples are delicious -> Apples Are Delicious."
   ]
  }
 ],
 "metadata": {
  "kernelspec": {
   "display_name": "Python 3 (ipykernel)",
   "language": "python",
   "name": "python3"
  },
  "language_info": {
   "codemirror_mode": {
    "name": "ipython",
    "version": 3
   },
   "file_extension": ".py",
   "mimetype": "text/x-python",
   "name": "python",
   "nbconvert_exporter": "python",
   "pygments_lexer": "ipython3",
   "version": "3.13.1"
  }
 },
 "nbformat": 4,
 "nbformat_minor": 5
}
