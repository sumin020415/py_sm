{
 "cells": [
  {
   "cell_type": "markdown",
   "id": "9eb595d5-afb5-4666-9b1e-d7cc4eea1cbe",
   "metadata": {},
   "source": [
    "# 평균점수 구하기"
   ]
  },
  {
   "cell_type": "code",
   "execution_count": 11,
   "id": "a91dc81f-f888-4532-9a13-458c60e7102b",
   "metadata": {},
   "outputs": [
    {
     "name": "stdout",
     "output_type": "stream",
     "text": [
      "70.0\n"
     ]
    }
   ],
   "source": [
    "# 국어 = 80 / 영어 = 75 / 수학 = 55 평균점수를 구해라.\n",
    "\n",
    "a = (80+75+55)/3\n",
    "print(a)"
   ]
  },
  {
   "cell_type": "code",
   "execution_count": 2,
   "id": "f94ab82d-cc2c-4084-bf9d-b13eb051ede8",
   "metadata": {},
   "outputs": [
    {
     "name": "stdout",
     "output_type": "stream",
     "text": [
      "70.0\n"
     ]
    }
   ],
   "source": [
    "a = 80\n",
    "b = 75\n",
    "c = 55\n",
    "print((a+b+c) / 3)"
   ]
  },
  {
   "cell_type": "markdown",
   "id": "acee2014-dd30-438f-9b3c-bab998079298",
   "metadata": {},
   "source": [
    "# 홀수,짝수 판별하기"
   ]
  },
  {
   "cell_type": "code",
   "execution_count": 3,
   "id": "e68339af-202b-4c28-bd6a-a6a9434f95c7",
   "metadata": {},
   "outputs": [
    {
     "name": "stdout",
     "output_type": "stream",
     "text": [
      "1\n",
      "0\n"
     ]
    }
   ],
   "source": [
    "# 자연수 13이 홀수인지, 짝수인지 판별할 수 있는 방법에 대해 말해라.\n",
    "num = 13 % 2\n",
    "print(num)\n",
    "num2 = 12 % 2\n",
    "print(num2)"
   ]
  },
  {
   "cell_type": "code",
   "execution_count": null,
   "id": "5fab0950-695b-4a65-ad1a-5fa76dd7a39a",
   "metadata": {},
   "outputs": [],
   "source": [
    "나머지 값이 0일 경우 짝수, 1일 경우 홀수"
   ]
  },
  {
   "cell_type": "code",
   "execution_count": 3,
   "id": "d6c99a9c-167d-4ac3-9cc5-bfe604584ffd",
   "metadata": {},
   "outputs": [
    {
     "name": "stdout",
     "output_type": "stream",
     "text": [
      "1\n",
      "0\n",
      "1\n",
      "0\n"
     ]
    }
   ],
   "source": [
    "print(1%2)\n",
    "print(2%2)\n",
    "print(3%2)\n",
    "print(4%2)\n",
    "\n",
    "# 자연수를 2로 나누었을 떄의 나머지 값이 홀수일 때는 1, 짝수일 떄는 0을 출력함"
   ]
  },
  {
   "cell_type": "markdown",
   "id": "25ae818f-e756-4dfa-9843-268b0c3a373a",
   "metadata": {},
   "source": [
    "# 주민등록번호 나누기"
   ]
  },
  {
   "cell_type": "code",
   "execution_count": 14,
   "id": "ba3a3ec3-4c9f-4606-a547-346048253e0f",
   "metadata": {},
   "outputs": [
    {
     "name": "stdout",
     "output_type": "stream",
     "text": [
      "881120\n",
      "1068234\n"
     ]
    }
   ],
   "source": [
    "pin = \"881120-1068234\"\n",
    "yyyymmdd = (pin[:6])\n",
    "num = (pin[7:])\n",
    "print(yyyymmdd)\n",
    "print(num)"
   ]
  },
  {
   "cell_type": "markdown",
   "id": "dcd7e43d-f6b5-497e-b659-ff29b3e7b478",
   "metadata": {},
   "source": [
    "# 주민등록번호 인덱싱"
   ]
  },
  {
   "cell_type": "code",
   "execution_count": 15,
   "id": "070bd64d-1801-4f26-b818-95055b3f373b",
   "metadata": {},
   "outputs": [
    {
     "name": "stdout",
     "output_type": "stream",
     "text": [
      "1\n"
     ]
    }
   ],
   "source": [
    "# 쥣자리의 맨 첫 번째 숫자 / 성별 출력\n",
    "pin = \"881120-1068234\"\n",
    "print(pin[7:8])"
   ]
  },
  {
   "cell_type": "markdown",
   "id": "2998e8b9-7515-485a-ae41-3b03704ca23a",
   "metadata": {},
   "source": [
    "# 문자열 바꾸기"
   ]
  },
  {
   "cell_type": "code",
   "execution_count": 17,
   "id": "064b4f73-1d58-4405-8a75-353745ff7255",
   "metadata": {},
   "outputs": [
    {
     "name": "stdout",
     "output_type": "stream",
     "text": [
      "a#b#c#d\n"
     ]
    }
   ],
   "source": [
    "# a:b:c:d 문자열의 replace 사용하여 a#b#c#d#으로 출력\n",
    "a = \"a:b:c:d\"\n",
    "b = a.replace(\":\",\"#\")\n",
    "print(b)"
   ]
  },
  {
   "cell_type": "markdown",
   "id": "a61f29f0-d9e5-4df5-a0de-fdac560482e5",
   "metadata": {},
   "source": [
    "# 리스트 역순 정렬하기"
   ]
  },
  {
   "cell_type": "code",
   "execution_count": 29,
   "id": "4264c060-c590-4928-bfae-40dd1c1489df",
   "metadata": {},
   "outputs": [],
   "source": [
    "a = [1,3,5,4,2]"
   ]
  },
  {
   "cell_type": "code",
   "execution_count": 41,
   "id": "e95660e4-9a26-4a14-a4f6-7a65c56979c4",
   "metadata": {},
   "outputs": [
    {
     "name": "stdout",
     "output_type": "stream",
     "text": [
      "[1, 2, 3, 4, 5]\n",
      "[5, 4, 3, 2, 1]\n"
     ]
    }
   ],
   "source": [
    "a.sort()\n",
    "print(a)\n",
    "a.reverse()\n",
    "print(a)"
   ]
  },
  {
   "cell_type": "code",
   "execution_count": 4,
   "id": "a0f83f4a-a6cb-4047-af88-b8a46c942b42",
   "metadata": {},
   "outputs": [
    {
     "name": "stdout",
     "output_type": "stream",
     "text": [
      "[5, 4, 3, 2, 1]\n"
     ]
    }
   ],
   "source": [
    "a = [1,3,5,4,2]\n",
    "a.sort()\n",
    "a.reverse()\n",
    "print(a)"
   ]
  },
  {
   "cell_type": "markdown",
   "id": "8e7994c2-d261-4d25-b037-3f16f37bdc2a",
   "metadata": {},
   "source": [
    "# 리스트를 문자열로 만들기"
   ]
  },
  {
   "cell_type": "code",
   "execution_count": 48,
   "id": "b0aeba67-8a28-47f7-849d-d726a2e56c1e",
   "metadata": {},
   "outputs": [
    {
     "name": "stdout",
     "output_type": "stream",
     "text": [
      "Life is too short\n"
     ]
    }
   ],
   "source": [
    "a = ['Life','is','too','short']\n",
    "result = \" \".join(a)\n",
    "print(result)"
   ]
  },
  {
   "cell_type": "markdown",
   "id": "31ca6c32-2d44-4318-a07f-81964698ff7d",
   "metadata": {},
   "source": [
    "# 튜플 더하기"
   ]
  },
  {
   "cell_type": "code",
   "execution_count": 49,
   "id": "f14bc565-3f8a-47eb-94d1-68455f8821c4",
   "metadata": {},
   "outputs": [
    {
     "name": "stdout",
     "output_type": "stream",
     "text": [
      "(1, 2, 3, 4)\n"
     ]
    }
   ],
   "source": [
    "a1 = (1,2,3)\n",
    "b1 = (4,)\n",
    "c1 = a1+b1\n",
    "print(c1)"
   ]
  },
  {
   "cell_type": "code",
   "execution_count": 5,
   "id": "23b4924c-a299-4798-965a-7a35e82f39e4",
   "metadata": {},
   "outputs": [
    {
     "name": "stdout",
     "output_type": "stream",
     "text": [
      "(1, 2, 3, 4)\n"
     ]
    }
   ],
   "source": [
    "a = (1,2,3)\n",
    "a = a + (4,)\n",
    "print(a)"
   ]
  },
  {
   "cell_type": "markdown",
   "id": "e99199a5-54b5-42c7-8c05-7c577c1e061c",
   "metadata": {},
   "source": [
    "# 딕셔너리의 키"
   ]
  },
  {
   "cell_type": "code",
   "execution_count": null,
   "id": "e3b4f186-70ab-4d71-b74d-19b200ff0b57",
   "metadata": {},
   "outputs": [],
   "source": [
    "a = dict()\n",
    "a['name'] = 'python'\n",
    "a[('a',)] = 'python' # 튜플을 이용해도 가능, 튜플은 변경 불가해서\n",
    "# a[[1]] = 'python' 리스트는 변경 가능한 값이기 때문에 딕셔너리에서 사용x\n",
    "a[250] = 'python'\n",
    "print(a)"
   ]
  },
  {
   "cell_type": "markdown",
   "id": "c27a8fdb-0975-49df-b28b-0b9ccbc905a2",
   "metadata": {},
   "source": [
    "# 딕셔너리 값 추출하기"
   ]
  },
  {
   "cell_type": "code",
   "execution_count": 9,
   "id": "64f7a0cf-359e-4758-a1eb-c6ed75ec0438",
   "metadata": {},
   "outputs": [
    {
     "name": "stdout",
     "output_type": "stream",
     "text": [
      "{'A': 90, 'C': 70}\n",
      "80\n"
     ]
    }
   ],
   "source": [
    "a = {'A':90, 'B':80, 'C':70}\n",
    "result = a.get('B')\n",
    "del a['B']\n",
    "print(a)\n",
    "print(result)"
   ]
  },
  {
   "cell_type": "code",
   "execution_count": 4,
   "id": "9c8c5aff-b34f-4d34-a88d-67e45d22f4d4",
   "metadata": {},
   "outputs": [
    {
     "name": "stdout",
     "output_type": "stream",
     "text": [
      "{'A': 90, 'C': 70}\n",
      "80\n"
     ]
    }
   ],
   "source": [
    "a = {'A':90, 'B':80, 'C':70}\n",
    "result = a.pop('B')\n",
    "print(a)\n",
    "print(result)"
   ]
  },
  {
   "cell_type": "markdown",
   "id": "b383d090-b0da-4937-9859-d64c95ec9f02",
   "metadata": {},
   "source": [
    "# 리스트에서 중복 제거하기"
   ]
  },
  {
   "cell_type": "code",
   "execution_count": 2,
   "id": "2643aade-498d-44a7-bdcf-457d41d39fd1",
   "metadata": {},
   "outputs": [
    {
     "name": "stdout",
     "output_type": "stream",
     "text": [
      "[1, 2, 3, 4, 5]\n"
     ]
    }
   ],
   "source": [
    "a = [1,1,1,2,2,3,3,3,4,4,5]\n",
    "aSet = set([1,1,1,2,2,3,3,3,4,4,5])\n",
    "b = list(aSet)\n",
    "print(b)"
   ]
  },
  {
   "cell_type": "markdown",
   "id": "674da5b7-9275-45ff-8953-df542bf36407",
   "metadata": {},
   "source": [
    "# 파이썬 함수"
   ]
  },
  {
   "cell_type": "code",
   "execution_count": 1,
   "id": "e3af5bb7-de3c-4e96-88f5-1374550aa685",
   "metadata": {},
   "outputs": [
    {
     "name": "stdout",
     "output_type": "stream",
     "text": [
      "[1, 4, 3]\n"
     ]
    }
   ],
   "source": [
    "# a의 두 번째 요솟값을 변경하면 b 값은 어떻게 될까? 그리고 그런 결과가 나타나는 이유를 설명해보자.\n",
    "a = b = [1,2,3]\n",
    "a[1] = 4\n",
    "print(b)\n",
    "# [1, 4, 3] 출력 / a, b 모두 동일한 리스트를 가리키고 있기 때문"
   ]
  }
 ],
 "metadata": {
  "kernelspec": {
   "display_name": "Python 3 (ipykernel)",
   "language": "python",
   "name": "python3"
  },
  "language_info": {
   "codemirror_mode": {
    "name": "ipython",
    "version": 3
   },
   "file_extension": ".py",
   "mimetype": "text/x-python",
   "name": "python",
   "nbconvert_exporter": "python",
   "pygments_lexer": "ipython3",
   "version": "3.13.1"
  }
 },
 "nbformat": 4,
 "nbformat_minor": 5
}
