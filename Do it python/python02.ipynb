{
 "cells": [
  {
   "cell_type": "markdown",
   "id": "8f9f6fee-fdf6-47a2-906f-5082ffa1f216",
   "metadata": {},
   "source": [
    "# 자료형"
   ]
  },
  {
   "cell_type": "markdown",
   "id": "1c6022aa-b6de-4905-b575-87cc38f879ea",
   "metadata": {},
   "source": [
    "## 리스트 자료형"
   ]
  },
  {
   "cell_type": "markdown",
   "id": "4f92b732-7eb7-48ab-9214-3efcf16d2a71",
   "metadata": {},
   "source": [
    "### 리스트의 인덱싱과 슬라이싱"
   ]
  },
  {
   "cell_type": "code",
   "execution_count": 1,
   "id": "a28260c9-f05f-4700-924b-603f21f9171b",
   "metadata": {},
   "outputs": [],
   "source": [
    "odd = [1,3,5,7,9]"
   ]
  },
  {
   "cell_type": "code",
   "execution_count": 10,
   "id": "2c86ac1b-9a25-43ac-b0f0-16fd983fb69c",
   "metadata": {},
   "outputs": [
    {
     "name": "stdout",
     "output_type": "stream",
     "text": [
      "['Life', 'is']\n",
      "Life\n",
      "is\n"
     ]
    }
   ],
   "source": [
    "# 리스트의 인덱싱 / [요소]\n",
    "a = []\n",
    "b = [1,2,3]\n",
    "c = ['Life','is','too','short']\n",
    "d = [1,2,'Life','is']\n",
    "e = [1,2,['Life','is']]\n",
    "print(e[2])\n",
    "print(e[2][0])\n",
    "print(e[2][1])"
   ]
  },
  {
   "cell_type": "code",
   "execution_count": 13,
   "id": "ac1a6799-00fe-48cc-9baf-93f305df3754",
   "metadata": {},
   "outputs": [
    {
     "name": "stdout",
     "output_type": "stream",
     "text": [
      "5\n",
      "Lifeshort\n",
      "LifeLifeLife\n"
     ]
    },
    {
     "data": {
      "text/plain": [
       "'short'"
      ]
     },
     "execution_count": 13,
     "metadata": {},
     "output_type": "execute_result"
    }
   ],
   "source": [
    "# 리스트의 인덱싱과 연산\n",
    "print(b[1] + b[2])\n",
    "print(c[0]+c[3])\n",
    "print(c[0]*b[2])\n",
    "c[-1]"
   ]
  },
  {
   "cell_type": "code",
   "execution_count": 18,
   "id": "3a01ccba-ce52-4812-9296-00755dcea701",
   "metadata": {},
   "outputs": [
    {
     "name": "stdout",
     "output_type": "stream",
     "text": [
      "[11, 22, 33, 44, 55]\n",
      "[33, 44, 55]\n",
      "[11, 22]\n",
      "[44, 55]\n",
      "[11, 22]\n",
      "[55, 44, 33, 22, 11]\n"
     ]
    }
   ],
   "source": [
    "# 리스트의 슬라이싱\n",
    "a = [11,22,33,44,55]\n",
    "print(a[:])\n",
    "print(a[2:])\n",
    "print(a[:-3])\n",
    "print(a[-2:])\n",
    "print(a[0:2])\n",
    "print(a[::-1])"
   ]
  },
  {
   "cell_type": "code",
   "execution_count": 20,
   "id": "c4d24c1b-ff0f-4fab-899c-2ed7eef87d76",
   "metadata": {},
   "outputs": [
    {
     "name": "stdout",
     "output_type": "stream",
     "text": [
      "[2, 3]\n"
     ]
    }
   ],
   "source": [
    "a = [1,2,3,4,5]\n",
    "print(a[1:3])"
   ]
  },
  {
   "cell_type": "markdown",
   "id": "407735e2-9364-403b-a291-76d07f81791c",
   "metadata": {},
   "source": [
    "### 리스트 연산&수정&삭제"
   ]
  },
  {
   "cell_type": "code",
   "execution_count": 28,
   "id": "78feb6c7-f02b-4e9c-87be-3a954ba6bfdb",
   "metadata": {},
   "outputs": [
    {
     "name": "stdout",
     "output_type": "stream",
     "text": [
      "[11, 22, 33, 44, 55, 66]\n",
      "[11, 22, 33, 11, 22, 33, 11, 22, 33]\n",
      "3\n",
      "[11, 22, 33, 11, 22, 33, 11, 22, 33]\n"
     ]
    },
    {
     "data": {
      "text/plain": [
       "9"
      ]
     },
     "execution_count": 28,
     "metadata": {},
     "output_type": "execute_result"
    }
   ],
   "source": [
    "# 더하기 / 문자와 숫자는 더할 수 없음!\n",
    "a = [11,22,33]\n",
    "b = [44,55,66]\n",
    "print(a+b)\n",
    "\n",
    "# 반복하기\n",
    "a = [11,22,33]\n",
    "print(a*3)\n",
    "\n",
    "# 리스트 길이\n",
    "a = [11,22,33]\n",
    "print(len(a))\n",
    "\n",
    "# 반복 & 리스트\n",
    "c = a * 3\n",
    "print(c)\n",
    "len(c)"
   ]
  },
  {
   "cell_type": "code",
   "execution_count": 33,
   "id": "9ecbdbc4-b8eb-4bb3-ab81-23f19ddcd3e5",
   "metadata": {},
   "outputs": [
    {
     "name": "stdout",
     "output_type": "stream",
     "text": [
      "[11, 22, 44]\n",
      "[11, 44]\n",
      "[11, 22, 33, 11, 22, 33, 11, 22, 33]\n",
      "[22, 33, 11, 22, 33]\n"
     ]
    }
   ],
   "source": [
    "# 리스트 값 수정하기 / 수정은 가능하나 생성은 불가\n",
    "a = [11,22,33]\n",
    "a[2] = 44\n",
    "print(a)\n",
    "# a[1] = '' / 빈칸 수정 삽입됨\n",
    "# a[1] = 0 / 0으로 수정 삽입됨\n",
    "\n",
    "# 리스트 요소 삭제하기\n",
    "del a[1]\n",
    "print(a)\n",
    "\n",
    "# 리스트값 슬라이싱으로 삭제\n",
    "print(c)\n",
    "del(c[:4])\n",
    "print(c)"
   ]
  },
  {
   "cell_type": "markdown",
   "id": "594adcb4-6503-4526-afc5-b994eafb1f83",
   "metadata": {},
   "source": [
    "### 리스트 관련 함수"
   ]
  },
  {
   "cell_type": "code",
   "execution_count": null,
   "id": "c3e61c3f-a4af-445c-8ecd-a6c7cc24133f",
   "metadata": {},
   "outputs": [],
   "source": [
    "dir(list)"
   ]
  },
  {
   "cell_type": "code",
   "execution_count": 35,
   "id": "ddb3bcbc-0f40-4a1c-81a7-a1310341735c",
   "metadata": {},
   "outputs": [
    {
     "name": "stdout",
     "output_type": "stream",
     "text": [
      "[]\n"
     ]
    }
   ],
   "source": [
    "# 리스트 요소 비우기\n",
    "c.clear()\n",
    "print(c)"
   ]
  },
  {
   "cell_type": "code",
   "execution_count": 49,
   "id": "6c1c6c9a-f91e-4a4f-984c-defc39afafdf",
   "metadata": {},
   "outputs": [],
   "source": [
    "a = [] # 리스트 초기화"
   ]
  },
  {
   "cell_type": "code",
   "execution_count": 50,
   "id": "8359bbb9-5f10-480e-962e-ff126a9e897b",
   "metadata": {},
   "outputs": [
    {
     "name": "stdout",
     "output_type": "stream",
     "text": [
      "[4]\n",
      "[4, [11, 22]]\n"
     ]
    }
   ],
   "source": [
    "# 리스트 요소 추가 append\n",
    "a.append(4)\n",
    "print(a)\n",
    "a.append([11,22])\n",
    "print(a)"
   ]
  },
  {
   "cell_type": "code",
   "execution_count": 2,
   "id": "61e8e54c-7030-4a1c-8a1d-3df9b324c844",
   "metadata": {},
   "outputs": [],
   "source": [
    "b = []\n",
    "num = 0"
   ]
  },
  {
   "cell_type": "code",
   "execution_count": 6,
   "id": "45c03002-3f5d-4420-a15f-958228e300fc",
   "metadata": {},
   "outputs": [
    {
     "name": "stdout",
     "output_type": "stream",
     "text": [
      "[1, 2, 3, 4]\n"
     ]
    }
   ],
   "source": [
    "num += 1\n",
    "b.append(num)\n",
    "print(b)"
   ]
  },
  {
   "cell_type": "code",
   "execution_count": 9,
   "id": "9c68016b-e5c4-4613-80fe-65b232a63d22",
   "metadata": {},
   "outputs": [
    {
     "name": "stdout",
     "output_type": "stream",
     "text": [
      "[11, 22, 33, 44, 55]\n"
     ]
    }
   ],
   "source": [
    "# 리스트 정렬 sort / 원본 파괴\n",
    "a = [11,44,33,22,55]\n",
    "a.sort()\n",
    "print(a)"
   ]
  },
  {
   "cell_type": "code",
   "execution_count": 13,
   "id": "fd80b359-3327-4cbe-a632-5dd6354bb69d",
   "metadata": {},
   "outputs": [
    {
     "name": "stdout",
     "output_type": "stream",
     "text": [
      "[66, 77, 88, 99, 0]\n",
      "[0, 66, 77, 88, 99]\n",
      "[99, 88, 77, 66, 0]\n"
     ]
    }
   ],
   "source": [
    "# 리스트정렬 원본 유지하기\n",
    "aa = [66,77,88,99,0]\n",
    "bb = sorted(aa)\n",
    "cc = sorted(aa,reverse=True)\n",
    "print(aa)\n",
    "print(bb)\n",
    "print(cc)"
   ]
  },
  {
   "cell_type": "code",
   "execution_count": 10,
   "id": "09cb4f22-b23e-404d-871e-9fdbbda737d6",
   "metadata": {},
   "outputs": [
    {
     "name": "stdout",
     "output_type": "stream",
     "text": [
      "[55, 22, 33, 44, 11]\n"
     ]
    }
   ],
   "source": [
    "# 리스트 뒤집기 reverse\n",
    "a = [11,44,33,22,55]\n",
    "a.reverse()\n",
    "print(a)"
   ]
  },
  {
   "cell_type": "code",
   "execution_count": 19,
   "id": "4c1d8f9a-2f6d-428a-ae06-124aeada4333",
   "metadata": {},
   "outputs": [
    {
     "name": "stdout",
     "output_type": "stream",
     "text": [
      "['banana', 'kiwi', 'orange', 'melon', 'pear', 'apple', 'strawberry', 'blueberry']\n",
      "['kiwi', 'pear', 'melon', 'apple', 'banana', 'orange', 'blueberry', 'strawberry']\n",
      "['strawberry', 'blueberry', 'banana', 'orange', 'melon', 'apple', 'kiwi', 'pear']\n"
     ]
    }
   ],
   "source": [
    "# sorted 응용\n",
    "fruit = ['banana','kiwi','orange','melon','pear','apple','strawberry','blueberry']\n",
    "result = sorted(fruit,key=len)\n",
    "result2 = sorted(fruit,key=len,reverse=True)\n",
    "print(fruit)\n",
    "print(result)\n",
    "print(result2)"
   ]
  },
  {
   "cell_type": "code",
   "execution_count": 29,
   "id": "fa2d933a-c7e7-4a30-b706-881cfdf0c7b2",
   "metadata": {},
   "outputs": [
    {
     "name": "stdout",
     "output_type": "stream",
     "text": [
      "kiwi 냠냠 맛있다.\n",
      "pear 냠냠 맛있다.\n",
      "melon 냠냠 맛있다.\n",
      "apple 냠냠 맛있다.\n",
      "banana 냠냠 맛있다.\n",
      "orange 냠냠 맛있다.\n",
      "blueberry 냠냠 맛있다.\n",
      "strawberry 냠냠 맛있다.\n",
      "kiwi 와~ 다먹었다.\n",
      "pear 와~ 다먹었다.\n",
      "melon 와~ 다먹었다.\n",
      "apple 와~ 다먹었다.\n",
      "banana 와~ 다먹었다.\n",
      "orange 와~ 다먹었다.\n",
      "blueberry 와~ 다먹었다.\n",
      "strawberry 와~ 다먹었다.\n"
     ]
    }
   ],
   "source": [
    "for r in result:\n",
    "    print(r+' 냠냠 맛있다.')\n",
    "for R in result:\n",
    "    print(R+' 와~ 다먹었다.')"
   ]
  },
  {
   "cell_type": "code",
   "execution_count": 33,
   "id": "aa861c03-6740-48d4-838d-812f40bd51bc",
   "metadata": {},
   "outputs": [
    {
     "name": "stdout",
     "output_type": "stream",
     "text": [
      "kiwi 냠냠 맛있다.\n",
      "pear 냠냠 맛있다.\n",
      "melon 냠냠 맛있다.\n",
      "apple 냠냠 맛있다.\n",
      "banana못먹겠어! 웩\n",
      "orange 냠냠 맛있다.\n",
      "blueberry 냠냠 맛있다.\n",
      "strawberry 냠냠 맛있다.\n"
     ]
    }
   ],
   "source": [
    "for r in result:\n",
    "    if r == 'banana':\n",
    "        print(r+'못먹겠어! 웩')\n",
    "    if r != 'banana':\n",
    "        print(r+' 냠냠 맛있다.')"
   ]
  },
  {
   "cell_type": "code",
   "execution_count": 36,
   "id": "5042aade-4300-4e7d-a7c5-dc43ea26d5be",
   "metadata": {},
   "outputs": [
    {
     "data": {
      "text/plain": [
       "3"
      ]
     },
     "execution_count": 36,
     "metadata": {},
     "output_type": "execute_result"
    }
   ],
   "source": [
    "# 인덱스 반환 index\n",
    "fruit = ['banana','kiwi','orange','melon','pear','apple','strawberry','blueberry']\n",
    "fruit.index('melon')\n",
    "\n",
    "# fruit.index('melon') / 없는걸 물어볼 경우 오류..\n",
    "# fruit.find('melon') / 없음"
   ]
  },
  {
   "cell_type": "code",
   "execution_count": 47,
   "id": "3a0c22a5-789b-4145-9bb2-fb99a211e5c7",
   "metadata": {},
   "outputs": [
    {
     "name": "stdin",
     "output_type": "stream",
     "text": [
      "먹고싶은 과일을 입력하세요. apple\n"
     ]
    },
    {
     "name": "stdout",
     "output_type": "stream",
     "text": [
      "apple 를 좋아하시는군요! 그것은 6번 째에 있습니다.\n"
     ]
    }
   ],
   "source": [
    "# 인덱스 응용\n",
    "fruit = ['banana','kiwi','orange','melon','pear','apple','strawberry','blueberry']\n",
    "want = input('먹고싶은 과일을 입력하세요.')\n",
    "where = fruit.index(want)\n",
    "print(f'{want} 를 좋아하시는군요! 그것은 {where+1}번 째에 있습니다.')"
   ]
  },
  {
   "cell_type": "code",
   "execution_count": 49,
   "id": "6484c44c-e894-4799-8605-ceb437126c3b",
   "metadata": {},
   "outputs": [
    {
     "name": "stdout",
     "output_type": "stream",
     "text": [
      "[11, 22, 33, 44, 55, 66, 77, 88]\n",
      "[11, 22, 33, 44, 44, 55, 66, 77, 88]\n"
     ]
    }
   ],
   "source": [
    "# 리스트에 요소 삽입 insert\n",
    "num = [11,22,33,44,55,66,77,88]\n",
    "print(num)\n",
    "num.insert(3,44)\n",
    "print(num)"
   ]
  },
  {
   "cell_type": "code",
   "execution_count": 71,
   "id": "b45510bf-d395-4a9b-b247-d208c9b4ec16",
   "metadata": {},
   "outputs": [],
   "source": [
    "ex = []"
   ]
  },
  {
   "cell_type": "code",
   "execution_count": 72,
   "id": "d3e4ceac-164c-479f-adbb-ccc9d18ed33c",
   "metadata": {},
   "outputs": [
    {
     "name": "stdout",
     "output_type": "stream",
     "text": [
      "['맨앞']\n",
      "['-1인덱스', '맨앞']\n",
      "['맨앞', '-1인덱스', '맨앞']\n",
      "['맨앞', '-1인덱스', '맨앞', '제일 끝']\n"
     ]
    }
   ],
   "source": [
    "ex.insert(0,'맨앞')\n",
    "print(ex)\n",
    "ex.insert(-1,'-1인덱스')\n",
    "print(ex)\n",
    "ex.insert(0,'맨앞')\n",
    "print(ex)\n",
    "ex.insert(len(ex),'제일 끝')\n",
    "print(ex)"
   ]
  },
  {
   "cell_type": "code",
   "execution_count": 15,
   "id": "36012b19-5e85-4e2a-b60d-3f195fe4b5a4",
   "metadata": {},
   "outputs": [
    {
     "name": "stdout",
     "output_type": "stream",
     "text": [
      "[1, 2, 1, 2, 3]\n"
     ]
    }
   ],
   "source": [
    "# 리스트 요소제거 remove\n",
    "a = [1,2,3,1,2,3]\n",
    "a.remove(3)\n",
    "print(a)"
   ]
  },
  {
   "cell_type": "code",
   "execution_count": 11,
   "id": "cfb99d1c-4ba5-43b7-b94f-7265bb2a91d9",
   "metadata": {},
   "outputs": [],
   "source": [
    "# 리스트 요소 끄집어 내기 pop\n",
    "a = [1,2,3]"
   ]
  },
  {
   "cell_type": "code",
   "execution_count": 12,
   "id": "060b5205-df96-4419-8660-d951b5661485",
   "metadata": {},
   "outputs": [
    {
     "name": "stdout",
     "output_type": "stream",
     "text": [
      "[1, 2]\n",
      "받은거 3\n"
     ]
    }
   ],
   "source": [
    "hand = a.pop()  # 리스트의 맨 마지막 요소를 삭제\n",
    "print(a)\n",
    "print(\"받은거\",hand)"
   ]
  },
  {
   "cell_type": "code",
   "execution_count": 13,
   "id": "26e92dfe-1032-49e3-a2f7-6f51389ae464",
   "metadata": {},
   "outputs": [
    {
     "name": "stdout",
     "output_type": "stream",
     "text": [
      "[1, 3]\n"
     ]
    }
   ],
   "source": [
    "a = [1,2,3]\n",
    "a.pop(1)  # 리스트의 ?번째 요소를 삭제\n",
    "print(a)"
   ]
  },
  {
   "cell_type": "code",
   "execution_count": 19,
   "id": "3782b2e1-89be-4fbc-a720-1e1003de3322",
   "metadata": {},
   "outputs": [
    {
     "name": "stdout",
     "output_type": "stream",
     "text": [
      "2\n",
      "6\n"
     ]
    }
   ],
   "source": [
    "# 리스트에 포함된 요소 x의 개수 세기 count\n",
    "st = \"안녕하세요 반가워요\"\n",
    "print(st.count(\"요\"))\n",
    "a = [1,2,3,1,1,1,1,2,3,24,5,34,1,2]\n",
    "print(a.count(1))"
   ]
  },
  {
   "cell_type": "code",
   "execution_count": 22,
   "id": "9c58d2f1-17c9-416e-968b-64e711aad903",
   "metadata": {},
   "outputs": [
    {
     "name": "stdout",
     "output_type": "stream",
     "text": [
      "[1, 2, 3, 4, 5]\n",
      "[11, 22, 33, 44, 55, 66]\n"
     ]
    }
   ],
   "source": [
    "# 리스트 확장 extend / 원본 파괴\n",
    "a = [1,2,3]\n",
    "a.extend([4,5])\n",
    "print(a)\n",
    "\n",
    "b = [11,22,33]\n",
    "c = [44,55,66]\n",
    "print(b+c)"
   ]
  },
  {
   "cell_type": "code",
   "execution_count": 20,
   "id": "a4279ca5-ca2a-4a39-b044-e1a464f30e74",
   "metadata": {},
   "outputs": [],
   "source": [
    "# 장바구니\n",
    "bag = []"
   ]
  },
  {
   "cell_type": "code",
   "execution_count": 28,
   "id": "c2fb8621-199f-4eb9-8624-163ff00d9108",
   "metadata": {},
   "outputs": [
    {
     "name": "stdin",
     "output_type": "stream",
     "text": [
      "필요한 항목을 넣어주세요 아이패드\n"
     ]
    },
    {
     "name": "stdout",
     "output_type": "stream",
     "text": [
      "장바구니에는 ['커피', '고기', '폰', '노트북', '아이패드']들이 있습니다.\n"
     ]
    }
   ],
   "source": [
    "# create 생성\n",
    "inp = input('필요한 항목을 넣어주세요')\n",
    "bag.append (inp)\n",
    "print(f'장바구니에는 {bag}들이 있습니다.')"
   ]
  },
  {
   "cell_type": "code",
   "execution_count": 32,
   "id": "7c3bf0fe-68ae-4489-a4d7-e1ec30008e7d",
   "metadata": {},
   "outputs": [
    {
     "name": "stdout",
     "output_type": "stream",
     "text": [
      "커피을/를 꺼내서 장바구니에 ['고기', '폰', '노트북', '아이패드']가 남았습니다.\n"
     ]
    }
   ],
   "source": [
    "# FIFO 출력 (큐출력)\n",
    "hand = bag.pop(0)\n",
    "print(f'{hand}을(를) 꺼내서 장바구니에 {bag}가 남았습니다.')"
   ]
  },
  {
   "cell_type": "code",
   "execution_count": 37,
   "id": "bbcdaf8e-9e4a-4357-b020-1cbdfb5be2ef",
   "metadata": {},
   "outputs": [
    {
     "name": "stdout",
     "output_type": "stream",
     "text": [
      "바구니에 ['호박', '감자', '소주', '맥주', '피자'] 물품이 있습니다.\n"
     ]
    },
    {
     "name": "stdin",
     "output_type": "stream",
     "text": [
      "꺼내고 싶은 물품을 입력하세요. 맥주\n"
     ]
    },
    {
     "name": "stdout",
     "output_type": "stream",
     "text": [
      "바구니에서 맥주을(를) 꺼내어 ['호박', '감자', '소주', '피자']이 남았습니다.\n"
     ]
    }
   ],
   "source": [
    "# 선택 출력\n",
    "bag = ['호박','감자','소주','맥주','피자']\n",
    "print(f'바구니에 {bag} 물품이 있습니다.')\n",
    "bring = input('꺼내고 싶은 물품을 입력하세요.')\n",
    "hand2 = bag.pop(bag.index(bring))\n",
    "print(f'바구니에서 {hand2}을(를) 꺼내어 {bag}이 남았습니다.')"
   ]
  },
  {
   "cell_type": "code",
   "execution_count": 31,
   "id": "c30f2c27-87f6-4822-9d18-3058823177ed",
   "metadata": {},
   "outputs": [
    {
     "name": "stdout",
     "output_type": "stream",
     "text": [
      "33을(를) 제거하였습니다.\n"
     ]
    }
   ],
   "source": [
    "# 테스트 remove는 리턴값이 없다.\n",
    "choice = 33\n",
    "a = [11,22,33,44,55,66]\n",
    "hands = a.remove(33)\n",
    "print(f'{choice}을(를) 제거하였습니다.')"
   ]
  },
  {
   "cell_type": "code",
   "execution_count": 39,
   "id": "359bffda-3448-4b2f-8cc2-df1c01988287",
   "metadata": {},
   "outputs": [
    {
     "name": "stdin",
     "output_type": "stream",
     "text": [
      "넣고 싶은 물품을 입력해주세요. 고기\n",
      "어떤 물품 뒤에 넣을지 선택해주세요. 호박\n"
     ]
    },
    {
     "name": "stdout",
     "output_type": "stream",
     "text": [
      "바구니에 고기을(를) 넣어 ['호박', '고기', '감자', '소주', '맥주', '피자']이 남았습니다.\n"
     ]
    }
   ],
   "source": [
    "# 실습 \n",
    "bag = ['호박','감자','소주','맥주','피자']\n",
    "# 물품 1개 추가 (단, 지정한 물품 바로 뒤에 추가하기)\n",
    "A1 = input('넣고 싶은 물품을 입력해주세요.')\n",
    "A2 = input('어떤 물품 뒤에 넣을지 선택해주세요.')\n",
    "A3 = bag.count(A2)\n",
    "A4 = bag.insert(A3,A1)\n",
    "print(f'바구니에 {A1}을(를) 넣어 {bag}이 남았습니다.')"
   ]
  },
  {
   "cell_type": "code",
   "execution_count": 1,
   "id": "616f7351-9e9b-4816-8462-bf55e8e11139",
   "metadata": {},
   "outputs": [
    {
     "name": "stdin",
     "output_type": "stream",
     "text": [
      "넣고 싶은 물품을 입력해주세요. / 딸기\n",
      "어떤 물품 뒤에 넣을지 선택해주세요. / 감자\n",
      "정말 감자 물품 뒤에 넣으시겠습니까??? (네/아니요로 입력해주세요.) / 응\n"
     ]
    },
    {
     "name": "stdout",
     "output_type": "stream",
     "text": [
      "\n",
      "\n",
      "잘못 대답하셔 물품을 추가하지 못하였습니다.\n"
     ]
    }
   ],
   "source": [
    "bag = ['호박','감자','소주','맥주','피자']\n",
    "# 물품 1개 추가 (단, 지정한 물품 바로 뒤에 추가하기)\n",
    "A1 = input('넣고 싶은 물품을 입력해주세요. /')\n",
    "A2 = input('어떤 물품 뒤에 넣을지 선택해주세요. /')\n",
    "A3 = bag.count(A2)\n",
    "Q1 = input(f'정말 {A2} 물품 뒤에 넣으시겠습니까??? (네/아니요로 입력해주세요.) /')\n",
    "\n",
    "print('\\n')\n",
    "\n",
    "if Q1 == '네':\n",
    "    bag.insert(A3, A1)\n",
    "    print(f'바구니에 {A1}을(를) 넣어 {bag}이 남았습니다.')\n",
    "elif Q1 == '아니요':\n",
    "    print('물품을 추가하지 않았습니다.')\n",
    "else:\n",
    "    print('잘못 대답하셔 물품을 추가하지 못하였습니다..')"
   ]
  },
  {
   "cell_type": "code",
   "execution_count": 54,
   "id": "dd21d2bd-fc2c-4cdb-972e-b8b849931e0c",
   "metadata": {},
   "outputs": [
    {
     "name": "stdin",
     "output_type": "stream",
     "text": [
      "내가 누구게??? 숫자를 입력하세요. 3\n"
     ]
    },
    {
     "name": "stdout",
     "output_type": "stream",
     "text": [
      "8 <class 'int'>\n"
     ]
    }
   ],
   "source": [
    "# 테스트\n",
    "num = int(input('내가 누구게??? 숫자를 입력하세요.'))\n",
    "print(num+5, type(num))"
   ]
  },
  {
   "cell_type": "code",
   "execution_count": 14,
   "id": "1879b98e-563d-43b0-95de-dc2e5a8d43b5",
   "metadata": {},
   "outputs": [
    {
     "name": "stdin",
     "output_type": "stream",
     "text": [
      "원화로 계산할 달러를 입력해주세요. 50\n"
     ]
    },
    {
     "name": "stdout",
     "output_type": "stream",
     "text": [
      "50달러는 72505.00원입니다.\n"
     ]
    }
   ],
   "source": [
    "# 환율 계산기\n",
    "Q1 = input(\"원화로 계산할 달러를 입력해주세요.\")\n",
    "E1 = 1450.10 * int(Q1)\n",
    "print(f'{Q1}달러는 {\"{0:0.2f}\".format(E1)}원입니다.')"
   ]
  },
  {
   "cell_type": "code",
   "execution_count": 2,
   "id": "f8e11a10-3218-4c3c-beb4-b390b03637e3",
   "metadata": {},
   "outputs": [
    {
     "name": "stdout",
     "output_type": "stream",
     "text": [
      "<class 'list'>\n",
      "1,460.8 <class 'str'>\n",
      "1460.8 <class 'float'>\n",
      "14608 <class 'str'>\n"
     ]
    }
   ],
   "source": [
    "import requests\n",
    "import json\n",
    "url = 'https://www.koreaexim.go.kr/site/program/financial/exchangeJSON?authkey=ESzrEsITnhlgrXuhVxMbMyHmuNwbm9LG&data=AP01'\n",
    "res = requests.get(url).text\n",
    "data = json.loads(res)\n",
    "print(type(data))\n",
    "result = data[-1]['deal_bas_r']\n",
    "print(result, type(result))\n",
    "# 스트링을 숫자로 바꾸기 (단, 쉼표는 전처리하여 사용 가능하게 만들기)\n",
    "# print(int(result)) / 소수점 때문에 int()변경 불가\n",
    "\n",
    "# 방법1\n",
    "A = '1,460.8'\n",
    "AA = A.replace(',', '')  # 쉼표 제거\n",
    "AA = float(AA)  # 실수형으로 변환\n",
    "print(AA, type(AA)) \n",
    "\n",
    "# 방법2\n",
    "B = '1,460.8'\n",
    "BB = B.replace(',', '').replace('.', '') # 쉼표>온점 제거\n",
    "print(BB, type(BB))\n",
    "exc = int(BB)/10"
   ]
  },
  {
   "cell_type": "code",
   "execution_count": 35,
   "id": "74cec96c-4000-4002-bcbe-3185e20952c6",
   "metadata": {},
   "outputs": [
    {
     "name": "stdout",
     "output_type": "stream",
     "text": [
      " value=\"1449.8\"\n"
     ]
    }
   ],
   "source": [
    "import requests\n",
    "url = 'https://search.daum.net/search?w=tot&DA=YZR&t__nil_searchbox=btn&q=%EC%98%A4%EB%8A%98+%ED%99%98%EC%9C%A8+%EB%8B%AC%EB%9F%AC'\n",
    "res = requests.get(url).text\n",
    "result = res[22673:22688]\n",
    "print(result)"
   ]
  },
  {
   "cell_type": "code",
   "execution_count": 6,
   "id": "2ed47328-a7c6-4fc3-983b-ab76c219dc5f",
   "metadata": {},
   "outputs": [
    {
     "name": "stdout",
     "output_type": "stream",
     "text": [
      "addbddc.\n"
     ]
    }
   ],
   "source": [
    "# 질문 답변 1 / 질문 및 답변 삭제 가능여부\n",
    "from IPython.display import clear_output\n",
    "inp1 = input('질문1')\n",
    "clear_output(wait=True)\n",
    "inp2 = input('질문2')\n",
    "clear_output(wait=True)\n",
    "inp3 = input('질문3')\n",
    "clear_output(wait=True)\n",
    "print(inp1)\n",
    "clear_output(wait=True)\n",
    "print(inp2)\n",
    "clear_output(wait=True)\n",
    "print(inp3)\n",
    "clear_output(wait=True)\n",
    "print(f'{inp1}dd{inp2}dd{inp3}.')"
   ]
  },
  {
   "cell_type": "code",
   "execution_count": 3,
   "id": "ee70cc24-3e15-4491-b016-f786ebdcdf26",
   "metadata": {},
   "outputs": [
    {
     "data": {
      "text/plain": [
       "0.30000000000000004"
      ]
     },
     "execution_count": 3,
     "metadata": {},
     "output_type": "execute_result"
    }
   ],
   "source": [
    "# 질문 답변 2 / 부동소수점 삭제 (더 정밀한 계산)\n",
    "0.1 + 0.2"
   ]
  },
  {
   "cell_type": "code",
   "execution_count": 10,
   "id": "ae0e64be-7bb0-4ee6-8621-f2073491e3d3",
   "metadata": {},
   "outputs": [
    {
     "name": "stdout",
     "output_type": "stream",
     "text": [
      "2898.8\n"
     ]
    }
   ],
   "source": [
    "# from decimal import Decimal \n",
    "# result = Decimal(rr)*2\n",
    "rr = 1449.4*2\n",
    "print(round(rr,1))"
   ]
  },
  {
   "cell_type": "code",
   "execution_count": null,
   "id": "4028d238-9efe-43cb-a6e0-655598d249b2",
   "metadata": {},
   "outputs": [],
   "source": [
    "# (데이터타입)형변환"
   ]
  },
  {
   "cell_type": "markdown",
   "id": "9c5d6297-0560-418a-a15b-e2844e75a4f6",
   "metadata": {},
   "source": [
    "## 튜플 자료형"
   ]
  },
  {
   "cell_type": "code",
   "execution_count": 15,
   "id": "3e4d55ca-804a-4f1e-b358-4753f1431dad",
   "metadata": {},
   "outputs": [],
   "source": [
    "t1 = ()\n",
    "t2 = (1,)\n",
    "t3 = (1,2,3)\n",
    "t4 = 1,2,3\n",
    "t5 = ('a','b',('ab','cd'))"
   ]
  },
  {
   "cell_type": "code",
   "execution_count": null,
   "id": "f19658f2-3596-4adb-a072-d8b055fac2eb",
   "metadata": {},
   "outputs": [],
   "source": [
    "#튜플의 요소값을 삭제하려 할 때\n",
    "t1 = (1,2,'a','b')\n",
    "del t1[0]"
   ]
  },
  {
   "attachments": {
    "15e31708-00ec-4e76-9ed9-5b69bbf56472.png": {
     "image/png": "[encoded data removed]"
    }
   },
   "cell_type": "markdown",
   "id": "14520a1a-1882-4eca-a482-723b8c58f334",
   "metadata": {},
   "source": [
    "![image.png](attachment:15e31708-00ec-4e76-9ed9-5b69bbf56472.png)"
   ]
  },
  {
   "cell_type": "code",
   "execution_count": null,
   "id": "17b52e63-d70c-49a2-a3af-567c5683db05",
   "metadata": {},
   "outputs": [],
   "source": [
    "#튜플의 요소값을 변경하려 할 때\n",
    "t1 = (1,2,'a','b')\n",
    "t1[0] = 'c'"
   ]
  },
  {
   "attachments": {
    "04a251e2-b93b-40c5-a9d0-2ed482f0276c.png": {
     "image/png": "[encoded data removed]"
    }
   },
   "cell_type": "markdown",
   "id": "026d373e-2d7b-4835-ac9d-d14b28c5a214",
   "metadata": {},
   "source": [
    "![image.png](attachment:04a251e2-b93b-40c5-a9d0-2ed482f0276c.png)"
   ]
  },
  {
   "cell_type": "code",
   "execution_count": null,
   "id": "49673e42-27f1-45c3-aa5b-a61fe1551b8b",
   "metadata": {},
   "outputs": [],
   "source": [
    "dir(tuple) #  tuple=()"
   ]
  },
  {
   "cell_type": "code",
   "execution_count": 19,
   "id": "63c9d1f1-ad9c-44f9-885e-c9b27063be16",
   "metadata": {},
   "outputs": [
    {
     "name": "stdout",
     "output_type": "stream",
     "text": [
      "1 b\n"
     ]
    }
   ],
   "source": [
    "# 인덱싱\n",
    "t1 = (1,2,'a','b')\n",
    "print(t1[0],t1[3])"
   ]
  },
  {
   "cell_type": "code",
   "execution_count": 20,
   "id": "01d3983f-b5fa-4c67-83a6-015b2d92b4eb",
   "metadata": {},
   "outputs": [
    {
     "name": "stdout",
     "output_type": "stream",
     "text": [
      "(2, 'a', 'b')\n"
     ]
    }
   ],
   "source": [
    "# 슬라이싱\n",
    "t1 = (1,2,'a','b')\n",
    "print(t1[1:])"
   ]
  },
  {
   "cell_type": "code",
   "execution_count": 21,
   "id": "d31ddb09-d463-4982-9378-9416d30b3ec0",
   "metadata": {},
   "outputs": [
    {
     "name": "stdout",
     "output_type": "stream",
     "text": [
      "(1, 2, 'a', 'b', 3, 4)\n"
     ]
    }
   ],
   "source": [
    "# 튜플 더하기\n",
    "t1 = (1,2,'a','b')\n",
    "t2 = (3,4)\n",
    "t3 = t1+t2\n",
    "print(t3)"
   ]
  },
  {
   "cell_type": "code",
   "execution_count": 22,
   "id": "1a4ae090-3537-45bd-a857-7318e48cc88d",
   "metadata": {},
   "outputs": [
    {
     "name": "stdout",
     "output_type": "stream",
     "text": [
      "(3, 4, 3, 4, 3, 4)\n"
     ]
    }
   ],
   "source": [
    "# 튜플 곱하기\n",
    "t2 = 3,4\n",
    "t3 = t2 * 3\n",
    "print(t3)"
   ]
  },
  {
   "cell_type": "code",
   "execution_count": 23,
   "id": "e63ea046-9171-433b-9ef0-46a94209b8a5",
   "metadata": {},
   "outputs": [
    {
     "data": {
      "text/plain": [
       "6"
      ]
     },
     "execution_count": 23,
     "metadata": {},
     "output_type": "execute_result"
    }
   ],
   "source": [
    "# 튜플 길이 구하기\n",
    "len(t3)"
   ]
  },
  {
   "cell_type": "code",
   "execution_count": 30,
   "id": "459c6a25-9bb6-4acb-aac7-23a0303160d4",
   "metadata": {},
   "outputs": [
    {
     "name": "stdout",
     "output_type": "stream",
     "text": [
      "(1, 2, 3, 4)\n"
     ]
    }
   ],
   "source": [
    "# 1분 코칭 문제 / (1,2,3)에 값 4를 추가하여 (1,2,3,4)를 만들어라.\n",
    "a1 = (1,2,3)\n",
    "b1 = (4,)\n",
    "c1 = a1+b1\n",
    "print(c1)"
   ]
  },
  {
   "cell_type": "markdown",
   "id": "eaded5ce-ddad-4b8c-af57-9b335ba496cf",
   "metadata": {},
   "source": [
    "## 딕셔너리 자료형"
   ]
  },
  {
   "cell_type": "code",
   "execution_count": 32,
   "id": "2b06dc9d-e2ab-47af-b0e4-3dfdc4402d99",
   "metadata": {},
   "outputs": [
    {
     "name": "stdout",
     "output_type": "stream",
     "text": [
      "pey\n",
      "010-9999-1234\n",
      "1118\n"
     ]
    }
   ],
   "source": [
    "dic = {'name':'pey','phone':'010-9999-1234','birth':'1118'}\n",
    "print(dic['name'])\n",
    "print(dic['phone'])\n",
    "print(dic['birth'])"
   ]
  },
  {
   "cell_type": "code",
   "execution_count": 35,
   "id": "5418d37d-505d-4a5d-895d-8593236290b1",
   "metadata": {},
   "outputs": [
    {
     "name": "stdout",
     "output_type": "stream",
     "text": [
      "11\n",
      "11\n",
      "11\n"
     ]
    }
   ],
   "source": [
    "al = [11,22,33,44,55]\n",
    "at = 11,22,33,44,55\n",
    "ad = {0:11,1:22,2:33,3:44,4:55}\n",
    "print(al[0])\n",
    "print(at[0])\n",
    "print(ad[0])"
   ]
  },
  {
   "cell_type": "code",
   "execution_count": 37,
   "id": "0ee38164-f172-4ed5-a196-d0526e4ccb7c",
   "metadata": {},
   "outputs": [
    {
     "name": "stdout",
     "output_type": "stream",
     "text": [
      "1\n",
      "1\n",
      "1\n",
      "1\n",
      "1\n",
      "==========\n",
      "11\n",
      "22\n",
      "33\n",
      "44\n",
      "55\n"
     ]
    }
   ],
   "source": [
    "# test\n",
    "for l in al:\n",
    "    print(1)\n",
    "print('='*10)\n",
    "for t in at:\n",
    "    print(t)"
   ]
  },
  {
   "cell_type": "code",
   "execution_count": 38,
   "id": "31f55507-7408-40d9-a829-3d93d3321b9a",
   "metadata": {},
   "outputs": [
    {
     "name": "stdout",
     "output_type": "stream",
     "text": [
      "[1, 2, 3, 4, 5]\n"
     ]
    }
   ],
   "source": [
    "a={'aa':[1,2,3,4,5]}\n",
    "print(a['aa'])"
   ]
  },
  {
   "cell_type": "code",
   "execution_count": 39,
   "id": "fcad9893-5beb-461a-8f0a-25e872f59b1c",
   "metadata": {},
   "outputs": [
    {
     "data": {
      "text/plain": [
       "'010-9999-1234'"
      ]
     },
     "execution_count": 39,
     "metadata": {},
     "output_type": "execute_result"
    }
   ],
   "source": [
    "dic2 = {'aa':{'name':'pey','phone':'010-9999-1234','birth':'1118'}}\n",
    "dic2['aa']['phone']"
   ]
  },
  {
   "cell_type": "markdown",
   "id": "b23c18a6-6506-4fd2-9b0d-45aebf62019b",
   "metadata": {},
   "source": [
    "### 딕셔너리 쌍 추가, 삭제하기"
   ]
  },
  {
   "cell_type": "code",
   "execution_count": 47,
   "id": "935370d9-b045-4ed8-9e1f-5b82cbe7fc3f",
   "metadata": {},
   "outputs": [
    {
     "name": "stdout",
     "output_type": "stream",
     "text": [
      "{'name': 'pey', 'phone': '010-9999-1234', 'birth': '1118', 'address': 'busan'}\n"
     ]
    }
   ],
   "source": [
    "dic = {'name':'pey','phone':'010-9999-1234','birth':'1118'}\n",
    "dic['address'] = 'busan'\n",
    "print(dic)"
   ]
  },
  {
   "cell_type": "code",
   "execution_count": 48,
   "id": "37ba1f10-2040-4bdf-a727-6e7def03e6a2",
   "metadata": {},
   "outputs": [
    {
     "name": "stdout",
     "output_type": "stream",
     "text": [
      "{'name': 'pey', 'phone': '010-9999-1234', 'birth': '1118', 'address': 'busan', 'array': [1, 2, 3, 4, 5]}\n"
     ]
    }
   ],
   "source": [
    "dic['array']=[1,2,3,4,5]\n",
    "print(dic)"
   ]
  },
  {
   "cell_type": "code",
   "execution_count": 49,
   "id": "c7f4fa23-168f-4428-839a-c03ceefc9c41",
   "metadata": {},
   "outputs": [
    {
     "name": "stdout",
     "output_type": "stream",
     "text": [
      "{'name': 'pey', 'phone': '010-9999-1234', 'birth': '1118', 'address': 'busan', 'array': [1, 2, 3, 4, 5]}\n",
      "{'name': 'pey', 'phone': '010-9999-1234', 'address': 'busan', 'array': [1, 2, 3, 4, 5]}\n"
     ]
    }
   ],
   "source": [
    "print(dic)\n",
    "del dic['birth']\n",
    "print(dic)"
   ]
  },
  {
   "cell_type": "code",
   "execution_count": 50,
   "id": "201b6088-b319-453a-b18d-98a1166c8811",
   "metadata": {},
   "outputs": [
    {
     "name": "stdout",
     "output_type": "stream",
     "text": [
      "{1: 'b'}\n"
     ]
    }
   ],
   "source": [
    "# 딕셔너리 만들 때 주의할 사항\n",
    "a = {1:'a',1:'b'}\n",
    "print(a)"
   ]
  },
  {
   "cell_type": "markdown",
   "id": "bcd9decb-9b1a-427e-b4e0-071e1231820b",
   "metadata": {},
   "source": [
    "### 딕셔너리 관련함수"
   ]
  },
  {
   "cell_type": "code",
   "execution_count": 6,
   "id": "1d0a1682-f7e1-42c3-b3f5-da3e9c185875",
   "metadata": {},
   "outputs": [
    {
     "name": "stdout",
     "output_type": "stream",
     "text": [
      "dict_keys(['name', 'phone', 'birth', 'address', 'array'])\n",
      "dict_values(['pey', '010-9999-1234', '1118', 'busan', [1, 2, 3, 4, 5]])\n",
      "dict_items([('name', 'pey'), ('phone', '010-9999-1234'), ('birth', '1118'), ('address', 'busan'), ('array', [1, 2, 3, 4, 5])])\n",
      "{'name': 'pey', 'phone': '010-9999-1234', 'birth': '1118', 'address': 'busan', 'array': [1, 2, 3, 4, 5]}\n",
      "{'name': 'pey', 'phone': '010-9999-1234', 'birth': '1118', 'address': 'busan', 'array': [1, 2, 3, 4, 5]}\n",
      "{}\n"
     ]
    }
   ],
   "source": [
    "a = {'name': 'pey', 'phone': '010-9999-1234', 'birth': '1118', 'address': 'busan', 'array': [1, 2, 3, 4, 5]}\n",
    "# key 리스트 만들기 keys\n",
    "print(a.keys())\n",
    "# value 리스트 만들기 values\n",
    "print(a.values())\n",
    "# key,value 쌍 얻기 items\n",
    "print(a.items())\n",
    "print(a)\n",
    "# key:value 쌍 모두 지우기 clear\n",
    "print(a)\n",
    "a.clear()\n",
    "print(a)"
   ]
  },
  {
   "cell_type": "code",
   "execution_count": 3,
   "id": "71317b01-1156-4372-8423-ea6925ce60a0",
   "metadata": {},
   "outputs": [
    {
     "name": "stdout",
     "output_type": "stream",
     "text": [
      "name\n",
      "phone\n",
      "birth\n",
      "address\n",
      "array\n"
     ]
    }
   ],
   "source": [
    "for k in a.keys():\n",
    "    print(k)"
   ]
  },
  {
   "cell_type": "code",
   "execution_count": 8,
   "id": "5324b541-7108-49d9-b7f7-ab936a3a7abf",
   "metadata": {
    "scrolled": true
   },
   "outputs": [
    {
     "name": "stdout",
     "output_type": "stream",
     "text": [
      "pey\n",
      "None\n"
     ]
    },
    {
     "ename": "KeyError",
     "evalue": "'money'",
     "output_type": "error",
     "traceback": [
      "\u001b[1;31m---------------------------------------------------------------------------\u001b[0m",
      "\u001b[1;31mKeyError\u001b[0m                                  Traceback (most recent call last)",
      "Cell \u001b[1;32mIn[8], line 4\u001b[0m\n\u001b[0;32m      2\u001b[0m \u001b[38;5;28mprint\u001b[39m(a\u001b[38;5;241m.\u001b[39mget(\u001b[38;5;124m'\u001b[39m\u001b[38;5;124mname\u001b[39m\u001b[38;5;124m'\u001b[39m))\n\u001b[0;32m      3\u001b[0m \u001b[38;5;28mprint\u001b[39m(a\u001b[38;5;241m.\u001b[39mget(\u001b[38;5;124m'\u001b[39m\u001b[38;5;124msuper\u001b[39m\u001b[38;5;124m'\u001b[39m))\n\u001b[1;32m----> 4\u001b[0m \u001b[38;5;28mprint\u001b[39m(\u001b[43ma\u001b[49m\u001b[43m[\u001b[49m\u001b[38;5;124;43m'\u001b[39;49m\u001b[38;5;124;43mmoney\u001b[39;49m\u001b[38;5;124;43m'\u001b[39;49m\u001b[43m]\u001b[49m)\n",
      "\u001b[1;31mKeyError\u001b[0m: 'money'"
     ]
    }
   ],
   "source": [
    "a = {'name': 'pey', 'phone': '010-9999-1234', 'birth': '1118', 'address': 'busan', 'array': [1, 2, 3, 4, 5]}\n",
    "print(a.get('name'))\n",
    "print(a.get('super'))  # 없으면 None으로 출력됨 / 여기서 None은 '거짓'\n",
    "print(a['money'])  # 없을 경우 에러발생"
   ]
  },
  {
   "cell_type": "code",
   "execution_count": 9,
   "id": "75f12455-15af-4ace-bd21-fa9eb983ca87",
   "metadata": {},
   "outputs": [
    {
     "name": "stdout",
     "output_type": "stream",
     "text": [
      "True\n"
     ]
    }
   ],
   "source": [
    "a = {'name': 'pey', 'phone': '010-9999-1234', 'birth': '1118', 'address': 'busan', 'array': [1, 2, 3, 4, 5]}\n",
    "print('name' in a)"
   ]
  },
  {
   "cell_type": "code",
   "execution_count": 12,
   "id": "f8fade0e-5fc6-4efc-87bf-6dc7eecdbf80",
   "metadata": {},
   "outputs": [
    {
     "name": "stdout",
     "output_type": "stream",
     "text": [
      "False\n",
      "True\n",
      "True\n",
      "False\n",
      "True\n"
     ]
    }
   ],
   "source": [
    "al = [11,22,33,44,55]\n",
    "at = 11,22,33,44,55\n",
    "ad = {0:11,1:22,2:33,3:44,4:55}\n",
    "\n",
    "print(77 in al) # 리스트\n",
    "print(11 in al)\n",
    "print(11 in at) # 튜플\n",
    "print(99 in at)\n",
    "print(1 in ad) # 딕셔너리의 키"
   ]
  },
  {
   "cell_type": "code",
   "execution_count": 13,
   "id": "fd756848-d928-48df-b473-461f4a978306",
   "metadata": {},
   "outputs": [
    {
     "name": "stdout",
     "output_type": "stream",
     "text": [
      " 0과 1사이의 랜덤 소수 0.9626387381384925\n",
      " 1과 100사이의 랜덤 실수 56\n",
      "오늘 선택된 메뉴는 구내식당!\n",
      "[8, 3, 2, 4, 6, 1, 5, 7, 9, 10]\n"
     ]
    }
   ],
   "source": [
    "# 실습 random 모듈\n",
    "import random\n",
    "menu = ['구내식당','후문편의점','자가도시락','굶기','과자']\n",
    "\n",
    "num1 = random.random()\n",
    "print(f' 0과 1사이의 랜덤 소수 {num1}')\n",
    "num2 = random.randint(1,100)\n",
    "print(f' 1과 100사이의 랜덤 실수 {num2}')\n",
    "lunch = random.choice(menu)  # 메뉴 리스트에서 무작위로 하나를 선택하여 출력\n",
    "print(f'오늘 선택된 메뉴는 {lunch}!를 추천드립니다.')\n",
    "\n",
    "deck = [1,2,3,4,5,6,7,8,9,10] # 카드 덱 리스트 생성\n",
    "random.shuffle(deck) # 카드 덱을 무작위 섞어 출력\n",
    "print(deck)"
   ]
  },
  {
   "cell_type": "markdown",
   "id": "a13d62da-d43a-45d4-860f-09e2786af2e9",
   "metadata": {},
   "source": [
    "## 집합 자료형"
   ]
  },
  {
   "cell_type": "code",
   "execution_count": 16,
   "id": "a6b4255c-d803-4870-bea3-d491e58af768",
   "metadata": {},
   "outputs": [
    {
     "name": "stdout",
     "output_type": "stream",
     "text": [
      "{1, 2, 3} <class 'set'>\n",
      "{'o', 'e', 'l', 'h'} <class 'set'>\n"
     ]
    }
   ],
   "source": [
    "# 중복허용 안함\n",
    "# 순서가 없다\n",
    "s1 = set([1,2,3])\n",
    "print(s1,type(s1))\n",
    "s2 = set(\"hello\")\n",
    "print(s2,type(s2))"
   ]
  },
  {
   "cell_type": "code",
   "execution_count": 19,
   "id": "e3b0c468-4f17-43f4-81ec-5a309ffbf9e5",
   "metadata": {},
   "outputs": [
    {
     "name": "stdout",
     "output_type": "stream",
     "text": [
      "[33, 11, 22] <class 'list'>\n",
      "(33, 11, 22) <class 'tuple'>\n"
     ]
    }
   ],
   "source": [
    "# 집합 자료형의 특징\n",
    "s1 = set([11,22,33,11,22])\n",
    "l1 = list(s1)\n",
    "print(l1,type(l1))\n",
    "# 튜플 바꾸기 (형변환)\n",
    "t1 = tuple(s1)\n",
    "print(t1,type(t1))"
   ]
  },
  {
   "cell_type": "markdown",
   "id": "b2d374b1-66f9-43ff-809f-26ac1e2a5d3b",
   "metadata": {},
   "source": [
    "### 교집합, 합집합, 차집합 구하기"
   ]
  },
  {
   "cell_type": "code",
   "execution_count": 20,
   "id": "60e46a42-8ad8-4fac-8410-01307d19d712",
   "metadata": {},
   "outputs": [
    {
     "name": "stdout",
     "output_type": "stream",
     "text": [
      "{4, 5, 6}\n",
      "{4, 5, 6}\n"
     ]
    }
   ],
   "source": [
    "# 교집합\n",
    "s1 = set([1,2,3,4,5,6])\n",
    "s2 = set([4,5,6,7,8,9])\n",
    "print(s1&s2)\n",
    "print(s1.intersection(s2))"
   ]
  },
  {
   "cell_type": "code",
   "execution_count": 22,
   "id": "5b64da84-14a4-495e-a190-0fbfaf85e6a5",
   "metadata": {},
   "outputs": [
    {
     "name": "stdout",
     "output_type": "stream",
     "text": [
      "{1, 2, 3, 4, 5, 6, 7, 8, 9}\n",
      "{1, 2, 3, 4, 5, 6, 7, 8, 9}\n"
     ]
    }
   ],
   "source": [
    "#합집합\n",
    "print(s1 | s2)\n",
    "print(s1.union(s2))"
   ]
  },
  {
   "cell_type": "code",
   "execution_count": 23,
   "id": "162e92d8-a745-4844-bc83-777e9599f7a7",
   "metadata": {},
   "outputs": [
    {
     "name": "stdout",
     "output_type": "stream",
     "text": [
      "{1, 2, 3}\n",
      "{8, 9, 7}\n"
     ]
    }
   ],
   "source": [
    "#차집합\n",
    "print(s1 - s2)\n",
    "print(s2 - s1)"
   ]
  },
  {
   "cell_type": "markdown",
   "id": "06d2caf1-e201-4f9a-8c16-05f3cf4bfa50",
   "metadata": {},
   "source": [
    "### 집합 자료형 관련 함수"
   ]
  },
  {
   "cell_type": "code",
   "execution_count": 24,
   "id": "6af66bd4-f9a2-4298-9516-498b1db803f1",
   "metadata": {},
   "outputs": [
    {
     "name": "stdout",
     "output_type": "stream",
     "text": [
      "{1, 2, 3, 4}\n"
     ]
    }
   ],
   "source": [
    "# 값 1개 추가하기 - add\n",
    "s1 = set([1,2,3])\n",
    "s1.add(4)\n",
    "print(s1)"
   ]
  },
  {
   "cell_type": "code",
   "execution_count": 25,
   "id": "9b571ab0-515a-4996-96a0-a3c4ac02823d",
   "metadata": {},
   "outputs": [
    {
     "name": "stdout",
     "output_type": "stream",
     "text": [
      "{1, 2, 3, 4, 5, 6}\n"
     ]
    }
   ],
   "source": [
    "# 값 여러개 추가하기 - update\n",
    "s1 = set([1,2,3])\n",
    "s1.update([4,5,6])\n",
    "print(s1)"
   ]
  },
  {
   "cell_type": "code",
   "execution_count": 26,
   "id": "dec3486f-ee50-48cb-99e5-6f4b2b72ee4f",
   "metadata": {},
   "outputs": [
    {
     "name": "stdout",
     "output_type": "stream",
     "text": [
      "{1, 3}\n"
     ]
    }
   ],
   "source": [
    "# 특정 값 제거하기 - remove\n",
    "s1 = set([1,2,3])\n",
    "s1.remove(2)\n",
    "print(s1)"
   ]
  },
  {
   "cell_type": "markdown",
   "id": "df2d346a-4a30-4480-8a72-9534ddf426c3",
   "metadata": {},
   "source": [
    "## 불자료형"
   ]
  },
  {
   "cell_type": "code",
   "execution_count": 27,
   "id": "3f6f0ae6-e7dc-4993-8828-a1e553dd3a12",
   "metadata": {},
   "outputs": [],
   "source": [
    "# True: 참을 뜻 (1)\n",
    "# False: 거짓을 의미 (0)"
   ]
  },
  {
   "cell_type": "code",
   "execution_count": 29,
   "id": "2c71eb7e-74a1-4c44-8d01-955a56eef878",
   "metadata": {},
   "outputs": [
    {
     "name": "stdout",
     "output_type": "stream",
     "text": [
      "<class 'bool'>\n",
      "<class 'bool'>\n"
     ]
    }
   ],
   "source": [
    "print(type(True))\n",
    "print(type(False))"
   ]
  },
  {
   "cell_type": "code",
   "execution_count": 31,
   "id": "e328add9-d2c1-42e8-b199-c8772155d48e",
   "metadata": {},
   "outputs": [
    {
     "data": {
      "text/plain": [
       "False"
      ]
     },
     "execution_count": 31,
     "metadata": {},
     "output_type": "execute_result"
    }
   ],
   "source": [
    "3>10"
   ]
  },
  {
   "cell_type": "code",
   "execution_count": 32,
   "id": "57a8c2a5-a8ae-4906-9a48-8eb4cf6cbddf",
   "metadata": {},
   "outputs": [
    {
     "data": {
      "text/plain": [
       "True"
      ]
     },
     "execution_count": 32,
     "metadata": {},
     "output_type": "execute_result"
    }
   ],
   "source": [
    "3==3"
   ]
  },
  {
   "cell_type": "code",
   "execution_count": 38,
   "id": "6721d202-b9e6-485b-8e6c-05185690b421",
   "metadata": {},
   "outputs": [
    {
     "name": "stdout",
     "output_type": "stream",
     "text": [
      "True\n",
      "False\n",
      "True\n",
      "False\n",
      "True\n",
      "False\n",
      "True\n",
      "False\n",
      "True\n",
      "False\n",
      "False\n"
     ]
    }
   ],
   "source": [
    "# 자료형의 참과 거짓\n",
    "print(bool(\"python\"))\n",
    "print(bool(\"\"))\n",
    "print(bool([1,2,3]))\n",
    "print(bool([]))\n",
    "print(bool((1,2,3)))\n",
    "print(bool(()))\n",
    "print(bool({'a':1}))\n",
    "print(bool({}))\n",
    "print(bool((1)))\n",
    "print(bool((0)))\n",
    "print(bool(None))"
   ]
  },
  {
   "cell_type": "code",
   "execution_count": 44,
   "id": "ee07dd2d-2e74-4e87-9bd2-43cafbe12383",
   "metadata": {},
   "outputs": [
    {
     "name": "stdout",
     "output_type": "stream",
     "text": [
      "어느 날, 호기심 많은 로봇는 귀신이 나오는 흉가에서 잤다. 그리고 호기심 많은 로봇는 마법의 성에서 숨겨진 보물을 발견했다.\n"
     ]
    }
   ],
   "source": [
    "# random 으로 스토리 생성기 만들기\n",
    "\n",
    "# 등장인물 리스트\n",
    "characters = [\"용감한기사\",\"모험신 넘치는 고양이\",\"호기심 많은 로봇\",\"서투른 마법사\",\"명석한 탐정\",\"피곤한 수민\"]\n",
    "places = [\"어두운 숲에서\",\"먼 우주 행성에서\",\"마법의 성에서\",\"바닷속 도시에서\",\"귀신이 나오는 흉가에서\",\"광안리 바닷가에서\"]\n",
    "events = [\"숨겨진 보물을 발견했다.\",\"무시무시한 용과 싸웠다.\",\"비밀 통로를 발견했다.\",\"고대의 미스터리를 풀었다.\",\"왕국을 위험에서 구하였다.\",\"잤다.\"]\n",
    "\n",
    "ch = random.choice(characters)\n",
    "p1 = random.choice(places)\n",
    "ev = random.choice(events)\n",
    "ch2 = random.choice(characters)\n",
    "p2 = random.choice(places)\n",
    "ev2 = random.choice(events)\n",
    "print(f\"어느 날, {ch}는 {p1} {ev} 그리고 {ch2}는 {p2} {ev2}\")"
   ]
  },
  {
   "cell_type": "markdown",
   "id": "a4006c08-4416-4f94-b07f-7fd4f4f53489",
   "metadata": {},
   "source": [
    "# 자료형의 값을 저장하는 공간, 변수"
   ]
  },
  {
   "cell_type": "markdown",
   "id": "96570932-20c3-450d-8777-de85154fc7af",
   "metadata": {},
   "source": [
    "## 리스트의 옅은복사 깊은복사"
   ]
  },
  {
   "cell_type": "code",
   "execution_count": 50,
   "id": "4785366e-523f-472a-8215-6c5400a288a2",
   "metadata": {},
   "outputs": [
    {
     "name": "stdout",
     "output_type": "stream",
     "text": [
      "[1, 2, 3] 2043018664704\n",
      "[1, 2, 3] 2043018664704\n",
      "[1, 7, 3] 2043018664704\n",
      "[1, 7, 3] 2043018664704\n"
     ]
    }
   ],
   "source": [
    "a = [1,2,3]\n",
    "b = a\n",
    "print(a,id(a))\n",
    "print(b,id(b))\n",
    "b[1] = 7\n",
    "print(a,id(a))\n",
    "print(b,id(b))"
   ]
  },
  {
   "cell_type": "code",
   "execution_count": 2,
   "id": "7d596fe5-0b0e-4503-b8b1-4a30946bc789",
   "metadata": {},
   "outputs": [
    {
     "data": {
      "text/plain": [
       "True"
      ]
     },
     "execution_count": 2,
     "metadata": {},
     "output_type": "execute_result"
    }
   ],
   "source": [
    "a is b"
   ]
  },
  {
   "cell_type": "code",
   "execution_count": 45,
   "id": "1ce9a4b6-b1a1-4ca0-8a12-b838b538ae83",
   "metadata": {},
   "outputs": [
    {
     "name": "stdout",
     "output_type": "stream",
     "text": [
      "[11, 22, 33] 2043018664640\n",
      "[11, 22, 33] 2043018611648\n",
      "[11, 22, 33] 2043018664640\n",
      "[11, 77, 33] 2043018611648\n"
     ]
    }
   ],
   "source": [
    "from copy import copy\n",
    "c = [11,22,33]\n",
    "# d = copy(c) # 방식1\n",
    "d = c[:] # 방식2\n",
    "# d = c.copy() # 방식3\n",
    "print(c,id(c))\n",
    "print(d,id(d))\n",
    "d[1] = 77\n",
    "print(c,id(c))\n",
    "print(d,id(d))"
   ]
  },
  {
   "cell_type": "code",
   "execution_count": 5,
   "id": "da81c5ed-8a5c-492e-bcf5-5718219009a0",
   "metadata": {},
   "outputs": [
    {
     "data": {
      "text/plain": [
       "False"
      ]
     },
     "execution_count": 5,
     "metadata": {},
     "output_type": "execute_result"
    }
   ],
   "source": [
    "c is d"
   ]
  },
  {
   "cell_type": "code",
   "execution_count": 52,
   "id": "9feaa002-41ca-4d6c-a9f2-ef057a4fd006",
   "metadata": {},
   "outputs": [
    {
     "name": "stdout",
     "output_type": "stream",
     "text": [
      "[11, 22, 33] 2043018644800\n",
      "[11, 22, 33] 2043018664640\n"
     ]
    }
   ],
   "source": [
    "from copy import copy\n",
    "c = [11,22,33]\n",
    "d = c[:]\n",
    "print(c,id(c))\n",
    "print(d,id(d))"
   ]
  },
  {
   "cell_type": "markdown",
   "id": "1797f7c3-a6cf-4747-bf5a-84fa83bb1601",
   "metadata": {},
   "source": [
    "## 변수를 만드는 여러가지 방법"
   ]
  },
  {
   "cell_type": "code",
   "execution_count": 47,
   "id": "231944f7-cd4a-4e31-98b8-4ffb85e8fa32",
   "metadata": {},
   "outputs": [
    {
     "name": "stdout",
     "output_type": "stream",
     "text": [
      "파이썬 짱짱\n",
      "배고파 밥줘\n",
      "10 10 10\n"
     ]
    }
   ],
   "source": [
    "a , b = '파이썬', '짱짱'\n",
    "[c, d] = ['배고파','밥줘']\n",
    "print(a,b)\n",
    "print(c,d)\n",
    "num1 = num3 = num2 = 10\n",
    "print(num1,num3,num2)"
   ]
  },
  {
   "cell_type": "code",
   "execution_count": 48,
   "id": "947a9f91-8d64-4cb5-93a9-bdccf40bdf9f",
   "metadata": {},
   "outputs": [
    {
     "name": "stdout",
     "output_type": "stream",
     "text": [
      "3 7\n",
      "7 3\n"
     ]
    }
   ],
   "source": [
    "a = 3\n",
    "b = 7\n",
    "print(a, b)\n",
    "a, b = b, a\n",
    "print(a, b)"
   ]
  },
  {
   "cell_type": "code",
   "execution_count": 49,
   "id": "ff533958-2705-4702-b709-0dcbebf01585",
   "metadata": {},
   "outputs": [
    {
     "name": "stdout",
     "output_type": "stream",
     "text": [
      "33 77\n",
      "77 33\n"
     ]
    }
   ],
   "source": [
    "a = 33\n",
    "b = 77\n",
    "print(a,b)\n",
    "temp = a\n",
    "a = b\n",
    "b = temp\n",
    "print(a,b)"
   ]
  }
 ],
 "metadata": {
  "kernelspec": {
   "display_name": "Python 3 (ipykernel)",
   "language": "python",
   "name": "python3"
  },
  "language_info": {
   "codemirror_mode": {
    "name": "ipython",
    "version": 3
   },
   "file_extension": ".py",
   "mimetype": "text/x-python",
   "name": "python",
   "nbconvert_exporter": "python",
   "pygments_lexer": "ipython3",
   "version": "3.13.1"
  }
 },
 "nbformat": 4,
 "nbformat_minor": 5
}
