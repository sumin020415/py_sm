{
 "cells": [
  {
   "cell_type": "markdown",
   "id": "da33550a-29d9-423c-a814-6bb91f752c4e",
   "metadata": {},
   "source": [
    "# 함수"
   ]
  },
  {
   "cell_type": "code",
   "execution_count": 2,
   "id": "d0205aa3-927c-4300-8ccb-a02939462020",
   "metadata": {},
   "outputs": [],
   "source": [
    "def 덧셈(a,b):\n",
    "    return a + b"
   ]
  },
  {
   "cell_type": "code",
   "execution_count": 3,
   "id": "22923c80-9f06-439a-8c3f-e1c01d8e6620",
   "metadata": {},
   "outputs": [
    {
     "name": "stdout",
     "output_type": "stream",
     "text": [
      "7\n"
     ]
    }
   ],
   "source": [
    "c = 덧셈(3,4)\n",
    "print(c)"
   ]
  },
  {
   "cell_type": "code",
   "execution_count": 5,
   "id": "f8a4866a-cc22-4007-8012-5386c106aeab",
   "metadata": {},
   "outputs": [
    {
     "name": "stdout",
     "output_type": "stream",
     "text": [
      "[10, 11, 19, 23, 36, 45] 6\n",
      "\n",
      "[2, 7, 11, 19, 26, 44] 6\n",
      "[15, 17, 21, 30, 31, 36] 6\n",
      "[1, 4, 13, 32, 35, 39] 6\n",
      "[6, 26, 33, 38, 40, 44] 6\n",
      "[10, 15, 19, 20, 22, 32] 6\n"
     ]
    }
   ],
   "source": [
    "import random \n",
    "def 로또(파라미터=6,매개변수=46):\n",
    "    box = []\n",
    "    while len(box) < 6:  \n",
    "        ran = random.randint(1,매개변수)\n",
    "        if not ran in box:\n",
    "            box.append(ran)\n",
    "    box.sort()\n",
    "    print(box,len(box))\n",
    "로또()\n",
    "\n",
    "print()\n",
    "\n",
    "# 참고용 3\n",
    "for n in range(5):\n",
    "    로또()"
   ]
  },
  {
   "cell_type": "code",
   "execution_count": 12,
   "id": "adf2c99c-9480-4723-9b75-5c59d925267b",
   "metadata": {},
   "outputs": [
    {
     "name": "stdout",
     "output_type": "stream",
     "text": [
      "====2단====\n",
      "2 x 1 = 2\n",
      "2 x 2 = 4\n",
      "2 x 3 = 6\n",
      "2 x 4 = 8\n",
      "2 x 5 = 10\n",
      "2 x 6 = 12\n",
      "2 x 7 = 14\n",
      "2 x 8 = 16\n",
      "2 x 9 = 18\n",
      "====3단====\n",
      "3 x 1 = 3\n",
      "3 x 2 = 6\n",
      "3 x 3 = 9\n",
      "3 x 4 = 12\n",
      "3 x 5 = 15\n",
      "3 x 6 = 18\n",
      "3 x 7 = 21\n",
      "3 x 8 = 24\n",
      "3 x 9 = 27\n",
      "====4단====\n",
      "4 x 1 = 4\n",
      "4 x 2 = 8\n",
      "4 x 3 = 12\n",
      "4 x 4 = 16\n",
      "4 x 5 = 20\n",
      "4 x 6 = 24\n",
      "4 x 7 = 28\n",
      "4 x 8 = 32\n",
      "4 x 9 = 36\n",
      "====5단====\n",
      "5 x 1 = 5\n",
      "5 x 2 = 10\n",
      "5 x 3 = 15\n",
      "5 x 4 = 20\n",
      "5 x 5 = 25\n",
      "5 x 6 = 30\n",
      "5 x 7 = 35\n",
      "5 x 8 = 40\n",
      "5 x 9 = 45\n",
      "====6단====\n",
      "6 x 1 = 6\n",
      "6 x 2 = 12\n",
      "6 x 3 = 18\n",
      "6 x 4 = 24\n",
      "6 x 5 = 30\n",
      "6 x 6 = 36\n",
      "6 x 7 = 42\n",
      "6 x 8 = 48\n",
      "6 x 9 = 54\n",
      "====7단====\n",
      "7 x 1 = 7\n",
      "7 x 2 = 14\n",
      "7 x 3 = 21\n",
      "7 x 4 = 28\n",
      "7 x 5 = 35\n",
      "7 x 6 = 42\n",
      "7 x 7 = 49\n",
      "7 x 8 = 56\n",
      "7 x 9 = 63\n",
      "====8단====\n",
      "8 x 1 = 8\n",
      "8 x 2 = 16\n",
      "8 x 3 = 24\n",
      "8 x 4 = 32\n",
      "8 x 5 = 40\n",
      "8 x 6 = 48\n",
      "8 x 7 = 56\n",
      "8 x 8 = 64\n",
      "8 x 9 = 72\n",
      "====9단====\n",
      "9 x 1 = 9\n",
      "9 x 2 = 18\n",
      "9 x 3 = 27\n",
      "9 x 4 = 36\n",
      "9 x 5 = 45\n",
      "9 x 6 = 54\n",
      "9 x 7 = 63\n",
      "9 x 8 = 72\n",
      "9 x 9 = 81\n"
     ]
    }
   ],
   "source": [
    "def gugu(end = 9):\n",
    "    for j in range(2,end+1):\n",
    "         print(f\"{str(j)+'단':=^10}\")\n",
    "         for i in range(1,10):\n",
    "            print(f'{j} x {i} = {j*i}')\n",
    "gugu()"
   ]
  },
  {
   "cell_type": "code",
   "execution_count": 13,
   "id": "51461743-e44e-4025-b830-690a626f362e",
   "metadata": {},
   "outputs": [
    {
     "name": "stdout",
     "output_type": "stream",
     "text": [
      "====2단====\n"
     ]
    },
    {
     "data": {
      "text/plain": [
       "'2 x 1 = 2'"
      ]
     },
     "execution_count": 13,
     "metadata": {},
     "output_type": "execute_result"
    }
   ],
   "source": [
    "def gugu(end = 9):\n",
    "    for j in range(2,end+1):\n",
    "         print(f\"{str(j)+'단':=^10}\")\n",
    "         for i in range(1,10):\n",
    "            return(f'{j} x {i} = {j*i}') # for 안에 return 주의 / for문에서 튕김\n",
    "gugu(2)"
   ]
  },
  {
   "cell_type": "code",
   "execution_count": 15,
   "id": "bbcfeabe-9a87-48ae-94cd-a16e0c8d8240",
   "metadata": {},
   "outputs": [
    {
     "name": "stdout",
     "output_type": "stream",
     "text": [
      "====2단====\n",
      "2 x 1 = 2\n",
      "2 x 2 = 4\n",
      "2 x 3 = 6\n",
      "2 x 4 = 8\n",
      "2 x 5 = 10\n",
      "2 x 6 = 12\n",
      "2 x 7 = 14\n",
      "2 x 8 = 16\n",
      "2 x 9 = 18\n",
      "\n"
     ]
    }
   ],
   "source": [
    "def gugu(end = 9):\n",
    "    data =''\n",
    "    for j in range(2,end+1):\n",
    "         print(f\"{str(j)+'단':=^10}\")\n",
    "         for i in range(1,10):\n",
    "            data += (f'{j} x {i} = {j*i}') + \"\\n\"\n",
    "    return data\n",
    "print(gugu(2))"
   ]
  },
  {
   "cell_type": "markdown",
   "id": "788abcfd-c1bd-453d-8c77-080bb545e492",
   "metadata": {},
   "source": [
    "## 입력값과 리턴값에 따른 함수의 형태"
   ]
  },
  {
   "cell_type": "code",
   "execution_count": 16,
   "id": "9ef023c7-4a78-48a3-b29e-fcaf5bd5cda7",
   "metadata": {},
   "outputs": [],
   "source": [
    "# 일반적인 함수\n",
    "def add(a,b):\n",
    "    result = a + b\n",
    "    return result"
   ]
  },
  {
   "cell_type": "code",
   "execution_count": 17,
   "id": "4e58f7d1-41b0-4d47-8db1-d8d7d9c46096",
   "metadata": {},
   "outputs": [
    {
     "name": "stdout",
     "output_type": "stream",
     "text": [
      "87\n"
     ]
    }
   ],
   "source": [
    "a = add(77,10)\n",
    "print(a)"
   ]
  },
  {
   "cell_type": "code",
   "execution_count": 20,
   "id": "97807585-5557-4226-b9cd-d487d6778005",
   "metadata": {},
   "outputs": [],
   "source": [
    "# 입력값이 없는 함수\n",
    "def say():\n",
    "    return '안녕'"
   ]
  },
  {
   "cell_type": "code",
   "execution_count": 22,
   "id": "b15b7235-fde3-4efb-a649-6b403d7352e9",
   "metadata": {},
   "outputs": [
    {
     "name": "stdout",
     "output_type": "stream",
     "text": [
      "안녕\n"
     ]
    }
   ],
   "source": [
    "a = say()\n",
    "print(a)"
   ]
  },
  {
   "cell_type": "code",
   "execution_count": 25,
   "id": "6e0a9a27-7b17-4323-a169-1ec702cf3327",
   "metadata": {},
   "outputs": [],
   "source": [
    "# 리턴값이 없는 함수\n",
    "def add(a,b):\n",
    "    print(\"%d, %d의 합은 %d 입니다.\" %(a,b,a+b))"
   ]
  },
  {
   "cell_type": "code",
   "execution_count": 26,
   "id": "26e8d9ef-8f38-4291-89e5-7ba01d311a59",
   "metadata": {},
   "outputs": [
    {
     "name": "stdout",
     "output_type": "stream",
     "text": [
      "11, 33의 합은 44 입니다.\n"
     ]
    }
   ],
   "source": [
    "add(11,33)"
   ]
  },
  {
   "cell_type": "code",
   "execution_count": 27,
   "id": "c90dd082-8a45-481d-ae54-4aa32e7748df",
   "metadata": {},
   "outputs": [],
   "source": [
    "# 입력값과 리턴값이 없는 함수\n",
    "def say():\n",
    "    print(\"안녕\")\n",
    "    print(\"전 입력값과 리턴값이 없어요.\")\n",
    "    print(\"빠이~\")"
   ]
  },
  {
   "cell_type": "code",
   "execution_count": 29,
   "id": "5a4162d9-2913-4a1e-ae3e-17d1fae768e4",
   "metadata": {},
   "outputs": [
    {
     "name": "stdout",
     "output_type": "stream",
     "text": [
      "안녕\n",
      "전 입력값과 리턴값이 없어요.\n",
      "빠이~\n"
     ]
    }
   ],
   "source": [
    "say()"
   ]
  },
  {
   "cell_type": "code",
   "execution_count": 33,
   "id": "5fe09a37-2ae7-41d3-a5fc-b601b93e9650",
   "metadata": {},
   "outputs": [],
   "source": [
    "# 테스트\n",
    "import time as t\n",
    "def disp():\n",
    "    print(\"안녕!\\r\",end=\"\")\n",
    "    t.sleep(2)\n",
    "    print(\"전 입력값과 리턴값이 없어요.\\r\",end=\"\")\n",
    "    t.sleep(2)\n",
    "    print(\"빠이~             \",end=\"\")\n",
    "    t.sleep(2)"
   ]
  },
  {
   "cell_type": "code",
   "execution_count": 31,
   "id": "2e219659-486e-4624-a7f4-36ef8430ef0d",
   "metadata": {},
   "outputs": [
    {
     "name": "stdout",
     "output_type": "stream",
     "text": [
      "안녕\n",
      "전 입력값과 리턴값이 없어요.\n",
      "빠이~\n"
     ]
    }
   ],
   "source": [
    "disp()"
   ]
  },
  {
   "cell_type": "code",
   "execution_count": 34,
   "id": "f00ce608-a217-4e66-ad1e-6f0a9184d642",
   "metadata": {},
   "outputs": [
    {
     "name": "stdout",
     "output_type": "stream",
     "text": [
      "44\n"
     ]
    }
   ],
   "source": [
    "# max() //\n",
    "def bs(li=[33,11,22,44]):\n",
    "    sw = 0\n",
    "    for x in range(len(li)):    \n",
    "        if sw < li[x]:\n",
    "            sw = li[x]    \n",
    "    return sw\n",
    "print(bs())"
   ]
  },
  {
   "cell_type": "code",
   "execution_count": 35,
   "id": "5f6ef885-f307-4f64-a23a-351ac8faae1a",
   "metadata": {},
   "outputs": [
    {
     "name": "stdout",
     "output_type": "stream",
     "text": [
      "176\n"
     ]
    }
   ],
   "source": [
    "print(bs([1,21,3,41,5,16,7,18,19,115,4,3,21,1,3,4,51,176,78,3,4]))"
   ]
  },
  {
   "cell_type": "code",
   "execution_count": 36,
   "id": "05820574-1883-4cc0-b77f-1c0fe0faa74d",
   "metadata": {},
   "outputs": [],
   "source": [
    "# 매개변수를 지정하여 호출하기\n",
    "def sub(a,b):\n",
    "    return a-b"
   ]
  },
  {
   "cell_type": "code",
   "execution_count": 37,
   "id": "c5d43a79-a022-4275-9cb2-2ca5b112407e",
   "metadata": {},
   "outputs": [
    {
     "name": "stdout",
     "output_type": "stream",
     "text": [
      "4\n"
     ]
    }
   ],
   "source": [
    "# result = sub(a=7,b=3)  /  순서는 상관없음 해당하는 값만 정확하게 넣으면 됨\n",
    "result = sub(b=3,a=7)\n",
    "print(result)"
   ]
  },
  {
   "cell_type": "code",
   "execution_count": 8,
   "id": "11286f2b-db4c-481f-9e81-e38f1f86fe9e",
   "metadata": {},
   "outputs": [],
   "source": [
    "# !pip install matplotlib"
   ]
  },
  {
   "cell_type": "code",
   "execution_count": 41,
   "id": "32f7708b-ed47-4fa6-89e3-0751eb573c01",
   "metadata": {},
   "outputs": [],
   "source": [
    "# 테스트 : 함수 random 주사위\n",
    "import random as r\n",
    "import matplotlib.pyplot as plt\n",
    "def dice(target = 250000):\n",
    "    box = [] # 초기화\n",
    "    num = 0\n",
    "    results = {}\n",
    "    while num < target:\n",
    "        num = num + 1\n",
    "        ran = r.randint(1,6)\n",
    "        box.append(ran)\n",
    "    if target == len(box):\n",
    "        print(f\"{target}회 정상 진행되었습니다.\")\n",
    "    else:\n",
    "        print(f\"검증 결과 횟수 이상이 있습니다. 이유:({target}회 목표로 동작하였으나, {len(box)}으로 측정되었습니다.)\")\n",
    "    for n in range(1,7):\n",
    "        results[n] = box.count(n)\n",
    "        print(f\"{n}번이 {box.count(n)}번({(box.count(n)/len(box))*100:.2f}%) 등장하였습니다.\")\n",
    "    # print(results)\n",
    "    plt.bar(results.keys(),results.values(),color=[\"red\",\"orange\",\"yellow\",\"green\",\"blue\",\"black\"])\n",
    "    plt.show()"
   ]
  },
  {
   "cell_type": "code",
   "execution_count": 42,
   "id": "3483ee72-da94-41df-a970-28158d1adb29",
   "metadata": {},
   "outputs": [
    {
     "name": "stdout",
     "output_type": "stream",
     "text": [
      "250000회 정상 진행되었습니다.\n",
      "1번이 41561번(16.62%) 등장하였습니다.\n",
      "2번이 41598번(16.64%) 등장하였습니다.\n",
      "3번이 41652번(16.66%) 등장하였습니다.\n",
      "4번이 42006번(16.80%) 등장하였습니다.\n",
      "5번이 41420번(16.57%) 등장하였습니다.\n",
      "6번이 41763번(16.71%) 등장하였습니다.\n"
     ]
    },
    {
     "data": {
      "image/png": "[encoded data removed]",
      "text/plain": [
       "<Figure size 640x480 with 1 Axes>"
      ]
     },
     "metadata": {},
     "output_type": "display_data"
    }
   ],
   "source": [
    "dice()"
   ]
  },
  {
   "cell_type": "code",
   "execution_count": 47,
   "id": "fbefdfa7-70dc-4d72-b89b-488f7e2ae74d",
   "metadata": {},
   "outputs": [],
   "source": [
    "# 여러 개의 입력값을 받는 함수 만들기\n",
    "def add_many(*args):\n",
    "    result = 0\n",
    "    for i in args:\n",
    "        result = result + i\n",
    "    return result"
   ]
  },
  {
   "cell_type": "code",
   "execution_count": 49,
   "id": "0b643fc5-ffa7-4a0a-87d4-3ebb5beb52af",
   "metadata": {},
   "outputs": [
    {
     "name": "stdout",
     "output_type": "stream",
     "text": [
      "14\n"
     ]
    }
   ],
   "source": [
    "res = add_many(1,4,3,1,5)\n",
    "print(res)"
   ]
  },
  {
   "cell_type": "code",
   "execution_count": 52,
   "id": "8a261ea3-5868-42dc-bcfd-dff0b93d469b",
   "metadata": {},
   "outputs": [],
   "source": [
    ">>> def add_mul(choice, *args): \n",
    "...     if choice == \"add\":   # 매개변수 choice에 \"add\"를 입력받았을 때\n",
    "...         result = 0 \n",
    "...         for i in args: \n",
    "...             result = result + i \n",
    "...     elif choice == \"sub\":   # 매개변수 choice에 \"sub\"를 입력받았을 때\n",
    "...         result = 0 \n",
    "...         for i in args: \n",
    "...             result = result + i \n",
    "...     elif choice == \"mul\":   # 매개변수 choice에 \"mul\"을 입력받았을 때\n",
    "...         result = 1 \n",
    "...         for i in args: \n",
    "...             result = result * i \n",
    "...     elif choice == \"div\":   # 매개변수 choice에 \"div\"을 입력받았을 때\n",
    "...         result = 1 \n",
    "...         for i in args: \n",
    "...             result = result * i \n",
    "        else:\n",
    "            result = \n",
    "            print(\"정확하게 입력하세요.\")\n",
    "...     return result "
   ]
  },
  {
   "cell_type": "code",
   "execution_count": 53,
   "id": "69cb2b55-2139-4685-a9b4-4a619eb1095a",
   "metadata": {},
   "outputs": [
    {
     "data": {
      "text/plain": [
       "66"
      ]
     },
     "execution_count": 53,
     "metadata": {},
     "output_type": "execute_result"
    }
   ],
   "source": [
    "add_mul('add',33,22,11)"
   ]
  },
  {
   "cell_type": "code",
   "execution_count": 54,
   "id": "07627f5a-20af-4ab1-a6cf-3c5fa6f521bd",
   "metadata": {},
   "outputs": [
    {
     "name": "stdout",
     "output_type": "stream",
     "text": [
      "{'name': '홍길동', 'age': 21, 'address': '대한민국'}\n"
     ]
    }
   ],
   "source": [
    "# 키워드 매개변수 kwargs\n",
    "def print_kwargs(**kwargs):\n",
    "    print(kwargs)\n",
    "print_kwargs(name='홍길동',age=21,address='대한민국')"
   ]
  },
  {
   "cell_type": "code",
   "execution_count": 55,
   "id": "a7757fea-8dc1-4ee2-9cb7-d14a97f44ab3",
   "metadata": {},
   "outputs": [
    {
     "name": "stdout",
     "output_type": "stream",
     "text": [
      "{'name': '홍길동', 'age': 21, 'address': '대한민국'}\n"
     ]
    }
   ],
   "source": [
    "def print_kwargs(kwargs):\n",
    "    print(kwargs)\n",
    "print_kwargs({'name':'홍길동','age':21,'address':'대한민국'})"
   ]
  },
  {
   "cell_type": "code",
   "execution_count": 56,
   "id": "a7bd1ddc-38e2-420d-afb7-0e011151a49a",
   "metadata": {},
   "outputs": [],
   "source": [
    "# test\n",
    "def test():\n",
    "    print('저야 영광이죠~!!')\n",
    "    if 13 > 4 : return\n",
    "    print('집에가고싶어!~!')\n",
    "    return"
   ]
  },
  {
   "cell_type": "code",
   "execution_count": 57,
   "id": "15e049a8-5a26-4a86-9c84-08e96905de4a",
   "metadata": {},
   "outputs": [
    {
     "name": "stdout",
     "output_type": "stream",
     "text": [
      "저야 영광이죠~!!\n"
     ]
    }
   ],
   "source": [
    "test()"
   ]
  },
  {
   "cell_type": "code",
   "execution_count": 58,
   "id": "2d010943-508b-41c2-b916-caf65bf15324",
   "metadata": {},
   "outputs": [
    {
     "name": "stdout",
     "output_type": "stream",
     "text": [
      "35 286\n"
     ]
    }
   ],
   "source": [
    "# test2\n",
    "def test2(a,b):\n",
    "    return a+b, a*b\n",
    "add_result, mul_result = test2( 13, 22)\n",
    "print(add_result, mul_result )"
   ]
  },
  {
   "cell_type": "code",
   "execution_count": 1,
   "id": "9ffad153-404f-43ef-90f3-8b4e7a1bf9ea",
   "metadata": {},
   "outputs": [],
   "source": [
    "def say_nick(nick):\n",
    "    if nick == \"바보\":\n",
    "        return\n",
    "    print(\"나의 별명은 %s입니다.\" %nick)"
   ]
  },
  {
   "cell_type": "code",
   "execution_count": 2,
   "id": "2db59a63-50ee-4082-9cfa-4aed57c8c019",
   "metadata": {},
   "outputs": [
    {
     "name": "stdout",
     "output_type": "stream",
     "text": [
      "나의 별명은 야호입니다.\n"
     ]
    }
   ],
   "source": [
    "say_nick('야호') # return이 실행되지 않고 print문이 실행"
   ]
  },
  {
   "cell_type": "code",
   "execution_count": 3,
   "id": "a27576dc-fa1c-4a03-8393-9e91d64d288e",
   "metadata": {},
   "outputs": [],
   "source": [
    "say_nick('바보') # return 문의 실행되어 함수를 빠져나감"
   ]
  },
  {
   "cell_type": "markdown",
   "id": "30789d77-fc7c-4f55-bef3-e93909eb26c9",
   "metadata": {},
   "source": [
    "## 함수 안에서 선언한 변수의 효력 범위"
   ]
  },
  {
   "cell_type": "code",
   "execution_count": 6,
   "id": "e11150ba-d67e-40a0-aeed-5be80284c4db",
   "metadata": {},
   "outputs": [
    {
     "name": "stdout",
     "output_type": "stream",
     "text": [
      "1\n"
     ]
    }
   ],
   "source": [
    "# test1\n",
    "a = 1\n",
    "def test1(a): \n",
    "    a = a + 1\n",
    "test1(a)\n",
    "print(a) "
   ]
  },
  {
   "cell_type": "code",
   "execution_count": null,
   "id": "922dfdba-2bf2-4501-b8a6-da981e96ef0d",
   "metadata": {},
   "outputs": [],
   "source": [
    "# test2 / 함수 안 변수와 밖에 있는 변수와는 다름! 적용안됨\n",
    "def test2(a):\n",
    "    a = a + 1\n",
    "test2(3)\n",
    "print(a)\n",
    "# NameError: name 'a' is not defined 에러발"
   ]
  },
  {
   "cell_type": "code",
   "execution_count": 4,
   "id": "2ea3afe5-f9cb-4c0f-93e9-f35beeb0e8ab",
   "metadata": {},
   "outputs": [
    {
     "name": "stdout",
     "output_type": "stream",
     "text": [
      "2\n"
     ]
    }
   ],
   "source": [
    "# test3 / \n",
    "c = 1\n",
    "def test3(c):\n",
    "    c = c + 1\n",
    "    return c\n",
    "c = test3(c) # c=c+1과 같음\n",
    "print(c)"
   ]
  },
  {
   "cell_type": "code",
   "execution_count": 6,
   "id": "6eed0604-9c9f-4a27-8dc5-42519f77eecf",
   "metadata": {},
   "outputs": [
    {
     "name": "stdout",
     "output_type": "stream",
     "text": [
      "2\n"
     ]
    }
   ],
   "source": [
    "d = 1\n",
    "def test4():\n",
    "    global d # 사용안하는게 좋음 (밖이 변경됨)\n",
    "    d = d + 1\n",
    "test4()\n",
    "print(d)"
   ]
  },
  {
   "cell_type": "markdown",
   "id": "4c4a9226-6d5c-4f76-a1c0-d59033b3c63d",
   "metadata": {},
   "source": [
    "## lambda 예약어 (익명함수)"
   ]
  },
  {
   "cell_type": "code",
   "execution_count": 8,
   "id": "36e98bc8-4acc-4f3b-bc11-f81edfd53f16",
   "metadata": {},
   "outputs": [
    {
     "name": "stdout",
     "output_type": "stream",
     "text": [
      "7\n"
     ]
    }
   ],
   "source": [
    "def test(a,b):\n",
    "    return a+b\n",
    "add = lambda a,b:a+b\n",
    "print(add(3,4))"
   ]
  },
  {
   "cell_type": "code",
   "execution_count": 9,
   "id": "19fcda04-6172-43ce-9c4c-f1950b89db46",
   "metadata": {},
   "outputs": [
    {
     "name": "stdout",
     "output_type": "stream",
     "text": [
      "[0, 1, 2, 3, 4, 5, 6, 7, 8, 9]\n"
     ]
    }
   ],
   "source": [
    "a1 = [x for x in range(10)]\n",
    "print(a1)"
   ]
  },
  {
   "cell_type": "code",
   "execution_count": 11,
   "id": "0402e8ab-1970-471e-b67a-9a535d4274fa",
   "metadata": {},
   "outputs": [
    {
     "name": "stdout",
     "output_type": "stream",
     "text": [
      "[0, 2, 4, 6, 8, 10, 12, 14, 16, 18]\n"
     ]
    }
   ],
   "source": [
    "a2 = [(lambda x : x*2)(x) for x in range(10)]\n",
    "print(a2)"
   ]
  },
  {
   "cell_type": "code",
   "execution_count": 16,
   "id": "ae5ee209-c73a-4de6-a316-cc468cc67cda",
   "metadata": {},
   "outputs": [
    {
     "name": "stdout",
     "output_type": "stream",
     "text": [
      "[0, 1, 4, 9, 16, 25, 36, 49, 64, 81]\n"
     ]
    }
   ],
   "source": [
    "# 응용예제\n",
    "a3 = [0, 1, 2, 3, 4, 5, 6, 7, 8, 9]\n",
    "p = list(map(lambda x: x**2, a3))\n",
    "print(p)"
   ]
  },
  {
   "cell_type": "markdown",
   "id": "cfd10fa5-f2ad-4c5a-b6a4-3f8431564677",
   "metadata": {},
   "source": [
    "# 파일 읽고 쓰기"
   ]
  },
  {
   "cell_type": "markdown",
   "id": "34ef5cb4-f4ff-4e3b-ad33-8925522a8fb9",
   "metadata": {},
   "source": [
    "## 파일 생성하기"
   ]
  },
  {
   "cell_type": "code",
   "execution_count": 3,
   "id": "fd6434b9-e9bb-47c4-af90-ad017d6964ff",
   "metadata": {},
   "outputs": [],
   "source": [
    "# 파일 생성하기1\n",
    "f = open(\"새파일생성1.txt\",\"w\")\n",
    "f.close()"
   ]
  },
  {
   "cell_type": "markdown",
   "id": "531da031-f72c-4583-9e51-b989acbd7bb5",
   "metadata": {},
   "source": [
    "<table>\n",
    "<thead>\n",
    "<tr>\n",
    "<th>파일열기모드</th>\n",
    "<th>설명</th>\n",
    "</tr>\n",
    "</thead>\n",
    "<tbody>\n",
    "<tr>\n",
    "<td>r</td>\n",
    "<td>읽기 모드: 파일을 읽기만 할 때 사용한다.</td>\n",
    "</tr>\n",
    "<tr>\n",
    "<td>w</td>\n",
    "<td>쓰기 모드: 파일에 내용을 쓸 때 사용한다.</td>\n",
    "</tr>\n",
    "<tr>\n",
    "<td>a</td>\n",
    "<td>추가 모드: 파일의 마지막에 새로운 내용을 추가할 때 사용한다.</td>\n",
    "</tr>\n",
    "</tbody>\n",
    "</table>"
   ]
  },
  {
   "cell_type": "code",
   "execution_count": 4,
   "id": "ade8173d-4df3-40b5-a2f7-ca9a0a597361",
   "metadata": {},
   "outputs": [],
   "source": [
    "# 파일생성하기2 + 경로\n",
    "path = \"./testfile/\"\n",
    "f = open(path+\"새파일생성2.txt\",\"w\")\n",
    "f.close()"
   ]
  },
  {
   "cell_type": "code",
   "execution_count": 5,
   "id": "0df02e97-e261-4fdc-be5d-ac216b8aa167",
   "metadata": {},
   "outputs": [],
   "source": [
    "# 파일 쓰기모드로 내용 작성\n",
    "path = \"./testfile/\"\n",
    "f = open(path+\"새파일생성3.txt\",\"w\",encoding=\"utf-8\")\n",
    "f.write('한글도 잘됩니다!')\n",
    "f.close()"
   ]
  },
  {
   "cell_type": "code",
   "execution_count": 6,
   "id": "71514e3e-333d-4e1e-bf08-fbf755af383a",
   "metadata": {},
   "outputs": [],
   "source": [
    "path = \"./testfile/\"\n",
    "f = open(path+\"새파일생성3.txt\",\"w\",encoding=\"utf-8\")\n",
    "for n in range(10):\n",
    "    f.write(f'{n+1}번째 한글도 잘됩니다.\\n')\n",
    "f.close()"
   ]
  },
  {
   "cell_type": "code",
   "execution_count": null,
   "id": "6775b5e0-628a-4261-b1fe-9faab90a119b",
   "metadata": {},
   "outputs": [],
   "source": [
    "# 텍스트 문서에다 testfile 폴더 내에 lotto.txt 파일이름으로 로또번호 6개를 1000개 추천하여 적어라 (한줄에 6개씩 1000줄)\n",
    "import random \n",
    "path = \"./testfile/\"\n",
    "f = open(path+\"lotto.txt\",\"w\",encoding=\"utf-8\")\n",
    "def lo():\n",
    "    ls = []\n",
    "    la = []\n",
    "    how = 1000\n",
    "    for h in range(how):\n",
    "        lotto = sorted(random.sample(range(1,46),6))\n",
    "        la.append(lotto)\n",
    "        ls = ls + lotto\n",
    "    ss = []\n",
    "    dic = {}\n",
    "    for n in range(1,46):\n",
    "        ss.append(ls.count(n))\n",
    "        print(f'숫자{n} : 출연한 횟수는 {ls.count(n)}회 입니다.')  # 배열 망가짐, 카운트하기 편함\n",
    "    print(ss, sum(ss) == how*6)\n",
    "    if sum(ss) == (how * 6):\n",
    "        f.write(f\"출연 횟수 {how}에 대한 검증이 되었습니다. \\n {ls}\")\n",
    "lo()\n",
    "f.close()"
   ]
  },
  {
   "cell_type": "code",
   "execution_count": 8,
   "id": "1afd62fe-61bf-4151-abdd-5ecd1e8cc5e2",
   "metadata": {},
   "outputs": [],
   "source": [
    "def diary(name):\n",
    "    path = \"./testfile/\"\n",
    "    f = open(path+name+\".txt\",\"a\",encoding=\"utf-8\")\n",
    "    \n",
    "    while 1:\n",
    "        inp = (input(\"작성하고 싶은 내용\"))\n",
    "        if inp == \"그만\" : break\n",
    "        f.write(inp+'\\n')\n",
    "    f.close()"
   ]
  },
  {
   "cell_type": "code",
   "execution_count": 9,
   "id": "992d5a76-7d76-480b-bb4c-62e5d743ffa7",
   "metadata": {},
   "outputs": [
    {
     "name": "stdin",
     "output_type": "stream",
     "text": [
      "작성하고 싶은 내용 a는 누적됨\n",
      "작성하고 싶은 내용 잠온다\n",
      "작성하고 싶은 내용 그만\n"
     ]
    }
   ],
   "source": [
    "diary('20250201일기')"
   ]
  },
  {
   "cell_type": "markdown",
   "id": "75ba5602-9191-4743-acb2-12b25b96e45f",
   "metadata": {},
   "source": [
    "## 파일을 읽는 방법"
   ]
  },
  {
   "cell_type": "code",
   "execution_count": 1,
   "id": "c5de5565-e7c4-4ac5-b969-eefb5b34c12a",
   "metadata": {},
   "outputs": [],
   "source": [
    "path = \"./testfile/\"\n",
    "f = open(path+\"새파일생성4.txt\",\"w\",encoding=\"utf-8\")\n",
    "for n in range(10):\n",
    "    f.write(f'{n+1}번째 한글도 잘됩니다.\\n')\n",
    "f.close()"
   ]
  },
  {
   "cell_type": "code",
   "execution_count": 2,
   "id": "1475ee38-951b-4b0a-a3ca-b16ee0599ab9",
   "metadata": {},
   "outputs": [
    {
     "name": "stdout",
     "output_type": "stream",
     "text": [
      "1번째 한글도 잘됩니다.\n",
      "\n",
      "2번째 한글도 잘됩니다.\n",
      "\n",
      "3번째 한글도 잘됩니다.\n",
      "\n"
     ]
    }
   ],
   "source": [
    "# 1. readline\n",
    "f = open(path+\"새파일생성4.txt\",\"r\",encoding=\"utf-8\")\n",
    "line = f.readline()\n",
    "print(line)\n",
    "line = f.readline()\n",
    "print(line)\n",
    "line = f.readline()\n",
    "print(line)\n",
    "f.close()"
   ]
  },
  {
   "cell_type": "code",
   "execution_count": 6,
   "id": "ff9c7444-93e4-4f7c-a297-b646eb5f3bf8",
   "metadata": {},
   "outputs": [
    {
     "name": "stdout",
     "output_type": "stream",
     "text": [
      "1번째 한글도 잘됩니다.\n",
      "\n",
      "2번째 한글도 잘됩니다.\n",
      "\n",
      "3번째 한글도 잘됩니다.\n",
      "\n",
      "4번째 한글도 잘됩니다.\n",
      "\n",
      "5번째 한글도 잘됩니다.\n",
      "\n",
      "6번째 한글도 잘됩니다.\n",
      "\n",
      "7번째 한글도 잘됩니다.\n",
      "\n",
      "8번째 한글도 잘됩니다.\n",
      "\n",
      "9번째 한글도 잘됩니다.\n",
      "\n",
      "10번째 한글도 잘됩니다.\n",
      "\n"
     ]
    }
   ],
   "source": [
    "# 1. readline + while\n",
    "f = open(path+\"새파일생성4.txt\",\"r\",encoding=\"utf-8\")\n",
    "while 1:\n",
    "    line = f.readline()\n",
    "    if not line : break\n",
    "    print(line)\n",
    "f.close()"
   ]
  },
  {
   "cell_type": "code",
   "execution_count": 7,
   "id": "c70a51c4-65ba-4dab-9ee4-e3679f48776d",
   "metadata": {},
   "outputs": [
    {
     "name": "stdout",
     "output_type": "stream",
     "text": [
      "['1번째 한글도 잘됩니다.\\n', '2번째 한글도 잘됩니다.\\n', '3번째 한글도 잘됩니다.\\n', '4번째 한글도 잘됩니다.\\n', '5번째 한글도 잘됩니다.\\n', '6번째 한글도 잘됩니다.\\n', '7번째 한글도 잘됩니다.\\n', '8번째 한글도 잘됩니다.\\n', '9번째 한글도 잘됩니다.\\n', '10번째 한글도 잘됩니다.\\n'] <class 'list'>\n",
      "1번째 한글도 잘됩니다.\n",
      "2번째 한글도 잘됩니다.\n",
      "3번째 한글도 잘됩니다.\n",
      "4번째 한글도 잘됩니다.\n",
      "5번째 한글도 잘됩니다.\n",
      "6번째 한글도 잘됩니다.\n",
      "7번째 한글도 잘됩니다.\n",
      "8번째 한글도 잘됩니다.\n",
      "9번째 한글도 잘됩니다.\n",
      "10번째 한글도 잘됩니다.\n"
     ]
    }
   ],
   "source": [
    "# 2. readlines , print의 \\n 없애기\n",
    "path = \"./testfile/\"\n",
    "f = open(path+\"새파일생성4.txt\",\"r\",encoding=\"utf-8\")\n",
    "lines = f.readlines()\n",
    "print(lines,type(lines))\n",
    "for n in lines:\n",
    "    print(n,end='')\n",
    "f.close()"
   ]
  },
  {
   "cell_type": "code",
   "execution_count": 14,
   "id": "85195241-9bdd-4ce8-904f-601562f51026",
   "metadata": {},
   "outputs": [
    {
     "name": "stdout",
     "output_type": "stream",
     "text": [
      "['1번째 한글도 잘됩니다.\\n', '2번째 한글도 잘됩니다.\\n', '3번째 한글도 잘됩니다.\\n', '4번째 한글도 잘됩니다.\\n', '5번째 한글도 잘됩니다.\\n', '6번째 한글도 잘됩니다.\\n', '7번째 한글도 잘됩니다.\\n', '8번째 한글도 잘됩니다.\\n', '9번째 한글도 잘됩니다.\\n', '10번째 한글도 잘됩니다.\\n'] <class 'list'>\n",
      "1번째 한글도 잘됩니다.\n",
      "\n",
      "['1', '번', '째', ' ', '한', '글', '도', ' ', '잘', '됩', '니', '다', '.', '\\n']\n",
      "1번째 한글도 잘됩니다.\n",
      "['1', '번', '째', ' ', '한', '글', '도', ' ', '잘', '됩', '니', '다', '.']\n",
      "2번째 한글도 잘됩니다.\n",
      "\n",
      "['2', '번', '째', ' ', '한', '글', '도', ' ', '잘', '됩', '니', '다', '.', '\\n']\n",
      "2번째 한글도 잘됩니다.\n",
      "['2', '번', '째', ' ', '한', '글', '도', ' ', '잘', '됩', '니', '다', '.']\n",
      "3번째 한글도 잘됩니다.\n",
      "\n",
      "['3', '번', '째', ' ', '한', '글', '도', ' ', '잘', '됩', '니', '다', '.', '\\n']\n",
      "3번째 한글도 잘됩니다.\n",
      "['3', '번', '째', ' ', '한', '글', '도', ' ', '잘', '됩', '니', '다', '.']\n",
      "4번째 한글도 잘됩니다.\n",
      "\n",
      "['4', '번', '째', ' ', '한', '글', '도', ' ', '잘', '됩', '니', '다', '.', '\\n']\n",
      "4번째 한글도 잘됩니다.\n",
      "['4', '번', '째', ' ', '한', '글', '도', ' ', '잘', '됩', '니', '다', '.']\n",
      "5번째 한글도 잘됩니다.\n",
      "\n",
      "['5', '번', '째', ' ', '한', '글', '도', ' ', '잘', '됩', '니', '다', '.', '\\n']\n",
      "5번째 한글도 잘됩니다.\n",
      "['5', '번', '째', ' ', '한', '글', '도', ' ', '잘', '됩', '니', '다', '.']\n",
      "6번째 한글도 잘됩니다.\n",
      "\n",
      "['6', '번', '째', ' ', '한', '글', '도', ' ', '잘', '됩', '니', '다', '.', '\\n']\n",
      "6번째 한글도 잘됩니다.\n",
      "['6', '번', '째', ' ', '한', '글', '도', ' ', '잘', '됩', '니', '다', '.']\n",
      "7번째 한글도 잘됩니다.\n",
      "\n",
      "['7', '번', '째', ' ', '한', '글', '도', ' ', '잘', '됩', '니', '다', '.', '\\n']\n",
      "7번째 한글도 잘됩니다.\n",
      "['7', '번', '째', ' ', '한', '글', '도', ' ', '잘', '됩', '니', '다', '.']\n",
      "8번째 한글도 잘됩니다.\n",
      "\n",
      "['8', '번', '째', ' ', '한', '글', '도', ' ', '잘', '됩', '니', '다', '.', '\\n']\n",
      "8번째 한글도 잘됩니다.\n",
      "['8', '번', '째', ' ', '한', '글', '도', ' ', '잘', '됩', '니', '다', '.']\n",
      "9번째 한글도 잘됩니다.\n",
      "\n",
      "['9', '번', '째', ' ', '한', '글', '도', ' ', '잘', '됩', '니', '다', '.', '\\n']\n",
      "9번째 한글도 잘됩니다.\n",
      "['9', '번', '째', ' ', '한', '글', '도', ' ', '잘', '됩', '니', '다', '.']\n",
      "10번째 한글도 잘됩니다.\n",
      "\n",
      "['1', '0', '번', '째', ' ', '한', '글', '도', ' ', '잘', '됩', '니', '다', '.', '\\n']\n",
      "10번째 한글도 잘됩니다.\n",
      "['1', '0', '번', '째', ' ', '한', '글', '도', ' ', '잘', '됩', '니', '다', '.']\n"
     ]
    }
   ],
   "source": [
    "# 2. readlines + strip() -> list 타입\n",
    "path = \"./testfile/\"\n",
    "f = open(path+\"새파일생성4.txt\",\"r\",encoding=\"utf-8\")\n",
    "lines = f.readlines()\n",
    "print(lines,type(lines))\n",
    "for n in lines:\n",
    "    print(n)\n",
    "    print(list(n))\n",
    "    n = n.strip() # \\n을 지운다.\n",
    "    print(n)\n",
    "    print(list(n))\n",
    "f.close()"
   ]
  },
  {
   "cell_type": "code",
   "execution_count": null,
   "id": "b2c2ff15-a17b-4ae3-8258-a416bca667c1",
   "metadata": {},
   "outputs": [],
   "source": [
    "# test\n",
    "f = open(\"파일이름.txt\",w)\n",
    "f.write('내용작성')\n",
    "f.close()"
   ]
  },
  {
   "cell_type": "code",
   "execution_count": 20,
   "id": "e900d2f3-a6fd-44f0-b4c5-6814e328237f",
   "metadata": {},
   "outputs": [
    {
     "name": "stdout",
     "output_type": "stream",
     "text": [
      "1번째 한글도 잘됩니다.\n",
      "2번째 한글도 잘됩니다.\n",
      "3번째 한글도 잘됩니다.\n",
      "4번째 한글도 잘됩니다.\n",
      "5번째 한글도 잘됩니다.\n",
      "6번째 한글도 잘됩니다.\n",
      "7번째 한글도 잘됩니다.\n",
      "8번째 한글도 잘됩니다.\n",
      "9번째 한글도 잘됩니다.\n",
      "10번째 한글도 잘됩니다.\n",
      " <class 'str'>\n"
     ]
    }
   ],
   "source": [
    "# 3. read 함수 사용하기 -> str 타입\n",
    "path = \"./testfile/\"\n",
    "f = open(path+\"새파일생성4.txt\",\"r\",encoding=\"utf-8\")\n",
    "data = f.read()\n",
    "print(data,type(data))\n",
    "f.close()"
   ]
  },
  {
   "cell_type": "code",
   "execution_count": 17,
   "id": "06092667-8c53-4404-bffc-d811677d9722",
   "metadata": {},
   "outputs": [
    {
     "name": "stdout",
     "output_type": "stream",
     "text": [
      "1번째 한글도 잘됩니다.\n",
      "\n",
      "2번째 한글도 잘됩니다.\n",
      "\n",
      "3번째 한글도 잘됩니다.\n",
      "\n",
      "4번째 한글도 잘됩니다.\n",
      "\n",
      "5번째 한글도 잘됩니다.\n",
      "\n",
      "6번째 한글도 잘됩니다.\n",
      "\n",
      "7번째 한글도 잘됩니다.\n",
      "\n",
      "8번째 한글도 잘됩니다.\n",
      "\n",
      "9번째 한글도 잘됩니다.\n",
      "\n",
      "10번째 한글도 잘됩니다.\n",
      "\n"
     ]
    }
   ],
   "source": [
    "# 4. for로 출력하기\n",
    "path = \"./testfile/\"\n",
    "f = open(path+\"새파일생성4.txt\",\"r\",encoding=\"utf-8\")\n",
    "for line in f:\n",
    "    print(line)\n",
    "f.close()"
   ]
  },
  {
   "cell_type": "code",
   "execution_count": 21,
   "id": "ff255552-e1b4-476c-83ea-ff73696e7269",
   "metadata": {},
   "outputs": [
    {
     "name": "stdout",
     "output_type": "stream",
     "text": [
      "1번째 한글도 잘됩니다.\n",
      "\n",
      "2번째 한글도 잘됩니다.\n",
      "\n",
      "3번째 한글도 잘됩니다.\n",
      "\n",
      "4번째 한글도 잘됩니다.\n",
      "\n",
      "5번째 한글도 잘됩니다.\n",
      "\n",
      "6번째 한글도 잘됩니다.\n",
      "\n",
      "7번째 한글도 잘됩니다.\n",
      "\n",
      "8번째 한글도 잘됩니다.\n",
      "\n",
      "9번째 한글도 잘됩니다.\n",
      "\n",
      "10번째 한글도 잘됩니다.\n",
      "\n"
     ]
    }
   ],
   "source": [
    "# with 문과 함께 사용하기, 자동 열고, 닫기\n",
    "path = \"./testfile/\"\n",
    "with open(path+\"새파일생성4.txt\",\"r\",encoding=\"utf-8\") as f:\n",
    "    for line in f:\n",
    "        print(line)"
   ]
  },
  {
   "cell_type": "code",
   "execution_count": 22,
   "id": "96ca4c4f-47a2-43ab-a5e6-d387525a1e16",
   "metadata": {},
   "outputs": [],
   "source": [
    "# p.182\n",
    "with open(\"foo.txt\",\"w\") as f:\n",
    "    f.write(\"Life is too short, you need python\")"
   ]
  },
  {
   "cell_type": "markdown",
   "id": "9bcac2a6-3e70-4a23-a076-4168be6a5f2f",
   "metadata": {},
   "source": [
    "## 프로그램의 입출력"
   ]
  },
  {
   "cell_type": "code",
   "execution_count": 24,
   "id": "14cdb4ce-3eb6-456a-a507-363ab31a575c",
   "metadata": {},
   "outputs": [
    {
     "name": "stdout",
     "output_type": "stream",
     "text": [
      "-f\n",
      "C:\\Users\\Admin\\AppData\\Roaming\\jupyter\\runtime\\kernel-0200a09d-7432-4ef0-b602-9a04ace7b4c5.json\n"
     ]
    }
   ],
   "source": [
    "import sys\n",
    "args = sys.argv[1:]\n",
    "for i in args:\n",
    "    print(i)"
   ]
  },
  {
   "attachments": {
    "6f9d31f6-7199-4fb7-a8ae-80832786e99b.png": {
     "image/png": "[encoded data removed]"
    }
   },
   "cell_type": "markdown",
   "id": "131fce23-4308-4b16-8007-2ca25e2a03cf",
   "metadata": {},
   "source": [
    "<img src=\"attachment:6f9d31f6-7199-4fb7-a8ae-80832786e99b.png\">"
   ]
  },
  {
   "cell_type": "markdown",
   "id": "c0651cdd-1e3f-4fc4-b20e-e2a776c89c22",
   "metadata": {},
   "source": [
    "<!-- <img src=\"attachment:44e5ca0e-8edd-4087-a3d5-ff6ff687ef1a.png\"> -->"
   ]
  },
  {
   "cell_type": "markdown",
   "id": "8c7e9717-df0d-41a4-b351-0a132d358bc5",
   "metadata": {},
   "source": [
    "구구단 프로그램 만들기\n",
    "첫번째 인자는 시작 값으로 2 를 입력하면 2단이 출력\n",
    "두번째 인자는 개수 값으로 4 를 입력하면 2단부터 5단까지 출력"
   ]
  },
  {
   "cell_type": "code",
   "execution_count": 10,
   "id": "da0af0ff-7cfa-4d29-96c5-cb86e7b32dfa",
   "metadata": {},
   "outputs": [
    {
     "name": "stdout",
     "output_type": "stream",
     "text": [
      "====2단====\n",
      "2 x 1 = 2\n",
      "2 x 2 = 4\n",
      "2 x 3 = 6\n",
      "2 x 4 = 8\n",
      "2 x 5 = 10\n",
      "2 x 6 = 12\n",
      "2 x 7 = 14\n",
      "2 x 8 = 16\n",
      "2 x 9 = 18\n",
      "====3단====\n",
      "3 x 1 = 3\n",
      "3 x 2 = 6\n",
      "3 x 3 = 9\n",
      "3 x 4 = 12\n",
      "3 x 5 = 15\n",
      "3 x 6 = 18\n",
      "3 x 7 = 21\n",
      "3 x 8 = 24\n",
      "3 x 9 = 27\n"
     ]
    }
   ],
   "source": [
    "def gugu(a,b):\n",
    "    for i in range(a,a+b):\n",
    "        print(f'===={i}단====')\n",
    "        for j in range(1,10):\n",
    "            print(f'{i} x {j} = {i*j}')\n",
    "gugu(2,2)"
   ]
  },
  {
   "cell_type": "code",
   "execution_count": 29,
   "id": "e949c971-6c02-4c88-907b-e3f5a10396b4",
   "metadata": {},
   "outputs": [
    {
     "name": "stdout",
     "output_type": "stream",
     "text": [
      "19\n",
      "삼성전자 :55,700원\n",
      "17\n",
      "기아 :93,800원\n"
     ]
    }
   ],
   "source": [
    "import requests as req\n",
    "url = \"https://finance.naver.com/sise/sise_market_sum.naver\"\n",
    "web = req.get(url)\n",
    "html = web.text\n",
    "# print(html)\n",
    "f1 = html.find('삼성전자')\n",
    "print(html[f1:f1 + 100].find('<td class=\"number\">'))\n",
    "print('삼성전자 :'+html[f1:f1 + 100][19:50].replace('<td class=\"number\">',\"\").replace('</td>',\"\").replace('\\n',\"\")+\"원\")\n",
    "f2 = html.find('기아')\n",
    "print(html[f2:f2 + 100].find('<td class=\"number\">'))\n",
    "print('기아 :'+html[f2:f2 + 100][17:50].replace('<td class=\"number\">',\"\").replace('</td>',\"\").replace('\\n',\"\").replace('\\t',\"\")+\"원\")"
   ]
  },
  {
   "cell_type": "code",
   "execution_count": null,
   "id": "9c44c103-5063-4f5e-90d0-8c9c7e60319a",
   "metadata": {},
   "outputs": [],
   "source": []
  }
 ],
 "metadata": {
  "kernelspec": {
   "display_name": "Python 3 (ipykernel)",
   "language": "python",
   "name": "python3"
  },
  "language_info": {
   "codemirror_mode": {
    "name": "ipython",
    "version": 3
   },
   "file_extension": ".py",
   "mimetype": "text/x-python",
   "name": "python",
   "nbconvert_exporter": "python",
   "pygments_lexer": "ipython3",
   "version": "3.13.1"
  }
 },
 "nbformat": 4,
 "nbformat_minor": 5
}
