{
 "cells": [
  {
   "cell_type": "markdown",
   "id": "da33550a-29d9-423c-a814-6bb91f752c4e",
   "metadata": {},
   "source": [
    "# 함수"
   ]
  },
  {
   "cell_type": "code",
   "execution_count": 2,
   "id": "d0205aa3-927c-4300-8ccb-a02939462020",
   "metadata": {},
   "outputs": [],
   "source": [
    "def 덧셈(a,b):\n",
    "    return a + b"
   ]
  },
  {
   "cell_type": "code",
   "execution_count": 3,
   "id": "22923c80-9f06-439a-8c3f-e1c01d8e6620",
   "metadata": {},
   "outputs": [
    {
     "name": "stdout",
     "output_type": "stream",
     "text": [
      "7\n"
     ]
    }
   ],
   "source": [
    "c = 덧셈(3,4)\n",
    "print(c)"
   ]
  },
  {
   "cell_type": "code",
   "execution_count": 5,
   "id": "f8a4866a-cc22-4007-8012-5386c106aeab",
   "metadata": {},
   "outputs": [
    {
     "name": "stdout",
     "output_type": "stream",
     "text": [
      "[10, 11, 19, 23, 36, 45] 6\n",
      "\n",
      "[2, 7, 11, 19, 26, 44] 6\n",
      "[15, 17, 21, 30, 31, 36] 6\n",
      "[1, 4, 13, 32, 35, 39] 6\n",
      "[6, 26, 33, 38, 40, 44] 6\n",
      "[10, 15, 19, 20, 22, 32] 6\n"
     ]
    }
   ],
   "source": [
    "import random \n",
    "def 로또(파라미터=6,매개변수=46):\n",
    "    box = []\n",
    "    while len(box) < 6:  \n",
    "        ran = random.randint(1,매개변수)\n",
    "        if not ran in box:\n",
    "            box.append(ran)\n",
    "    box.sort()\n",
    "    print(box,len(box))\n",
    "로또()\n",
    "\n",
    "print()\n",
    "\n",
    "# 참고용 3\n",
    "for n in range(5):\n",
    "    로또()"
   ]
  },
  {
   "cell_type": "code",
   "execution_count": 12,
   "id": "adf2c99c-9480-4723-9b75-5c59d925267b",
   "metadata": {},
   "outputs": [
    {
     "name": "stdout",
     "output_type": "stream",
     "text": [
      "====2단====\n",
      "2 x 1 = 2\n",
      "2 x 2 = 4\n",
      "2 x 3 = 6\n",
      "2 x 4 = 8\n",
      "2 x 5 = 10\n",
      "2 x 6 = 12\n",
      "2 x 7 = 14\n",
      "2 x 8 = 16\n",
      "2 x 9 = 18\n",
      "====3단====\n",
      "3 x 1 = 3\n",
      "3 x 2 = 6\n",
      "3 x 3 = 9\n",
      "3 x 4 = 12\n",
      "3 x 5 = 15\n",
      "3 x 6 = 18\n",
      "3 x 7 = 21\n",
      "3 x 8 = 24\n",
      "3 x 9 = 27\n",
      "====4단====\n",
      "4 x 1 = 4\n",
      "4 x 2 = 8\n",
      "4 x 3 = 12\n",
      "4 x 4 = 16\n",
      "4 x 5 = 20\n",
      "4 x 6 = 24\n",
      "4 x 7 = 28\n",
      "4 x 8 = 32\n",
      "4 x 9 = 36\n",
      "====5단====\n",
      "5 x 1 = 5\n",
      "5 x 2 = 10\n",
      "5 x 3 = 15\n",
      "5 x 4 = 20\n",
      "5 x 5 = 25\n",
      "5 x 6 = 30\n",
      "5 x 7 = 35\n",
      "5 x 8 = 40\n",
      "5 x 9 = 45\n",
      "====6단====\n",
      "6 x 1 = 6\n",
      "6 x 2 = 12\n",
      "6 x 3 = 18\n",
      "6 x 4 = 24\n",
      "6 x 5 = 30\n",
      "6 x 6 = 36\n",
      "6 x 7 = 42\n",
      "6 x 8 = 48\n",
      "6 x 9 = 54\n",
      "====7단====\n",
      "7 x 1 = 7\n",
      "7 x 2 = 14\n",
      "7 x 3 = 21\n",
      "7 x 4 = 28\n",
      "7 x 5 = 35\n",
      "7 x 6 = 42\n",
      "7 x 7 = 49\n",
      "7 x 8 = 56\n",
      "7 x 9 = 63\n",
      "====8단====\n",
      "8 x 1 = 8\n",
      "8 x 2 = 16\n",
      "8 x 3 = 24\n",
      "8 x 4 = 32\n",
      "8 x 5 = 40\n",
      "8 x 6 = 48\n",
      "8 x 7 = 56\n",
      "8 x 8 = 64\n",
      "8 x 9 = 72\n",
      "====9단====\n",
      "9 x 1 = 9\n",
      "9 x 2 = 18\n",
      "9 x 3 = 27\n",
      "9 x 4 = 36\n",
      "9 x 5 = 45\n",
      "9 x 6 = 54\n",
      "9 x 7 = 63\n",
      "9 x 8 = 72\n",
      "9 x 9 = 81\n"
     ]
    }
   ],
   "source": [
    "def gugu(end = 9):\n",
    "    for j in range(2,end+1):\n",
    "         print(f\"{str(j)+'단':=^10}\")\n",
    "         for i in range(1,10):\n",
    "            print(f'{j} x {i} = {j*i}')\n",
    "gugu()"
   ]
  },
  {
   "cell_type": "code",
   "execution_count": 13,
   "id": "51461743-e44e-4025-b830-690a626f362e",
   "metadata": {},
   "outputs": [
    {
     "name": "stdout",
     "output_type": "stream",
     "text": [
      "====2단====\n"
     ]
    },
    {
     "data": {
      "text/plain": [
       "'2 x 1 = 2'"
      ]
     },
     "execution_count": 13,
     "metadata": {},
     "output_type": "execute_result"
    }
   ],
   "source": [
    "def gugu(end = 9):\n",
    "    for j in range(2,end+1):\n",
    "         print(f\"{str(j)+'단':=^10}\")\n",
    "         for i in range(1,10):\n",
    "            return(f'{j} x {i} = {j*i}') # for 안에 return 주의 / for문에서 튕김\n",
    "gugu(2)"
   ]
  },
  {
   "cell_type": "code",
   "execution_count": 15,
   "id": "bbcfeabe-9a87-48ae-94cd-a16e0c8d8240",
   "metadata": {},
   "outputs": [
    {
     "name": "stdout",
     "output_type": "stream",
     "text": [
      "====2단====\n",
      "2 x 1 = 2\n",
      "2 x 2 = 4\n",
      "2 x 3 = 6\n",
      "2 x 4 = 8\n",
      "2 x 5 = 10\n",
      "2 x 6 = 12\n",
      "2 x 7 = 14\n",
      "2 x 8 = 16\n",
      "2 x 9 = 18\n",
      "\n"
     ]
    }
   ],
   "source": [
    "def gugu(end = 9):\n",
    "    data =''\n",
    "    for j in range(2,end+1):\n",
    "         print(f\"{str(j)+'단':=^10}\")\n",
    "         for i in range(1,10):\n",
    "            data += (f'{j} x {i} = {j*i}') + \"\\n\"\n",
    "    return data\n",
    "print(gugu(2))"
   ]
  },
  {
   "cell_type": "markdown",
   "id": "788abcfd-c1bd-453d-8c77-080bb545e492",
   "metadata": {},
   "source": [
    "## 입력값과 리턴값에 따른 함수의 형태"
   ]
  },
  {
   "cell_type": "code",
   "execution_count": 16,
   "id": "9ef023c7-4a78-48a3-b29e-fcaf5bd5cda7",
   "metadata": {},
   "outputs": [],
   "source": [
    "# 일반적인 함수\n",
    "def add(a,b):\n",
    "    result = a + b\n",
    "    return result"
   ]
  },
  {
   "cell_type": "code",
   "execution_count": 17,
   "id": "4e58f7d1-41b0-4d47-8db1-d8d7d9c46096",
   "metadata": {},
   "outputs": [
    {
     "name": "stdout",
     "output_type": "stream",
     "text": [
      "87\n"
     ]
    }
   ],
   "source": [
    "a = add(77,10)\n",
    "print(a)"
   ]
  },
  {
   "cell_type": "code",
   "execution_count": 20,
   "id": "97807585-5557-4226-b9cd-d487d6778005",
   "metadata": {},
   "outputs": [],
   "source": [
    "# 입력값이 없는 함수\n",
    "def say():\n",
    "    return '안녕'"
   ]
  },
  {
   "cell_type": "code",
   "execution_count": 22,
   "id": "b15b7235-fde3-4efb-a649-6b403d7352e9",
   "metadata": {},
   "outputs": [
    {
     "name": "stdout",
     "output_type": "stream",
     "text": [
      "안녕\n"
     ]
    }
   ],
   "source": [
    "a = say()\n",
    "print(a)"
   ]
  },
  {
   "cell_type": "code",
   "execution_count": 25,
   "id": "6e0a9a27-7b17-4323-a169-1ec702cf3327",
   "metadata": {},
   "outputs": [],
   "source": [
    "# 리턴값이 없는 함수\n",
    "def add(a,b):\n",
    "    print(\"%d, %d의 합은 %d 입니다.\" %(a,b,a+b))"
   ]
  },
  {
   "cell_type": "code",
   "execution_count": 26,
   "id": "26e8d9ef-8f38-4291-89e5-7ba01d311a59",
   "metadata": {},
   "outputs": [
    {
     "name": "stdout",
     "output_type": "stream",
     "text": [
      "11, 33의 합은 44 입니다.\n"
     ]
    }
   ],
   "source": [
    "add(11,33)"
   ]
  },
  {
   "cell_type": "code",
   "execution_count": 27,
   "id": "c90dd082-8a45-481d-ae54-4aa32e7748df",
   "metadata": {},
   "outputs": [],
   "source": [
    "# 입력값과 리턴값이 없는 함수\n",
    "def say():\n",
    "    print(\"안녕\")\n",
    "    print(\"전 입력값과 리턴값이 없어요.\")\n",
    "    print(\"빠이~\")"
   ]
  },
  {
   "cell_type": "code",
   "execution_count": 29,
   "id": "5a4162d9-2913-4a1e-ae3e-17d1fae768e4",
   "metadata": {},
   "outputs": [
    {
     "name": "stdout",
     "output_type": "stream",
     "text": [
      "안녕\n",
      "전 입력값과 리턴값이 없어요.\n",
      "빠이~\n"
     ]
    }
   ],
   "source": [
    "say()"
   ]
  },
  {
   "cell_type": "code",
   "execution_count": 33,
   "id": "5fe09a37-2ae7-41d3-a5fc-b601b93e9650",
   "metadata": {},
   "outputs": [],
   "source": [
    "# 테스트\n",
    "import time as t\n",
    "def disp():\n",
    "    print(\"안녕!\\r\",end=\"\")\n",
    "    t.sleep(2)\n",
    "    print(\"전 입력값과 리턴값이 없어요.\\r\",end=\"\")\n",
    "    t.sleep(2)\n",
    "    print(\"빠이~             \",end=\"\")\n",
    "    t.sleep(2)"
   ]
  },
  {
   "cell_type": "code",
   "execution_count": 31,
   "id": "2e219659-486e-4624-a7f4-36ef8430ef0d",
   "metadata": {},
   "outputs": [
    {
     "name": "stdout",
     "output_type": "stream",
     "text": [
      "안녕\n",
      "전 입력값과 리턴값이 없어요.\n",
      "빠이~\n"
     ]
    }
   ],
   "source": [
    "disp()"
   ]
  },
  {
   "cell_type": "code",
   "execution_count": 34,
   "id": "f00ce608-a217-4e66-ad1e-6f0a9184d642",
   "metadata": {},
   "outputs": [
    {
     "name": "stdout",
     "output_type": "stream",
     "text": [
      "44\n"
     ]
    }
   ],
   "source": [
    "# max() //\n",
    "def bs(li=[33,11,22,44]):\n",
    "    sw = 0\n",
    "    for x in range(len(li)):    \n",
    "        if sw < li[x]:\n",
    "            sw = li[x]    \n",
    "    return sw\n",
    "print(bs())"
   ]
  },
  {
   "cell_type": "code",
   "execution_count": 35,
   "id": "5f6ef885-f307-4f64-a23a-351ac8faae1a",
   "metadata": {},
   "outputs": [
    {
     "name": "stdout",
     "output_type": "stream",
     "text": [
      "176\n"
     ]
    }
   ],
   "source": [
    "print(bs([1,21,3,41,5,16,7,18,19,115,4,3,21,1,3,4,51,176,78,3,4]))"
   ]
  },
  {
   "cell_type": "code",
   "execution_count": 36,
   "id": "05820574-1883-4cc0-b77f-1c0fe0faa74d",
   "metadata": {},
   "outputs": [],
   "source": [
    "# 매개변수를 지정하여 호출하기\n",
    "def sub(a,b):\n",
    "    return a-b"
   ]
  },
  {
   "cell_type": "code",
   "execution_count": 37,
   "id": "c5d43a79-a022-4275-9cb2-2ca5b112407e",
   "metadata": {},
   "outputs": [
    {
     "name": "stdout",
     "output_type": "stream",
     "text": [
      "4\n"
     ]
    }
   ],
   "source": [
    "# result = sub(a=7,b=3)  /  순서는 상관없음 해당하는 값만 정확하게 넣으면 됨\n",
    "result = sub(b=3,a=7)\n",
    "print(result)"
   ]
  },
  {
   "cell_type": "code",
   "execution_count": 8,
   "id": "11286f2b-db4c-481f-9e81-e38f1f86fe9e",
   "metadata": {},
   "outputs": [],
   "source": [
    "# !pip install matplotlib"
   ]
  },
  {
   "cell_type": "code",
   "execution_count": 41,
   "id": "32f7708b-ed47-4fa6-89e3-0751eb573c01",
   "metadata": {},
   "outputs": [],
   "source": [
    "# 테스트 : 함수 random 주사위\n",
    "import random as r\n",
    "import matplotlib.pyplot as plt\n",
    "def dice(target = 250000):\n",
    "    box = [] # 초기화\n",
    "    num = 0\n",
    "    results = {}\n",
    "    while num < target:\n",
    "        num = num + 1\n",
    "        ran = r.randint(1,6)\n",
    "        box.append(ran)\n",
    "    if target == len(box):\n",
    "        print(f\"{target}회 정상 진행되었습니다.\")\n",
    "    else:\n",
    "        print(f\"검증 결과 횟수 이상이 있습니다. 이유:({target}회 목표로 동작하였으나, {len(box)}으로 측정되었습니다.)\")\n",
    "    for n in range(1,7):\n",
    "        results[n] = box.count(n)\n",
    "        print(f\"{n}번이 {box.count(n)}번({(box.count(n)/len(box))*100:.2f}%) 등장하였습니다.\")\n",
    "    # print(results)\n",
    "    plt.bar(results.keys(),results.values(),color=[\"red\",\"orange\",\"yellow\",\"green\",\"blue\",\"black\"])\n",
    "    plt.show()"
   ]
  },
  {
   "cell_type": "code",
   "execution_count": 42,
   "id": "3483ee72-da94-41df-a970-28158d1adb29",
   "metadata": {},
   "outputs": [
    {
     "name": "stdout",
     "output_type": "stream",
     "text": [
      "250000회 정상 진행되었습니다.\n",
      "1번이 41561번(16.62%) 등장하였습니다.\n",
      "2번이 41598번(16.64%) 등장하였습니다.\n",
      "3번이 41652번(16.66%) 등장하였습니다.\n",
      "4번이 42006번(16.80%) 등장하였습니다.\n",
      "5번이 41420번(16.57%) 등장하였습니다.\n",
      "6번이 41763번(16.71%) 등장하였습니다.\n"
     ]
    },
    {
     "data": {
      "image/png": "[encoded data removed]",
      "text/plain": [
       "<Figure size 640x480 with 1 Axes>"
      ]
     },
     "metadata": {},
     "output_type": "display_data"
    }
   ],
   "source": [
    "dice()"
   ]
  },
  {
   "cell_type": "code",
   "execution_count": 47,
   "id": "fbefdfa7-70dc-4d72-b89b-488f7e2ae74d",
   "metadata": {},
   "outputs": [],
   "source": [
    "# 여러 개의 입력값을 받는 함수 만들기\n",
    "def add_many(*args):\n",
    "    result = 0\n",
    "    for i in args:\n",
    "        result = result + i\n",
    "    return result"
   ]
  },
  {
   "cell_type": "code",
   "execution_count": 49,
   "id": "0b643fc5-ffa7-4a0a-87d4-3ebb5beb52af",
   "metadata": {},
   "outputs": [
    {
     "name": "stdout",
     "output_type": "stream",
     "text": [
      "14\n"
     ]
    }
   ],
   "source": [
    "res = add_many(1,4,3,1,5)\n",
    "print(res)"
   ]
  },
  {
   "cell_type": "code",
   "execution_count": 52,
   "id": "8a261ea3-5868-42dc-bcfd-dff0b93d469b",
   "metadata": {},
   "outputs": [],
   "source": [
    ">>> def add_mul(choice, *args): \n",
    "...     if choice == \"add\":   # 매개변수 choice에 \"add\"를 입력받았을 때\n",
    "...         result = 0 \n",
    "...         for i in args: \n",
    "...             result = result + i \n",
    "...     elif choice == \"sub\":   # 매개변수 choice에 \"sub\"를 입력받았을 때\n",
    "...         result = 0 \n",
    "...         for i in args: \n",
    "...             result = result + i \n",
    "...     elif choice == \"mul\":   # 매개변수 choice에 \"mul\"을 입력받았을 때\n",
    "...         result = 1 \n",
    "...         for i in args: \n",
    "...             result = result * i \n",
    "...     elif choice == \"div\":   # 매개변수 choice에 \"div\"을 입력받았을 때\n",
    "...         result = 1 \n",
    "...         for i in args: \n",
    "...             result = result * i \n",
    "        else:\n",
    "            result = \n",
    "            print(\"정확하게 입력하세요.\")\n",
    "...     return result "
   ]
  },
  {
   "cell_type": "code",
   "execution_count": 53,
   "id": "69cb2b55-2139-4685-a9b4-4a619eb1095a",
   "metadata": {},
   "outputs": [
    {
     "data": {
      "text/plain": [
       "66"
      ]
     },
     "execution_count": 53,
     "metadata": {},
     "output_type": "execute_result"
    }
   ],
   "source": [
    "add_mul('add',33,22,11)"
   ]
  },
  {
   "cell_type": "code",
   "execution_count": 54,
   "id": "07627f5a-20af-4ab1-a6cf-3c5fa6f521bd",
   "metadata": {},
   "outputs": [
    {
     "name": "stdout",
     "output_type": "stream",
     "text": [
      "{'name': '홍길동', 'age': 21, 'address': '대한민국'}\n"
     ]
    }
   ],
   "source": [
    "# 키워드 매개변수 kwargs\n",
    "def print_kwargs(**kwargs):\n",
    "    print(kwargs)\n",
    "print_kwargs(name='홍길동',age=21,address='대한민국')"
   ]
  },
  {
   "cell_type": "code",
   "execution_count": 55,
   "id": "a7757fea-8dc1-4ee2-9cb7-d14a97f44ab3",
   "metadata": {},
   "outputs": [
    {
     "name": "stdout",
     "output_type": "stream",
     "text": [
      "{'name': '홍길동', 'age': 21, 'address': '대한민국'}\n"
     ]
    }
   ],
   "source": [
    "def print_kwargs(kwargs):\n",
    "    print(kwargs)\n",
    "print_kwargs({'name':'홍길동','age':21,'address':'대한민국'})"
   ]
  },
  {
   "cell_type": "code",
   "execution_count": 56,
   "id": "a7bd1ddc-38e2-420d-afb7-0e011151a49a",
   "metadata": {},
   "outputs": [],
   "source": [
    "# test\n",
    "def test():\n",
    "    print('저야 영광이죠~!!')\n",
    "    if 13 > 4 : return\n",
    "    print('집에가고싶어!~!')\n",
    "    return"
   ]
  },
  {
   "cell_type": "code",
   "execution_count": 57,
   "id": "15e049a8-5a26-4a86-9c84-08e96905de4a",
   "metadata": {},
   "outputs": [
    {
     "name": "stdout",
     "output_type": "stream",
     "text": [
      "저야 영광이죠~!!\n"
     ]
    }
   ],
   "source": [
    "test()"
   ]
  },
  {
   "cell_type": "code",
   "execution_count": 58,
   "id": "2d010943-508b-41c2-b916-caf65bf15324",
   "metadata": {},
   "outputs": [
    {
     "name": "stdout",
     "output_type": "stream",
     "text": [
      "35 286\n"
     ]
    }
   ],
   "source": [
    "# test2\n",
    "def test2(a,b):\n",
    "    return a+b, a*b\n",
    "add_result, mul_result = test2( 13, 22)\n",
    "print(add_result, mul_result )"
   ]
  },
  {
   "cell_type": "code",
   "execution_count": null,
   "id": "9ffad153-404f-43ef-90f3-8b4e7a1bf9ea",
   "metadata": {},
   "outputs": [],
   "source": []
  }
 ],
 "metadata": {
  "kernelspec": {
   "display_name": "Python 3 (ipykernel)",
   "language": "python",
   "name": "python3"
  },
  "language_info": {
   "codemirror_mode": {
    "name": "ipython",
    "version": 3
   },
   "file_extension": ".py",
   "mimetype": "text/x-python",
   "name": "python",
   "nbconvert_exporter": "python",
   "pygments_lexer": "ipython3",
   "version": "3.13.1"
  }
 },
 "nbformat": 4,
 "nbformat_minor": 5
}
